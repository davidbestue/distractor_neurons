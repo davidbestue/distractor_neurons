{
 "cells": [
  {
   "cell_type": "code",
   "execution_count": 1,
   "metadata": {},
   "outputs": [],
   "source": [
    "from model_phantom_DB import *\n",
    "from linares_plot import * \n",
    "import itertools\n",
    "\n",
    "%matplotlib inline\n",
    "%config InlineBackend.figure_format = 'png' ## 'svg'\n",
    "\n",
    "%load_ext autoreload\n",
    "%autoreload 2\n",
    "\n",
    "import numpy as np\n",
    "import matplotlib.pyplot as plt\n",
    "from itertools import cycle\n",
    "from sklearn import svm, datasets\n",
    "from sklearn.metrics import roc_curve, auc\n",
    "from sklearn.model_selection import train_test_split\n",
    "from sklearn.preprocessing import label_binarize\n",
    "from sklearn.multiclass import OneVsRestClassifier\n",
    "from scipy import interp\n",
    "from sklearn.metrics import roc_auc_score\n",
    "import pandas as pd"
   ]
  },
  {
   "cell_type": "code",
   "execution_count": 2,
   "metadata": {},
   "outputs": [],
   "source": [
    "### en vez de cargar todos los datos, solo cargar las y\n",
    "### las X cargo solo los datos de la neurona 0\n",
    "\n",
    "# simulations_ON_rE = 'C:\\\\Users\\\\David\\\\Desktop\\\\IDIBAPS\\\\simulations_christos\\\\simuls_on_class_re.xlsx'\n",
    "# simulations_ON_targets = 'C:\\\\Users\\\\David\\\\Desktop\\\\IDIBAPS\\\\simulations_christos\\\\simuls_on_class_targets.xlsx'\n",
    "\n",
    "# simulations_OFF_rE = 'C:\\\\Users\\\\David\\\\Desktop\\\\IDIBAPS\\\\simulations_christos\\\\simuls_off_class_re.xlsx'\n",
    "# simulations_OFF_targets = 'C:\\\\Users\\\\David\\\\Desktop\\\\IDIBAPS\\\\simulations_christos\\\\simuls_off_class_targets.xlsx'\n",
    "\n",
    "# y_off_all=pd.read_excel(simulations_OFF_targets).values\n",
    "# X_off_all= pd.read_excel(simulations_OFF_rE).values\n",
    "\n",
    "# y_on_all=pd.read_excel(simulations_ON_targets).values\n",
    "# X_on_all= pd.read_excel(simulations_ON_rE).values"
   ]
  },
  {
   "cell_type": "code",
   "execution_count": 3,
   "metadata": {},
   "outputs": [],
   "source": [
    "##guardar los datos de la neurona 0, 1, y 256 \n",
    "# simpl_X_on_all= pd.DataFrame(X_on_all[:, 0])\n",
    "# simpl_X_on_all.to_excel('C:\\\\Users\\\\David\\\\Desktop\\\\IDIBAPS\\\\simulations_christos\\\\neuron0_simuls_on_class_re.xlsx')\n",
    "# simpl_X_off_all= pd.DataFrame(X_off_all[:, 0])\n",
    "# simpl_X_off_all.to_excel('C:\\\\Users\\\\David\\\\Desktop\\\\IDIBAPS\\\\simulations_christos\\\\neuron0_simuls_off_class_re.xlsx')\n",
    "\n",
    "\n",
    "# simpl_X_on_all= pd.DataFrame(X_on_all[:, 1])\n",
    "# simpl_X_on_all.to_excel('C:\\\\Users\\\\David\\\\Desktop\\\\IDIBAPS\\\\simulations_christos\\\\neuron1_simuls_on_class_re.xlsx')\n",
    "# simpl_X_off_all= pd.DataFrame(X_off_all[:, 1])\n",
    "# simpl_X_off_all.to_excel('C:\\\\Users\\\\David\\\\Desktop\\\\IDIBAPS\\\\simulations_christos\\\\neuron1_simuls_off_class_re.xlsx')\n",
    "\n",
    "\n",
    "# simpl_X_on_all= pd.DataFrame(X_on_all[:, int(512/2)])\n",
    "# simpl_X_on_all.to_excel('C:\\\\Users\\\\David\\\\Desktop\\\\IDIBAPS\\\\simulations_christos\\\\neuron256_simuls_on_class_re.xlsx')\n",
    "# simpl_X_off_all= pd.DataFrame(X_off_all[:, int(512/2)])\n",
    "# simpl_X_off_all.to_excel('C:\\\\Users\\\\David\\\\Desktop\\\\IDIBAPS\\\\simulations_christos\\\\neuron256_simuls_off_class_re.xlsx')"
   ]
  },
  {
   "cell_type": "code",
   "execution_count": 4,
   "metadata": {},
   "outputs": [],
   "source": [
    "simpl_X_on_all = pd.read_excel('C:\\\\Users\\\\David\\\\Desktop\\\\IDIBAPS\\\\simulations_christos\\\\neuron256_simuls_on_class_re.xlsx')\n",
    "simpl_X_off_all = pd.read_excel('C:\\\\Users\\\\David\\\\Desktop\\\\IDIBAPS\\\\simulations_christos\\\\neuron256_simuls_on_class_re.xlsx')\n",
    "\n",
    "\n",
    "simulations_ON_targets = 'C:\\\\Users\\\\David\\\\Desktop\\\\IDIBAPS\\\\simulations_christos\\\\simuls_on_class_targets.xlsx'\n",
    "simulations_OFF_targets = 'C:\\\\Users\\\\David\\\\Desktop\\\\IDIBAPS\\\\simulations_christos\\\\simuls_off_class_targets.xlsx'\n",
    "\n",
    "y_off_all=pd.read_excel(simulations_OFF_targets).values\n",
    "y_on_all=pd.read_excel(simulations_ON_targets).values\n"
   ]
  },
  {
   "cell_type": "code",
   "execution_count": 48,
   "metadata": {
    "scrolled": true
   },
   "outputs": [
    {
     "name": "stdout",
     "output_type": "stream",
     "text": [
      "0\n",
      "1\n",
      "2\n",
      "3\n",
      "4\n",
      "5\n",
      "6\n",
      "7\n",
      "8\n",
      "9\n",
      "10\n",
      "11\n"
     ]
    },
    {
     "name": "stderr",
     "output_type": "stream",
     "text": [
      "C:\\Users\\David\\Anaconda3\\envs\\python3\\lib\\site-packages\\sklearn\\svm\\base.py:244: ConvergenceWarning: Solver terminated early (max_iter=10000).  Consider pre-processing your data with StandardScaler or MinMaxScaler.\n",
      "  % self.max_iter, ConvergenceWarning)\n"
     ]
    },
    {
     "name": "stdout",
     "output_type": "stream",
     "text": [
      "12\n",
      "13\n",
      "14\n",
      "15\n"
     ]
    },
    {
     "name": "stderr",
     "output_type": "stream",
     "text": [
      "C:\\Users\\David\\Anaconda3\\envs\\python3\\lib\\site-packages\\sklearn\\svm\\base.py:244: ConvergenceWarning: Solver terminated early (max_iter=10000).  Consider pre-processing your data with StandardScaler or MinMaxScaler.\n",
      "  % self.max_iter, ConvergenceWarning)\n"
     ]
    },
    {
     "name": "stdout",
     "output_type": "stream",
     "text": [
      "16\n",
      "17\n",
      "18\n",
      "19\n",
      "20\n",
      "21\n",
      "22\n",
      "23\n",
      "24\n",
      "25\n",
      "26\n",
      "27\n",
      "28\n",
      "29\n",
      "30\n",
      "31\n",
      "32\n"
     ]
    },
    {
     "name": "stderr",
     "output_type": "stream",
     "text": [
      "C:\\Users\\David\\Anaconda3\\envs\\python3\\lib\\site-packages\\sklearn\\svm\\base.py:244: ConvergenceWarning: Solver terminated early (max_iter=10000).  Consider pre-processing your data with StandardScaler or MinMaxScaler.\n",
      "  % self.max_iter, ConvergenceWarning)\n"
     ]
    },
    {
     "name": "stdout",
     "output_type": "stream",
     "text": [
      "33\n"
     ]
    },
    {
     "name": "stderr",
     "output_type": "stream",
     "text": [
      "C:\\Users\\David\\Anaconda3\\envs\\python3\\lib\\site-packages\\sklearn\\svm\\base.py:244: ConvergenceWarning: Solver terminated early (max_iter=10000).  Consider pre-processing your data with StandardScaler or MinMaxScaler.\n",
      "  % self.max_iter, ConvergenceWarning)\n"
     ]
    },
    {
     "name": "stdout",
     "output_type": "stream",
     "text": [
      "34\n",
      "35\n",
      "36\n",
      "37\n",
      "38\n",
      "39\n",
      "40\n",
      "41\n",
      "42\n",
      "43\n"
     ]
    },
    {
     "name": "stderr",
     "output_type": "stream",
     "text": [
      "C:\\Users\\David\\Anaconda3\\envs\\python3\\lib\\site-packages\\sklearn\\svm\\base.py:244: ConvergenceWarning: Solver terminated early (max_iter=10000).  Consider pre-processing your data with StandardScaler or MinMaxScaler.\n",
      "  % self.max_iter, ConvergenceWarning)\n",
      "C:\\Users\\David\\Anaconda3\\envs\\python3\\lib\\site-packages\\sklearn\\svm\\base.py:244: ConvergenceWarning: Solver terminated early (max_iter=10000).  Consider pre-processing your data with StandardScaler or MinMaxScaler.\n",
      "  % self.max_iter, ConvergenceWarning)\n"
     ]
    },
    {
     "name": "stdout",
     "output_type": "stream",
     "text": [
      "44\n",
      "45\n",
      "46\n",
      "47\n",
      "48\n",
      "49\n",
      "0\n",
      "1\n"
     ]
    },
    {
     "name": "stderr",
     "output_type": "stream",
     "text": [
      "C:\\Users\\David\\Anaconda3\\envs\\python3\\lib\\site-packages\\sklearn\\svm\\base.py:244: ConvergenceWarning: Solver terminated early (max_iter=10000).  Consider pre-processing your data with StandardScaler or MinMaxScaler.\n",
      "  % self.max_iter, ConvergenceWarning)\n"
     ]
    },
    {
     "name": "stdout",
     "output_type": "stream",
     "text": [
      "2\n",
      "3\n",
      "4\n",
      "5\n",
      "6\n"
     ]
    },
    {
     "name": "stderr",
     "output_type": "stream",
     "text": [
      "C:\\Users\\David\\Anaconda3\\envs\\python3\\lib\\site-packages\\sklearn\\svm\\base.py:244: ConvergenceWarning: Solver terminated early (max_iter=10000).  Consider pre-processing your data with StandardScaler or MinMaxScaler.\n",
      "  % self.max_iter, ConvergenceWarning)\n"
     ]
    },
    {
     "name": "stdout",
     "output_type": "stream",
     "text": [
      "7\n"
     ]
    },
    {
     "name": "stderr",
     "output_type": "stream",
     "text": [
      "C:\\Users\\David\\Anaconda3\\envs\\python3\\lib\\site-packages\\sklearn\\svm\\base.py:244: ConvergenceWarning: Solver terminated early (max_iter=10000).  Consider pre-processing your data with StandardScaler or MinMaxScaler.\n",
      "  % self.max_iter, ConvergenceWarning)\n"
     ]
    },
    {
     "name": "stdout",
     "output_type": "stream",
     "text": [
      "8\n",
      "9\n",
      "10\n",
      "11\n",
      "12\n",
      "13\n"
     ]
    },
    {
     "name": "stderr",
     "output_type": "stream",
     "text": [
      "C:\\Users\\David\\Anaconda3\\envs\\python3\\lib\\site-packages\\sklearn\\svm\\base.py:244: ConvergenceWarning: Solver terminated early (max_iter=10000).  Consider pre-processing your data with StandardScaler or MinMaxScaler.\n",
      "  % self.max_iter, ConvergenceWarning)\n"
     ]
    },
    {
     "name": "stdout",
     "output_type": "stream",
     "text": [
      "14\n",
      "15\n",
      "16\n",
      "17\n",
      "18\n",
      "19\n"
     ]
    },
    {
     "name": "stderr",
     "output_type": "stream",
     "text": [
      "C:\\Users\\David\\Anaconda3\\envs\\python3\\lib\\site-packages\\sklearn\\svm\\base.py:244: ConvergenceWarning: Solver terminated early (max_iter=10000).  Consider pre-processing your data with StandardScaler or MinMaxScaler.\n",
      "  % self.max_iter, ConvergenceWarning)\n"
     ]
    },
    {
     "name": "stdout",
     "output_type": "stream",
     "text": [
      "20\n",
      "21\n",
      "22\n"
     ]
    },
    {
     "name": "stderr",
     "output_type": "stream",
     "text": [
      "C:\\Users\\David\\Anaconda3\\envs\\python3\\lib\\site-packages\\sklearn\\svm\\base.py:244: ConvergenceWarning: Solver terminated early (max_iter=10000).  Consider pre-processing your data with StandardScaler or MinMaxScaler.\n",
      "  % self.max_iter, ConvergenceWarning)\n"
     ]
    },
    {
     "name": "stdout",
     "output_type": "stream",
     "text": [
      "23\n",
      "24\n",
      "25\n",
      "26\n"
     ]
    },
    {
     "name": "stderr",
     "output_type": "stream",
     "text": [
      "C:\\Users\\David\\Anaconda3\\envs\\python3\\lib\\site-packages\\sklearn\\svm\\base.py:244: ConvergenceWarning: Solver terminated early (max_iter=10000).  Consider pre-processing your data with StandardScaler or MinMaxScaler.\n",
      "  % self.max_iter, ConvergenceWarning)\n"
     ]
    },
    {
     "name": "stdout",
     "output_type": "stream",
     "text": [
      "27\n",
      "28\n",
      "29\n",
      "30\n",
      "31\n",
      "32\n",
      "33\n",
      "34\n",
      "35\n",
      "36\n",
      "37\n",
      "38\n",
      "39\n"
     ]
    },
    {
     "name": "stderr",
     "output_type": "stream",
     "text": [
      "C:\\Users\\David\\Anaconda3\\envs\\python3\\lib\\site-packages\\sklearn\\svm\\base.py:244: ConvergenceWarning: Solver terminated early (max_iter=10000).  Consider pre-processing your data with StandardScaler or MinMaxScaler.\n",
      "  % self.max_iter, ConvergenceWarning)\n"
     ]
    },
    {
     "name": "stdout",
     "output_type": "stream",
     "text": [
      "40\n"
     ]
    },
    {
     "name": "stderr",
     "output_type": "stream",
     "text": [
      "C:\\Users\\David\\Anaconda3\\envs\\python3\\lib\\site-packages\\sklearn\\svm\\base.py:244: ConvergenceWarning: Solver terminated early (max_iter=10000).  Consider pre-processing your data with StandardScaler or MinMaxScaler.\n",
      "  % self.max_iter, ConvergenceWarning)\n"
     ]
    },
    {
     "name": "stdout",
     "output_type": "stream",
     "text": [
      "41\n",
      "42\n",
      "43\n"
     ]
    },
    {
     "name": "stderr",
     "output_type": "stream",
     "text": [
      "C:\\Users\\David\\Anaconda3\\envs\\python3\\lib\\site-packages\\sklearn\\svm\\base.py:244: ConvergenceWarning: Solver terminated early (max_iter=10000).  Consider pre-processing your data with StandardScaler or MinMaxScaler.\n",
      "  % self.max_iter, ConvergenceWarning)\n"
     ]
    },
    {
     "name": "stdout",
     "output_type": "stream",
     "text": [
      "44\n",
      "45\n",
      "46\n",
      "47\n"
     ]
    },
    {
     "name": "stderr",
     "output_type": "stream",
     "text": [
      "C:\\Users\\David\\Anaconda3\\envs\\python3\\lib\\site-packages\\sklearn\\svm\\base.py:244: ConvergenceWarning: Solver terminated early (max_iter=10000).  Consider pre-processing your data with StandardScaler or MinMaxScaler.\n",
      "  % self.max_iter, ConvergenceWarning)\n"
     ]
    },
    {
     "name": "stdout",
     "output_type": "stream",
     "text": [
      "48\n"
     ]
    },
    {
     "name": "stderr",
     "output_type": "stream",
     "text": [
      "C:\\Users\\David\\Anaconda3\\envs\\python3\\lib\\site-packages\\sklearn\\svm\\base.py:244: ConvergenceWarning: Solver terminated early (max_iter=10000).  Consider pre-processing your data with StandardScaler or MinMaxScaler.\n",
      "  % self.max_iter, ConvergenceWarning)\n"
     ]
    },
    {
     "name": "stdout",
     "output_type": "stream",
     "text": [
      "49\n"
     ]
    }
   ],
   "source": [
    "Window = 20\n",
    "n_neuron=180 \n",
    "inic=n_neuron - int(Window/2)\n",
    "fin=n_neuron + int(Window/2)\n",
    "\n",
    "wind=1\n",
    "\n",
    "reps_=50\n",
    "\n",
    "## get y_off\n",
    "y_off=y_off_all\n",
    "bool_int = (y_off>=inic) & (y_off<=fin)\n",
    "y_off = y_off[bool_int]\n",
    "y_off = np.reshape(y_off, (len(y_off),1))\n",
    "y_off= label_binarize(y_off, classes=np.arange(inic, fin, wind)) #matrix (1,0,0,...,0)\n",
    "n_classes = y_off.shape[1]\n",
    "\n",
    "## get X_off\n",
    "bool_reshaped = np.reshape(bool_int, (len(bool_int)))\n",
    "#### X_off = X_off_all[bool_reshaped,n_neuron]\n",
    "X_off = simpl_X_off_all[bool_reshaped]\n",
    "\n",
    "X_off =np.reshape(X_off, (len(X_off),1))\n",
    "\n",
    "########################################################################\n",
    "\n",
    "## get y_on\n",
    "y_on=y_on_all\n",
    "bool_int =  (y_on>=inic) & (y_on<=fin)\n",
    "y_on = y_on[bool_int]\n",
    "y_on = np.reshape(y_on, (len(y_on),1))\n",
    "y_on= label_binarize(y_on, classes=np.arange(inic, fin, wind)) #matrix (1,0,0,...,0)\n",
    "n_classes = y_on.shape[1]\n",
    "\n",
    "## get X_off\n",
    "bool_reshaped = np.reshape(bool_int, (len(bool_int)))\n",
    "#### X_on = X_on_all[bool_reshaped,n_neuron]\n",
    "X_on = simpl_X_on_all[bool_reshaped]\n",
    "\n",
    "X_on =np.reshape(X_on, (len(X_on),1))\n",
    "\n",
    "\n",
    "##classifier to use\n",
    "classifier = OneVsRestClassifier(svm.SVC(kernel='linear', probability=True, random_state=None, max_iter=10000))\n",
    "\n",
    "fpr_mean_off = []\n",
    "tpr_mean_off = []\n",
    "roc_mean_off = []\n",
    "\n",
    "fpr_mean_on = []\n",
    "tpr_mean_on = []\n",
    "roc_mean_on = []\n",
    "\n",
    "\n",
    "\n",
    "for stimulation in ['ON', 'OFF']:\n",
    "    if stimulation=='ON':\n",
    "        X=X_on\n",
    "        y=y_on\n",
    "    elif stimulation=='OFF':\n",
    "        X=X_off\n",
    "        y=y_off\n",
    "    \n",
    "    ###\n",
    "    ### many train and test to validate the measure\n",
    "    for rep in range(reps_):\n",
    "        print(rep)\n",
    "        ## split train and test\n",
    "        X_train, X_test, y_train, y_test = train_test_split(X, y, test_size=.2, random_state=None)\n",
    "        X_train =np.reshape(X_train, (len(X_train),1))\n",
    "        X_test =np.reshape(X_test, (len(X_test),1))\n",
    "        # score\n",
    "        #fitted = classifier.fit(X_train, y_train)\n",
    "        #y_score = fitted.decision_function(X_test)\n",
    "        y_score = classifier.fit(X_train, y_train).decision_function(X_test)\n",
    "\n",
    "        ## Compute ROC curve and ROC area for each class\n",
    "        fpr = dict()\n",
    "        tpr= dict()\n",
    "        roc_auc = dict()\n",
    "        for i in range(n_classes):\n",
    "            fpr[i], tpr[i], _ = roc_curve(y_test[:, i], y_score[:, i])\n",
    "            roc_auc[i] = auc(fpr[i], tpr[i])\n",
    "\n",
    "        # Compute micro-average ROC curve and ROC area\n",
    "        fpr[\"micro\"], tpr[\"micro\"], _ = roc_curve(y_test.ravel(), y_score.ravel())\n",
    "        roc_auc[\"micro\"] = auc(fpr[\"micro\"], tpr[\"micro\"])\n",
    "\n",
    "        ### Compute mean ROC curve\n",
    "\n",
    "        # First aggregate all false positive rates\n",
    "        all_fpr = np.unique(np.concatenate([fpr[i] for i in range(n_classes)]))\n",
    "\n",
    "        # Then interpolate all ROC curves at this points\n",
    "        mean_tpr = np.zeros_like(all_fpr)\n",
    "        for i in range(n_classes):\n",
    "            mean_tpr += interp(all_fpr, fpr[i], tpr[i])\n",
    "\n",
    "        # Finally average it and compute AUC\n",
    "        mean_tpr /= n_classes\n",
    "\n",
    "        fpr[\"macro\"] = all_fpr\n",
    "        tpr[\"macro\"] = mean_tpr\n",
    "        roc_auc[\"macro\"] = auc(fpr[\"macro\"], tpr[\"macro\"])\n",
    "        #\n",
    "        if stimulation=='ON':\n",
    "            fpr_mean_on.append(fpr[\"macro\"])\n",
    "            tpr_mean_on.append(tpr[\"macro\"])\n",
    "            roc_mean_on.append(roc_auc[\"macro\"])\n",
    "        elif stimulation=='OFF':\n",
    "            fpr_mean_off.append(fpr[\"macro\"])\n",
    "            tpr_mean_off.append(tpr[\"macro\"])\n",
    "            roc_mean_off.append(roc_auc[\"macro\"])\n",
    "\n",
    "\n",
    "    \n",
    "####"
   ]
  },
  {
   "cell_type": "code",
   "execution_count": null,
   "metadata": {},
   "outputs": [],
   "source": []
  },
  {
   "cell_type": "code",
   "execution_count": 46,
   "metadata": {},
   "outputs": [
    {
     "data": {
      "text/plain": [
       "(50,)"
      ]
     },
     "execution_count": 46,
     "metadata": {},
     "output_type": "execute_result"
    }
   ],
   "source": [
    "np.shape(fpr_mean_off)\n"
   ]
  },
  {
   "cell_type": "code",
   "execution_count": null,
   "metadata": {},
   "outputs": [],
   "source": []
  },
  {
   "cell_type": "code",
   "execution_count": 47,
   "metadata": {},
   "outputs": [
    {
     "name": "stderr",
     "output_type": "stream",
     "text": [
      "C:\\Users\\David\\Anaconda3\\envs\\python3\\lib\\site-packages\\scipy\\stats\\stats.py:1713: FutureWarning: Using a non-tuple sequence for multidimensional indexing is deprecated; use `arr[tuple(seq)]` instead of `arr[seq]`. In the future this will be interpreted as an array index, `arr[np.array(seq)]`, which will result either in an error or a different result.\n",
      "  return np.add.reduce(sorted[indexer] * weights, axis=axis) / sumval\n"
     ]
    },
    {
     "data": {
      "image/png": "[encoded data removed]",
      "text/plain": [
       "<Figure size 432x288 with 1 Axes>"
      ]
     },
     "metadata": {
      "needs_background": "light"
     },
     "output_type": "display_data"
    },
    {
     "name": "stdout",
     "output_type": "stream",
     "text": [
      "\n",
      "\n"
     ]
    }
   ],
   "source": [
    "plt.figure()\n",
    "lw = 2\n",
    "\n",
    "fpr_mean_off = np.concatenate(fpr_mean_off)\n",
    "tpr_mean_off = np.concatenate(tpr_mean_off)\n",
    "df_ROC_OFF = pd.DataFrame({'fpr_mean': fpr_mean_off, 'tpr_mean': tpr_mean_off})\n",
    "df_ROC_OFF = df_ROC_OFF.round(2)\n",
    "\n",
    "\n",
    "sns.lineplot(x='fpr_mean', y='tpr_mean', data=df_ROC_OFF, color='cadetblue', \n",
    "             linestyle='--', linewidth=2, \n",
    "             label='macro-average ROC OFF curve (area = {0:0.2f})'''.format(np.mean(roc_mean_off)))\n",
    "\n",
    "\n",
    "\n",
    "fpr_mean_on = np.concatenate(fpr_mean_on)\n",
    "tpr_mean_on = np.concatenate(tpr_mean_on)\n",
    "df_ROC_ON = pd.DataFrame({'fpr_mean': fpr_mean_on, 'tpr_mean': tpr_mean_on})\n",
    "df_ROC_ON = df_ROC_ON.round(2)\n",
    "\n",
    "\n",
    "sns.lineplot(x='fpr_mean', y='tpr_mean', data=df_ROC_ON, color='darkorange', \n",
    "             linestyle='--', linewidth=2, \n",
    "             label='macro-average ROC ON curve (area = {0:0.2f})'''.format(np.mean(roc_mean_on)))\n",
    "\n",
    "\n",
    "###\n",
    "plt.plot([0, 1], [0, 1], color='k', lw=lw, linestyle='--')\n",
    "plt.xlim([0, 1])\n",
    "plt.xticks([0, 0.5, 1])\n",
    "plt.ylim([0, 1])\n",
    "plt.yticks([0.5, 1])\n",
    "plt.xlabel('False Positive Rate')\n",
    "plt.ylabel('True Positive Rate')\n",
    "plt.title('ROC, win: ' +str(Window))\n",
    "plt.legend(loc=\"lower right\", fontsize=10, frameon=False)\n",
    "plt.gca().spines['right'].set_visible(False)  # aesthetics                                                                              # remove right spines\n",
    "plt.gca().spines['top'].set_visible(False)                                                                                  # remove top spines\n",
    "plt.gca().get_xaxis().tick_bottom()                                                                                         \n",
    "plt.gca().get_yaxis().tick_left()\n",
    "plt.gca().tick_params(direction='in') #direction\n",
    "plt.show()\n",
    "print('')\n",
    "print('')"
   ]
  },
  {
   "cell_type": "code",
   "execution_count": null,
   "metadata": {},
   "outputs": [],
   "source": []
  }
 ],
 "metadata": {
  "kernelspec": {
   "display_name": "Python 3",
   "language": "python",
   "name": "python3"
  },
  "language_info": {
   "codemirror_mode": {
    "name": "ipython",
    "version": 3
   },
   "file_extension": ".py",
   "mimetype": "text/x-python",
   "name": "python",
   "nbconvert_exporter": "python",
   "pygments_lexer": "ipython3",
   "version": "3.5.6"
  }
 },
 "nbformat": 4,
 "nbformat_minor": 2
}
