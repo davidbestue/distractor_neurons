{
 "cells": [
  {
   "cell_type": "code",
   "execution_count": 1,
   "metadata": {},
   "outputs": [],
   "source": [
    "from model_phantom_DB import *\n",
    "from linares_plot import * \n",
    "import itertools\n",
    "\n",
    "%matplotlib inline\n",
    "%config InlineBackend.figure_format = 'png' ## 'svg'\n",
    "\n",
    "%load_ext autoreload\n",
    "%autoreload 2\n",
    "\n",
    "import numpy as np\n",
    "import matplotlib.pyplot as plt\n",
    "from itertools import cycle\n",
    "from sklearn import svm, datasets\n",
    "from sklearn.metrics import roc_curve, auc\n",
    "from sklearn.model_selection import train_test_split\n",
    "from sklearn.preprocessing import label_binarize\n",
    "from sklearn.multiclass import OneVsRestClassifier\n",
    "from scipy import interp\n",
    "from sklearn.metrics import roc_auc_score\n",
    "import pandas as pd"
   ]
  },
  {
   "cell_type": "markdown",
   "metadata": {},
   "source": [
    "For all the matrice data : each row is one trial, each column is one neuron. \n",
    "For the same row the trial data may not be collected on the same trial since data might are collected on different days.\n",
    "\n",
    "cuerate: firing rate during 1st visual stimuli(cue) presentation.\n",
    "\n",
    "cuerate_stim: firing rate during 1st cue presentation with NB stimulation. \n",
    "\n",
    "cdrate: firing rate during the 1st delay after 1st cue presentation. \n",
    "\n",
    "cdrate_stim: firing rate during the 1st delay after cue presentation  with NB stimulation.  \n",
    " \n",
    "samplerate: firing rate during 2nd visual stimuli(sample) presentation. \n",
    "\n",
    "samplerate_stim: firing rate during sample presentation with NB stimulation. \n",
    "\n",
    "sdrate: firing rate during the delay after sample presentation. \n",
    "\n",
    "sdrate_stim: firing rate during the delay after sample presentation with NB stimulation. \n",
    "\n",
    "g1: location of 1st visual stimuli(cue)\n",
    " value -1 means no visual stimuli presented.\n",
    " value [1 2 3 4 5] are  relative locaions, such as [0 45 90 135 180], or [ 45 90 135 180 225], etc.\n",
    " The real locations depended on neurons' receptive field.\n",
    " According to our behavioral paradigm, the cue will only be presented on locaion [1 5]. that is two opposite locations, such as [0 180], [45 225], etc.\n",
    " For each neuron, thoes value([1:5]) refer to the same locations.\n",
    "\n",
    "g2: location of 2nd visual stimuli(sample)\n",
    "  Sample can show up in all five possible locations([1:5]) or not presented(-1).\n",
    "\n",
    "g3: task type for each trial, eg. saccade to 1st (value 1), or saccade to 2nd(value 2).\n"
   ]
  },
  {
   "cell_type": "code",
   "execution_count": 2,
   "metadata": {},
   "outputs": [
    {
     "data": {
      "text/plain": [
       "dict_keys(['__version__', 'cdrate_stim', 'cdrate', '__globals__', 'cuerate', 'g3', 'sdrate_stim', 'cuerate_stim', 'g2_stim', '__header__', 'samplerate_stim', 'g3_stim', 'g1', 'sdrate', 'samplerate', 'g2', 'g1_stim'])"
      ]
     },
     "execution_count": 2,
     "metadata": {},
     "output_type": "execute_result"
    }
   ],
   "source": [
    "from scipy.io import loadmat \n",
    "file = 'C:\\\\Users\\\\David\\\\Desktop\\\\IDIBAPS\\\\Classifiy_data_odrdistvar_allNeurons_reverse.matlab'\n",
    "data = loadmat(file)\n",
    "data.keys()"
   ]
  },
  {
   "cell_type": "code",
   "execution_count": 3,
   "metadata": {},
   "outputs": [],
   "source": [
    "rate_d1_off = data['cdrate']\n",
    "positions_stim_off= data['g1'] #1, 5, -1 (entiendo que 1 es RF y 5 es opposite, -1 es no estímulo)\n",
    "\n",
    "rate_d1_on = data['cdrate_stim']\n",
    "positions_stim_on= data['g1_stim'] #1, 5, -1 (entiendo que 1 es RF y 5 es opposite, -1 es no estímulo)"
   ]
  },
  {
   "cell_type": "code",
   "execution_count": null,
   "metadata": {},
   "outputs": [],
   "source": []
  },
  {
   "cell_type": "code",
   "execution_count": null,
   "metadata": {},
   "outputs": [],
   "source": []
  },
  {
   "cell_type": "code",
   "execution_count": 12,
   "metadata": {},
   "outputs": [
    {
     "name": "stderr",
     "output_type": "stream",
     "text": [
      "C:\\Users\\David\\Anaconda3\\envs\\python3\\lib\\site-packages\\ipykernel_launcher.py:8: RuntimeWarning: invalid value encountered in greater\n",
      "  \n",
      "C:\\Users\\David\\Anaconda3\\envs\\python3\\lib\\site-packages\\ipykernel_launcher.py:9: RuntimeWarning: invalid value encountered in greater\n",
      "  if __name__ == '__main__':\n"
     ]
    }
   ],
   "source": [
    "### neuron 1 off\n",
    "Neuron = 0\n",
    "\n",
    "n1_rates = rate_d1_off[:,Neuron]\n",
    "n1_positions = positions_stim_off[:,Neuron]\n",
    "\n",
    "#just get the 1 and 5 (RF and oppoiste)\n",
    "n1_y = n1_positions[n1_positions>0]\n",
    "n1_x = n1_rates[n1_positions>0]\n"
   ]
  },
  {
   "cell_type": "code",
   "execution_count": 13,
   "metadata": {},
   "outputs": [],
   "source": [
    "y_off = label_binarize(n1_y, classes=[5,1]) #matrix (1,0,0,...,0)\n",
    "n_classes = y_off.shape[1]\n",
    "X_off =np.reshape(n1_x, (len(n1_x),1))"
   ]
  },
  {
   "cell_type": "code",
   "execution_count": 17,
   "metadata": {},
   "outputs": [
    {
     "name": "stdout",
     "output_type": "stream",
     "text": [
      "0\n",
      "1\n"
     ]
    }
   ],
   "source": [
    "reps_ = 2\n",
    "##classifier to use\n",
    "classifier = OneVsRestClassifier(svm.SVC(kernel='linear', probability=True, random_state=None, max_iter=10000)) #, max_iter=10000\n",
    "\n",
    "fpr_mean_off = []\n",
    "tpr_mean_off = []\n",
    "roc_mean_off = []\n",
    "\n",
    "fpr_mean_on = []\n",
    "tpr_mean_on = []\n",
    "roc_mean_on = []\n",
    "\n",
    "X=X_off.copy()\n",
    "y=y_off.copy()\n",
    "\n",
    "for rep in range(reps_):\n",
    "    print(rep)\n",
    "    ## split train and test\n",
    "    X_train, X_test, y_train, y_test = train_test_split(X, y, test_size=.3, random_state=None)\n",
    "    X_train =np.reshape(X_train, (len(X_train),1))\n",
    "    X_test =np.reshape(X_test, (len(X_test),1))"
   ]
  },
  {
   "cell_type": "code",
   "execution_count": null,
   "metadata": {},
   "outputs": [],
   "source": []
  },
  {
   "cell_type": "code",
   "execution_count": null,
   "metadata": {},
   "outputs": [],
   "source": [
    "reps_ = 2\n",
    "##classifier to use\n",
    "classifier = OneVsRestClassifier(svm.SVC(kernel='linear', probability=True, random_state=None, max_iter=10000)) #, max_iter=10000\n",
    "\n",
    "fpr_mean_off = []\n",
    "tpr_mean_off = []\n",
    "roc_mean_off = []\n",
    "\n",
    "fpr_mean_on = []\n",
    "tpr_mean_on = []\n",
    "roc_mean_on = []\n",
    "\n",
    "for rep in range(reps_):\n",
    "    print(stimulation, rep)\n",
    "    ## split train and test\n",
    "    X_train, X_test, y_train, y_test = train_test_split(X, y, test_size=.3, random_state=None)\n",
    "    X_train =np.reshape(X_train, (len(X_train),1))\n",
    "    X_test =np.reshape(X_test, (len(X_test),1))\n",
    "        # score\n",
    "        #fitted = classifier.fit(X_train, y_train)\n",
    "        #y_score = fitted.decision_function(X_test)\n",
    "        \n",
    "        #X_test = X_test[y_test[:, int(Window/2) ]==1]\n",
    "        #y_test = y_test[y_test[:, int(Window/2)]==1]\n",
    "        \n",
    "        #bool_ = np.array([any(y_test[x ,int(Window/2)-int(Window2/2): int(Window/2)+int(Window2/2)])==1 for x in range(len(y_test))])\n",
    "        #X_test = X_test[bool_]\n",
    "        #y_test = y_test[bool_]\n",
    "        #n_classes = y_test.shape[1]\n",
    "        \n",
    "        \n",
    "        y_score = classifier.fit(X_train, y_train).decision_function(X_test)\n",
    "\n",
    "        ## Compute ROC curve and ROC area for each class\n",
    "        fpr = dict()\n",
    "        tpr= dict()\n",
    "        roc_auc = dict()\n",
    "        for i in range(n_classes):\n",
    "            #fpr[i], tpr[i], _ = roc_curve(y_test[:, i], y_score[:, i])\n",
    "            fpr[i], tpr[i], _ = roc_curve(y_test[:], y_score[:])\n",
    "            roc_auc[i] = auc(fpr[i], tpr[i])\n",
    "\n",
    "        # Compute micro-average ROC curve and ROC area\n",
    "        fpr[\"micro\"], tpr[\"micro\"], _ = roc_curve(y_test.ravel(), y_score.ravel())\n",
    "        roc_auc[\"micro\"] = auc(fpr[\"micro\"], tpr[\"micro\"])\n",
    "\n",
    "        ### Compute mean ROC curve\n",
    "\n",
    "        # First aggregate all false positive rates\n",
    "        all_fpr = np.unique(np.concatenate([fpr[i] for i in range(n_classes)]))\n",
    "\n",
    "        # Then interpolate all ROC curves at this points\n",
    "        mean_tpr = np.zeros_like(all_fpr)\n",
    "        for i in range(n_classes):\n",
    "            mean_tpr += interp(all_fpr, fpr[i], tpr[i])\n",
    "\n",
    "        # Finally average it and compute AUC\n",
    "        mean_tpr /= n_classes\n",
    "\n",
    "        fpr[\"macro\"] = all_fpr\n",
    "        tpr[\"macro\"] = mean_tpr\n",
    "        roc_auc[\"macro\"] = auc(fpr[\"macro\"], tpr[\"macro\"])\n",
    "        #\n",
    "        if stimulation=='ON':\n",
    "            fpr_mean_on.append(fpr[\"macro\"])\n",
    "            tpr_mean_on.append(tpr[\"macro\"])\n",
    "            roc_mean_on.append(roc_auc[\"macro\"])\n",
    "        elif stimulation=='OFF':\n",
    "            fpr_mean_off.append(fpr[\"macro\"])\n",
    "            tpr_mean_off.append(tpr[\"macro\"])\n",
    "            roc_mean_off.append(roc_auc[\"macro\"])\n",
    "\n"
   ]
  }
 ],
 "metadata": {
  "kernelspec": {
   "display_name": "Python 3",
   "language": "python",
   "name": "python3"
  },
  "language_info": {
   "codemirror_mode": {
    "name": "ipython",
    "version": 3
   },
   "file_extension": ".py",
   "mimetype": "text/x-python",
   "name": "python",
   "nbconvert_exporter": "python",
   "pygments_lexer": "ipython3",
   "version": "3.5.6"
  }
 },
 "nbformat": 4,
 "nbformat_minor": 2
}
