{
 "cells": [
  {
   "cell_type": "code",
   "execution_count": 1,
   "metadata": {},
   "outputs": [],
   "source": [
    "import scipy.io as io\n",
    "import pickle\n",
    "from scipy.ndimage import gaussian_filter\n",
    "from scipy import misc\n",
    "import os\n",
    "from sklearn.preprocessing import label_binarize\n",
    "from sklearn.metrics import roc_curve, auc\n",
    "import pandas as pd\n",
    "import matplotlib.pyplot as plt\n",
    "import seaborn as sns\n",
    "import numpy as np\n",
    "from linares_plot import *\n"
   ]
  },
  {
   "cell_type": "code",
   "execution_count": 21,
   "metadata": {},
   "outputs": [],
   "source": [
    "import scipy\n",
    "from scipy.optimize import curve_fit\n",
    "from scipy import asarray as ar,exp\n",
    "from scipy.misc import electrocardiogram\n",
    "from scipy.signal import find_peaks\n",
    "\n",
    "\n",
    "def gaus(x,a,x0,sigma):\n",
    "    return a*exp(-(x-x0)**2/(2*sigma**2))\n",
    "\n",
    "\n",
    "def von_misses(x,a,mu,k):\n",
    "        return a*(np.exp( k * np.cos(x-mu))) / (2*np.pi*scipy.special.i0(k)) "
   ]
  },
  {
   "cell_type": "code",
   "execution_count": 28,
   "metadata": {},
   "outputs": [],
   "source": [
    "def circ_dist(a1,a2):\n",
    "    ## Returns the minimal distance in angles between to angles \n",
    "    op1=abs(a2-a1)\n",
    "    angs=[a1,a2]\n",
    "    op2=min(angs)+(360-max(angs))\n",
    "    options=[op1,op2]\n",
    "    return min(options)"
   ]
  },
  {
   "cell_type": "code",
   "execution_count": 2,
   "metadata": {},
   "outputs": [],
   "source": [
    "def decode_rE(rE, a_ini=0, a_fin=360, N=512):\n",
    "    #Population vector for a given rE\n",
    "    # return ( angle in radians, absolut angle in radians, abs angle in degrees )\n",
    "    N=len(rE)\n",
    "    Angles = np.linspace(a_ini, a_fin, N) \n",
    "    angles=np.radians(Angles)\n",
    "    rE = np.reshape(rE, (1,N))\n",
    "    R = np.sum(np.dot(rE,np.exp(1j*angles)))/np.sum(rE)\n",
    "    \n",
    "    angle_decoded = np.degrees(np.angle(R))\n",
    "    if angle_decoded<0:\n",
    "        angle_decoded = 360+angle_decoded\n",
    "    \n",
    "    return angle_decoded"
   ]
  },
  {
   "cell_type": "code",
   "execution_count": 3,
   "metadata": {},
   "outputs": [],
   "source": [
    "def err_deg(a1,ref):\n",
    "    ### Calculate the error ref-a1 in an efficient way in the circular space\n",
    "    ### \"going ccw from the reference (ref) is negative\" - \"going cw from the reference (ref) is positive\"\n",
    "    ### it uses complex numbers!\n",
    "    ### Input in degrees (0-360)\n",
    "    a1=np.radians(a1)\n",
    "    ref=np.radians(ref)\n",
    "    err = np.angle(np.exp(1j*ref)/np.exp(1j*(a1) ), deg=True) \n",
    "    err=round(err, 2)\n",
    "    return err"
   ]
  },
  {
   "cell_type": "code",
   "execution_count": 16,
   "metadata": {},
   "outputs": [
    {
     "data": {
      "image/png": "[encoded data removed]",
      "text/plain": [
       "<Figure size 432x72 with 1 Axes>"
      ]
     },
     "metadata": {
      "needs_background": "light"
     },
     "output_type": "display_data"
    },
    {
     "name": "stdout",
     "output_type": "stream",
     "text": [
      "['#213b6e', '#4c556c', '#6c6e72', '#8e8978', '#b1a570', '#d9c55c']\n"
     ]
    }
   ],
   "source": [
    "pal_cyan = sns.color_palette(\"cividis\", n_colors=6) #RdBu_r\n",
    "sns.palplot(pal_cyan)\n",
    "plt.show()\n",
    "print(pal_cyan.as_hex())"
   ]
  },
  {
   "cell_type": "code",
   "execution_count": null,
   "metadata": {},
   "outputs": [],
   "source": []
  },
  {
   "cell_type": "markdown",
   "metadata": {},
   "source": [
    "# Simulations 0-1.25\n",
    "\n",
    "Problema: behaviour not nice. Más error en ON que en OFF (absolut y drift)"
   ]
  },
  {
   "cell_type": "code",
   "execution_count": 4,
   "metadata": {},
   "outputs": [],
   "source": [
    "path_ =  'C:\\\\Users\\\\David\\\\Desktop\\\\IDIBAPS\\\\brian_simulations\\\\r4'\n",
    "all_= os.listdir(path_)"
   ]
  },
  {
   "cell_type": "code",
   "execution_count": 5,
   "metadata": {},
   "outputs": [],
   "source": [
    "N0 = 20000\n",
    "time_s =7000 #(ms)\n",
    "N=0.8*N0 #(el 80% son excitadoras)\n",
    "rounding = 2 ##round the timing\n",
    "w=100 #(ms)\n"
   ]
  },
  {
   "cell_type": "code",
   "execution_count": 6,
   "metadata": {
    "scrolled": true
   },
   "outputs": [
    {
     "name": "stdout",
     "output_type": "stream",
     "text": [
      "0\n",
      "1\n",
      "2\n",
      "3\n",
      "4\n",
      "5\n",
      "6\n",
      "7\n",
      "8\n",
      "9\n",
      "10\n",
      "11\n",
      "12\n",
      "13\n",
      "14\n",
      "15\n",
      "16\n",
      "17\n",
      "18\n",
      "19\n",
      "20\n",
      "21\n",
      "22\n",
      "23\n",
      "24\n",
      "25\n",
      "26\n",
      "27\n",
      "28\n",
      "29\n",
      "30\n",
      "31\n",
      "32\n",
      "33\n",
      "34\n",
      "35\n",
      "36\n",
      "37\n",
      "38\n",
      "39\n",
      "40\n",
      "41\n",
      "42\n",
      "43\n",
      "44\n",
      "45\n",
      "46\n",
      "47\n",
      "48\n",
      "49\n",
      "50\n",
      "51\n",
      "52\n",
      "53\n",
      "54\n",
      "55\n",
      "56\n",
      "57\n",
      "58\n",
      "59\n",
      "60\n",
      "61\n",
      "62\n",
      "63\n",
      "64\n",
      "65\n",
      "66\n",
      "67\n",
      "68\n",
      "69\n",
      "70\n",
      "71\n",
      "72\n",
      "73\n",
      "74\n",
      "75\n",
      "76\n",
      "77\n",
      "78\n",
      "79\n",
      "80\n",
      "81\n",
      "82\n",
      "83\n",
      "84\n",
      "85\n",
      "86\n",
      "87\n",
      "88\n",
      "89\n",
      "90\n",
      "91\n",
      "92\n",
      "93\n",
      "94\n",
      "95\n",
      "96\n",
      "97\n",
      "98\n",
      "99\n",
      "100\n",
      "101\n",
      "102\n",
      "103\n",
      "104\n",
      "105\n",
      "106\n",
      "107\n",
      "108\n",
      "109\n",
      "110\n",
      "111\n",
      "112\n",
      "113\n",
      "114\n",
      "115\n",
      "116\n",
      "117\n",
      "118\n",
      "119\n",
      "120\n",
      "121\n",
      "122\n",
      "123\n",
      "124\n",
      "125\n",
      "126\n",
      "127\n",
      "128\n",
      "129\n",
      "130\n",
      "131\n",
      "132\n",
      "133\n",
      "134\n",
      "135\n",
      "136\n",
      "137\n",
      "138\n",
      "139\n",
      "140\n",
      "141\n",
      "142\n",
      "143\n",
      "144\n",
      "145\n",
      "146\n",
      "147\n",
      "148\n",
      "149\n",
      "150\n",
      "151\n",
      "152\n",
      "153\n",
      "154\n",
      "155\n",
      "156\n",
      "157\n",
      "158\n",
      "159\n",
      "160\n",
      "161\n",
      "162\n",
      "163\n",
      "164\n",
      "165\n",
      "166\n",
      "167\n",
      "168\n",
      "169\n",
      "170\n",
      "171\n",
      "172\n",
      "173\n",
      "174\n",
      "175\n",
      "176\n",
      "177\n",
      "178\n",
      "179\n",
      "180\n",
      "181\n",
      "182\n",
      "183\n",
      "184\n",
      "185\n",
      "186\n",
      "187\n",
      "188\n",
      "189\n",
      "190\n",
      "191\n",
      "192\n",
      "193\n",
      "194\n",
      "195\n",
      "196\n",
      "197\n",
      "198\n",
      "199\n",
      "200\n",
      "201\n",
      "202\n",
      "203\n",
      "204\n",
      "205\n",
      "206\n",
      "207\n",
      "208\n",
      "209\n",
      "210\n",
      "211\n",
      "212\n",
      "213\n",
      "214\n",
      "215\n",
      "216\n",
      "217\n",
      "218\n",
      "219\n",
      "220\n",
      "221\n",
      "222\n",
      "223\n",
      "224\n",
      "225\n",
      "226\n",
      "227\n",
      "228\n",
      "229\n",
      "230\n",
      "231\n",
      "232\n",
      "233\n",
      "234\n",
      "235\n",
      "236\n",
      "237\n",
      "238\n",
      "239\n",
      "240\n",
      "241\n",
      "242\n",
      "243\n",
      "244\n",
      "245\n",
      "246\n",
      "247\n",
      "248\n",
      "249\n",
      "250\n",
      "251\n",
      "252\n",
      "253\n",
      "254\n",
      "255\n",
      "256\n",
      "257\n",
      "258\n",
      "259\n",
      "260\n",
      "261\n",
      "262\n",
      "263\n",
      "264\n",
      "265\n",
      "266\n",
      "267\n",
      "268\n",
      "269\n",
      "270\n",
      "271\n",
      "272\n",
      "273\n",
      "274\n",
      "275\n",
      "276\n",
      "277\n",
      "278\n",
      "279\n",
      "280\n",
      "281\n",
      "282\n",
      "283\n",
      "284\n",
      "285\n",
      "286\n",
      "287\n",
      "288\n",
      "289\n",
      "290\n",
      "291\n",
      "292\n",
      "293\n",
      "294\n",
      "295\n",
      "296\n",
      "297\n",
      "298\n",
      "299\n",
      "300\n",
      "301\n",
      "302\n",
      "303\n",
      "304\n",
      "305\n",
      "306\n",
      "307\n",
      "308\n",
      "309\n",
      "310\n",
      "311\n",
      "312\n",
      "313\n",
      "314\n",
      "315\n",
      "316\n",
      "317\n",
      "318\n",
      "319\n",
      "320\n",
      "321\n",
      "322\n",
      "323\n",
      "324\n",
      "325\n",
      "326\n",
      "327\n",
      "328\n",
      "329\n",
      "330\n",
      "331\n",
      "332\n",
      "333\n",
      "334\n",
      "335\n",
      "336\n",
      "337\n",
      "338\n",
      "339\n",
      "340\n",
      "341\n",
      "342\n",
      "343\n",
      "344\n",
      "345\n",
      "346\n",
      "347\n",
      "348\n",
      "349\n",
      "350\n",
      "351\n",
      "352\n",
      "353\n",
      "354\n",
      "355\n",
      "356\n",
      "357\n",
      "358\n",
      "359\n",
      "360\n",
      "361\n",
      "362\n",
      "363\n",
      "364\n",
      "365\n",
      "366\n",
      "367\n",
      "368\n",
      "369\n",
      "370\n",
      "371\n",
      "372\n",
      "373\n",
      "374\n",
      "375\n",
      "376\n",
      "377\n",
      "378\n",
      "379\n",
      "380\n",
      "381\n",
      "382\n",
      "383\n",
      "384\n",
      "385\n",
      "386\n",
      "387\n",
      "388\n",
      "389\n",
      "390\n",
      "391\n",
      "392\n",
      "393\n",
      "394\n",
      "395\n",
      "396\n",
      "397\n",
      "398\n",
      "399\n",
      "400\n",
      "401\n",
      "402\n",
      "403\n",
      "404\n",
      "405\n",
      "406\n",
      "407\n",
      "408\n",
      "409\n",
      "410\n",
      "411\n",
      "412\n",
      "413\n",
      "414\n",
      "415\n",
      "416\n",
      "417\n",
      "418\n",
      "419\n",
      "420\n",
      "421\n",
      "422\n",
      "423\n",
      "424\n",
      "425\n",
      "426\n",
      "427\n",
      "428\n",
      "429\n",
      "430\n",
      "431\n",
      "432\n",
      "433\n",
      "434\n",
      "435\n",
      "436\n",
      "437\n",
      "438\n",
      "439\n",
      "440\n",
      "441\n",
      "442\n",
      "443\n",
      "444\n",
      "445\n",
      "446\n",
      "447\n",
      "448\n",
      "449\n",
      "450\n",
      "451\n",
      "452\n",
      "453\n",
      "454\n",
      "455\n",
      "456\n",
      "457\n",
      "458\n",
      "459\n",
      "460\n",
      "461\n",
      "462\n",
      "463\n",
      "464\n",
      "465\n",
      "466\n",
      "467\n",
      "468\n",
      "469\n",
      "470\n",
      "471\n",
      "472\n",
      "473\n",
      "474\n",
      "475\n",
      "476\n",
      "477\n",
      "478\n",
      "479\n",
      "480\n",
      "481\n",
      "482\n",
      "483\n",
      "484\n",
      "485\n",
      "486\n",
      "487\n",
      "488\n",
      "489\n",
      "490\n",
      "491\n",
      "492\n",
      "493\n",
      "494\n",
      "495\n",
      "496\n",
      "497\n",
      "498\n",
      "499\n"
     ]
    }
   ],
   "source": [
    "pos_stim=[]\n",
    "Iexts = []\n",
    "firings_wind = []\n",
    "\n",
    "for sim_ in np.arange(0,500,1): ##simulations used (all or a fraction e.j. np.arange(0,500,100)) )\n",
    "    #\n",
    "    print(sim_)\n",
    "    simx = io.loadmat(path_ + '\\\\' + all_[sim_])\n",
    "    ####\n",
    "    #### save position and I0E of each simulation\n",
    "    ####\n",
    "    pos_stim.append(360*simx['pos_stim'][0][0])\n",
    "    Iexts.append(simx['IEext'][0][0])\n",
    "\n",
    "    spikes = simx['spktm']\n",
    "    \n",
    "    Matrix_spikes=np.zeros([int(0.8*N0), time_s])\n",
    "\n",
    "    neurons_ = np.array([int(spikes[0][x]) for x in range(len(spikes[0]))])\n",
    "\n",
    "    times_ = np.array([spikes[1][x] for x in range(len(spikes[1]))])\n",
    "    times_ = times_ - min(times_)\n",
    "    times_ = np.array([int(times_[x]*1000) for x in range(len(times_))])\n",
    "\n",
    "    # dimensions = neurons, time_s\n",
    "    for t, n in zip(times_, neurons_ ):\n",
    "        Matrix_spikes[n,t]=1\n",
    "    ##\n",
    "    ####\n",
    "    #### STEP 2: calculate firing of each neuron in windows of 100ms (10)\n",
    "    ####\n",
    "    t1s = np.arange(0, time_s ,w)\n",
    "    t2s = np.arange(w, time_s+w, w)\n",
    "    ##\n",
    "    fr_time = []\n",
    "    for N in range(np.shape(Matrix_spikes)[0]):\n",
    "        neuron_fr = []\n",
    "        for i in range(len(t1s)):\n",
    "            neuron_fr.append(Matrix_spikes[N, t1s[i]:t2s[i]].sum()/ float(1000/w) ) \n",
    "        #\n",
    "        fr_time.append(neuron_fr)\n",
    "    ###\n",
    "    fr_time=np.array(fr_time)\n",
    "    ####\n",
    "    #### STEP 3: save the new matrix, this time with the dimension (neuron, time) ##time dimension is 700/w = 70\n",
    "    ####\n",
    "    firings_wind.append(fr_time)\n",
    "    \n",
    "    \n",
    "##\n",
    "IExts = np.array(Iexts) \n",
    "Positions=np.array(pos_stim)\n",
    "firings_wind = np.array(firings_wind)\n",
    "\n",
    "\n",
    "\n"
   ]
  },
  {
   "cell_type": "code",
   "execution_count": 8,
   "metadata": {},
   "outputs": [],
   "source": [
    "#np.save('C:\\\\Users\\\\David\\\\Desktop\\\\IDIBAPS\\\\brian_simulations\\\\firing_winds_100_regime1', firings_wind)\n",
    "#firing_wind = np.load('C:\\\\Users\\\\David\\\\Desktop\\\\IDIBAPS\\\\brian_simulations\\\\firing_winds_100_regime1')"
   ]
  },
  {
   "cell_type": "code",
   "execution_count": 41,
   "metadata": {},
   "outputs": [
    {
     "name": "stderr",
     "output_type": "stream",
     "text": [
      "C:\\Users\\David\\Anaconda3\\envs\\python3\\lib\\site-packages\\scipy\\stats\\stats.py:1713: FutureWarning: Using a non-tuple sequence for multidimensional indexing is deprecated; use `arr[tuple(seq)]` instead of `arr[seq]`. In the future this will be interpreted as an array index, `arr[np.array(seq)]`, which will result either in an error or a different result.\n",
      "  return np.add.reduce(sorted[indexer] * weights, axis=axis) / sumval\n"
     ]
    },
    {
     "data": {
      "image/png": "[encoded data removed]",
      "text/plain": [
       "<Figure size 432x288 with 1 Axes>"
      ]
     },
     "metadata": {
      "needs_background": "light"
     },
     "output_type": "display_data"
    },
    {
     "data": {
      "image/png": "[encoded data removed]",
      "text/plain": [
       "<Figure size 432x288 with 1 Axes>"
      ]
     },
     "metadata": {
      "needs_background": "light"
     },
     "output_type": "display_data"
    },
    {
     "data": {
      "image/png": "[encoded data removed]",
      "text/plain": [
       "<Figure size 432x288 with 1 Axes>"
      ]
     },
     "metadata": {
      "needs_background": "light"
     },
     "output_type": "display_data"
    }
   ],
   "source": [
    "#Behaviour\n",
    "############################################################################################################\n",
    "\n",
    "Errors_to_target = []\n",
    "target_positions=[]\n",
    "decoded_responses=[]\n",
    "\n",
    "for i in range(0, np.shape(firings_wind)[0]): ##in each simulation\n",
    "    simx_ = firings_wind[i]\n",
    "    ## target position by mean decoded position during poresentation period\n",
    "    target_position_ = []\n",
    "    for s_pr in range(20,30):\n",
    "        firings_wind_stim=simx_[:,s_pr]\n",
    "        decoded_position = decode_rE(firings_wind_stim, N=16000)\n",
    "        target_position_.append(decoded_position)\n",
    "\n",
    "    target_position = np.array(target_position_).mean()\n",
    "    target_positions.append(target_position)\n",
    "    ## response as decoded position at the end of the delay period\n",
    "    firings_wind_resp=simx_[:,-1]\n",
    "    decoded_response = decode_rE(firings_wind_resp, N=16000)\n",
    "    decoded_responses.append(decoded_response)\n",
    "    ## Calculate error\n",
    "    Error_target = err_deg(decoded_response, target_position)\n",
    "    Errors_to_target.append(Error_target)\n",
    "\n",
    "    \n",
    "##\n",
    "abs_Errors_to_target = abs(np.array(Errors_to_target))\n",
    "##\n",
    "df = pd.DataFrame({'Error':Errors_to_target, 'abs_error':abs_Errors_to_target, 'IExt':IExts, 'response':decoded_responses,\n",
    "                   'positions':Positions, 'target':target_positions })\n",
    "df['stimulation'] = df['IExt'].replace([0,1.25], ['OFF', 'ON'])\n",
    "\n",
    "\n",
    "############################################################################################################\n",
    "\n",
    "plt.figure()\n",
    "sns.barplot(x='stimulation', y='abs_error', data=df, order=['OFF', 'ON'], palette=palette_)\n",
    "plt.gca().spines['right'].set_visible(False)  # aesthetics                                                                              # remove right spines\n",
    "plt.gca().spines['top'].set_visible(False)                                                                                  # remove top spines\n",
    "plt.gca().get_xaxis().tick_bottom()                                                                                         \n",
    "plt.gca().get_yaxis().tick_left()\n",
    "plt.gca().tick_params(direction='in') #direction\n",
    "plt.ylabel('absolute error');\n",
    "#plt.ylim(0,30);\n",
    "##\n",
    "plt.show()\n",
    "\n",
    "\n",
    "############################################################################################################\n",
    "\n",
    "sns.distplot(df.loc[df['stimulation']=='OFF', 'Error'].values, color=palette_[0], bins=12, label='OFF')\n",
    "sns.distplot(df.loc[df['stimulation']=='ON', 'Error'].values, color=palette_[1], bins=40, label='ON')\n",
    "plt.gca().spines['right'].set_visible(False)  # aesthetics                                                                              # remove right spines\n",
    "plt.gca().spines['top'].set_visible(False)                                                                                  # remove top spines\n",
    "plt.gca().get_xaxis().tick_bottom()                                                                                         \n",
    "plt.gca().get_yaxis().tick_left()\n",
    "plt.gca().tick_params(direction='in') #direction\n",
    "plt.legend(frameon=False);\n",
    "plt.show()\n",
    "\n",
    "\n",
    "############################################################################################################\n",
    "\n",
    "##\n",
    "drift = []\n",
    "for i in range(len(df)):\n",
    "    resp_ = df.response.iloc[i]\n",
    "    pos_ = df.positions.iloc[i]\n",
    "    iex_ = df.IExt.iloc[i]\n",
    "    mean_resp = df.loc[(df['IExt']==iex_) & (df['positions']==pos_), 'response'].mean()\n",
    "    Error_drift = err_deg(resp_, mean_resp)\n",
    "    drift.append(Error_drift)\n",
    "    \n",
    "##\n",
    "df['drift'] = drift\n",
    "df['abs_drift'] = abs(np.array(drift))\n",
    "\n",
    "\n",
    "plt.figure()\n",
    "sns.barplot(x='stimulation', y='abs_drift', data=df, order=['OFF', 'ON'], palette=palette_)\n",
    "plt.gca().spines['right'].set_visible(False)  # aesthetics                                                                              # remove right spines\n",
    "plt.gca().spines['top'].set_visible(False)                                                                                  # remove top spines\n",
    "plt.gca().get_xaxis().tick_bottom()                                                                                         \n",
    "plt.gca().get_yaxis().tick_left()\n",
    "plt.gca().tick_params(direction='in') #direction\n",
    "plt.ylabel('absolute drift');\n",
    "#plt.ylim(0,30);\n",
    "plt.show()"
   ]
  },
  {
   "cell_type": "code",
   "execution_count": 20,
   "metadata": {},
   "outputs": [
    {
     "name": "stderr",
     "output_type": "stream",
     "text": [
      "C:\\Users\\David\\Anaconda3\\envs\\python3\\lib\\site-packages\\scipy\\stats\\stats.py:1713: FutureWarning: Using a non-tuple sequence for multidimensional indexing is deprecated; use `arr[tuple(seq)]` instead of `arr[seq]`. In the future this will be interpreted as an array index, `arr[np.array(seq)]`, which will result either in an error or a different result.\n",
      "  return np.add.reduce(sorted[indexer] * weights, axis=axis) / sumval\n"
     ]
    },
    {
     "data": {
      "image/png": "[encoded data removed]",
      "text/plain": [
       "<Figure size 432x288 with 1 Axes>"
      ]
     },
     "metadata": {
      "needs_background": "light"
     },
     "output_type": "display_data"
    }
   ],
   "source": [
    "### Tuning curve\n",
    "Rates_x = firings_wind[:,:, 45]\n",
    "\n",
    "lables_=['OFF', 'ON']\n",
    "frames=[]\n",
    "\n",
    "for p in np.arange(0,16000,10): ##16000\n",
    "    for idx_I0E, I0E in enumerate([0, 1.25]):\n",
    "        ########################################### OFF ############################################\n",
    "        ## each column is a neuron\n",
    "        nx_rates = Rates_x[:, p] #rate during the delay period\n",
    "        nx_positions = Positions\n",
    "        ## get the ones according to the Iext you want\n",
    "        nx_rates=nx_rates[IExts==I0E]\n",
    "        nx_positions=nx_positions[IExts==I0E]\n",
    "        ##normalize firing\n",
    "        ##### alignment\n",
    "        to_roll = np.where(nx_rates == max(nx_rates))[0][0] \n",
    "        rolled_rates = np.roll(nx_rates, -to_roll + int(len(nx_positions)/2) ) ### 63 is the m\n",
    "        ###\n",
    "        #dfx = pd.DataFrame({'position':nx_positions, 'rate':nx_rates, 'Neuron':Neuron, 'I0E':I0E})\n",
    "        dfx = pd.DataFrame({'position':nx_positions, 'rate':rolled_rates, 'stimulation':lables_[idx_I0E]})\n",
    "        frames.append(dfx)\n",
    "\n",
    "###\n",
    "### plot\n",
    "dff2 = pd.concat(frames)\n",
    "#dff.head()\n",
    "\n",
    "ax=plt.figure()\n",
    "sns.lineplot('position', 'rate', hue='stimulation', data=dff2, palette=[pal_cyan.as_hex()[0], pal_cyan.as_hex()[-1]])\n",
    "plt.gca().spines['right'].set_visible(False)  # aesthetics                                                                              # remove right spines\n",
    "plt.gca().spines['top'].set_visible(False)                                                                                  # remove top spines\n",
    "plt.gca().get_xaxis().tick_bottom()                                                                                         \n",
    "plt.gca().get_yaxis().tick_left()\n",
    "plt.gca().tick_params(direction='in') #direction\n",
    "plt.legend(fontsize=15, frameon=False)\n",
    "plt.xlim(0,360)\n",
    "plt.xticks([0,90,180,270,360]);"
   ]
  },
  {
   "cell_type": "code",
   "execution_count": 38,
   "metadata": {},
   "outputs": [],
   "source": [
    "#ROC analysis\n",
    "Neurons_  = np.arange(0,16000,100)\n",
    "Rates_x = firings_wind[:,:, 50]\n",
    "\n",
    "\n",
    "Iext_off = 0\n",
    "Iext_on = 1.25\n",
    "\n",
    "lim_RF = 5 ##limit to consider a position is inside the RF of the neuron\n",
    "base_fpr = np.linspace(0, 1, 101)\n",
    "\n",
    "\n",
    "number_neurons=len(Neurons_)\n",
    "\n",
    "auc_off = np.zeros(number_neurons)\n",
    "auc_on = np.zeros(number_neurons)\n",
    "\n",
    "tprs_on = []\n",
    "tprs_off = []\n",
    "\n",
    "\n",
    "errors=[]\n",
    "\n",
    "for idx_neuron, Neuron in enumerate(Neurons_):\n",
    "    ###\n",
    "    ## each column is a neuron\n",
    "    nx_rates = Rates_x[:,Neuron]\n",
    "    nx_positions = Positions\n",
    "   \n",
    "    ##\n",
    "    ########################################### OFF ############################################\n",
    "    ##\n",
    "    \n",
    "    ## get the ones according to the Iext you want\n",
    "    nx_rates=nx_rates[IExts==Iext_off]\n",
    "    nx_positions=nx_positions[IExts==Iext_off]\n",
    "    \n",
    "    ### \n",
    "    x = np.radians(nx_positions)-np.pi\n",
    "    y = nx_rates\n",
    "    popt,pcov = curve_fit(von_misses,x,y)\n",
    "    y_fit = von_misses(x,*popt)\n",
    "    peaks, _ = find_peaks(y_fit)\n",
    "    if len(peaks)==0:\n",
    "        errors.append(idx_neuron)\n",
    "        index_max_rate = np.where(nx_rates==nx_rates.max())[0][0]\n",
    "        RF_center = nx_rates[index_max_rate]\n",
    "    else:\n",
    "        peaks_y = [y_fit[peaks[x]] for x in range(len(peaks))]\n",
    "        max_peak_x = peaks[np.where(peaks_y==max(peaks_y))[0][0]]\n",
    "        RF_center = nx_positions[max_peak_x]\n",
    "    \n",
    "    dfx = pd.DataFrame({'position':nx_positions, 'rate':nx_rates, 'Neuron':Neuron})\n",
    "    dfx['RF_center'] = RF_center\n",
    "    ####\n",
    "    ####\n",
    "    ####\n",
    "    in_out_rf = []\n",
    "    for p in range(len(dfx)):\n",
    "        dist_ = circ_dist(RF_center, dfx.position.iloc[p])\n",
    "        if dist_>lim_RF:\n",
    "            in_out_rf.append(5) #outside RF\n",
    "        else:\n",
    "            in_out_rf.append(1) #inside RF\n",
    "    #####\n",
    "    dfx['in_out_rf']=in_out_rf\n",
    "    ###\n",
    "    ## appropiate shape for the classifier\n",
    "    y = label_binarize(dfx['in_out_rf'].values, classes=[5,1]) #matrix (1,0,0,...,0)\n",
    "    y=y.ravel()\n",
    "    ######\n",
    "    if len(np.unique(y))==1:\n",
    "        mean_tprs = np.empty(np.shape(base_fpr))*np.nan\n",
    "    else:\n",
    "        fpr, tpr, _ = roc_curve(y, dfx['rate'].values) #HERE: compute ROC with raw firing rate\n",
    "        tpr = np.interp(base_fpr, fpr, tpr)\n",
    "        tpr[0] = 0.0\n",
    "        mean_tprs = tpr\n",
    "    tprs_off.append(mean_tprs)\n",
    "    ##\n",
    "    auc_off[idx_neuron] = auc(base_fpr, mean_tprs)\n",
    "    \n",
    "    \n",
    "    ##\n",
    "    ########################################### ON ############################################\n",
    "    ##\n",
    "    \n",
    "    \n",
    "    ## each column is a neuron\n",
    "    nx_rates = Rates_x[:,Neuron]\n",
    "    nx_positions = Positions\n",
    "    ## get the ones according to the Iext you want\n",
    "    nx_rates=nx_rates[IExts==Iext_on]\n",
    "    nx_positions=nx_positions[IExts==Iext_on]\n",
    "    dfx = pd.DataFrame({'position':nx_positions, 'rate':nx_rates, 'Neuron':Neuron})\n",
    "    dfx['RF_center'] = RF_center\n",
    "    ####\n",
    "    ####\n",
    "    ####\n",
    "    in_out_rf = []\n",
    "    for p in range(len(dfx)):\n",
    "        dist_ = circ_dist(RF_center, dfx.position.iloc[p])\n",
    "        if dist_>lim_RF:\n",
    "            in_out_rf.append(5) #outside RF\n",
    "        else:\n",
    "            in_out_rf.append(1) #inside RF\n",
    "    #####\n",
    "    dfx['in_out_rf']=in_out_rf\n",
    "    ###\n",
    "    ## appropiate shape for the classifier\n",
    "    y = label_binarize(dfx['in_out_rf'].values, classes=[5,1]) #matrix (1,0,0,...,0)\n",
    "    y=y.ravel()\n",
    "    ######\n",
    "    if len(np.unique(y))==1:\n",
    "        mean_tprs = np.empty(np.shape(base_fpr))*np.nan\n",
    "    else:\n",
    "        fpr, tpr, _ = roc_curve(y, dfx['rate'].values) #HERE: compute ROC with raw firing rate\n",
    "        tpr = np.interp(base_fpr, fpr, tpr)\n",
    "        tpr[0] = 0.0\n",
    "        mean_tprs = tpr\n",
    "    tprs_on.append(mean_tprs)\n",
    "    ##\n",
    "    auc_on[idx_neuron] = auc(base_fpr, mean_tprs)\n",
    "    "
   ]
  },
  {
   "cell_type": "code",
   "execution_count": 40,
   "metadata": {},
   "outputs": [
    {
     "data": {
      "image/png": "[encoded data removed]",
      "text/plain": [
       "<Figure size 432x288 with 1 Axes>"
      ]
     },
     "metadata": {
      "needs_background": "light"
     },
     "output_type": "display_data"
    },
    {
     "data": {
      "image/png": "[encoded data removed]",
      "text/plain": [
       "<Figure size 432x288 with 1 Axes>"
      ]
     },
     "metadata": {
      "needs_background": "light"
     },
     "output_type": "display_data"
    }
   ],
   "source": [
    "plt.plot(auc_off, auc_on, '.')\n",
    "plt.plot([0,1],[0,1],'k--')\n",
    "plt.xlabel('AUC$_{OFF}$')\n",
    "plt.ylabel('AUC$_{ON}$')\n",
    "plt.axis('scaled');\n",
    "plt.show()\n",
    "\n",
    "ind = np.isnan(auc_on)\n",
    "scipy.stats.ttest_rel(auc_off[~ind], auc_on[~ind])\n",
    "\n",
    "tprs_off = np.array(tprs_off)\n",
    "tprs_on = np.array(tprs_on)\n",
    "mean_tprs_off = np.nanmean(tprs_off, axis=0)\n",
    "mean_tprs_on = np.nanmean(tprs_on, axis=0)\n",
    "std_off = np.nanstd(tprs_off, axis=0)\n",
    "std_on = np.nanstd(tprs_on, axis=0)\n",
    "\n",
    "tprs_upper_off = np.minimum(mean_tprs_off + std_off, 1)\n",
    "tprs_lower_off = mean_tprs_off - std_off\n",
    "tprs_upper_on = np.minimum(mean_tprs_on + std_on, 1)\n",
    "tprs_lower_on = mean_tprs_on - std_on\n",
    "\n",
    "\n",
    "\n",
    "ax=plt.figure()\n",
    "plt.plot(base_fpr, mean_tprs_off, color=pal_cyan[0], lw=2, label='ROC OFF (AUC = {0:0.2f})'''.format(np.mean(auc_off[~ind])))\n",
    "plt.plot(base_fpr, mean_tprs_on, color=pal_cyan[-1], lw=2, label='ROC ON (AUC = {0:0.2f})'''.format(np.mean(auc_on[~ind])))\n",
    "plt.plot([0, 1], [0, 1], color='k', lw=2, linestyle='--')\n",
    "plt.xlim([0., 1])\n",
    "plt.xticks([0, 0.5, 1])\n",
    "plt.ylim([0, 1.])\n",
    "plt.yticks([0.5, 1])\n",
    "plt.xlabel('False Positive Rate')\n",
    "plt.ylabel('True Positive Rate')\n",
    "plt.title('')\n",
    "plt.legend(loc=\"lower right\", fontsize=10, frameon=False)\n",
    "plt.gca().spines['right'].set_visible(False)  # aesthetics                                                                              # remove right spines\n",
    "plt.gca().spines['top'].set_visible(False)                                                                                  # remove top spines\n",
    "plt.gca().get_xaxis().tick_bottom()                                                                                         \n",
    "plt.gca().get_yaxis().tick_left()\n",
    "plt.gca().tick_params(direction='in') #direction\n",
    "plt.legend(fontsize=14, frameon=False)\n",
    "plt.show()\n"
   ]
  },
  {
   "cell_type": "code",
   "execution_count": null,
   "metadata": {},
   "outputs": [],
   "source": []
  },
  {
   "cell_type": "code",
   "execution_count": null,
   "metadata": {},
   "outputs": [],
   "source": []
  },
  {
   "cell_type": "code",
   "execution_count": null,
   "metadata": {},
   "outputs": [],
   "source": []
  },
  {
   "cell_type": "markdown",
   "metadata": {},
   "source": [
    "# Simulations 0-0.25,0.25,0.75,1,1.25\n",
    "Mirar si en medio el behaviour mejora\n",
    "Problema: behaviour not nice. Más error en ON que en OFF (absolut y drift)"
   ]
  },
  {
   "cell_type": "code",
   "execution_count": 42,
   "metadata": {},
   "outputs": [],
   "source": [
    "path_ =  'C:\\\\Users\\\\David\\\\Desktop\\\\IDIBAPS\\\\brian_simulations\\\\r5'\n",
    "all_= os.listdir(path_)"
   ]
  },
  {
   "cell_type": "code",
   "execution_count": 43,
   "metadata": {},
   "outputs": [],
   "source": [
    "N0 = 20000\n",
    "time_s =7000 #(ms)\n",
    "N=0.8*N0 #(el 80% son excitadoras)\n",
    "rounding = 2 ##round the timing\n",
    "w=100 #(ms)"
   ]
  },
  {
   "cell_type": "code",
   "execution_count": 44,
   "metadata": {},
   "outputs": [
    {
     "data": {
      "text/plain": [
       "1000"
      ]
     },
     "execution_count": 44,
     "metadata": {},
     "output_type": "execute_result"
    }
   ],
   "source": [
    "len(all_)"
   ]
  },
  {
   "cell_type": "code",
   "execution_count": null,
   "metadata": {},
   "outputs": [],
   "source": [
    "pos_stim=[]\n",
    "Iexts = []\n",
    "firings_wind = []\n",
    "\n",
    "for sim_ in np.arange(250,500,1): ##simulations used (all or a fraction e.j. np.arange(0,500,100)) )\n",
    "    #\n",
    "    print(sim_)\n",
    "    simx = io.loadmat(path_ + '\\\\' + all_[sim_])\n",
    "    ####\n",
    "    #### save position and I0E of each simulation\n",
    "    ####\n",
    "    pos_stim.append(360*simx['pos_stim'][0][0])\n",
    "    Iexts.append(simx['IEext'][0][0])\n",
    "    ##\n",
    "    spikes = simx['spktm']\n",
    "    \n",
    "    Matrix_spikes=np.zeros([int(0.8*N0), time_s])\n",
    "\n",
    "    neurons_ = np.array([int(spikes[0][x]) for x in range(len(spikes[0]))])\n",
    "\n",
    "    times_ = np.array([spikes[1][x] for x in range(len(spikes[1]))])\n",
    "    times_ = times_ - min(times_)\n",
    "    times_ = np.array([int(times_[x]*1000) for x in range(len(times_))])\n",
    "\n",
    "    # dimensions = neurons, time_s\n",
    "    for t, n in zip(times_, neurons_ ):\n",
    "        Matrix_spikes[n,t]=1\n",
    "    ##\n",
    "    ####\n",
    "    #### STEP 2: calculate firing of each neuron in windows of 100ms (10)\n",
    "    ####\n",
    "    t1s = np.arange(0, time_s ,w)\n",
    "    t2s = np.arange(w, time_s+w, w)\n",
    "    ##\n",
    "    fr_time = []\n",
    "    for N in range(np.shape(Matrix_spikes)[0]):\n",
    "        neuron_fr = []\n",
    "        for i in range(len(t1s)):\n",
    "            neuron_fr.append(Matrix_spikes[N, t1s[i]:t2s[i]].sum()/ float(1000/w) ) \n",
    "        #\n",
    "        fr_time.append(neuron_fr)\n",
    "    ###\n",
    "    fr_time=np.array(fr_time)\n",
    "    ####\n",
    "    #### STEP 3: save the new matrix, this time with the dimension (neuron, time) ##time dimension is 700/w = 70\n",
    "    ####\n",
    "    firings_wind.append(fr_time)\n",
    "    \n",
    "    \n",
    "##\n",
    "IExts = np.array(Iexts) \n",
    "Positions=np.array(pos_stim)\n",
    "firings_wind = np.array(firings_wind)"
   ]
  },
  {
   "cell_type": "code",
   "execution_count": null,
   "metadata": {},
   "outputs": [],
   "source": [
    "np.save('C:\\\\Users\\\\David\\\\Desktop\\\\IDIBAPS\\\\brian_simulations\\\\firing_winds_100_regime1_05', firings_wind)\n",
    "#firing_wind = np.load('C:\\\\Users\\\\David\\\\Desktop\\\\IDIBAPS\\\\brian_simulations\\\\firing_winds_100_regime1')"
   ]
  },
  {
   "cell_type": "code",
   "execution_count": null,
   "metadata": {},
   "outputs": [],
   "source": [
    "firings_wind1 = np.load('C:\\\\Users\\\\David\\\\Desktop\\\\IDIBAPS\\\\brian_simulations\\\\firing_winds_100_regime1_05')\n",
    "firings_wind2 = np.load('C:\\\\Users\\\\David\\\\Desktop\\\\IDIBAPS\\\\brian_simulations\\\\firing_winds_100_regime1')"
   ]
  },
  {
   "cell_type": "code",
   "execution_count": null,
   "metadata": {},
   "outputs": [],
   "source": []
  },
  {
   "cell_type": "code",
   "execution_count": null,
   "metadata": {},
   "outputs": [],
   "source": [
    "firings_wind1 = np.load('C:\\\\Users\\\\David\\\\Desktop\\\\IDIBAPS\\\\brian_simulations\\\\firing_winds_100_regime1_05')\n",
    "firings_wind2 = np.load('C:\\\\Users\\\\David\\\\Desktop\\\\IDIBAPS\\\\brian_simulations\\\\firing_winds_100_regime1')\n",
    "firings_wind\n",
    "\n",
    "Positions"
   ]
  },
  {
   "cell_type": "code",
   "execution_count": null,
   "metadata": {},
   "outputs": [],
   "source": [
    "#Behaviour\n",
    "############################################################################################################\n",
    "\n",
    "Errors_to_target = []\n",
    "target_positions=[]\n",
    "decoded_responses=[]\n",
    "\n",
    "for i in range(0, np.shape(firings_wind)[0]): ##in each simulation\n",
    "    simx_ = firings_wind[i]\n",
    "    ## target position by mean decoded position during poresentation period\n",
    "    target_position_ = []\n",
    "    for s_pr in range(20,30):\n",
    "        firings_wind_stim=simx_[:,s_pr]\n",
    "        decoded_position = decode_rE(firings_wind_stim, N=16000)\n",
    "        target_position_.append(decoded_position)\n",
    "\n",
    "    target_position = np.array(target_position_).mean()\n",
    "    target_positions.append(target_position)\n",
    "    ## response as decoded position at the end of the delay period\n",
    "    firings_wind_resp=simx_[:,-1]\n",
    "    decoded_response = decode_rE(firings_wind_resp, N=16000)\n",
    "    decoded_responses.append(decoded_response)\n",
    "    ## Calculate error\n",
    "    Error_target = err_deg(decoded_response, target_position)\n",
    "    Errors_to_target.append(Error_target)\n",
    "\n",
    "    \n",
    "##\n",
    "abs_Errors_to_target = abs(np.array(Errors_to_target))\n",
    "##\n",
    "df = pd.DataFrame({'Error':Errors_to_target, 'abs_error':abs_Errors_to_target, 'IExt':IExts, 'response':decoded_responses,\n",
    "                   'positions':Positions, 'target':target_positions })\n",
    "df['stimulation'] = df['IExt'].replace([0, 0.5], ['OFF', 'ON'])\n",
    "\n",
    "\n",
    "############################################################################################################\n",
    "\n",
    "plt.figure()\n",
    "sns.barplot(x='stimulation', y='abs_error', data=df, order=['OFF', 'ON'], palette=palette_)\n",
    "plt.gca().spines['right'].set_visible(False)  # aesthetics                                                                              # remove right spines\n",
    "plt.gca().spines['top'].set_visible(False)                                                                                  # remove top spines\n",
    "plt.gca().get_xaxis().tick_bottom()                                                                                         \n",
    "plt.gca().get_yaxis().tick_left()\n",
    "plt.gca().tick_params(direction='in') #direction\n",
    "plt.ylabel('absolute error');\n",
    "#plt.ylim(0,30);\n",
    "##\n",
    "plt.show()\n",
    "\n",
    "\n",
    "############################################################################################################\n",
    "\n",
    "sns.distplot(df.loc[df['stimulation']=='OFF', 'Error'].values, color=palette_[0], bins=12, label='OFF')\n",
    "sns.distplot(df.loc[df['stimulation']=='ON', 'Error'].values, color=palette_[1], bins=40, label='ON')\n",
    "plt.gca().spines['right'].set_visible(False)  # aesthetics                                                                              # remove right spines\n",
    "plt.gca().spines['top'].set_visible(False)                                                                                  # remove top spines\n",
    "plt.gca().get_xaxis().tick_bottom()                                                                                         \n",
    "plt.gca().get_yaxis().tick_left()\n",
    "plt.gca().tick_params(direction='in') #direction\n",
    "plt.legend(frameon=False);\n",
    "plt.show()\n",
    "\n",
    "\n",
    "############################################################################################################\n",
    "\n",
    "##\n",
    "drift = []\n",
    "for i in range(len(df)):\n",
    "    resp_ = df.response.iloc[i]\n",
    "    pos_ = df.positions.iloc[i]\n",
    "    iex_ = df.IExt.iloc[i]\n",
    "    mean_resp = df.loc[(df['IExt']==iex_) & (df['positions']==pos_), 'response'].mean()\n",
    "    Error_drift = err_deg(resp_, mean_resp)\n",
    "    drift.append(Error_drift)\n",
    "    \n",
    "##\n",
    "df['drift'] = drift\n",
    "df['abs_drift'] = abs(np.array(drift))\n",
    "\n",
    "\n",
    "plt.figure()\n",
    "sns.barplot(x='stimulation', y='abs_drift', data=df, order=['OFF', 'ON'], palette=palette_)\n",
    "plt.gca().spines['right'].set_visible(False)  # aesthetics                                                                              # remove right spines\n",
    "plt.gca().spines['top'].set_visible(False)                                                                                  # remove top spines\n",
    "plt.gca().get_xaxis().tick_bottom()                                                                                         \n",
    "plt.gca().get_yaxis().tick_left()\n",
    "plt.gca().tick_params(direction='in') #direction\n",
    "plt.ylabel('absolute drift');\n",
    "#plt.ylim(0,30);\n",
    "plt.show()"
   ]
  },
  {
   "cell_type": "code",
   "execution_count": null,
   "metadata": {},
   "outputs": [],
   "source": [
    "### Tuning curve\n",
    "Rates_x = firings_wind[:,:, 45]\n",
    "\n",
    "lables_=['OFF', 'ON']\n",
    "frames=[]\n",
    "\n",
    "for p in np.arange(0,16000,10): ##16000\n",
    "    for idx_I0E, I0E in enumerate([0, 0.5]):\n",
    "        ########################################### OFF ############################################\n",
    "        ## each column is a neuron\n",
    "        nx_rates = Rates_x[:, p] #rate during the delay period\n",
    "        nx_positions = Positions\n",
    "        ## get the ones according to the Iext you want\n",
    "        nx_rates=nx_rates[IExts==I0E]\n",
    "        nx_positions=nx_positions[IExts==I0E]\n",
    "        ##normalize firing\n",
    "        ##### alignment\n",
    "        to_roll = np.where(nx_rates == max(nx_rates))[0][0] \n",
    "        rolled_rates = np.roll(nx_rates, -to_roll + int(len(nx_positions)/2) ) ### 63 is the m\n",
    "        ###\n",
    "        #dfx = pd.DataFrame({'position':nx_positions, 'rate':nx_rates, 'Neuron':Neuron, 'I0E':I0E})\n",
    "        dfx = pd.DataFrame({'position':nx_positions, 'rate':rolled_rates, 'stimulation':lables_[idx_I0E]})\n",
    "        frames.append(dfx)\n",
    "\n",
    "###\n",
    "### plot\n",
    "dff2 = pd.concat(frames)\n",
    "#dff.head()\n",
    "\n",
    "ax=plt.figure()\n",
    "sns.lineplot('position', 'rate', hue='stimulation', data=dff2, palette=[pal_cyan.as_hex()[0], pal_cyan.as_hex()[-1]])\n",
    "plt.gca().spines['right'].set_visible(False)  # aesthetics                                                                              # remove right spines\n",
    "plt.gca().spines['top'].set_visible(False)                                                                                  # remove top spines\n",
    "plt.gca().get_xaxis().tick_bottom()                                                                                         \n",
    "plt.gca().get_yaxis().tick_left()\n",
    "plt.gca().tick_params(direction='in') #direction\n",
    "plt.legend(fontsize=15, frameon=False)\n",
    "plt.xlim(0,360)\n",
    "plt.xticks([0,90,180,270,360]);"
   ]
  },
  {
   "cell_type": "code",
   "execution_count": null,
   "metadata": {},
   "outputs": [],
   "source": [
    "#ROC analysis\n",
    "Neurons_  = np.arange(0,16000,100)\n",
    "Rates_x = firings_wind[:,:, 50]\n",
    "\n",
    "\n",
    "Iext_off = 0\n",
    "Iext_on = 0.5\n",
    "lim_RF = 5 ##limit to consider a position is inside the RF of the neuron\n",
    "base_fpr = np.linspace(0, 1, 101)\n",
    "\n",
    "\n",
    "number_neurons=len(Neurons_)\n",
    "\n",
    "auc_off = np.zeros(number_neurons)\n",
    "auc_on = np.zeros(number_neurons)\n",
    "\n",
    "tprs_on = []\n",
    "tprs_off = []\n",
    "\n",
    "\n",
    "errors=[]\n",
    "\n",
    "for idx_neuron, Neuron in enumerate(Neurons_):\n",
    "    ###\n",
    "    ## each column is a neuron\n",
    "    nx_rates = Rates_x[:,Neuron]\n",
    "    nx_positions = Positions\n",
    "   \n",
    "    ##\n",
    "    ########################################### OFF ############################################\n",
    "    ##\n",
    "    \n",
    "    ## get the ones according to the Iext you want\n",
    "    nx_rates=nx_rates[IExts==Iext_off]\n",
    "    nx_positions=nx_positions[IExts==Iext_off]\n",
    "    \n",
    "    ### \n",
    "    x = np.radians(nx_positions)-np.pi\n",
    "    y = nx_rates\n",
    "    popt,pcov = curve_fit(von_misses,x,y)\n",
    "    y_fit = von_misses(x,*popt)\n",
    "    peaks, _ = find_peaks(y_fit)\n",
    "    if len(peaks)==0:\n",
    "        errors.append(idx_neuron)\n",
    "        index_max_rate = np.where(nx_rates==nx_rates.max())[0][0]\n",
    "        RF_center = nx_rates[index_max_rate]\n",
    "    else:\n",
    "        peaks_y = [y_fit[peaks[x]] for x in range(len(peaks))]\n",
    "        max_peak_x = peaks[np.where(peaks_y==max(peaks_y))[0][0]]\n",
    "        RF_center = nx_positions[max_peak_x]\n",
    "    \n",
    "    dfx = pd.DataFrame({'position':nx_positions, 'rate':nx_rates, 'Neuron':Neuron})\n",
    "    dfx['RF_center'] = RF_center\n",
    "    ####\n",
    "    ####\n",
    "    ####\n",
    "    in_out_rf = []\n",
    "    for p in range(len(dfx)):\n",
    "        dist_ = circ_dist(RF_center, dfx.position.iloc[p])\n",
    "        if dist_>lim_RF:\n",
    "            in_out_rf.append(5) #outside RF\n",
    "        else:\n",
    "            in_out_rf.append(1) #inside RF\n",
    "    #####\n",
    "    dfx['in_out_rf']=in_out_rf\n",
    "    ###\n",
    "    ## appropiate shape for the classifier\n",
    "    y = label_binarize(dfx['in_out_rf'].values, classes=[5,1]) #matrix (1,0,0,...,0)\n",
    "    y=y.ravel()\n",
    "    ######\n",
    "    if len(np.unique(y))==1:\n",
    "        mean_tprs = np.empty(np.shape(base_fpr))*np.nan\n",
    "    else:\n",
    "        fpr, tpr, _ = roc_curve(y, dfx['rate'].values) #HERE: compute ROC with raw firing rate\n",
    "        tpr = np.interp(base_fpr, fpr, tpr)\n",
    "        tpr[0] = 0.0\n",
    "        mean_tprs = tpr\n",
    "    tprs_off.append(mean_tprs)\n",
    "    ##\n",
    "    auc_off[idx_neuron] = auc(base_fpr, mean_tprs)\n",
    "    \n",
    "    \n",
    "    ##\n",
    "    ########################################### ON ############################################\n",
    "    ##\n",
    "    \n",
    "    \n",
    "    ## each column is a neuron\n",
    "    nx_rates = Rates_x[:,Neuron]\n",
    "    nx_positions = Positions\n",
    "    ## get the ones according to the Iext you want\n",
    "    nx_rates=nx_rates[IExts==Iext_on]\n",
    "    nx_positions=nx_positions[IExts==Iext_on]\n",
    "    dfx = pd.DataFrame({'position':nx_positions, 'rate':nx_rates, 'Neuron':Neuron})\n",
    "    dfx['RF_center'] = RF_center\n",
    "    ####\n",
    "    ####\n",
    "    ####\n",
    "    in_out_rf = []\n",
    "    for p in range(len(dfx)):\n",
    "        dist_ = circ_dist(RF_center, dfx.position.iloc[p])\n",
    "        if dist_>lim_RF:\n",
    "            in_out_rf.append(5) #outside RF\n",
    "        else:\n",
    "            in_out_rf.append(1) #inside RF\n",
    "    #####\n",
    "    dfx['in_out_rf']=in_out_rf\n",
    "    ###\n",
    "    ## appropiate shape for the classifier\n",
    "    y = label_binarize(dfx['in_out_rf'].values, classes=[5,1]) #matrix (1,0,0,...,0)\n",
    "    y=y.ravel()\n",
    "    ######\n",
    "    if len(np.unique(y))==1:\n",
    "        mean_tprs = np.empty(np.shape(base_fpr))*np.nan\n",
    "    else:\n",
    "        fpr, tpr, _ = roc_curve(y, dfx['rate'].values) #HERE: compute ROC with raw firing rate\n",
    "        tpr = np.interp(base_fpr, fpr, tpr)\n",
    "        tpr[0] = 0.0\n",
    "        mean_tprs = tpr\n",
    "    tprs_on.append(mean_tprs)\n",
    "    ##\n",
    "    auc_on[idx_neuron] = auc(base_fpr, mean_tprs)\n",
    "    "
   ]
  },
  {
   "cell_type": "code",
   "execution_count": null,
   "metadata": {},
   "outputs": [],
   "source": [
    "plt.plot(auc_off, auc_on, '.')\n",
    "plt.plot([0,1],[0,1],'k--')\n",
    "plt.xlabel('AUC$_{OFF}$')\n",
    "plt.ylabel('AUC$_{ON}$')\n",
    "plt.axis('scaled');\n",
    "plt.show()\n",
    "\n",
    "ind = np.isnan(auc_on)\n",
    "scipy.stats.ttest_rel(auc_off[~ind], auc_on[~ind])\n",
    "\n",
    "tprs_off = np.array(tprs_off)\n",
    "tprs_on = np.array(tprs_on)\n",
    "mean_tprs_off = np.nanmean(tprs_off, axis=0)\n",
    "mean_tprs_on = np.nanmean(tprs_on, axis=0)\n",
    "std_off = np.nanstd(tprs_off, axis=0)\n",
    "std_on = np.nanstd(tprs_on, axis=0)\n",
    "\n",
    "tprs_upper_off = np.minimum(mean_tprs_off + std_off, 1)\n",
    "tprs_lower_off = mean_tprs_off - std_off\n",
    "tprs_upper_on = np.minimum(mean_tprs_on + std_on, 1)\n",
    "tprs_lower_on = mean_tprs_on - std_on\n",
    "\n",
    "\n",
    "\n",
    "ax=plt.figure()\n",
    "plt.plot(base_fpr, mean_tprs_off, color=pal_cyan[0], lw=2, label='ROC OFF (AUC = {0:0.2f})'''.format(np.mean(auc_off[~ind])))\n",
    "plt.plot(base_fpr, mean_tprs_on, color=pal_cyan[-1], lw=2, label='ROC ON (AUC = {0:0.2f})'''.format(np.mean(auc_on[~ind])))\n",
    "plt.plot([0, 1], [0, 1], color='k', lw=2, linestyle='--')\n",
    "plt.xlim([0., 1])\n",
    "plt.xticks([0, 0.5, 1])\n",
    "plt.ylim([0, 1.])\n",
    "plt.yticks([0.5, 1])\n",
    "plt.xlabel('False Positive Rate')\n",
    "plt.ylabel('True Positive Rate')\n",
    "plt.title('')\n",
    "plt.legend(loc=\"lower right\", fontsize=10, frameon=False)\n",
    "plt.gca().spines['right'].set_visible(False)  # aesthetics                                                                              # remove right spines\n",
    "plt.gca().spines['top'].set_visible(False)                                                                                  # remove top spines\n",
    "plt.gca().get_xaxis().tick_bottom()                                                                                         \n",
    "plt.gca().get_yaxis().tick_left()\n",
    "plt.gca().tick_params(direction='in') #direction\n",
    "plt.legend(fontsize=14, frameon=False)\n",
    "plt.show()\n"
   ]
  },
  {
   "cell_type": "code",
   "execution_count": null,
   "metadata": {},
   "outputs": [],
   "source": []
  },
  {
   "cell_type": "code",
   "execution_count": null,
   "metadata": {},
   "outputs": [],
   "source": []
  },
  {
   "cell_type": "code",
   "execution_count": null,
   "metadata": {},
   "outputs": [],
   "source": []
  },
  {
   "cell_type": "code",
   "execution_count": null,
   "metadata": {},
   "outputs": [],
   "source": []
  },
  {
   "cell_type": "code",
   "execution_count": null,
   "metadata": {},
   "outputs": [],
   "source": []
  },
  {
   "cell_type": "code",
   "execution_count": null,
   "metadata": {},
   "outputs": [],
   "source": []
  },
  {
   "cell_type": "code",
   "execution_count": null,
   "metadata": {},
   "outputs": [],
   "source": []
  },
  {
   "cell_type": "code",
   "execution_count": 7,
   "metadata": {},
   "outputs": [
    {
     "data": {
      "text/plain": [
       "(500, 16000)"
      ]
     },
     "execution_count": 7,
     "metadata": {},
     "output_type": "execute_result"
    }
   ],
   "source": [
    "firings_wind_final=firings_wind[:,:,-1]\n",
    "np.shape(firings_wind_final)"
   ]
  },
  {
   "cell_type": "code",
   "execution_count": 8,
   "metadata": {},
   "outputs": [
    {
     "data": {
      "text/plain": [
       "(500,)"
      ]
     },
     "execution_count": 8,
     "metadata": {},
     "output_type": "execute_result"
    }
   ],
   "source": [
    "np.shape(Positions)"
   ]
  },
  {
   "cell_type": "code",
   "execution_count": 12,
   "metadata": {},
   "outputs": [],
   "source": [
    "Errors = []\n",
    "decoded_pos = [] \n",
    "\n",
    "for i in range(len(Positions)):\n",
    "    simx_ = firings_wind_final[i]\n",
    "    target_ = Positions[i]\n",
    "    #\n",
    "    decoded_position = decode_rE(simx_, N=16000)\n",
    "    Error = err_deg(decoded_position, target_)\n",
    "    Errors.append(Error)\n",
    "    decoded_pos.append(decoded_position)\n"
   ]
  },
  {
   "cell_type": "code",
   "execution_count": 13,
   "metadata": {},
   "outputs": [],
   "source": [
    "abs_err = abs(np.array(Errors))"
   ]
  },
  {
   "cell_type": "code",
   "execution_count": 14,
   "metadata": {},
   "outputs": [
    {
     "data": {
      "text/html": [
       "<div>\n",
       "<style scoped>\n",
       "    .dataframe tbody tr th:only-of-type {\n",
       "        vertical-align: middle;\n",
       "    }\n",
       "\n",
       "    .dataframe tbody tr th {\n",
       "        vertical-align: top;\n",
       "    }\n",
       "\n",
       "    .dataframe thead th {\n",
       "        text-align: right;\n",
       "    }\n",
       "</style>\n",
       "<table border=\"1\" class=\"dataframe\">\n",
       "  <thead>\n",
       "    <tr style=\"text-align: right;\">\n",
       "      <th></th>\n",
       "      <th>Error</th>\n",
       "      <th>IExt</th>\n",
       "      <th>Positions</th>\n",
       "      <th>abs_error</th>\n",
       "      <th>decoded_pos</th>\n",
       "      <th>stimulation</th>\n",
       "    </tr>\n",
       "  </thead>\n",
       "  <tbody>\n",
       "    <tr>\n",
       "      <th>0</th>\n",
       "      <td>-44.13</td>\n",
       "      <td>0.0</td>\n",
       "      <td>0.0</td>\n",
       "      <td>44.13</td>\n",
       "      <td>44.133791</td>\n",
       "      <td>OFF</td>\n",
       "    </tr>\n",
       "    <tr>\n",
       "      <th>1</th>\n",
       "      <td>-42.59</td>\n",
       "      <td>0.0</td>\n",
       "      <td>0.0</td>\n",
       "      <td>42.59</td>\n",
       "      <td>42.593935</td>\n",
       "      <td>OFF</td>\n",
       "    </tr>\n",
       "    <tr>\n",
       "      <th>2</th>\n",
       "      <td>-41.79</td>\n",
       "      <td>0.0</td>\n",
       "      <td>0.0</td>\n",
       "      <td>41.79</td>\n",
       "      <td>41.793754</td>\n",
       "      <td>OFF</td>\n",
       "    </tr>\n",
       "    <tr>\n",
       "      <th>3</th>\n",
       "      <td>-43.43</td>\n",
       "      <td>0.0</td>\n",
       "      <td>0.0</td>\n",
       "      <td>43.43</td>\n",
       "      <td>43.433621</td>\n",
       "      <td>OFF</td>\n",
       "    </tr>\n",
       "    <tr>\n",
       "      <th>4</th>\n",
       "      <td>-42.33</td>\n",
       "      <td>0.0</td>\n",
       "      <td>0.0</td>\n",
       "      <td>42.33</td>\n",
       "      <td>42.330353</td>\n",
       "      <td>OFF</td>\n",
       "    </tr>\n",
       "  </tbody>\n",
       "</table>\n",
       "</div>"
      ],
      "text/plain": [
       "   Error  IExt  Positions  abs_error  decoded_pos stimulation\n",
       "0 -44.13   0.0        0.0      44.13    44.133791         OFF\n",
       "1 -42.59   0.0        0.0      42.59    42.593935         OFF\n",
       "2 -41.79   0.0        0.0      41.79    41.793754         OFF\n",
       "3 -43.43   0.0        0.0      43.43    43.433621         OFF\n",
       "4 -42.33   0.0        0.0      42.33    42.330353         OFF"
      ]
     },
     "execution_count": 14,
     "metadata": {},
     "output_type": "execute_result"
    }
   ],
   "source": [
    "df = pd.DataFrame({'Error':Errors, 'abs_error':abs_err, 'IExt':IExts, 'Positions':Positions, 'decoded_pos':decoded_pos })\n",
    "df['stimulation'] = df['IExt'].replace([0,1.25], ['OFF', 'ON'])\n",
    "df.head()"
   ]
  },
  {
   "cell_type": "code",
   "execution_count": 17,
   "metadata": {},
   "outputs": [
    {
     "name": "stderr",
     "output_type": "stream",
     "text": [
      "C:\\Users\\David\\Anaconda3\\envs\\python3\\lib\\site-packages\\ipykernel_launcher.py:13: SettingWithCopyWarning: \n",
      "A value is trying to be set on a copy of a slice from a DataFrame.\n",
      "Try using .loc[row_indexer,col_indexer] = value instead\n",
      "\n",
      "See the caveats in the documentation: http://pandas.pydata.org/pandas-docs/stable/user_guide/indexing.html#returning-a-view-versus-a-copy\n",
      "  del sys.path[0]\n",
      "C:\\Users\\David\\Anaconda3\\envs\\python3\\lib\\site-packages\\ipykernel_launcher.py:14: SettingWithCopyWarning: \n",
      "A value is trying to be set on a copy of a slice from a DataFrame.\n",
      "Try using .loc[row_indexer,col_indexer] = value instead\n",
      "\n",
      "See the caveats in the documentation: http://pandas.pydata.org/pandas-docs/stable/user_guide/indexing.html#returning-a-view-versus-a-copy\n",
      "  \n"
     ]
    }
   ],
   "source": [
    "df_off = df.loc[df['stimulation']=='OFF']\n",
    "\n",
    "corrected_error = []\n",
    "\n",
    "for i in range(len(df_off)):\n",
    "    pos = df_off.iloc[i].Positions\n",
    "    sist_pos = df_off.loc[df_off['Positions']==pos, 'decoded_pos'].mean()\n",
    "    Dec_pos = df_off.iloc[i].decoded_pos\n",
    "    corr_err = err_deg(Dec_pos, sist_pos) \n",
    "    corrected_error.append( corr_err)\n",
    "    \n",
    "\n",
    "df_off['corrected_error'] = corrected_error\n",
    "df_off['abs_corrected_error'] = abs(np.array(corrected_error))\n",
    "\n"
   ]
  },
  {
   "cell_type": "code",
   "execution_count": 18,
   "metadata": {},
   "outputs": [
    {
     "name": "stderr",
     "output_type": "stream",
     "text": [
      "C:\\Users\\David\\Anaconda3\\envs\\python3\\lib\\site-packages\\ipykernel_launcher.py:13: SettingWithCopyWarning: \n",
      "A value is trying to be set on a copy of a slice from a DataFrame.\n",
      "Try using .loc[row_indexer,col_indexer] = value instead\n",
      "\n",
      "See the caveats in the documentation: http://pandas.pydata.org/pandas-docs/stable/user_guide/indexing.html#returning-a-view-versus-a-copy\n",
      "  del sys.path[0]\n",
      "C:\\Users\\David\\Anaconda3\\envs\\python3\\lib\\site-packages\\ipykernel_launcher.py:14: SettingWithCopyWarning: \n",
      "A value is trying to be set on a copy of a slice from a DataFrame.\n",
      "Try using .loc[row_indexer,col_indexer] = value instead\n",
      "\n",
      "See the caveats in the documentation: http://pandas.pydata.org/pandas-docs/stable/user_guide/indexing.html#returning-a-view-versus-a-copy\n",
      "  \n"
     ]
    }
   ],
   "source": [
    "df_on = df.loc[df['stimulation']=='ON']\n",
    "\n",
    "corrected_error = []\n",
    "\n",
    "for i in range(len(df_on)):\n",
    "    pos = df_on.iloc[i].Positions\n",
    "    sist_pos = df_on.loc[df_on['Positions']==pos, 'decoded_pos'].mean()\n",
    "    Dec_pos = df_on.iloc[i].decoded_pos\n",
    "    corr_err = err_deg(Dec_pos, sist_pos) \n",
    "    corrected_error.append( corr_err)\n",
    "    \n",
    "\n",
    "df_on['corrected_error'] = corrected_error\n",
    "df_on['abs_corrected_error'] = abs(np.array(corrected_error))"
   ]
  },
  {
   "cell_type": "code",
   "execution_count": 19,
   "metadata": {},
   "outputs": [],
   "source": [
    "pal_= sns.color_palette(\"cividis\", n_colors=6) #RdBu_r\n",
    "palette_ = [pal_.as_hex()[0], pal_.as_hex()[-1]]"
   ]
  },
  {
   "cell_type": "code",
   "execution_count": 21,
   "metadata": {},
   "outputs": [
    {
     "name": "stderr",
     "output_type": "stream",
     "text": [
      "C:\\Users\\David\\Anaconda3\\envs\\python3\\lib\\site-packages\\scipy\\stats\\stats.py:1713: FutureWarning: Using a non-tuple sequence for multidimensional indexing is deprecated; use `arr[tuple(seq)]` instead of `arr[seq]`. In the future this will be interpreted as an array index, `arr[np.array(seq)]`, which will result either in an error or a different result.\n",
      "  return np.add.reduce(sorted[indexer] * weights, axis=axis) / sumval\n"
     ]
    },
    {
     "data": {
      "image/png": "[encoded data removed]",
      "text/plain": [
       "<Figure size 432x288 with 1 Axes>"
      ]
     },
     "metadata": {
      "needs_background": "light"
     },
     "output_type": "display_data"
    }
   ],
   "source": [
    "df_ = pd.concat([df_off, df_on])\n",
    "\n",
    "sns.barplot(x='stimulation', y='abs_corrected_error', data=df_, order=['OFF', 'ON'], palette=palette_)\n",
    "plt.gca().spines['right'].set_visible(False)  # aesthetics                                                                              # remove right spines\n",
    "plt.gca().spines['top'].set_visible(False)                                                                                  # remove top spines\n",
    "plt.gca().get_xaxis().tick_bottom()                                                                                         \n",
    "plt.gca().get_yaxis().tick_left()\n",
    "plt.gca().tick_params(direction='in') #direction\n",
    "plt.ylabel('absolute error')\n",
    "plt.ylim(0,5);"
   ]
  },
  {
   "cell_type": "code",
   "execution_count": null,
   "metadata": {},
   "outputs": [],
   "source": []
  },
  {
   "cell_type": "code",
   "execution_count": null,
   "metadata": {},
   "outputs": [],
   "source": []
  },
  {
   "cell_type": "code",
   "execution_count": null,
   "metadata": {},
   "outputs": [],
   "source": []
  },
  {
   "cell_type": "code",
   "execution_count": 59,
   "metadata": {},
   "outputs": [],
   "source": [
    "pal_= sns.color_palette(\"cividis\", n_colors=6) #RdBu_r\n",
    "palette_ = [pal_.as_hex()[0], pal_.as_hex()[-1]]"
   ]
  },
  {
   "cell_type": "code",
   "execution_count": 63,
   "metadata": {},
   "outputs": [
    {
     "name": "stderr",
     "output_type": "stream",
     "text": [
      "C:\\Users\\David\\Anaconda3\\envs\\python3\\lib\\site-packages\\scipy\\stats\\stats.py:1713: FutureWarning: Using a non-tuple sequence for multidimensional indexing is deprecated; use `arr[tuple(seq)]` instead of `arr[seq]`. In the future this will be interpreted as an array index, `arr[np.array(seq)]`, which will result either in an error or a different result.\n",
      "  return np.add.reduce(sorted[indexer] * weights, axis=axis) / sumval\n"
     ]
    },
    {
     "data": {
      "image/png": "[encoded data removed]",
      "text/plain": [
       "<Figure size 432x288 with 1 Axes>"
      ]
     },
     "metadata": {
      "needs_background": "light"
     },
     "output_type": "display_data"
    }
   ],
   "source": [
    "sns.barplot(x='stimulation', y='abs_error', data=df, order=['OFF', 'ON'], palette=palette_)\n",
    "plt.gca().spines['right'].set_visible(False)  # aesthetics                                                                              # remove right spines\n",
    "plt.gca().spines['top'].set_visible(False)                                                                                  # remove top spines\n",
    "plt.gca().get_xaxis().tick_bottom()                                                                                         \n",
    "plt.gca().get_yaxis().tick_left()\n",
    "plt.gca().tick_params(direction='in') #direction\n",
    "plt.ylabel('absolute error')\n",
    "plt.ylim(0,60);\n",
    "##"
   ]
  },
  {
   "cell_type": "code",
   "execution_count": 76,
   "metadata": {},
   "outputs": [
    {
     "name": "stderr",
     "output_type": "stream",
     "text": [
      "C:\\Users\\David\\Anaconda3\\envs\\python3\\lib\\site-packages\\scipy\\stats\\stats.py:1713: FutureWarning: Using a non-tuple sequence for multidimensional indexing is deprecated; use `arr[tuple(seq)]` instead of `arr[seq]`. In the future this will be interpreted as an array index, `arr[np.array(seq)]`, which will result either in an error or a different result.\n",
      "  return np.add.reduce(sorted[indexer] * weights, axis=axis) / sumval\n"
     ]
    },
    {
     "data": {
      "image/png": "[encoded data removed]",
      "text/plain": [
       "<Figure size 432x288 with 1 Axes>"
      ]
     },
     "metadata": {
      "needs_background": "light"
     },
     "output_type": "display_data"
    }
   ],
   "source": [
    "sns.distplot(df.loc[df['stimulation']=='OFF', 'Error'].values, color=palette_[0], bins=12, label='OFF')\n",
    "sns.distplot(df.loc[df['stimulation']=='ON', 'Error'].values, color=palette_[1], bins=40, label='ON')\n",
    "plt.gca().spines['right'].set_visible(False)  # aesthetics                                                                              # remove right spines\n",
    "plt.gca().spines['top'].set_visible(False)                                                                                  # remove top spines\n",
    "plt.gca().get_xaxis().tick_bottom()                                                                                         \n",
    "plt.gca().get_yaxis().tick_left()\n",
    "plt.gca().tick_params(direction='in') #direction\n",
    "plt.legend(frameon=False);\n",
    "##"
   ]
  },
  {
   "cell_type": "code",
   "execution_count": null,
   "metadata": {},
   "outputs": [],
   "source": [
    "## no funciona, va al revés de lo que debería. El bump en la condición OFF es bastante sólido y todo lo \"extra\" lo debilita"
   ]
  },
  {
   "cell_type": "code",
   "execution_count": null,
   "metadata": {},
   "outputs": [],
   "source": []
  },
  {
   "cell_type": "code",
   "execution_count": null,
   "metadata": {},
   "outputs": [],
   "source": []
  },
  {
   "cell_type": "code",
   "execution_count": null,
   "metadata": {},
   "outputs": [],
   "source": [
    "###funciona con valores no tan extremos (no 1.25, que tal con 0.5)??? \n",
    "### en este caso tendre que coger el firing de todo el delay ya que no tengo el AUC con time (de momento)\n",
    "### el AUC con time a diferentes tiempos se está corriendo en simulations_Hansel4_6.py"
   ]
  },
  {
   "cell_type": "code",
   "execution_count": 77,
   "metadata": {},
   "outputs": [],
   "source": [
    "path_ = 'C:\\\\Users\\\\David\\\\Desktop\\\\IDIBAPS\\\\brian_simulations\\\\r2'\n",
    "all_= os.listdir(path_)\n",
    "\n",
    "path_2 = 'C:\\\\Users\\\\David\\\\Desktop\\\\IDIBAPS\\\\brian_simulations\\\\r3'\n",
    "all_2= os.listdir(path_2)\n"
   ]
  },
  {
   "cell_type": "code",
   "execution_count": 78,
   "metadata": {},
   "outputs": [],
   "source": [
    "rates_=[]\n",
    "pos_stim = []\n",
    "Iexts=[]\n",
    "\n",
    "for sim_ in range(len(all_)): #len(all_)\n",
    "    simx = io.loadmat(path_ + '\\\\' + all_[sim_])\n",
    "    rates_.append(simx['ratedelay'][0])\n",
    "    pos_stim.append(360*simx['pos_stim'][0][0])\n",
    "    Iexts.append(simx['IEext'][0][0])\n",
    "\n",
    "###\n",
    "for sim_ in range(len(all_2)): #len(all_)\n",
    "    simx = io.loadmat(path_2 + '\\\\' + all_2[sim_])\n",
    "    rates_.append(simx['ratedelay'][0])\n",
    "    pos_stim.append(360*simx['pos_stim'][0][0])\n",
    "    Iexts.append(simx['IEext'][0][0])\n",
    "\n",
    "\n",
    "Rates = np.array(rates_)\n",
    "IExts = np.array(Iexts) \n",
    "Positions=np.array(pos_stim)"
   ]
  },
  {
   "cell_type": "code",
   "execution_count": 79,
   "metadata": {},
   "outputs": [
    {
     "data": {
      "text/plain": [
       "(1750, 16000)"
      ]
     },
     "execution_count": 79,
     "metadata": {},
     "output_type": "execute_result"
    }
   ],
   "source": [
    "np.shape(Rates)"
   ]
  },
  {
   "cell_type": "code",
   "execution_count": 80,
   "metadata": {},
   "outputs": [
    {
     "data": {
      "text/plain": [
       "(1750,)"
      ]
     },
     "execution_count": 80,
     "metadata": {},
     "output_type": "execute_result"
    }
   ],
   "source": [
    "np.shape(pos_stim)"
   ]
  },
  {
   "cell_type": "code",
   "execution_count": 82,
   "metadata": {},
   "outputs": [
    {
     "data": {
      "text/plain": [
       "(1750,)"
      ]
     },
     "execution_count": 82,
     "metadata": {},
     "output_type": "execute_result"
    }
   ],
   "source": [
    "np.shape(Iexts)"
   ]
  },
  {
   "cell_type": "code",
   "execution_count": 85,
   "metadata": {},
   "outputs": [],
   "source": [
    "Errors = []\n",
    "for i in range(len(Positions)):\n",
    "    simx_ = Rates[i]\n",
    "    target_ = Positions[i]\n",
    "    #\n",
    "    decoded_position = decode_rE(simx_, N=16000)\n",
    "    Error = err_deg(decoded_position, target_)\n",
    "    Errors.append(Error)"
   ]
  },
  {
   "cell_type": "code",
   "execution_count": 86,
   "metadata": {},
   "outputs": [],
   "source": [
    "abs_err = abs(np.array(Errors))"
   ]
  },
  {
   "cell_type": "code",
   "execution_count": 91,
   "metadata": {},
   "outputs": [
    {
     "data": {
      "text/html": [
       "<div>\n",
       "<style scoped>\n",
       "    .dataframe tbody tr th:only-of-type {\n",
       "        vertical-align: middle;\n",
       "    }\n",
       "\n",
       "    .dataframe tbody tr th {\n",
       "        vertical-align: top;\n",
       "    }\n",
       "\n",
       "    .dataframe thead th {\n",
       "        text-align: right;\n",
       "    }\n",
       "</style>\n",
       "<table border=\"1\" class=\"dataframe\">\n",
       "  <thead>\n",
       "    <tr style=\"text-align: right;\">\n",
       "      <th></th>\n",
       "      <th>Error</th>\n",
       "      <th>IExt</th>\n",
       "      <th>abs_error</th>\n",
       "    </tr>\n",
       "  </thead>\n",
       "  <tbody>\n",
       "    <tr>\n",
       "      <th>0</th>\n",
       "      <td>-42.08</td>\n",
       "      <td>0.0</td>\n",
       "      <td>42.08</td>\n",
       "    </tr>\n",
       "    <tr>\n",
       "      <th>1</th>\n",
       "      <td>-42.65</td>\n",
       "      <td>0.0</td>\n",
       "      <td>42.65</td>\n",
       "    </tr>\n",
       "    <tr>\n",
       "      <th>2</th>\n",
       "      <td>-42.21</td>\n",
       "      <td>0.0</td>\n",
       "      <td>42.21</td>\n",
       "    </tr>\n",
       "    <tr>\n",
       "      <th>3</th>\n",
       "      <td>-41.65</td>\n",
       "      <td>0.0</td>\n",
       "      <td>41.65</td>\n",
       "    </tr>\n",
       "    <tr>\n",
       "      <th>4</th>\n",
       "      <td>-41.92</td>\n",
       "      <td>0.0</td>\n",
       "      <td>41.92</td>\n",
       "    </tr>\n",
       "  </tbody>\n",
       "</table>\n",
       "</div>"
      ],
      "text/plain": [
       "   Error  IExt  abs_error\n",
       "0 -42.08   0.0      42.08\n",
       "1 -42.65   0.0      42.65\n",
       "2 -42.21   0.0      42.21\n",
       "3 -41.65   0.0      41.65\n",
       "4 -41.92   0.0      41.92"
      ]
     },
     "execution_count": 91,
     "metadata": {},
     "output_type": "execute_result"
    }
   ],
   "source": [
    "df = pd.DataFrame({'Error':Errors, 'abs_error':abs_err, 'IExt':IExts })\n",
    "df.head()"
   ]
  },
  {
   "cell_type": "code",
   "execution_count": 94,
   "metadata": {},
   "outputs": [
    {
     "data": {
      "text/plain": [
       "array([0.  , 0.25, 0.5 , 0.75, 1.  , 1.25])"
      ]
     },
     "execution_count": 94,
     "metadata": {},
     "output_type": "execute_result"
    }
   ],
   "source": [
    "df.IExt.unique()"
   ]
  },
  {
   "cell_type": "code",
   "execution_count": 97,
   "metadata": {},
   "outputs": [
    {
     "name": "stderr",
     "output_type": "stream",
     "text": [
      "C:\\Users\\David\\Anaconda3\\envs\\python3\\lib\\site-packages\\scipy\\stats\\stats.py:1713: FutureWarning: Using a non-tuple sequence for multidimensional indexing is deprecated; use `arr[tuple(seq)]` instead of `arr[seq]`. In the future this will be interpreted as an array index, `arr[np.array(seq)]`, which will result either in an error or a different result.\n",
      "  return np.add.reduce(sorted[indexer] * weights, axis=axis) / sumval\n"
     ]
    },
    {
     "data": {
      "image/png": "[encoded data removed]",
      "text/plain": [
       "<Figure size 432x288 with 1 Axes>"
      ]
     },
     "metadata": {
      "needs_background": "light"
     },
     "output_type": "display_data"
    }
   ],
   "source": [
    "sns.barplot(x='IExt', y='abs_error', data=df, order=[0.  , 0.25, 0.5 , 0.75, 1.  , 1.25], palette=pal_)\n",
    "plt.gca().spines['right'].set_visible(False)  # aesthetics                                                                              # remove right spines\n",
    "plt.gca().spines['top'].set_visible(False)                                                                                  # remove top spines\n",
    "plt.gca().get_xaxis().tick_bottom()                                                                                         \n",
    "plt.gca().get_yaxis().tick_left()\n",
    "plt.gca().tick_params(direction='in') #direction\n",
    "plt.ylabel('absolute error')\n",
    "plt.ylim(0,20);"
   ]
  },
  {
   "cell_type": "code",
   "execution_count": null,
   "metadata": {},
   "outputs": [],
   "source": [
    "### tampoco funciona"
   ]
  },
  {
   "cell_type": "code",
   "execution_count": null,
   "metadata": {},
   "outputs": [],
   "source": []
  },
  {
   "cell_type": "code",
   "execution_count": null,
   "metadata": {},
   "outputs": [],
   "source": []
  },
  {
   "cell_type": "code",
   "execution_count": null,
   "metadata": {},
   "outputs": [],
   "source": []
  },
  {
   "cell_type": "code",
   "execution_count": null,
   "metadata": {},
   "outputs": [],
   "source": []
  },
  {
   "cell_type": "code",
   "execution_count": null,
   "metadata": {},
   "outputs": [],
   "source": [
    "### BUSCAR REGIME EN Hansel para que el off esté a punto de extinguirse (¿barajar GEE o algo así??)"
   ]
  },
  {
   "cell_type": "code",
   "execution_count": 4,
   "metadata": {},
   "outputs": [],
   "source": [
    "path_ =  'C:\\\\Users\\\\David\\\\Desktop\\\\IDIBAPS\\\\brian_simulations\\\\r7'\n",
    "all_= os.listdir(path_)"
   ]
  },
  {
   "cell_type": "code",
   "execution_count": 28,
   "metadata": {},
   "outputs": [],
   "source": [
    "N0 = 20000\n",
    "time_s =7000 #(ms)\n",
    "N=0.8*N0 #(el 80% son excitadoras)\n",
    "rounding = 2 ##round the timing\n",
    "w=100 #(ms)"
   ]
  },
  {
   "cell_type": "code",
   "execution_count": 29,
   "metadata": {},
   "outputs": [
    {
     "data": {
      "text/plain": [
       "250"
      ]
     },
     "execution_count": 29,
     "metadata": {},
     "output_type": "execute_result"
    }
   ],
   "source": [
    "len(all_)"
   ]
  },
  {
   "cell_type": "code",
   "execution_count": 30,
   "metadata": {
    "scrolled": true
   },
   "outputs": [
    {
     "name": "stdout",
     "output_type": "stream",
     "text": [
      "0\n",
      "1\n",
      "2\n",
      "3\n",
      "4\n",
      "5\n",
      "6\n",
      "7\n",
      "8\n",
      "9\n",
      "10\n",
      "11\n",
      "12\n",
      "13\n",
      "14\n",
      "15\n",
      "16\n",
      "17\n",
      "18\n",
      "19\n",
      "20\n",
      "21\n",
      "22\n",
      "23\n",
      "24\n",
      "25\n",
      "26\n",
      "27\n",
      "28\n",
      "29\n",
      "30\n",
      "31\n",
      "32\n",
      "33\n",
      "34\n",
      "35\n",
      "36\n",
      "37\n",
      "38\n",
      "39\n",
      "40\n",
      "41\n",
      "42\n",
      "43\n",
      "44\n",
      "45\n",
      "46\n",
      "47\n",
      "48\n",
      "49\n",
      "50\n",
      "51\n",
      "52\n",
      "53\n",
      "54\n",
      "55\n",
      "56\n",
      "57\n",
      "58\n",
      "59\n",
      "60\n",
      "61\n",
      "62\n",
      "63\n",
      "64\n",
      "65\n",
      "66\n",
      "67\n",
      "68\n",
      "69\n",
      "70\n",
      "71\n",
      "72\n",
      "73\n",
      "74\n",
      "75\n",
      "76\n",
      "77\n",
      "78\n",
      "79\n",
      "80\n",
      "81\n",
      "82\n",
      "83\n",
      "84\n",
      "85\n",
      "86\n",
      "87\n",
      "88\n",
      "89\n",
      "90\n",
      "91\n",
      "92\n",
      "93\n",
      "94\n",
      "95\n",
      "96\n",
      "97\n",
      "98\n",
      "99\n",
      "100\n",
      "101\n",
      "102\n",
      "103\n",
      "104\n",
      "105\n",
      "106\n",
      "107\n",
      "108\n",
      "109\n",
      "110\n",
      "111\n",
      "112\n",
      "113\n",
      "114\n",
      "115\n",
      "116\n",
      "117\n",
      "118\n",
      "119\n",
      "120\n",
      "121\n",
      "122\n",
      "123\n",
      "124\n",
      "125\n",
      "126\n",
      "127\n",
      "128\n",
      "129\n",
      "130\n",
      "131\n",
      "132\n",
      "133\n",
      "134\n",
      "135\n",
      "136\n",
      "137\n",
      "138\n",
      "139\n",
      "140\n",
      "141\n",
      "142\n",
      "143\n",
      "144\n",
      "145\n",
      "146\n",
      "147\n",
      "148\n",
      "149\n",
      "150\n",
      "151\n",
      "152\n",
      "153\n",
      "154\n",
      "155\n",
      "156\n",
      "157\n",
      "158\n",
      "159\n",
      "160\n",
      "161\n",
      "162\n",
      "163\n",
      "164\n",
      "165\n",
      "166\n",
      "167\n",
      "168\n",
      "169\n",
      "170\n",
      "171\n",
      "172\n",
      "173\n",
      "174\n",
      "175\n",
      "176\n",
      "177\n",
      "178\n",
      "179\n",
      "180\n",
      "181\n",
      "182\n",
      "183\n",
      "184\n",
      "185\n",
      "186\n",
      "187\n",
      "188\n",
      "189\n",
      "190\n",
      "191\n",
      "192\n",
      "193\n",
      "194\n",
      "195\n",
      "196\n",
      "197\n",
      "198\n",
      "199\n",
      "200\n",
      "201\n",
      "202\n",
      "203\n",
      "204\n",
      "205\n",
      "206\n",
      "207\n",
      "208\n",
      "209\n",
      "210\n",
      "211\n",
      "212\n",
      "213\n",
      "214\n",
      "215\n",
      "216\n",
      "217\n",
      "218\n",
      "219\n",
      "220\n",
      "221\n",
      "222\n",
      "223\n",
      "224\n",
      "225\n",
      "226\n",
      "227\n",
      "228\n",
      "229\n",
      "230\n",
      "231\n",
      "232\n",
      "233\n",
      "234\n",
      "235\n",
      "236\n",
      "237\n",
      "238\n",
      "239\n",
      "240\n",
      "241\n",
      "242\n",
      "243\n",
      "244\n",
      "245\n",
      "246\n",
      "247\n",
      "248\n",
      "249\n"
     ]
    }
   ],
   "source": [
    "################# NEEEEEEW #############################\n",
    "pos_stim=[]\n",
    "Iexts = []\n",
    "firings_wind = []\n",
    "\n",
    "for sim_ in np.arange(0,250,1): ##simulations used (all or a fraction e.j. np.arange(0,500,100)) )\n",
    "    #\n",
    "    print(sim_)\n",
    "    simx = io.loadmat(path_ + '\\\\' + all_[sim_])\n",
    "    ####\n",
    "    #### save position and I0E of each simulation\n",
    "    ####\n",
    "    pos_stim.append(360*simx['pos_stim'][0][0])\n",
    "    Iexts.append(simx['IEext'][0][0])\n",
    "\n",
    "    spikes = simx['spktm']\n",
    "    \n",
    "    Matrix_spikes=np.zeros([int(0.8*N0), time_s])\n",
    "\n",
    "    neurons_ = np.array([int(spikes[0][x]) for x in range(len(spikes[0]))])\n",
    "\n",
    "    times_ = np.array([spikes[1][x] for x in range(len(spikes[1]))])\n",
    "    times_ = times_ - min(times_)\n",
    "    times_ = np.array([int(times_[x]*1000) for x in range(len(times_))])\n",
    "\n",
    "    # dimensions = neurons, time_s\n",
    "    for t, n in zip(times_, neurons_ ):\n",
    "        Matrix_spikes[n,t]=1\n",
    "    ##\n",
    "    ####\n",
    "    #### STEP 2: calculate firing of each neuron in windows of 100ms (10)\n",
    "    ####\n",
    "    t1s = np.arange(0, time_s ,w)\n",
    "    t2s = np.arange(w, time_s+w, w)\n",
    "    ##\n",
    "    fr_time = []\n",
    "    for N in range(np.shape(Matrix_spikes)[0]):\n",
    "        neuron_fr = []\n",
    "        for i in range(len(t1s)):\n",
    "            neuron_fr.append(Matrix_spikes[N, t1s[i]:t2s[i]].sum()/ float(1000/w) ) \n",
    "        #\n",
    "        fr_time.append(neuron_fr)\n",
    "    ###\n",
    "    fr_time=np.array(fr_time)\n",
    "    ####\n",
    "    #### STEP 3: save the new matrix, this time with the dimension (neuron, time) ##time dimension is 700/w = 70\n",
    "    ####\n",
    "    firings_wind.append(fr_time)\n",
    "    \n",
    "    \n",
    "##\n",
    "IExts = np.array(Iexts) \n",
    "Positions=np.array(pos_stim)\n",
    "firings_wind = np.array(firings_wind)\n"
   ]
  },
  {
   "cell_type": "code",
   "execution_count": 31,
   "metadata": {},
   "outputs": [
    {
     "data": {
      "text/plain": [
       "(250, 16000)"
      ]
     },
     "execution_count": 31,
     "metadata": {},
     "output_type": "execute_result"
    }
   ],
   "source": [
    "firings_wind_final=firings_wind[:,:,-1]\n",
    "np.shape(firings_wind_final)"
   ]
  },
  {
   "cell_type": "code",
   "execution_count": 32,
   "metadata": {},
   "outputs": [],
   "source": [
    "Errors = []\n",
    "for i in range(len(Positions)):\n",
    "    simx_ = firings_wind_final[i]\n",
    "    target_ = Positions[i]\n",
    "    #\n",
    "    decoded_position = decode_rE(simx_, N=16000)\n",
    "    Error = err_deg(decoded_position, target_)\n",
    "    Errors.append(Error)\n"
   ]
  },
  {
   "cell_type": "code",
   "execution_count": 33,
   "metadata": {},
   "outputs": [],
   "source": [
    "abs_err = abs(np.array(Errors))"
   ]
  },
  {
   "cell_type": "code",
   "execution_count": 34,
   "metadata": {},
   "outputs": [
    {
     "data": {
      "text/html": [
       "<div>\n",
       "<style scoped>\n",
       "    .dataframe tbody tr th:only-of-type {\n",
       "        vertical-align: middle;\n",
       "    }\n",
       "\n",
       "    .dataframe tbody tr th {\n",
       "        vertical-align: top;\n",
       "    }\n",
       "\n",
       "    .dataframe thead th {\n",
       "        text-align: right;\n",
       "    }\n",
       "</style>\n",
       "<table border=\"1\" class=\"dataframe\">\n",
       "  <thead>\n",
       "    <tr style=\"text-align: right;\">\n",
       "      <th></th>\n",
       "      <th>Error</th>\n",
       "      <th>IExt</th>\n",
       "      <th>abs_error</th>\n",
       "      <th>stimulation</th>\n",
       "    </tr>\n",
       "  </thead>\n",
       "  <tbody>\n",
       "    <tr>\n",
       "      <th>0</th>\n",
       "      <td>26.46</td>\n",
       "      <td>0.0</td>\n",
       "      <td>26.46</td>\n",
       "      <td>OFF</td>\n",
       "    </tr>\n",
       "    <tr>\n",
       "      <th>1</th>\n",
       "      <td>24.32</td>\n",
       "      <td>0.0</td>\n",
       "      <td>24.32</td>\n",
       "      <td>OFF</td>\n",
       "    </tr>\n",
       "    <tr>\n",
       "      <th>2</th>\n",
       "      <td>41.30</td>\n",
       "      <td>0.0</td>\n",
       "      <td>41.30</td>\n",
       "      <td>OFF</td>\n",
       "    </tr>\n",
       "    <tr>\n",
       "      <th>3</th>\n",
       "      <td>40.79</td>\n",
       "      <td>0.0</td>\n",
       "      <td>40.79</td>\n",
       "      <td>OFF</td>\n",
       "    </tr>\n",
       "    <tr>\n",
       "      <th>4</th>\n",
       "      <td>78.63</td>\n",
       "      <td>0.0</td>\n",
       "      <td>78.63</td>\n",
       "      <td>OFF</td>\n",
       "    </tr>\n",
       "  </tbody>\n",
       "</table>\n",
       "</div>"
      ],
      "text/plain": [
       "   Error  IExt  abs_error stimulation\n",
       "0  26.46   0.0      26.46         OFF\n",
       "1  24.32   0.0      24.32         OFF\n",
       "2  41.30   0.0      41.30         OFF\n",
       "3  40.79   0.0      40.79         OFF\n",
       "4  78.63   0.0      78.63         OFF"
      ]
     },
     "execution_count": 34,
     "metadata": {},
     "output_type": "execute_result"
    }
   ],
   "source": [
    "df = pd.DataFrame({'Error':Errors, 'abs_error':abs_err, 'IExt':IExts })\n",
    "df['stimulation'] = df['IExt'].replace([0,0.5], ['OFF', 'ON'])\n",
    "df.head()"
   ]
  },
  {
   "cell_type": "code",
   "execution_count": 35,
   "metadata": {},
   "outputs": [],
   "source": [
    "pal_= sns.color_palette(\"cividis\", n_colors=6) #RdBu_r\n",
    "palette_ = [pal_.as_hex()[0], pal_.as_hex()[-1]]"
   ]
  },
  {
   "cell_type": "code",
   "execution_count": 40,
   "metadata": {},
   "outputs": [
    {
     "name": "stderr",
     "output_type": "stream",
     "text": [
      "C:\\Users\\David\\Anaconda3\\envs\\python3\\lib\\site-packages\\scipy\\stats\\stats.py:1713: FutureWarning: Using a non-tuple sequence for multidimensional indexing is deprecated; use `arr[tuple(seq)]` instead of `arr[seq]`. In the future this will be interpreted as an array index, `arr[np.array(seq)]`, which will result either in an error or a different result.\n",
      "  return np.add.reduce(sorted[indexer] * weights, axis=axis) / sumval\n"
     ]
    },
    {
     "data": {
      "image/png": "[encoded data removed]",
      "text/plain": [
       "<Figure size 432x288 with 1 Axes>"
      ]
     },
     "metadata": {},
     "output_type": "display_data"
    }
   ],
   "source": [
    "##windows de 100\n",
    "sns.barplot(x='stimulation', y='abs_error', data=df, order=['OFF', 'ON'], palette=palette_)\n",
    "plt.gca().spines['right'].set_visible(False)  # aesthetics                                                                              # remove right spines\n",
    "plt.gca().spines['top'].set_visible(False)                                                                                  # remove top spines\n",
    "plt.gca().get_xaxis().tick_bottom()                                                                                         \n",
    "plt.gca().get_yaxis().tick_left()\n",
    "plt.gca().tick_params(direction='in') #direction\n",
    "plt.ylabel('absolute error')\n",
    "plt.ylim(0,30);\n",
    "##"
   ]
  },
  {
   "cell_type": "code",
   "execution_count": 44,
   "metadata": {},
   "outputs": [
    {
     "name": "stderr",
     "output_type": "stream",
     "text": [
      "C:\\Users\\David\\Anaconda3\\envs\\python3\\lib\\site-packages\\scipy\\stats\\stats.py:1713: FutureWarning: Using a non-tuple sequence for multidimensional indexing is deprecated; use `arr[tuple(seq)]` instead of `arr[seq]`. In the future this will be interpreted as an array index, `arr[np.array(seq)]`, which will result either in an error or a different result.\n",
      "  return np.add.reduce(sorted[indexer] * weights, axis=axis) / sumval\n"
     ]
    },
    {
     "data": {
      "image/png": "[encoded data removed]",
      "text/plain": [
       "<Figure size 432x288 with 1 Axes>"
      ]
     },
     "metadata": {},
     "output_type": "display_data"
    }
   ],
   "source": [
    "sns.distplot(df.loc[df['stimulation']=='OFF', 'Error'].values, color=palette_[0], bins=30, label='OFF')\n",
    "sns.distplot(df.loc[df['stimulation']=='ON', 'Error'].values, color=palette_[1], bins=20, label='ON')\n",
    "plt.gca().spines['right'].set_visible(False)  # aesthetics                                                                              # remove right spines\n",
    "plt.gca().spines['top'].set_visible(False)                                                                                  # remove top spines\n",
    "plt.gca().get_xaxis().tick_bottom()                                                                                         \n",
    "plt.gca().get_yaxis().tick_left()\n",
    "plt.gca().tick_params(direction='in') #direction\n",
    "plt.legend(frameon=False);\n",
    "##"
   ]
  },
  {
   "cell_type": "code",
   "execution_count": null,
   "metadata": {},
   "outputs": [],
   "source": []
  },
  {
   "cell_type": "code",
   "execution_count": null,
   "metadata": {},
   "outputs": [],
   "source": []
  },
  {
   "cell_type": "code",
   "execution_count": 27,
   "metadata": {},
   "outputs": [
    {
     "name": "stderr",
     "output_type": "stream",
     "text": [
      "C:\\Users\\David\\Anaconda3\\envs\\python3\\lib\\site-packages\\scipy\\stats\\stats.py:1713: FutureWarning: Using a non-tuple sequence for multidimensional indexing is deprecated; use `arr[tuple(seq)]` instead of `arr[seq]`. In the future this will be interpreted as an array index, `arr[np.array(seq)]`, which will result either in an error or a different result.\n",
      "  return np.add.reduce(sorted[indexer] * weights, axis=axis) / sumval\n"
     ]
    },
    {
     "data": {
      "text/plain": [
       "Text(0,0.5,'absolute error')"
      ]
     },
     "execution_count": 27,
     "metadata": {},
     "output_type": "execute_result"
    },
    {
     "data": {
      "image/png": "[encoded data removed]",
      "text/plain": [
       "<Figure size 432x288 with 1 Axes>"
      ]
     },
     "metadata": {
      "needs_background": "light"
     },
     "output_type": "display_data"
    }
   ],
   "source": [
    "##windows de 500\n",
    "sns.barplot(x='stimulation', y='abs_error', data=df, order=['OFF', 'ON'], palette=palette_)\n",
    "plt.gca().spines['right'].set_visible(False)  # aesthetics                                                                              # remove right spines\n",
    "plt.gca().spines['top'].set_visible(False)                                                                                  # remove top spines\n",
    "plt.gca().get_xaxis().tick_bottom()                                                                                         \n",
    "plt.gca().get_yaxis().tick_left()\n",
    "plt.gca().tick_params(direction='in') #direction\n",
    "plt.ylabel('absolute error')\n",
    "#plt.ylim(0,60);\n",
    "##"
   ]
  },
  {
   "cell_type": "code",
   "execution_count": 16,
   "metadata": {},
   "outputs": [
    {
     "name": "stderr",
     "output_type": "stream",
     "text": [
      "C:\\Users\\David\\Anaconda3\\envs\\python3\\lib\\site-packages\\scipy\\stats\\stats.py:1713: FutureWarning: Using a non-tuple sequence for multidimensional indexing is deprecated; use `arr[tuple(seq)]` instead of `arr[seq]`. In the future this will be interpreted as an array index, `arr[np.array(seq)]`, which will result either in an error or a different result.\n",
      "  return np.add.reduce(sorted[indexer] * weights, axis=axis) / sumval\n"
     ]
    },
    {
     "data": {
      "text/plain": [
       "Text(0,0.5,'absolute error')"
      ]
     },
     "execution_count": 16,
     "metadata": {},
     "output_type": "execute_result"
    },
    {
     "data": {
      "image/png": "[encoded data removed]",
      "text/plain": [
       "<Figure size 432x288 with 1 Axes>"
      ]
     },
     "metadata": {
      "needs_background": "light"
     },
     "output_type": "display_data"
    }
   ],
   "source": [
    "##windows de 1000\n",
    "sns.barplot(x='stimulation', y='abs_error', data=df, order=['OFF', 'ON'], palette=palette_)\n",
    "plt.gca().spines['right'].set_visible(False)  # aesthetics                                                                              # remove right spines\n",
    "plt.gca().spines['top'].set_visible(False)                                                                                  # remove top spines\n",
    "plt.gca().get_xaxis().tick_bottom()                                                                                         \n",
    "plt.gca().get_yaxis().tick_left()\n",
    "plt.gca().tick_params(direction='in') #direction\n",
    "plt.ylabel('absolute error')\n",
    "#plt.ylim(0,60);\n",
    "##"
   ]
  },
  {
   "cell_type": "code",
   "execution_count": null,
   "metadata": {},
   "outputs": [],
   "source": []
  },
  {
   "cell_type": "code",
   "execution_count": null,
   "metadata": {},
   "outputs": [],
   "source": []
  },
  {
   "cell_type": "code",
   "execution_count": null,
   "metadata": {},
   "outputs": [],
   "source": []
  },
  {
   "cell_type": "code",
   "execution_count": null,
   "metadata": {},
   "outputs": [],
   "source": []
  },
  {
   "cell_type": "code",
   "execution_count": 60,
   "metadata": {},
   "outputs": [],
   "source": [
    "def circ_dist(a1,a2):\n",
    "    ## Returns the minimal distance in angles between to angles \n",
    "    op1=abs(a2-a1)\n",
    "    angs=[a1,a2]\n",
    "    op2=min(angs)+(360-max(angs))\n",
    "    options=[op1,op2]\n",
    "    return min(options)"
   ]
  },
  {
   "cell_type": "code",
   "execution_count": 61,
   "metadata": {},
   "outputs": [],
   "source": [
    "IExts = np.array(Iexts) \n",
    "Positions=np.array(pos_stim)\n",
    "firings_wind = np.array(firings_wind)"
   ]
  },
  {
   "cell_type": "code",
   "execution_count": 62,
   "metadata": {},
   "outputs": [],
   "source": [
    "Neurons_  = np.arange(0,16000,10) ## np.arange(0,16000,1) \n",
    "Windows_ =np.arange(0,7000,w)  "
   ]
  },
  {
   "cell_type": "code",
   "execution_count": null,
   "metadata": {
    "scrolled": true
   },
   "outputs": [
    {
     "name": "stdout",
     "output_type": "stream",
     "text": [
      "0 0\n"
     ]
    }
   ],
   "source": [
    "Iext_ = [0, 0.5]\n",
    "\n",
    "\n",
    "lim_RF = 45/4 ##limit to consider a position is inside the RF of the neuron\n",
    "base_fpr = np.linspace(0, 1, 101)\n",
    "\n",
    "number_Iexs = len(Iext_)\n",
    "number_neurons=len(Neurons_)\n",
    "number_windows = len(Windows_)\n",
    "\n",
    "\n",
    "auc_ = np.zeros((number_Iexs, number_windows, number_neurons))\n",
    "#tprs_ =np.zeros((number_Iexs, number_windows))\n",
    "\n",
    "\n",
    "for idx_Iext, IEXT in enumerate(Iext_):\n",
    "    for idx_wind, wind in enumerate(Windows_):\n",
    "        print(IEXT, wind)\n",
    "        for idx_neuron, Neuron in enumerate(Neurons_):\n",
    "            ###\n",
    "            ### Get the positions of the appropiate Iext\n",
    "            nx_positions=Positions[IExts==IEXT]\n",
    "            ###\n",
    "            ### Get the simulations of the appropiate Iext\n",
    "            nx_rates_iex = firings_wind[IExts==IEXT]\n",
    "            ###\n",
    "            ### Get the firing of the neuron at a certain window in each simulation\n",
    "            nx_rates = np.array([nx_rates_iex[n][Neuron, idx_wind] for n in range(len(nx_rates_iex))])\n",
    "            ###\n",
    "            dfx = pd.DataFrame({'position':nx_positions, 'rate':nx_rates, 'Neuron':Neuron, 'wind':wind})\n",
    "            ###\n",
    "            ### RF center of each neuro\n",
    "            index_max_rate = np.where(dfx['rate']==dfx['rate'].max())[0][0]\n",
    "            RF_center = dfx['position'].iloc[index_max_rate]\n",
    "            dfx['RF_center'] = RF_center\n",
    "            in_out_rf = []\n",
    "            for p in range(len(dfx)):\n",
    "                dist_ = circ_dist(RF_center, dfx.position.iloc[p])\n",
    "                if dist_>lim_RF:\n",
    "                    in_out_rf.append(5) #outside RF\n",
    "                else:\n",
    "                    in_out_rf.append(1) #inside RF\n",
    "            #####\n",
    "            dfx['in_out_rf']=in_out_rf\n",
    "            ###\n",
    "            ## appropiate shape for the classifier\n",
    "            y = label_binarize(dfx['in_out_rf'].values, classes=[5,1]) #matrix (1,0,0,...,0)\n",
    "            y=y.ravel()\n",
    "            ######\n",
    "            if len(np.unique(y))==1:\n",
    "                mean_tprs = np.empty(np.shape(base_fpr))*np.nan\n",
    "            else:\n",
    "                fpr, tpr, _ = roc_curve(y, dfx['rate'].values) #HERE: compute ROC with raw firing rate\n",
    "                tpr = np.interp(base_fpr, fpr, tpr)\n",
    "                tpr[0] = 0.0\n",
    "                mean_tprs = tpr\n",
    "            \n",
    "            #tprs_[idx_Iext, idx_wind] = mean_tprs\n",
    "            ##\n",
    "            auc_[idx_Iext, idx_wind, idx_neuron] = auc(base_fpr, mean_tprs)\n",
    "            ##\n",
    "\n",
    "\n",
    "            "
   ]
  },
  {
   "cell_type": "code",
   "execution_count": null,
   "metadata": {},
   "outputs": [],
   "source": [
    "### Mean AUC of all neurons in each Iex and window\n",
    "\n",
    "Mean_auc = []\n",
    "exts=[]\n",
    "times_=[]\n",
    "\n",
    "for idx_Iext, IEXT in enumerate(Iext_):\n",
    "    for idx_wind, wind in enumerate(Windows_):\n",
    "        auc_wind = auc_[idx_Iext, idx_wind, :] \n",
    "        ind = np.isnan(auc_wind)\n",
    "        ##\n",
    "        Mean_auc.append(np.mean(auc_wind[~ind]) )\n",
    "        exts.append(IEXT)\n",
    "        times_.append(wind)\n",
    "        \n",
    "##\n",
    "\n",
    "df_mean_auc = pd.DataFrame({'AUC':Mean_auc, 'Iext':exts, 'time':times_})\n",
    "df_mean_auc[' '] = df_mean_auc['Iext'].replace([0, 0.5], ['OFF', 'ON'])"
   ]
  },
  {
   "cell_type": "code",
   "execution_count": null,
   "metadata": {},
   "outputs": [],
   "source": [
    "pal_= sns.color_palette(\"cividis\", n_colors=6) #RdBu_r\n",
    "sns.palplot(pal_)\n",
    "plt.show()\n",
    "palette_ = [pal_.as_hex()[0], pal_.as_hex()[-1]]"
   ]
  },
  {
   "cell_type": "code",
   "execution_count": null,
   "metadata": {},
   "outputs": [],
   "source": [
    "### 1600 neuronas\n",
    "ax=plt.figure()\n",
    "\n",
    "sns.lineplot(x='time', y='AUC', hue=' ', hue_order=['OFF', 'ON'], data=df_mean_auc, palette=palette_)\n",
    "#plt.xlim(10,700)\n",
    "#plt.xticks([100,250,400,550,700], fontsize=20)\n",
    "plt.ylim([0.5, 1.])\n",
    "plt.yticks([0.5, 0.75, 1], fontsize=20)\n",
    "plt.ylabel('AUC', fontsize=25)\n",
    "plt.xlabel('time (ms)', fontsize=25)\n",
    "plt.title('')\n",
    "plt.legend(loc=\"top right\", fontsize=20, frameon=False)\n",
    "plt.gca().spines['right'].set_visible(False)  # aesthetics                                                                              # remove right spines\n",
    "plt.gca().spines['top'].set_visible(False)                                                                                  # remove top spines\n",
    "plt.gca().get_xaxis().tick_bottom()                                                                                         \n",
    "plt.gca().get_yaxis().tick_left()\n",
    "plt.gca().tick_params(direction='in') #direction\n",
    "#plt.plot([200,200], [0.5, 0.95], 'k--', linewidth=1)\n",
    "#plt.plot([300,300], [0.5, 0.95], 'k--', linewidth=1)\n",
    "plt.fill_between([2000,3000], [0.95, 0.95], color='lightgrey')\n",
    "plt.show()"
   ]
  },
  {
   "cell_type": "code",
   "execution_count": null,
   "metadata": {},
   "outputs": [],
   "source": []
  },
  {
   "cell_type": "code",
   "execution_count": null,
   "metadata": {},
   "outputs": [],
   "source": []
  },
  {
   "cell_type": "code",
   "execution_count": 59,
   "metadata": {},
   "outputs": [
    {
     "name": "stderr",
     "output_type": "stream",
     "text": [
      "C:\\Users\\David\\Anaconda3\\envs\\python3\\lib\\site-packages\\matplotlib\\legend.py:641: UserWarning: Unrecognized location \"top right\". Falling back on \"best\"; valid locations are\n",
      "\tlower right\n",
      "\tupper center\n",
      "\tbest\n",
      "\tupper left\n",
      "\tlower center\n",
      "\tcenter right\n",
      "\tcenter left\n",
      "\tright\n",
      "\tlower left\n",
      "\tcenter\n",
      "\tupper right\n",
      "\n",
      "  % (loc, '\\n\\t'.join(self.codes)))\n"
     ]
    },
    {
     "data": {
      "image/png": "[encoded data removed]",
      "text/plain": [
       "<Figure size 432x288 with 1 Axes>"
      ]
     },
     "metadata": {},
     "output_type": "display_data"
    }
   ],
   "source": [
    "### 16 neuronas\n",
    "ax=plt.figure()\n",
    "\n",
    "sns.lineplot(x='time', y='AUC', hue=' ', hue_order=['OFF', 'ON'], data=df_mean_auc, palette=palette_)\n",
    "#plt.xlim(10,700)\n",
    "#plt.xticks([100,250,400,550,700], fontsize=20)\n",
    "plt.ylim([0.5, 1.])\n",
    "plt.yticks([0.5, 0.75, 1], fontsize=20)\n",
    "plt.ylabel('AUC', fontsize=25)\n",
    "plt.xlabel('time (ms)', fontsize=25)\n",
    "plt.title('')\n",
    "plt.legend(loc=\"top right\", fontsize=20, frameon=False)\n",
    "plt.gca().spines['right'].set_visible(False)  # aesthetics                                                                              # remove right spines\n",
    "plt.gca().spines['top'].set_visible(False)                                                                                  # remove top spines\n",
    "plt.gca().get_xaxis().tick_bottom()                                                                                         \n",
    "plt.gca().get_yaxis().tick_left()\n",
    "plt.gca().tick_params(direction='in') #direction\n",
    "#plt.plot([200,200], [0.5, 0.95], 'k--', linewidth=1)\n",
    "#plt.plot([300,300], [0.5, 0.95], 'k--', linewidth=1)\n",
    "plt.fill_between([2000,3000], [0.95, 0.95], color='lightgrey')\n",
    "plt.show()"
   ]
  },
  {
   "cell_type": "code",
   "execution_count": null,
   "metadata": {},
   "outputs": [],
   "source": []
  },
  {
   "cell_type": "markdown",
   "metadata": {},
   "source": [
    "# PERFORMANCE"
   ]
  },
  {
   "cell_type": "code",
   "execution_count": 4,
   "metadata": {},
   "outputs": [],
   "source": [
    "### BUSCAR OTRO REGIME EN Hansel para que el off esté  mas estable (490) (¿barajar GEE o algo así??)"
   ]
  },
  {
   "cell_type": "code",
   "execution_count": 34,
   "metadata": {},
   "outputs": [],
   "source": [
    "path_ =  'C:\\\\Users\\\\David\\\\Desktop\\\\IDIBAPS\\\\brian_simulations\\\\r8'\n",
    "all_= os.listdir(path_)"
   ]
  },
  {
   "cell_type": "code",
   "execution_count": 35,
   "metadata": {},
   "outputs": [
    {
     "data": {
      "text/plain": [
       "257"
      ]
     },
     "execution_count": 35,
     "metadata": {},
     "output_type": "execute_result"
    }
   ],
   "source": [
    "len(all_)"
   ]
  },
  {
   "cell_type": "code",
   "execution_count": 36,
   "metadata": {},
   "outputs": [],
   "source": [
    "N0 = 20000\n",
    "time_s =7000 #(ms)\n",
    "N=0.8*N0 #(el 80% son excitadoras)\n",
    "rounding = 2 ##round the timing\n",
    "w=500 #(ms)"
   ]
  },
  {
   "cell_type": "code",
   "execution_count": 37,
   "metadata": {},
   "outputs": [
    {
     "name": "stdout",
     "output_type": "stream",
     "text": [
      "0\n",
      "1\n",
      "2\n",
      "3\n",
      "4\n",
      "5\n",
      "6\n",
      "7\n",
      "8\n",
      "9\n",
      "10\n",
      "11\n",
      "12\n",
      "13\n",
      "14\n",
      "15\n",
      "16\n",
      "17\n",
      "18\n",
      "19\n",
      "20\n",
      "21\n",
      "22\n",
      "23\n",
      "24\n",
      "25\n",
      "26\n",
      "27\n",
      "28\n",
      "29\n",
      "30\n",
      "31\n",
      "32\n",
      "33\n",
      "34\n",
      "35\n",
      "36\n",
      "37\n",
      "38\n",
      "39\n",
      "40\n",
      "41\n",
      "42\n",
      "43\n",
      "44\n",
      "45\n",
      "46\n",
      "47\n",
      "48\n",
      "49\n",
      "50\n",
      "51\n",
      "52\n",
      "53\n",
      "54\n",
      "55\n",
      "56\n",
      "57\n",
      "58\n",
      "59\n",
      "60\n",
      "61\n",
      "62\n",
      "63\n",
      "64\n",
      "65\n",
      "66\n",
      "67\n",
      "68\n",
      "69\n",
      "70\n",
      "71\n",
      "72\n",
      "73\n",
      "74\n",
      "75\n",
      "76\n",
      "77\n",
      "78\n",
      "79\n",
      "80\n",
      "81\n",
      "82\n",
      "83\n",
      "84\n",
      "85\n",
      "86\n",
      "87\n",
      "88\n",
      "89\n",
      "90\n",
      "91\n",
      "92\n",
      "93\n",
      "94\n",
      "95\n",
      "96\n",
      "97\n",
      "98\n",
      "99\n",
      "100\n",
      "101\n",
      "102\n",
      "103\n",
      "104\n",
      "105\n",
      "106\n",
      "107\n",
      "108\n",
      "109\n",
      "110\n",
      "111\n",
      "112\n",
      "113\n",
      "114\n",
      "115\n",
      "116\n",
      "117\n",
      "118\n",
      "119\n",
      "120\n",
      "121\n",
      "122\n",
      "123\n",
      "124\n",
      "125\n",
      "126\n",
      "127\n",
      "128\n",
      "129\n",
      "130\n",
      "131\n",
      "132\n",
      "133\n",
      "134\n",
      "135\n",
      "136\n",
      "137\n",
      "138\n",
      "139\n",
      "140\n",
      "141\n",
      "142\n",
      "143\n",
      "144\n",
      "145\n",
      "146\n",
      "147\n",
      "148\n",
      "149\n",
      "150\n",
      "151\n",
      "152\n",
      "153\n",
      "154\n",
      "155\n",
      "156\n",
      "157\n",
      "158\n",
      "159\n",
      "160\n",
      "161\n",
      "162\n",
      "163\n",
      "164\n",
      "165\n",
      "166\n",
      "167\n",
      "168\n",
      "169\n",
      "170\n",
      "171\n",
      "172\n",
      "173\n",
      "174\n",
      "175\n",
      "176\n",
      "177\n",
      "178\n",
      "179\n",
      "180\n",
      "181\n",
      "182\n",
      "183\n",
      "184\n",
      "185\n",
      "186\n",
      "187\n",
      "188\n",
      "189\n",
      "190\n",
      "191\n",
      "192\n",
      "193\n",
      "194\n",
      "195\n",
      "196\n",
      "197\n",
      "198\n",
      "199\n",
      "200\n",
      "201\n",
      "202\n",
      "203\n",
      "204\n",
      "205\n",
      "206\n",
      "207\n",
      "208\n",
      "209\n",
      "210\n",
      "211\n",
      "212\n",
      "213\n",
      "214\n",
      "215\n",
      "216\n",
      "217\n",
      "218\n",
      "219\n",
      "220\n",
      "221\n",
      "222\n",
      "223\n",
      "224\n",
      "225\n",
      "226\n",
      "227\n",
      "228\n",
      "229\n",
      "230\n",
      "231\n",
      "232\n",
      "233\n",
      "234\n",
      "235\n",
      "236\n",
      "237\n",
      "238\n",
      "239\n",
      "240\n",
      "241\n",
      "242\n",
      "243\n",
      "244\n",
      "245\n",
      "246\n",
      "247\n",
      "248\n",
      "249\n",
      "250\n",
      "251\n",
      "252\n",
      "253\n",
      "254\n",
      "255\n",
      "256\n"
     ]
    }
   ],
   "source": [
    "################# NEEEEEEW #############################\n",
    "pos_stim=[]\n",
    "Iexts = []\n",
    "firings_wind = []\n",
    "\n",
    "for sim_ in np.arange(0,257,1): ##simulations used (all or a fraction e.j. np.arange(0,500,100)) )\n",
    "    #\n",
    "    print(sim_)\n",
    "    simx = io.loadmat(path_ + '\\\\' + all_[sim_])\n",
    "    ####\n",
    "    #### save position and I0E of each simulation\n",
    "    ####\n",
    "    pos_stim.append(360*simx['pos_stim'][0][0])\n",
    "    Iexts.append(simx['IEext'][0][0])\n",
    "\n",
    "    spikes = simx['spktm']\n",
    "    \n",
    "    Matrix_spikes=np.zeros([int(0.8*N0), time_s])\n",
    "\n",
    "    neurons_ = np.array([int(spikes[0][x]) for x in range(len(spikes[0]))])\n",
    "\n",
    "    times_ = np.array([spikes[1][x] for x in range(len(spikes[1]))])\n",
    "    times_ = times_ - min(times_)\n",
    "    times_ = np.array([int(times_[x]*1000) for x in range(len(times_))])\n",
    "\n",
    "    # dimensions = neurons, time_s\n",
    "    for t, n in zip(times_, neurons_ ):\n",
    "        Matrix_spikes[n,t]=1\n",
    "    ##\n",
    "    ####\n",
    "    #### STEP 2: calculate firing of each neuron in windows of 100ms (10)\n",
    "    ####\n",
    "    t1s = np.arange(0, time_s ,w)\n",
    "    t2s = np.arange(w, time_s+w, w)\n",
    "    ##\n",
    "    fr_time = []\n",
    "    for N in range(np.shape(Matrix_spikes)[0]):\n",
    "        neuron_fr = []\n",
    "        for i in range(len(t1s)):\n",
    "            neuron_fr.append(Matrix_spikes[N, t1s[i]:t2s[i]].sum()/ float(1000/w) ) \n",
    "        #\n",
    "        fr_time.append(neuron_fr)\n",
    "    ###\n",
    "    fr_time=np.array(fr_time)\n",
    "    ####\n",
    "    #### STEP 3: save the new matrix, this time with the dimension (neuron, time) ##time dimension is 700/w = 70\n",
    "    ####\n",
    "    firings_wind.append(fr_time)\n",
    "    \n",
    "    \n",
    "##\n",
    "IExts = np.array(Iexts) \n",
    "Positions=np.array(pos_stim)\n",
    "firings_wind = np.array(firings_wind)"
   ]
  },
  {
   "cell_type": "code",
   "execution_count": 38,
   "metadata": {},
   "outputs": [],
   "source": [
    "IExts\n",
    "Positions\n",
    "np.shape(firings_wind)\n",
    "\n",
    "## np.save('C:\\\\Users\\\\David\\\\Desktop\\\\IDIBAPS\\\\brian_simulations\\\\firing_winds_500', firings_wind)"
   ]
  },
  {
   "cell_type": "code",
   "execution_count": null,
   "metadata": {},
   "outputs": [],
   "source": []
  },
  {
   "cell_type": "code",
   "execution_count": null,
   "metadata": {},
   "outputs": [],
   "source": []
  },
  {
   "cell_type": "code",
   "execution_count": null,
   "metadata": {},
   "outputs": [],
   "source": []
  },
  {
   "cell_type": "code",
   "execution_count": null,
   "metadata": {},
   "outputs": [],
   "source": []
  },
  {
   "cell_type": "code",
   "execution_count": 32,
   "metadata": {},
   "outputs": [
    {
     "data": {
      "text/plain": [
       "'C:\\\\Users\\\\David\\\\Documents\\\\GitHub\\\\distractor_neurons\\\\Christos_first_second\\\\brian_simulations'"
      ]
     },
     "execution_count": 32,
     "metadata": {},
     "output_type": "execute_result"
    }
   ],
   "source": [
    "os.getcwd()"
   ]
  },
  {
   "cell_type": "code",
   "execution_count": null,
   "metadata": {},
   "outputs": [],
   "source": [
    "### creo que el error no lo estoy calculando del todo bien.... raro raro...."
   ]
  },
  {
   "cell_type": "code",
   "execution_count": 92,
   "metadata": {},
   "outputs": [],
   "source": [
    "Errors_to_target = []\n",
    "target_positions=[]\n",
    "decoded_responses=[]\n",
    "\n",
    "for i in range(0, np.shape(firings_wind)[0]): ##in each simulation\n",
    "    simx_ = firings_wind[i]\n",
    "    ## target position by mean decoded position during poresentation period\n",
    "    target_position_ = []\n",
    "    for s_pr in range(20,30):\n",
    "        firings_wind_stim=simx_[:,s_pr]\n",
    "        decoded_position = decode_rE(firings_wind_stim, N=16000)\n",
    "        target_position_.append(decoded_position)\n",
    "\n",
    "    target_position = np.array(target_position_).mean()\n",
    "    target_positions.append(target_position)\n",
    "    ## response as decoded position at the end of the delay period\n",
    "    firings_wind_resp=simx_[:,-1]\n",
    "    decoded_response = decode_rE(firings_wind_resp, N=16000)\n",
    "    decoded_responses.append(decoded_response)\n",
    "    ## Calculate error\n",
    "    Error_target = err_deg(decoded_response, target_position)\n",
    "    Errors_to_target.append(Error_target)\n",
    "\n"
   ]
  },
  {
   "cell_type": "code",
   "execution_count": 93,
   "metadata": {},
   "outputs": [],
   "source": [
    "abs_Errors_to_target = abs(np.array(Errors_to_target))"
   ]
  },
  {
   "cell_type": "code",
   "execution_count": 96,
   "metadata": {},
   "outputs": [
    {
     "data": {
      "text/html": [
       "<div>\n",
       "<style scoped>\n",
       "    .dataframe tbody tr th:only-of-type {\n",
       "        vertical-align: middle;\n",
       "    }\n",
       "\n",
       "    .dataframe tbody tr th {\n",
       "        vertical-align: top;\n",
       "    }\n",
       "\n",
       "    .dataframe thead th {\n",
       "        text-align: right;\n",
       "    }\n",
       "</style>\n",
       "<table border=\"1\" class=\"dataframe\">\n",
       "  <thead>\n",
       "    <tr style=\"text-align: right;\">\n",
       "      <th></th>\n",
       "      <th>Error</th>\n",
       "      <th>IExt</th>\n",
       "      <th>abs_error</th>\n",
       "      <th>positions</th>\n",
       "      <th>response</th>\n",
       "      <th>target</th>\n",
       "      <th>stimulation</th>\n",
       "    </tr>\n",
       "  </thead>\n",
       "  <tbody>\n",
       "    <tr>\n",
       "      <th>0</th>\n",
       "      <td>12.67</td>\n",
       "      <td>0.0</td>\n",
       "      <td>12.67</td>\n",
       "      <td>0.0</td>\n",
       "      <td>24.696805</td>\n",
       "      <td>37.365906</td>\n",
       "      <td>OFF</td>\n",
       "    </tr>\n",
       "    <tr>\n",
       "      <th>1</th>\n",
       "      <td>-4.99</td>\n",
       "      <td>0.0</td>\n",
       "      <td>4.99</td>\n",
       "      <td>0.0</td>\n",
       "      <td>42.040741</td>\n",
       "      <td>37.046364</td>\n",
       "      <td>OFF</td>\n",
       "    </tr>\n",
       "    <tr>\n",
       "      <th>2</th>\n",
       "      <td>15.30</td>\n",
       "      <td>0.0</td>\n",
       "      <td>15.30</td>\n",
       "      <td>0.0</td>\n",
       "      <td>22.172003</td>\n",
       "      <td>37.468970</td>\n",
       "      <td>OFF</td>\n",
       "    </tr>\n",
       "    <tr>\n",
       "      <th>3</th>\n",
       "      <td>28.30</td>\n",
       "      <td>0.0</td>\n",
       "      <td>28.30</td>\n",
       "      <td>0.0</td>\n",
       "      <td>9.434635</td>\n",
       "      <td>37.732357</td>\n",
       "      <td>OFF</td>\n",
       "    </tr>\n",
       "    <tr>\n",
       "      <th>4</th>\n",
       "      <td>16.10</td>\n",
       "      <td>0.0</td>\n",
       "      <td>16.10</td>\n",
       "      <td>0.0</td>\n",
       "      <td>21.002469</td>\n",
       "      <td>37.097829</td>\n",
       "      <td>OFF</td>\n",
       "    </tr>\n",
       "  </tbody>\n",
       "</table>\n",
       "</div>"
      ],
      "text/plain": [
       "   Error  IExt  abs_error  positions   response     target stimulation\n",
       "0  12.67   0.0      12.67        0.0  24.696805  37.365906         OFF\n",
       "1  -4.99   0.0       4.99        0.0  42.040741  37.046364         OFF\n",
       "2  15.30   0.0      15.30        0.0  22.172003  37.468970         OFF\n",
       "3  28.30   0.0      28.30        0.0   9.434635  37.732357         OFF\n",
       "4  16.10   0.0      16.10        0.0  21.002469  37.097829         OFF"
      ]
     },
     "execution_count": 96,
     "metadata": {},
     "output_type": "execute_result"
    }
   ],
   "source": [
    "df = pd.DataFrame({'Error':Errors, 'abs_error':abs_err, 'IExt':IExts, 'response':decoded_responses,\n",
    "                   'positions':Positions, 'target':target_positions })\n",
    "df['stimulation'] = df['IExt'].replace([0,0.5], ['OFF', 'ON'])\n",
    "df.head()"
   ]
  },
  {
   "cell_type": "code",
   "execution_count": 97,
   "metadata": {},
   "outputs": [],
   "source": [
    "##\n",
    "drift = []\n",
    "for i in range(len(df)):\n",
    "    resp_ = df.response.iloc[i]\n",
    "    pos_ = df.positions.iloc[i]\n",
    "    iex_ = df.IExt.iloc[i]\n",
    "    mean_resp = df.loc[(df['IExt']==iex_) & (df['positions']==pos_), 'response'].mean()\n",
    "    Error_drift = err_deg(resp_, mean_resp)\n",
    "    drift.append(Error_drift)\n",
    "    \n",
    "##\n",
    "df['drift'] = drift\n",
    "df['abs_drift'] = abs(np.array(drift))"
   ]
  },
  {
   "cell_type": "code",
   "execution_count": null,
   "metadata": {},
   "outputs": [],
   "source": []
  },
  {
   "cell_type": "code",
   "execution_count": 99,
   "metadata": {},
   "outputs": [
    {
     "name": "stderr",
     "output_type": "stream",
     "text": [
      "C:\\Users\\David\\Anaconda3\\envs\\python3\\lib\\site-packages\\scipy\\stats\\stats.py:1713: FutureWarning: Using a non-tuple sequence for multidimensional indexing is deprecated; use `arr[tuple(seq)]` instead of `arr[seq]`. In the future this will be interpreted as an array index, `arr[np.array(seq)]`, which will result either in an error or a different result.\n",
      "  return np.add.reduce(sorted[indexer] * weights, axis=axis) / sumval\n"
     ]
    },
    {
     "data": {
      "image/png": "[encoded data removed]",
      "text/plain": [
       "<Figure size 432x288 with 1 Axes>"
      ]
     },
     "metadata": {
      "needs_background": "light"
     },
     "output_type": "display_data"
    }
   ],
   "source": [
    "##windows de 100\n",
    "sns.barplot(x='stimulation', y='abs_error', data=df, order=['OFF', 'ON'], palette=palette_)\n",
    "plt.gca().spines['right'].set_visible(False)  # aesthetics                                                                              # remove right spines\n",
    "plt.gca().spines['top'].set_visible(False)                                                                                  # remove top spines\n",
    "plt.gca().get_xaxis().tick_bottom()                                                                                         \n",
    "plt.gca().get_yaxis().tick_left()\n",
    "plt.gca().tick_params(direction='in') #direction\n",
    "#plt.ylabel('absolute error');\n",
    "#plt.ylim(0,30);\n",
    "##"
   ]
  },
  {
   "cell_type": "code",
   "execution_count": 100,
   "metadata": {},
   "outputs": [
    {
     "data": {
      "image/png": "[encoded data removed]",
      "text/plain": [
       "<Figure size 432x288 with 1 Axes>"
      ]
     },
     "metadata": {
      "needs_background": "light"
     },
     "output_type": "display_data"
    }
   ],
   "source": [
    "from scipy.stats import norm\n",
    "\n",
    "sns.distplot(df.loc[df['stimulation']=='OFF', 'Error'].values,\n",
    "             color=palette_[0], bins=np.linspace(-60,60,40), label='OFF', fit=norm, kde=False, \n",
    "             fit_kws={\"color\":palette_[0], 'linewidth':3})\n",
    "\n",
    "sns.distplot(df.loc[df['stimulation']=='ON', 'Error'].values, \n",
    "             color=palette_[1], bins=np.linspace(-60,60,40), label='ON', fit=norm, kde=False, \n",
    "             fit_kws={\"color\":palette_[1], 'linewidth':3})\n",
    "\n",
    "plt.gca().spines['right'].set_visible(False)  # aesthetics                                                                              # remove right spines\n",
    "plt.gca().spines['top'].set_visible(False)                                                                                  # remove top spines\n",
    "plt.gca().get_xaxis().tick_bottom()                                                                                         \n",
    "plt.gca().get_yaxis().tick_left()\n",
    "plt.gca().tick_params(direction='in') #direction\n",
    "plt.legend(frameon=False);\n",
    "##"
   ]
  },
  {
   "cell_type": "code",
   "execution_count": 124,
   "metadata": {},
   "outputs": [],
   "source": [
    "##df.head()\n",
    "##df.to_excel('C:\\\\Users\\\\David\\\\Desktop\\\\IDIBAPS\\\\brian_simulations\\\\df_new_regime.xlsx')"
   ]
  },
  {
   "cell_type": "code",
   "execution_count": 6,
   "metadata": {},
   "outputs": [],
   "source": [
    "#df = pd.read_excel('C:\\\\Users\\\\David\\\\Desktop\\\\IDIBAPS\\\\brian_simulations\\\\df_new_regime.xlsx')"
   ]
  },
  {
   "cell_type": "code",
   "execution_count": 10,
   "metadata": {},
   "outputs": [],
   "source": [
    "pal_= sns.color_palette(\"cividis\", n_colors=6) #RdBu_r\n",
    "palette_ = [pal_.as_hex()[0], pal_.as_hex()[-1]]"
   ]
  },
  {
   "cell_type": "code",
   "execution_count": 11,
   "metadata": {},
   "outputs": [
    {
     "name": "stderr",
     "output_type": "stream",
     "text": [
      "C:\\Users\\David\\Anaconda3\\envs\\python3\\lib\\site-packages\\scipy\\stats\\stats.py:1713: FutureWarning: Using a non-tuple sequence for multidimensional indexing is deprecated; use `arr[tuple(seq)]` instead of `arr[seq]`. In the future this will be interpreted as an array index, `arr[np.array(seq)]`, which will result either in an error or a different result.\n",
      "  return np.add.reduce(sorted[indexer] * weights, axis=axis) / sumval\n"
     ]
    },
    {
     "data": {
      "image/png": "[encoded data removed]",
      "text/plain": [
       "<Figure size 432x288 with 1 Axes>"
      ]
     },
     "metadata": {
      "needs_background": "light"
     },
     "output_type": "display_data"
    }
   ],
   "source": [
    "sns.distplot(df.loc[df['abs_drift']<100, 'drift'])\n",
    "df2 = df.loc[df['abs_drift']<100]"
   ]
  },
  {
   "cell_type": "code",
   "execution_count": 12,
   "metadata": {},
   "outputs": [
    {
     "data": {
      "text/plain": [
       "252"
      ]
     },
     "execution_count": 12,
     "metadata": {},
     "output_type": "execute_result"
    }
   ],
   "source": [
    "len(df)\n",
    "len(df2)"
   ]
  },
  {
   "cell_type": "code",
   "execution_count": 19,
   "metadata": {},
   "outputs": [
    {
     "name": "stderr",
     "output_type": "stream",
     "text": [
      "C:\\Users\\David\\Anaconda3\\envs\\python3\\lib\\site-packages\\scipy\\stats\\stats.py:1713: FutureWarning: Using a non-tuple sequence for multidimensional indexing is deprecated; use `arr[tuple(seq)]` instead of `arr[seq]`. In the future this will be interpreted as an array index, `arr[np.array(seq)]`, which will result either in an error or a different result.\n",
      "  return np.add.reduce(sorted[indexer] * weights, axis=axis) / sumval\n"
     ]
    },
    {
     "data": {
      "image/png": "[encoded data removed]",
      "text/plain": [
       "<Figure size 432x288 with 1 Axes>"
      ]
     },
     "metadata": {
      "needs_background": "light"
     },
     "output_type": "display_data"
    }
   ],
   "source": [
    "##windows de 100\n",
    "ax=plt.figure()\n",
    "sns.barplot(x='stimulation', y='abs_drift', data=df2, order=['OFF', 'ON'], palette=palette_, ci=95)\n",
    "plt.gca().spines['right'].set_visible(False)  # aesthetics                                                                              # remove right spines\n",
    "plt.gca().spines['top'].set_visible(False)                                                                                  # remove top spines\n",
    "plt.gca().get_xaxis().tick_bottom()                                                                                         \n",
    "plt.gca().get_yaxis().tick_left()\n",
    "plt.gca().tick_params(direction='in') #direction\n",
    "plt.ylabel(r'absolute drift ($\\circ$)');\n",
    "plt.ylim(0,4);\n",
    "plt.xlabel((r''))\n",
    "##ax.savefig('C:\\\\Users\\\\David\\\\Desktop\\\\abse_err_drift_hansel.svg', transparent=True)"
   ]
  },
  {
   "cell_type": "code",
   "execution_count": 17,
   "metadata": {},
   "outputs": [
    {
     "data": {
      "image/png": "[encoded data removed]",
      "text/plain": [
       "<Figure size 432x288 with 1 Axes>"
      ]
     },
     "metadata": {
      "needs_background": "light"
     },
     "output_type": "display_data"
    }
   ],
   "source": [
    "from scipy.stats import norm\n",
    "\n",
    "ax=plt.figure()\n",
    "sns.distplot(df2.loc[df2['stimulation']=='OFF', 'drift'].values,\n",
    "             color=palette_[0], bins=np.linspace(-10,10,40), label='OFF', fit=norm, kde=False, \n",
    "             fit_kws={\"color\":palette_[0], 'linewidth':3})\n",
    "\n",
    "sns.distplot(df2.loc[df2['stimulation']=='ON', 'drift'].values, \n",
    "             color=palette_[1], bins=np.linspace(-10,10,40), label='ON', fit=norm, kde=False, \n",
    "             fit_kws={\"color\":palette_[1], 'linewidth':3})\n",
    "\n",
    "plt.gca().spines['right'].set_visible(False)  # aesthetics                                                                              # remove right spines\n",
    "plt.gca().spines['top'].set_visible(False)                                                                                  # remove top spines\n",
    "plt.gca().get_xaxis().tick_bottom()                                                                                         \n",
    "plt.gca().get_yaxis().tick_left()\n",
    "plt.gca().tick_params(direction='in') #direction\n",
    "plt.legend(frameon=False);\n",
    "plt.xlim(-10,10);\n",
    "plt.ylim(0,0.4);\n",
    "plt.xlabel((r'drift ($\\circ$)'))\n",
    "ax.savefig('C:\\\\Users\\\\David\\\\Desktop\\\\distr_drift_hansel.svg', transparent=True)"
   ]
  },
  {
   "cell_type": "code",
   "execution_count": null,
   "metadata": {},
   "outputs": [],
   "source": []
  },
  {
   "cell_type": "code",
   "execution_count": null,
   "metadata": {},
   "outputs": [],
   "source": []
  },
  {
   "cell_type": "code",
   "execution_count": null,
   "metadata": {},
   "outputs": [],
   "source": []
  },
  {
   "cell_type": "code",
   "execution_count": 58,
   "metadata": {},
   "outputs": [
    {
     "data": {
      "text/plain": [
       "(257, 16000)"
      ]
     },
     "execution_count": 58,
     "metadata": {},
     "output_type": "execute_result"
    }
   ],
   "source": [
    "firings_wind_final=firings_wind[:,:,-1]\n",
    "np.shape(firings_wind_final)"
   ]
  },
  {
   "cell_type": "code",
   "execution_count": 59,
   "metadata": {},
   "outputs": [],
   "source": [
    "Errors = []\n",
    "for i in range(len(Positions)):\n",
    "    simx_ = firings_wind_final[i]\n",
    "    target_ = Positions[i]\n",
    "    #\n",
    "    decoded_position = decode_rE(simx_, N=16000)\n",
    "    Error = err_deg(decoded_position, target_)\n",
    "    Errors.append(Error)\n"
   ]
  },
  {
   "cell_type": "code",
   "execution_count": 60,
   "metadata": {},
   "outputs": [],
   "source": [
    "abs_err = abs(np.array(Errors))"
   ]
  },
  {
   "cell_type": "code",
   "execution_count": 61,
   "metadata": {},
   "outputs": [
    {
     "data": {
      "text/html": [
       "<div>\n",
       "<style scoped>\n",
       "    .dataframe tbody tr th:only-of-type {\n",
       "        vertical-align: middle;\n",
       "    }\n",
       "\n",
       "    .dataframe tbody tr th {\n",
       "        vertical-align: top;\n",
       "    }\n",
       "\n",
       "    .dataframe thead th {\n",
       "        text-align: right;\n",
       "    }\n",
       "</style>\n",
       "<table border=\"1\" class=\"dataframe\">\n",
       "  <thead>\n",
       "    <tr style=\"text-align: right;\">\n",
       "      <th></th>\n",
       "      <th>Error</th>\n",
       "      <th>IExt</th>\n",
       "      <th>abs_error</th>\n",
       "      <th>stimulation</th>\n",
       "    </tr>\n",
       "  </thead>\n",
       "  <tbody>\n",
       "    <tr>\n",
       "      <th>0</th>\n",
       "      <td>-24.70</td>\n",
       "      <td>0.0</td>\n",
       "      <td>24.70</td>\n",
       "      <td>OFF</td>\n",
       "    </tr>\n",
       "    <tr>\n",
       "      <th>1</th>\n",
       "      <td>-42.04</td>\n",
       "      <td>0.0</td>\n",
       "      <td>42.04</td>\n",
       "      <td>OFF</td>\n",
       "    </tr>\n",
       "    <tr>\n",
       "      <th>2</th>\n",
       "      <td>-22.17</td>\n",
       "      <td>0.0</td>\n",
       "      <td>22.17</td>\n",
       "      <td>OFF</td>\n",
       "    </tr>\n",
       "    <tr>\n",
       "      <th>3</th>\n",
       "      <td>-9.43</td>\n",
       "      <td>0.0</td>\n",
       "      <td>9.43</td>\n",
       "      <td>OFF</td>\n",
       "    </tr>\n",
       "    <tr>\n",
       "      <th>4</th>\n",
       "      <td>-21.00</td>\n",
       "      <td>0.0</td>\n",
       "      <td>21.00</td>\n",
       "      <td>OFF</td>\n",
       "    </tr>\n",
       "  </tbody>\n",
       "</table>\n",
       "</div>"
      ],
      "text/plain": [
       "   Error  IExt  abs_error stimulation\n",
       "0 -24.70   0.0      24.70         OFF\n",
       "1 -42.04   0.0      42.04         OFF\n",
       "2 -22.17   0.0      22.17         OFF\n",
       "3  -9.43   0.0       9.43         OFF\n",
       "4 -21.00   0.0      21.00         OFF"
      ]
     },
     "execution_count": 61,
     "metadata": {},
     "output_type": "execute_result"
    }
   ],
   "source": [
    "df = pd.DataFrame({'Error':Errors, 'abs_error':abs_err, 'IExt':IExts })\n",
    "df['stimulation'] = df['IExt'].replace([0,0.5], ['OFF', 'ON'])\n",
    "df.head()"
   ]
  },
  {
   "cell_type": "code",
   "execution_count": 62,
   "metadata": {},
   "outputs": [],
   "source": [
    "pal_= sns.color_palette(\"cividis\", n_colors=6) #RdBu_r\n",
    "palette_ = [pal_.as_hex()[0], pal_.as_hex()[-1]]"
   ]
  },
  {
   "cell_type": "code",
   "execution_count": 63,
   "metadata": {},
   "outputs": [
    {
     "name": "stderr",
     "output_type": "stream",
     "text": [
      "C:\\Users\\David\\Anaconda3\\envs\\python3\\lib\\site-packages\\scipy\\stats\\stats.py:1713: FutureWarning: Using a non-tuple sequence for multidimensional indexing is deprecated; use `arr[tuple(seq)]` instead of `arr[seq]`. In the future this will be interpreted as an array index, `arr[np.array(seq)]`, which will result either in an error or a different result.\n",
      "  return np.add.reduce(sorted[indexer] * weights, axis=axis) / sumval\n"
     ]
    },
    {
     "data": {
      "image/png": "[encoded data removed]",
      "text/plain": [
       "<Figure size 432x288 with 1 Axes>"
      ]
     },
     "metadata": {
      "needs_background": "light"
     },
     "output_type": "display_data"
    }
   ],
   "source": [
    "##windows de 100\n",
    "sns.barplot(x='stimulation', y='abs_error', data=df, order=['OFF', 'ON'], palette=palette_)\n",
    "plt.gca().spines['right'].set_visible(False)  # aesthetics                                                                              # remove right spines\n",
    "plt.gca().spines['top'].set_visible(False)                                                                                  # remove top spines\n",
    "plt.gca().get_xaxis().tick_bottom()                                                                                         \n",
    "plt.gca().get_yaxis().tick_left()\n",
    "plt.gca().tick_params(direction='in') #direction\n",
    "plt.ylabel('absolute error');\n",
    "#plt.ylim(0,30);\n",
    "##"
   ]
  },
  {
   "cell_type": "code",
   "execution_count": null,
   "metadata": {},
   "outputs": [],
   "source": [
    "sns.distplot(df.loc[df['stimulation']=='OFF', 'Error'].values, color=palette_[0], bins=30, label='OFF')\n",
    "sns.distplot(df.loc[df['stimulation']=='ON', 'Error'].values, color=palette_[1], bins=20, label='ON')\n",
    "plt.gca().spines['right'].set_visible(False)  # aesthetics                                                                              # remove right spines\n",
    "plt.gca().spines['top'].set_visible(False)                                                                                  # remove top spines\n",
    "plt.gca().get_xaxis().tick_bottom()                                                                                         \n",
    "plt.gca().get_yaxis().tick_left()\n",
    "plt.gca().tick_params(direction='in') #direction\n",
    "plt.legend(frameon=False);\n",
    "##"
   ]
  },
  {
   "cell_type": "code",
   "execution_count": null,
   "metadata": {},
   "outputs": [],
   "source": []
  },
  {
   "cell_type": "code",
   "execution_count": null,
   "metadata": {},
   "outputs": [],
   "source": []
  },
  {
   "cell_type": "code",
   "execution_count": null,
   "metadata": {},
   "outputs": [],
   "source": []
  },
  {
   "cell_type": "code",
   "execution_count": null,
   "metadata": {},
   "outputs": [],
   "source": []
  }
 ],
 "metadata": {
  "kernelspec": {
   "display_name": "Python 3",
   "language": "python",
   "name": "python3"
  },
  "language_info": {
   "codemirror_mode": {
    "name": "ipython",
    "version": 3
   },
   "file_extension": ".py",
   "mimetype": "text/x-python",
   "name": "python",
   "nbconvert_exporter": "python",
   "pygments_lexer": "ipython3",
   "version": "3.5.6"
  }
 },
 "nbformat": 4,
 "nbformat_minor": 2
}
