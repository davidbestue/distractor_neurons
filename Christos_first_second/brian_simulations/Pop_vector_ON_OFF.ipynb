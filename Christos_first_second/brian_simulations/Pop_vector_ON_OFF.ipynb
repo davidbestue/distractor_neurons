{
 "cells": [
  {
   "cell_type": "code",
   "execution_count": 1,
   "metadata": {},
   "outputs": [],
   "source": [
    "import scipy.io as io\n",
    "import pickle\n",
    "from scipy.ndimage import gaussian_filter\n",
    "from scipy import misc\n",
    "import os\n",
    "from sklearn.preprocessing import label_binarize\n",
    "from sklearn.metrics import roc_curve, auc\n",
    "import pandas as pd\n",
    "import matplotlib.pyplot as plt\n",
    "import seaborn as sns\n",
    "import numpy as np\n",
    "from linares_plot import *\n"
   ]
  },
  {
   "cell_type": "code",
   "execution_count": 2,
   "metadata": {},
   "outputs": [],
   "source": [
    "def decode_rE(rE, a_ini=0, a_fin=360, N=512):\n",
    "    #Population vector for a given rE\n",
    "    # return ( angle in radians, absolut angle in radians, abs angle in degrees )\n",
    "    N=len(rE)\n",
    "    Angles = np.linspace(a_ini, a_fin, N) \n",
    "    angles=np.radians(Angles)\n",
    "    rE = np.reshape(rE, (1,N))\n",
    "    R = np.sum(np.dot(rE,np.exp(1j*angles)))/np.sum(rE)\n",
    "    \n",
    "    angle_decoded = np.degrees(np.angle(R))\n",
    "    if angle_decoded<0:\n",
    "        angle_decoded = 360+angle_decoded\n",
    "    \n",
    "    return angle_decoded"
   ]
  },
  {
   "cell_type": "code",
   "execution_count": 3,
   "metadata": {},
   "outputs": [],
   "source": [
    "def err_deg(a1,ref):\n",
    "    ### Calculate the error ref-a1 in an efficient way in the circular space\n",
    "    ### \"going ccw from the reference (ref) is negative\" - \"going cw from the reference (ref) is positive\"\n",
    "    ### it uses complex numbers!\n",
    "    ### Input in degrees (0-360)\n",
    "    a1=np.radians(a1)\n",
    "    ref=np.radians(ref)\n",
    "    err = np.angle(np.exp(1j*ref)/np.exp(1j*(a1) ), deg=True) \n",
    "    err=round(err, 2)\n",
    "    return err"
   ]
  },
  {
   "cell_type": "code",
   "execution_count": null,
   "metadata": {},
   "outputs": [],
   "source": []
  },
  {
   "cell_type": "code",
   "execution_count": 8,
   "metadata": {},
   "outputs": [],
   "source": [
    "path_ =  'C:\\\\Users\\\\David\\\\Desktop\\\\IDIBAPS\\\\brian_simulations\\\\r4'\n",
    "all_= os.listdir(path_)"
   ]
  },
  {
   "cell_type": "code",
   "execution_count": 9,
   "metadata": {},
   "outputs": [],
   "source": [
    "N0 = 20000\n",
    "time_s =7000 #(ms)\n",
    "N=0.8*N0 #(el 80% son excitadoras)\n",
    "rounding = 2 ##round the timing\n",
    "w=1000 #(ms)\n"
   ]
  },
  {
   "cell_type": "code",
   "execution_count": 50,
   "metadata": {
    "scrolled": true
   },
   "outputs": [
    {
     "name": "stdout",
     "output_type": "stream",
     "text": [
      "0\n",
      "1\n",
      "2\n",
      "3\n",
      "4\n",
      "5\n",
      "6\n",
      "7\n",
      "8\n",
      "9\n",
      "10\n",
      "11\n",
      "12\n",
      "13\n",
      "14\n",
      "15\n",
      "16\n",
      "17\n",
      "18\n",
      "19\n",
      "20\n",
      "21\n",
      "22\n",
      "23\n",
      "24\n",
      "25\n",
      "26\n",
      "27\n",
      "28\n",
      "29\n",
      "30\n",
      "31\n",
      "32\n",
      "33\n",
      "34\n",
      "35\n",
      "36\n",
      "37\n",
      "38\n",
      "39\n",
      "40\n",
      "41\n",
      "42\n",
      "43\n",
      "44\n",
      "45\n",
      "46\n",
      "47\n",
      "48\n",
      "49\n",
      "50\n",
      "51\n",
      "52\n",
      "53\n",
      "54\n",
      "55\n",
      "56\n",
      "57\n",
      "58\n",
      "59\n",
      "60\n",
      "61\n",
      "62\n",
      "63\n",
      "64\n",
      "65\n",
      "66\n",
      "67\n",
      "68\n",
      "69\n",
      "70\n",
      "71\n",
      "72\n",
      "73\n",
      "74\n",
      "75\n",
      "76\n",
      "77\n",
      "78\n",
      "79\n",
      "80\n",
      "81\n",
      "82\n",
      "83\n",
      "84\n",
      "85\n",
      "86\n",
      "87\n",
      "88\n",
      "89\n",
      "90\n",
      "91\n",
      "92\n",
      "93\n",
      "94\n",
      "95\n",
      "96\n",
      "97\n",
      "98\n",
      "99\n",
      "100\n",
      "101\n",
      "102\n",
      "103\n",
      "104\n",
      "105\n",
      "106\n",
      "107\n",
      "108\n",
      "109\n",
      "110\n",
      "111\n",
      "112\n",
      "113\n",
      "114\n",
      "115\n",
      "116\n",
      "117\n",
      "118\n",
      "119\n",
      "120\n",
      "121\n",
      "122\n",
      "123\n",
      "124\n",
      "125\n",
      "126\n",
      "127\n",
      "128\n",
      "129\n",
      "130\n",
      "131\n",
      "132\n",
      "133\n",
      "134\n",
      "135\n",
      "136\n",
      "137\n",
      "138\n",
      "139\n",
      "140\n",
      "141\n",
      "142\n",
      "143\n",
      "144\n",
      "145\n",
      "146\n",
      "147\n",
      "148\n",
      "149\n",
      "150\n",
      "151\n",
      "152\n",
      "153\n",
      "154\n",
      "155\n",
      "156\n",
      "157\n",
      "158\n",
      "159\n",
      "160\n",
      "161\n",
      "162\n",
      "163\n",
      "164\n",
      "165\n",
      "166\n",
      "167\n",
      "168\n",
      "169\n",
      "170\n",
      "171\n",
      "172\n",
      "173\n",
      "174\n",
      "175\n",
      "176\n",
      "177\n",
      "178\n",
      "179\n",
      "180\n",
      "181\n",
      "182\n",
      "183\n",
      "184\n",
      "185\n",
      "186\n",
      "187\n",
      "188\n",
      "189\n",
      "190\n",
      "191\n",
      "192\n",
      "193\n",
      "194\n",
      "195\n",
      "196\n",
      "197\n",
      "198\n",
      "199\n",
      "200\n",
      "201\n",
      "202\n",
      "203\n",
      "204\n",
      "205\n",
      "206\n",
      "207\n",
      "208\n",
      "209\n",
      "210\n",
      "211\n",
      "212\n",
      "213\n",
      "214\n",
      "215\n",
      "216\n",
      "217\n",
      "218\n",
      "219\n",
      "220\n",
      "221\n",
      "222\n",
      "223\n",
      "224\n",
      "225\n",
      "226\n",
      "227\n",
      "228\n",
      "229\n",
      "230\n",
      "231\n",
      "232\n",
      "233\n",
      "234\n",
      "235\n",
      "236\n",
      "237\n",
      "238\n",
      "239\n",
      "240\n",
      "241\n",
      "242\n",
      "243\n",
      "244\n",
      "245\n",
      "246\n",
      "247\n",
      "248\n",
      "249\n",
      "250\n",
      "251\n",
      "252\n",
      "253\n",
      "254\n",
      "255\n",
      "256\n",
      "257\n",
      "258\n",
      "259\n",
      "260\n",
      "261\n",
      "262\n",
      "263\n",
      "264\n",
      "265\n",
      "266\n",
      "267\n",
      "268\n",
      "269\n",
      "270\n",
      "271\n",
      "272\n",
      "273\n",
      "274\n",
      "275\n",
      "276\n",
      "277\n",
      "278\n",
      "279\n",
      "280\n",
      "281\n",
      "282\n",
      "283\n",
      "284\n",
      "285\n",
      "286\n",
      "287\n",
      "288\n",
      "289\n",
      "290\n",
      "291\n",
      "292\n",
      "293\n",
      "294\n",
      "295\n",
      "296\n",
      "297\n",
      "298\n",
      "299\n",
      "300\n",
      "301\n",
      "302\n",
      "303\n",
      "304\n",
      "305\n",
      "306\n",
      "307\n",
      "308\n",
      "309\n",
      "310\n",
      "311\n",
      "312\n",
      "313\n",
      "314\n",
      "315\n",
      "316\n",
      "317\n",
      "318\n",
      "319\n",
      "320\n",
      "321\n",
      "322\n",
      "323\n",
      "324\n",
      "325\n",
      "326\n",
      "327\n",
      "328\n",
      "329\n",
      "330\n",
      "331\n",
      "332\n",
      "333\n",
      "334\n",
      "335\n",
      "336\n",
      "337\n",
      "338\n",
      "339\n",
      "340\n",
      "341\n",
      "342\n",
      "343\n",
      "344\n",
      "345\n",
      "346\n",
      "347\n",
      "348\n",
      "349\n",
      "350\n",
      "351\n",
      "352\n",
      "353\n",
      "354\n",
      "355\n",
      "356\n",
      "357\n",
      "358\n",
      "359\n",
      "360\n",
      "361\n",
      "362\n",
      "363\n",
      "364\n",
      "365\n",
      "366\n",
      "367\n",
      "368\n",
      "369\n",
      "370\n",
      "371\n",
      "372\n",
      "373\n",
      "374\n",
      "375\n",
      "376\n",
      "377\n",
      "378\n",
      "379\n",
      "380\n",
      "381\n",
      "382\n",
      "383\n",
      "384\n",
      "385\n",
      "386\n",
      "387\n",
      "388\n",
      "389\n",
      "390\n",
      "391\n",
      "392\n",
      "393\n",
      "394\n",
      "395\n",
      "396\n",
      "397\n",
      "398\n",
      "399\n",
      "400\n",
      "401\n",
      "402\n",
      "403\n",
      "404\n",
      "405\n",
      "406\n",
      "407\n",
      "408\n",
      "409\n",
      "410\n",
      "411\n",
      "412\n",
      "413\n",
      "414\n",
      "415\n",
      "416\n",
      "417\n",
      "418\n",
      "419\n",
      "420\n",
      "421\n",
      "422\n",
      "423\n",
      "424\n",
      "425\n",
      "426\n",
      "427\n",
      "428\n",
      "429\n",
      "430\n",
      "431\n",
      "432\n",
      "433\n",
      "434\n",
      "435\n",
      "436\n",
      "437\n",
      "438\n",
      "439\n",
      "440\n",
      "441\n",
      "442\n",
      "443\n",
      "444\n",
      "445\n",
      "446\n",
      "447\n",
      "448\n",
      "449\n",
      "450\n",
      "451\n",
      "452\n",
      "453\n",
      "454\n",
      "455\n",
      "456\n",
      "457\n",
      "458\n",
      "459\n",
      "460\n",
      "461\n",
      "462\n",
      "463\n",
      "464\n",
      "465\n",
      "466\n",
      "467\n",
      "468\n",
      "469\n",
      "470\n",
      "471\n",
      "472\n",
      "473\n",
      "474\n",
      "475\n",
      "476\n",
      "477\n",
      "478\n",
      "479\n",
      "480\n",
      "481\n",
      "482\n",
      "483\n",
      "484\n",
      "485\n",
      "486\n",
      "487\n",
      "488\n",
      "489\n",
      "490\n",
      "491\n",
      "492\n",
      "493\n",
      "494\n",
      "495\n",
      "496\n",
      "497\n",
      "498\n",
      "499\n"
     ]
    }
   ],
   "source": [
    "################# NEEEEEEW #############################\n",
    "pos_stim=[]\n",
    "Iexts = []\n",
    "firings_wind = []\n",
    "\n",
    "for sim_ in np.arange(0,500,1): ##simulations used (all or a fraction e.j. np.arange(0,500,100)) )\n",
    "    #\n",
    "    print(sim_)\n",
    "    simx = io.loadmat(path_ + '\\\\' + all_[sim_])\n",
    "    ####\n",
    "    #### save position and I0E of each simulation\n",
    "    ####\n",
    "    pos_stim.append(360*simx['pos_stim'][0][0])\n",
    "    Iexts.append(simx['IEext'][0][0])\n",
    "\n",
    "    spikes = simx['spktm']\n",
    "    \n",
    "    Matrix_spikes=np.zeros([int(0.8*N0), time_s])\n",
    "\n",
    "    neurons_ = np.array([int(spikes[0][x]) for x in range(len(spikes[0]))])\n",
    "\n",
    "    times_ = np.array([spikes[1][x] for x in range(len(spikes[1]))])\n",
    "    times_ = times_ - min(times_)\n",
    "    times_ = np.array([int(times_[x]*1000) for x in range(len(times_))])\n",
    "\n",
    "    # dimensions = neurons, time_s\n",
    "    for t, n in zip(times_, neurons_ ):\n",
    "        Matrix_spikes[n,t]=1\n",
    "    ##\n",
    "    ####\n",
    "    #### STEP 2: calculate firing of each neuron in windows of 100ms (10)\n",
    "    ####\n",
    "    t1s = np.arange(0, time_s ,w)\n",
    "    t2s = np.arange(w, time_s+w, w)\n",
    "    ##\n",
    "    fr_time = []\n",
    "    for N in range(np.shape(Matrix_spikes)[0]):\n",
    "        neuron_fr = []\n",
    "        for i in range(len(t1s)):\n",
    "            neuron_fr.append(Matrix_spikes[N, t1s[i]:t2s[i]].sum()/ float(1000/w) ) \n",
    "        #\n",
    "        fr_time.append(neuron_fr)\n",
    "    ###\n",
    "    fr_time=np.array(fr_time)\n",
    "    ####\n",
    "    #### STEP 3: save the new matrix, this time with the dimension (neuron, time) ##time dimension is 700/w = 70\n",
    "    ####\n",
    "    firings_wind.append(fr_time)\n",
    "    \n",
    "    \n",
    "##\n",
    "IExts = np.array(Iexts) \n",
    "Positions=np.array(pos_stim)\n",
    "firings_wind = np.array(firings_wind)\n",
    "\n",
    "\n",
    "\n"
   ]
  },
  {
   "cell_type": "code",
   "execution_count": 51,
   "metadata": {},
   "outputs": [
    {
     "data": {
      "text/plain": [
       "(500, 16000)"
      ]
     },
     "execution_count": 51,
     "metadata": {},
     "output_type": "execute_result"
    }
   ],
   "source": [
    "firings_wind_final=firings_wind[:,:,-1]\n",
    "np.shape(firings_wind_final)"
   ]
  },
  {
   "cell_type": "code",
   "execution_count": 52,
   "metadata": {},
   "outputs": [
    {
     "data": {
      "text/plain": [
       "(500,)"
      ]
     },
     "execution_count": 52,
     "metadata": {},
     "output_type": "execute_result"
    }
   ],
   "source": [
    "np.shape(Positions)"
   ]
  },
  {
   "cell_type": "code",
   "execution_count": 53,
   "metadata": {},
   "outputs": [],
   "source": [
    "Errors = []\n",
    "for i in range(len(Positions)):\n",
    "    simx_ = firings_wind_final[i]\n",
    "    target_ = Positions[i]\n",
    "    #\n",
    "    decoded_position = decode_rE(simx_, N=16000)\n",
    "    Error = err_deg(decoded_position, target_)\n",
    "    Errors.append(Error)\n"
   ]
  },
  {
   "cell_type": "code",
   "execution_count": 54,
   "metadata": {},
   "outputs": [],
   "source": [
    "abs_err = abs(np.array(Errors))"
   ]
  },
  {
   "cell_type": "code",
   "execution_count": 58,
   "metadata": {},
   "outputs": [
    {
     "data": {
      "text/html": [
       "<div>\n",
       "<style scoped>\n",
       "    .dataframe tbody tr th:only-of-type {\n",
       "        vertical-align: middle;\n",
       "    }\n",
       "\n",
       "    .dataframe tbody tr th {\n",
       "        vertical-align: top;\n",
       "    }\n",
       "\n",
       "    .dataframe thead th {\n",
       "        text-align: right;\n",
       "    }\n",
       "</style>\n",
       "<table border=\"1\" class=\"dataframe\">\n",
       "  <thead>\n",
       "    <tr style=\"text-align: right;\">\n",
       "      <th></th>\n",
       "      <th>Error</th>\n",
       "      <th>IExt</th>\n",
       "      <th>abs_error</th>\n",
       "      <th>stimulation</th>\n",
       "    </tr>\n",
       "  </thead>\n",
       "  <tbody>\n",
       "    <tr>\n",
       "      <th>0</th>\n",
       "      <td>-44.13</td>\n",
       "      <td>0.0</td>\n",
       "      <td>44.13</td>\n",
       "      <td>OFF</td>\n",
       "    </tr>\n",
       "    <tr>\n",
       "      <th>1</th>\n",
       "      <td>-42.59</td>\n",
       "      <td>0.0</td>\n",
       "      <td>42.59</td>\n",
       "      <td>OFF</td>\n",
       "    </tr>\n",
       "    <tr>\n",
       "      <th>2</th>\n",
       "      <td>-41.79</td>\n",
       "      <td>0.0</td>\n",
       "      <td>41.79</td>\n",
       "      <td>OFF</td>\n",
       "    </tr>\n",
       "    <tr>\n",
       "      <th>3</th>\n",
       "      <td>-43.43</td>\n",
       "      <td>0.0</td>\n",
       "      <td>43.43</td>\n",
       "      <td>OFF</td>\n",
       "    </tr>\n",
       "    <tr>\n",
       "      <th>4</th>\n",
       "      <td>-42.33</td>\n",
       "      <td>0.0</td>\n",
       "      <td>42.33</td>\n",
       "      <td>OFF</td>\n",
       "    </tr>\n",
       "  </tbody>\n",
       "</table>\n",
       "</div>"
      ],
      "text/plain": [
       "   Error  IExt  abs_error stimulation\n",
       "0 -44.13   0.0      44.13         OFF\n",
       "1 -42.59   0.0      42.59         OFF\n",
       "2 -41.79   0.0      41.79         OFF\n",
       "3 -43.43   0.0      43.43         OFF\n",
       "4 -42.33   0.0      42.33         OFF"
      ]
     },
     "execution_count": 58,
     "metadata": {},
     "output_type": "execute_result"
    }
   ],
   "source": [
    "df = pd.DataFrame({'Error':Errors, 'abs_error':abs_err, 'IExt':IExts })\n",
    "df['stimulation'] = df['IExt'].replace([0,1.25], ['OFF', 'ON'])\n",
    "df.head()"
   ]
  },
  {
   "cell_type": "code",
   "execution_count": 59,
   "metadata": {},
   "outputs": [],
   "source": [
    "pal_= sns.color_palette(\"cividis\", n_colors=6) #RdBu_r\n",
    "palette_ = [pal_.as_hex()[0], pal_.as_hex()[-1]]"
   ]
  },
  {
   "cell_type": "code",
   "execution_count": 63,
   "metadata": {},
   "outputs": [
    {
     "name": "stderr",
     "output_type": "stream",
     "text": [
      "C:\\Users\\David\\Anaconda3\\envs\\python3\\lib\\site-packages\\scipy\\stats\\stats.py:1713: FutureWarning: Using a non-tuple sequence for multidimensional indexing is deprecated; use `arr[tuple(seq)]` instead of `arr[seq]`. In the future this will be interpreted as an array index, `arr[np.array(seq)]`, which will result either in an error or a different result.\n",
      "  return np.add.reduce(sorted[indexer] * weights, axis=axis) / sumval\n"
     ]
    },
    {
     "data": {
      "image/png": "[encoded data removed]",
      "text/plain": [
       "<Figure size 432x288 with 1 Axes>"
      ]
     },
     "metadata": {
      "needs_background": "light"
     },
     "output_type": "display_data"
    }
   ],
   "source": [
    "sns.barplot(x='stimulation', y='abs_error', data=df, order=['OFF', 'ON'], palette=palette_)\n",
    "plt.gca().spines['right'].set_visible(False)  # aesthetics                                                                              # remove right spines\n",
    "plt.gca().spines['top'].set_visible(False)                                                                                  # remove top spines\n",
    "plt.gca().get_xaxis().tick_bottom()                                                                                         \n",
    "plt.gca().get_yaxis().tick_left()\n",
    "plt.gca().tick_params(direction='in') #direction\n",
    "plt.ylabel('absolute error')\n",
    "plt.ylim(0,60);\n",
    "##"
   ]
  },
  {
   "cell_type": "code",
   "execution_count": 76,
   "metadata": {},
   "outputs": [
    {
     "name": "stderr",
     "output_type": "stream",
     "text": [
      "C:\\Users\\David\\Anaconda3\\envs\\python3\\lib\\site-packages\\scipy\\stats\\stats.py:1713: FutureWarning: Using a non-tuple sequence for multidimensional indexing is deprecated; use `arr[tuple(seq)]` instead of `arr[seq]`. In the future this will be interpreted as an array index, `arr[np.array(seq)]`, which will result either in an error or a different result.\n",
      "  return np.add.reduce(sorted[indexer] * weights, axis=axis) / sumval\n"
     ]
    },
    {
     "data": {
      "image/png": "[encoded data removed]",
      "text/plain": [
       "<Figure size 432x288 with 1 Axes>"
      ]
     },
     "metadata": {
      "needs_background": "light"
     },
     "output_type": "display_data"
    }
   ],
   "source": [
    "sns.distplot(df.loc[df['stimulation']=='OFF', 'Error'].values, color=palette_[0], bins=12, label='OFF')\n",
    "sns.distplot(df.loc[df['stimulation']=='ON', 'Error'].values, color=palette_[1], bins=40, label='ON')\n",
    "plt.gca().spines['right'].set_visible(False)  # aesthetics                                                                              # remove right spines\n",
    "plt.gca().spines['top'].set_visible(False)                                                                                  # remove top spines\n",
    "plt.gca().get_xaxis().tick_bottom()                                                                                         \n",
    "plt.gca().get_yaxis().tick_left()\n",
    "plt.gca().tick_params(direction='in') #direction\n",
    "plt.legend(frameon=False);\n",
    "##"
   ]
  },
  {
   "cell_type": "code",
   "execution_count": null,
   "metadata": {},
   "outputs": [],
   "source": [
    "## no funciona, va al revés de lo que debería. El bump en la condición OFF es bastante sólido y todo lo \"extra\" lo debilita"
   ]
  },
  {
   "cell_type": "code",
   "execution_count": null,
   "metadata": {},
   "outputs": [],
   "source": []
  },
  {
   "cell_type": "code",
   "execution_count": null,
   "metadata": {},
   "outputs": [],
   "source": []
  },
  {
   "cell_type": "code",
   "execution_count": null,
   "metadata": {},
   "outputs": [],
   "source": [
    "###funciona con valores no tan extremos (no 1.25, que tal con 0.5)??? \n",
    "### en este caso tendre que coger el firing de todo el delay ya que no tengo el AUC con time (de momento)\n",
    "### el AUC con time a diferentes tiempos se está corriendo en simulations_Hansel4_6.py"
   ]
  },
  {
   "cell_type": "code",
   "execution_count": 77,
   "metadata": {},
   "outputs": [],
   "source": [
    "path_ = 'C:\\\\Users\\\\David\\\\Desktop\\\\IDIBAPS\\\\brian_simulations\\\\r2'\n",
    "all_= os.listdir(path_)\n",
    "\n",
    "path_2 = 'C:\\\\Users\\\\David\\\\Desktop\\\\IDIBAPS\\\\brian_simulations\\\\r3'\n",
    "all_2= os.listdir(path_2)\n"
   ]
  },
  {
   "cell_type": "code",
   "execution_count": 78,
   "metadata": {},
   "outputs": [],
   "source": [
    "rates_=[]\n",
    "pos_stim = []\n",
    "Iexts=[]\n",
    "\n",
    "for sim_ in range(len(all_)): #len(all_)\n",
    "    simx = io.loadmat(path_ + '\\\\' + all_[sim_])\n",
    "    rates_.append(simx['ratedelay'][0])\n",
    "    pos_stim.append(360*simx['pos_stim'][0][0])\n",
    "    Iexts.append(simx['IEext'][0][0])\n",
    "\n",
    "###\n",
    "for sim_ in range(len(all_2)): #len(all_)\n",
    "    simx = io.loadmat(path_2 + '\\\\' + all_2[sim_])\n",
    "    rates_.append(simx['ratedelay'][0])\n",
    "    pos_stim.append(360*simx['pos_stim'][0][0])\n",
    "    Iexts.append(simx['IEext'][0][0])\n",
    "\n",
    "\n",
    "Rates = np.array(rates_)\n",
    "IExts = np.array(Iexts) \n",
    "Positions=np.array(pos_stim)"
   ]
  },
  {
   "cell_type": "code",
   "execution_count": 79,
   "metadata": {},
   "outputs": [
    {
     "data": {
      "text/plain": [
       "(1750, 16000)"
      ]
     },
     "execution_count": 79,
     "metadata": {},
     "output_type": "execute_result"
    }
   ],
   "source": [
    "np.shape(Rates)"
   ]
  },
  {
   "cell_type": "code",
   "execution_count": 80,
   "metadata": {},
   "outputs": [
    {
     "data": {
      "text/plain": [
       "(1750,)"
      ]
     },
     "execution_count": 80,
     "metadata": {},
     "output_type": "execute_result"
    }
   ],
   "source": [
    "np.shape(pos_stim)"
   ]
  },
  {
   "cell_type": "code",
   "execution_count": 82,
   "metadata": {},
   "outputs": [
    {
     "data": {
      "text/plain": [
       "(1750,)"
      ]
     },
     "execution_count": 82,
     "metadata": {},
     "output_type": "execute_result"
    }
   ],
   "source": [
    "np.shape(Iexts)"
   ]
  },
  {
   "cell_type": "code",
   "execution_count": 85,
   "metadata": {},
   "outputs": [],
   "source": [
    "Errors = []\n",
    "for i in range(len(Positions)):\n",
    "    simx_ = Rates[i]\n",
    "    target_ = Positions[i]\n",
    "    #\n",
    "    decoded_position = decode_rE(simx_, N=16000)\n",
    "    Error = err_deg(decoded_position, target_)\n",
    "    Errors.append(Error)"
   ]
  },
  {
   "cell_type": "code",
   "execution_count": 86,
   "metadata": {},
   "outputs": [],
   "source": [
    "abs_err = abs(np.array(Errors))"
   ]
  },
  {
   "cell_type": "code",
   "execution_count": 91,
   "metadata": {},
   "outputs": [
    {
     "data": {
      "text/html": [
       "<div>\n",
       "<style scoped>\n",
       "    .dataframe tbody tr th:only-of-type {\n",
       "        vertical-align: middle;\n",
       "    }\n",
       "\n",
       "    .dataframe tbody tr th {\n",
       "        vertical-align: top;\n",
       "    }\n",
       "\n",
       "    .dataframe thead th {\n",
       "        text-align: right;\n",
       "    }\n",
       "</style>\n",
       "<table border=\"1\" class=\"dataframe\">\n",
       "  <thead>\n",
       "    <tr style=\"text-align: right;\">\n",
       "      <th></th>\n",
       "      <th>Error</th>\n",
       "      <th>IExt</th>\n",
       "      <th>abs_error</th>\n",
       "    </tr>\n",
       "  </thead>\n",
       "  <tbody>\n",
       "    <tr>\n",
       "      <th>0</th>\n",
       "      <td>-42.08</td>\n",
       "      <td>0.0</td>\n",
       "      <td>42.08</td>\n",
       "    </tr>\n",
       "    <tr>\n",
       "      <th>1</th>\n",
       "      <td>-42.65</td>\n",
       "      <td>0.0</td>\n",
       "      <td>42.65</td>\n",
       "    </tr>\n",
       "    <tr>\n",
       "      <th>2</th>\n",
       "      <td>-42.21</td>\n",
       "      <td>0.0</td>\n",
       "      <td>42.21</td>\n",
       "    </tr>\n",
       "    <tr>\n",
       "      <th>3</th>\n",
       "      <td>-41.65</td>\n",
       "      <td>0.0</td>\n",
       "      <td>41.65</td>\n",
       "    </tr>\n",
       "    <tr>\n",
       "      <th>4</th>\n",
       "      <td>-41.92</td>\n",
       "      <td>0.0</td>\n",
       "      <td>41.92</td>\n",
       "    </tr>\n",
       "  </tbody>\n",
       "</table>\n",
       "</div>"
      ],
      "text/plain": [
       "   Error  IExt  abs_error\n",
       "0 -42.08   0.0      42.08\n",
       "1 -42.65   0.0      42.65\n",
       "2 -42.21   0.0      42.21\n",
       "3 -41.65   0.0      41.65\n",
       "4 -41.92   0.0      41.92"
      ]
     },
     "execution_count": 91,
     "metadata": {},
     "output_type": "execute_result"
    }
   ],
   "source": [
    "df = pd.DataFrame({'Error':Errors, 'abs_error':abs_err, 'IExt':IExts })\n",
    "df.head()"
   ]
  },
  {
   "cell_type": "code",
   "execution_count": 94,
   "metadata": {},
   "outputs": [
    {
     "data": {
      "text/plain": [
       "array([0.  , 0.25, 0.5 , 0.75, 1.  , 1.25])"
      ]
     },
     "execution_count": 94,
     "metadata": {},
     "output_type": "execute_result"
    }
   ],
   "source": [
    "df.IExt.unique()"
   ]
  },
  {
   "cell_type": "code",
   "execution_count": 97,
   "metadata": {},
   "outputs": [
    {
     "name": "stderr",
     "output_type": "stream",
     "text": [
      "C:\\Users\\David\\Anaconda3\\envs\\python3\\lib\\site-packages\\scipy\\stats\\stats.py:1713: FutureWarning: Using a non-tuple sequence for multidimensional indexing is deprecated; use `arr[tuple(seq)]` instead of `arr[seq]`. In the future this will be interpreted as an array index, `arr[np.array(seq)]`, which will result either in an error or a different result.\n",
      "  return np.add.reduce(sorted[indexer] * weights, axis=axis) / sumval\n"
     ]
    },
    {
     "data": {
      "image/png": "[encoded data removed]",
      "text/plain": [
       "<Figure size 432x288 with 1 Axes>"
      ]
     },
     "metadata": {
      "needs_background": "light"
     },
     "output_type": "display_data"
    }
   ],
   "source": [
    "sns.barplot(x='IExt', y='abs_error', data=df, order=[0.  , 0.25, 0.5 , 0.75, 1.  , 1.25], palette=pal_)\n",
    "plt.gca().spines['right'].set_visible(False)  # aesthetics                                                                              # remove right spines\n",
    "plt.gca().spines['top'].set_visible(False)                                                                                  # remove top spines\n",
    "plt.gca().get_xaxis().tick_bottom()                                                                                         \n",
    "plt.gca().get_yaxis().tick_left()\n",
    "plt.gca().tick_params(direction='in') #direction\n",
    "plt.ylabel('absolute error')\n",
    "plt.ylim(0,20);"
   ]
  },
  {
   "cell_type": "code",
   "execution_count": null,
   "metadata": {},
   "outputs": [],
   "source": [
    "### tampoco funciona"
   ]
  },
  {
   "cell_type": "code",
   "execution_count": null,
   "metadata": {},
   "outputs": [],
   "source": []
  },
  {
   "cell_type": "code",
   "execution_count": null,
   "metadata": {},
   "outputs": [],
   "source": []
  },
  {
   "cell_type": "code",
   "execution_count": null,
   "metadata": {},
   "outputs": [],
   "source": []
  },
  {
   "cell_type": "code",
   "execution_count": null,
   "metadata": {},
   "outputs": [],
   "source": []
  },
  {
   "cell_type": "code",
   "execution_count": null,
   "metadata": {},
   "outputs": [],
   "source": [
    "### BUSCAR REGIME EN Hansel para que el off esté a punto de extinguirse (¿barajar GEE o algo así??)"
   ]
  },
  {
   "cell_type": "code",
   "execution_count": 4,
   "metadata": {},
   "outputs": [],
   "source": [
    "path_ =  'C:\\\\Users\\\\David\\\\Desktop\\\\IDIBAPS\\\\brian_simulations\\\\r7'\n",
    "all_= os.listdir(path_)"
   ]
  },
  {
   "cell_type": "code",
   "execution_count": 28,
   "metadata": {},
   "outputs": [],
   "source": [
    "N0 = 20000\n",
    "time_s =7000 #(ms)\n",
    "N=0.8*N0 #(el 80% son excitadoras)\n",
    "rounding = 2 ##round the timing\n",
    "w=100 #(ms)"
   ]
  },
  {
   "cell_type": "code",
   "execution_count": 29,
   "metadata": {},
   "outputs": [
    {
     "data": {
      "text/plain": [
       "250"
      ]
     },
     "execution_count": 29,
     "metadata": {},
     "output_type": "execute_result"
    }
   ],
   "source": [
    "len(all_)"
   ]
  },
  {
   "cell_type": "code",
   "execution_count": 30,
   "metadata": {
    "scrolled": true
   },
   "outputs": [
    {
     "name": "stdout",
     "output_type": "stream",
     "text": [
      "0\n",
      "1\n",
      "2\n",
      "3\n",
      "4\n",
      "5\n",
      "6\n",
      "7\n",
      "8\n",
      "9\n",
      "10\n",
      "11\n",
      "12\n",
      "13\n",
      "14\n",
      "15\n",
      "16\n",
      "17\n",
      "18\n",
      "19\n",
      "20\n",
      "21\n",
      "22\n",
      "23\n",
      "24\n",
      "25\n",
      "26\n",
      "27\n",
      "28\n",
      "29\n",
      "30\n",
      "31\n",
      "32\n",
      "33\n",
      "34\n",
      "35\n",
      "36\n",
      "37\n",
      "38\n",
      "39\n",
      "40\n",
      "41\n",
      "42\n",
      "43\n",
      "44\n",
      "45\n",
      "46\n",
      "47\n",
      "48\n",
      "49\n",
      "50\n",
      "51\n",
      "52\n",
      "53\n",
      "54\n",
      "55\n",
      "56\n",
      "57\n",
      "58\n",
      "59\n",
      "60\n",
      "61\n",
      "62\n",
      "63\n",
      "64\n",
      "65\n",
      "66\n",
      "67\n",
      "68\n",
      "69\n",
      "70\n",
      "71\n",
      "72\n",
      "73\n",
      "74\n",
      "75\n",
      "76\n",
      "77\n",
      "78\n",
      "79\n",
      "80\n",
      "81\n",
      "82\n",
      "83\n",
      "84\n",
      "85\n",
      "86\n",
      "87\n",
      "88\n",
      "89\n",
      "90\n",
      "91\n",
      "92\n",
      "93\n",
      "94\n",
      "95\n",
      "96\n",
      "97\n",
      "98\n",
      "99\n",
      "100\n",
      "101\n",
      "102\n",
      "103\n",
      "104\n",
      "105\n",
      "106\n",
      "107\n",
      "108\n",
      "109\n",
      "110\n",
      "111\n",
      "112\n",
      "113\n",
      "114\n",
      "115\n",
      "116\n",
      "117\n",
      "118\n",
      "119\n",
      "120\n",
      "121\n",
      "122\n",
      "123\n",
      "124\n",
      "125\n",
      "126\n",
      "127\n",
      "128\n",
      "129\n",
      "130\n",
      "131\n",
      "132\n",
      "133\n",
      "134\n",
      "135\n",
      "136\n",
      "137\n",
      "138\n",
      "139\n",
      "140\n",
      "141\n",
      "142\n",
      "143\n",
      "144\n",
      "145\n",
      "146\n",
      "147\n",
      "148\n",
      "149\n",
      "150\n",
      "151\n",
      "152\n",
      "153\n",
      "154\n",
      "155\n",
      "156\n",
      "157\n",
      "158\n",
      "159\n",
      "160\n",
      "161\n",
      "162\n",
      "163\n",
      "164\n",
      "165\n",
      "166\n",
      "167\n",
      "168\n",
      "169\n",
      "170\n",
      "171\n",
      "172\n",
      "173\n",
      "174\n",
      "175\n",
      "176\n",
      "177\n",
      "178\n",
      "179\n",
      "180\n",
      "181\n",
      "182\n",
      "183\n",
      "184\n",
      "185\n",
      "186\n",
      "187\n",
      "188\n",
      "189\n",
      "190\n",
      "191\n",
      "192\n",
      "193\n",
      "194\n",
      "195\n",
      "196\n",
      "197\n",
      "198\n",
      "199\n",
      "200\n",
      "201\n",
      "202\n",
      "203\n",
      "204\n",
      "205\n",
      "206\n",
      "207\n",
      "208\n",
      "209\n",
      "210\n",
      "211\n",
      "212\n",
      "213\n",
      "214\n",
      "215\n",
      "216\n",
      "217\n",
      "218\n",
      "219\n",
      "220\n",
      "221\n",
      "222\n",
      "223\n",
      "224\n",
      "225\n",
      "226\n",
      "227\n",
      "228\n",
      "229\n",
      "230\n",
      "231\n",
      "232\n",
      "233\n",
      "234\n",
      "235\n",
      "236\n",
      "237\n",
      "238\n",
      "239\n",
      "240\n",
      "241\n",
      "242\n",
      "243\n",
      "244\n",
      "245\n",
      "246\n",
      "247\n",
      "248\n",
      "249\n"
     ]
    }
   ],
   "source": [
    "################# NEEEEEEW #############################\n",
    "pos_stim=[]\n",
    "Iexts = []\n",
    "firings_wind = []\n",
    "\n",
    "for sim_ in np.arange(0,250,1): ##simulations used (all or a fraction e.j. np.arange(0,500,100)) )\n",
    "    #\n",
    "    print(sim_)\n",
    "    simx = io.loadmat(path_ + '\\\\' + all_[sim_])\n",
    "    ####\n",
    "    #### save position and I0E of each simulation\n",
    "    ####\n",
    "    pos_stim.append(360*simx['pos_stim'][0][0])\n",
    "    Iexts.append(simx['IEext'][0][0])\n",
    "\n",
    "    spikes = simx['spktm']\n",
    "    \n",
    "    Matrix_spikes=np.zeros([int(0.8*N0), time_s])\n",
    "\n",
    "    neurons_ = np.array([int(spikes[0][x]) for x in range(len(spikes[0]))])\n",
    "\n",
    "    times_ = np.array([spikes[1][x] for x in range(len(spikes[1]))])\n",
    "    times_ = times_ - min(times_)\n",
    "    times_ = np.array([int(times_[x]*1000) for x in range(len(times_))])\n",
    "\n",
    "    # dimensions = neurons, time_s\n",
    "    for t, n in zip(times_, neurons_ ):\n",
    "        Matrix_spikes[n,t]=1\n",
    "    ##\n",
    "    ####\n",
    "    #### STEP 2: calculate firing of each neuron in windows of 100ms (10)\n",
    "    ####\n",
    "    t1s = np.arange(0, time_s ,w)\n",
    "    t2s = np.arange(w, time_s+w, w)\n",
    "    ##\n",
    "    fr_time = []\n",
    "    for N in range(np.shape(Matrix_spikes)[0]):\n",
    "        neuron_fr = []\n",
    "        for i in range(len(t1s)):\n",
    "            neuron_fr.append(Matrix_spikes[N, t1s[i]:t2s[i]].sum()/ float(1000/w) ) \n",
    "        #\n",
    "        fr_time.append(neuron_fr)\n",
    "    ###\n",
    "    fr_time=np.array(fr_time)\n",
    "    ####\n",
    "    #### STEP 3: save the new matrix, this time with the dimension (neuron, time) ##time dimension is 700/w = 70\n",
    "    ####\n",
    "    firings_wind.append(fr_time)\n",
    "    \n",
    "    \n",
    "##\n",
    "IExts = np.array(Iexts) \n",
    "Positions=np.array(pos_stim)\n",
    "firings_wind = np.array(firings_wind)\n"
   ]
  },
  {
   "cell_type": "code",
   "execution_count": 31,
   "metadata": {},
   "outputs": [
    {
     "data": {
      "text/plain": [
       "(250, 16000)"
      ]
     },
     "execution_count": 31,
     "metadata": {},
     "output_type": "execute_result"
    }
   ],
   "source": [
    "firings_wind_final=firings_wind[:,:,-1]\n",
    "np.shape(firings_wind_final)"
   ]
  },
  {
   "cell_type": "code",
   "execution_count": 32,
   "metadata": {},
   "outputs": [],
   "source": [
    "Errors = []\n",
    "for i in range(len(Positions)):\n",
    "    simx_ = firings_wind_final[i]\n",
    "    target_ = Positions[i]\n",
    "    #\n",
    "    decoded_position = decode_rE(simx_, N=16000)\n",
    "    Error = err_deg(decoded_position, target_)\n",
    "    Errors.append(Error)\n"
   ]
  },
  {
   "cell_type": "code",
   "execution_count": 33,
   "metadata": {},
   "outputs": [],
   "source": [
    "abs_err = abs(np.array(Errors))"
   ]
  },
  {
   "cell_type": "code",
   "execution_count": 34,
   "metadata": {},
   "outputs": [
    {
     "data": {
      "text/html": [
       "<div>\n",
       "<style scoped>\n",
       "    .dataframe tbody tr th:only-of-type {\n",
       "        vertical-align: middle;\n",
       "    }\n",
       "\n",
       "    .dataframe tbody tr th {\n",
       "        vertical-align: top;\n",
       "    }\n",
       "\n",
       "    .dataframe thead th {\n",
       "        text-align: right;\n",
       "    }\n",
       "</style>\n",
       "<table border=\"1\" class=\"dataframe\">\n",
       "  <thead>\n",
       "    <tr style=\"text-align: right;\">\n",
       "      <th></th>\n",
       "      <th>Error</th>\n",
       "      <th>IExt</th>\n",
       "      <th>abs_error</th>\n",
       "      <th>stimulation</th>\n",
       "    </tr>\n",
       "  </thead>\n",
       "  <tbody>\n",
       "    <tr>\n",
       "      <th>0</th>\n",
       "      <td>26.46</td>\n",
       "      <td>0.0</td>\n",
       "      <td>26.46</td>\n",
       "      <td>OFF</td>\n",
       "    </tr>\n",
       "    <tr>\n",
       "      <th>1</th>\n",
       "      <td>24.32</td>\n",
       "      <td>0.0</td>\n",
       "      <td>24.32</td>\n",
       "      <td>OFF</td>\n",
       "    </tr>\n",
       "    <tr>\n",
       "      <th>2</th>\n",
       "      <td>41.30</td>\n",
       "      <td>0.0</td>\n",
       "      <td>41.30</td>\n",
       "      <td>OFF</td>\n",
       "    </tr>\n",
       "    <tr>\n",
       "      <th>3</th>\n",
       "      <td>40.79</td>\n",
       "      <td>0.0</td>\n",
       "      <td>40.79</td>\n",
       "      <td>OFF</td>\n",
       "    </tr>\n",
       "    <tr>\n",
       "      <th>4</th>\n",
       "      <td>78.63</td>\n",
       "      <td>0.0</td>\n",
       "      <td>78.63</td>\n",
       "      <td>OFF</td>\n",
       "    </tr>\n",
       "  </tbody>\n",
       "</table>\n",
       "</div>"
      ],
      "text/plain": [
       "   Error  IExt  abs_error stimulation\n",
       "0  26.46   0.0      26.46         OFF\n",
       "1  24.32   0.0      24.32         OFF\n",
       "2  41.30   0.0      41.30         OFF\n",
       "3  40.79   0.0      40.79         OFF\n",
       "4  78.63   0.0      78.63         OFF"
      ]
     },
     "execution_count": 34,
     "metadata": {},
     "output_type": "execute_result"
    }
   ],
   "source": [
    "df = pd.DataFrame({'Error':Errors, 'abs_error':abs_err, 'IExt':IExts })\n",
    "df['stimulation'] = df['IExt'].replace([0,0.5], ['OFF', 'ON'])\n",
    "df.head()"
   ]
  },
  {
   "cell_type": "code",
   "execution_count": 35,
   "metadata": {},
   "outputs": [],
   "source": [
    "pal_= sns.color_palette(\"cividis\", n_colors=6) #RdBu_r\n",
    "palette_ = [pal_.as_hex()[0], pal_.as_hex()[-1]]"
   ]
  },
  {
   "cell_type": "code",
   "execution_count": 40,
   "metadata": {},
   "outputs": [
    {
     "name": "stderr",
     "output_type": "stream",
     "text": [
      "C:\\Users\\David\\Anaconda3\\envs\\python3\\lib\\site-packages\\scipy\\stats\\stats.py:1713: FutureWarning: Using a non-tuple sequence for multidimensional indexing is deprecated; use `arr[tuple(seq)]` instead of `arr[seq]`. In the future this will be interpreted as an array index, `arr[np.array(seq)]`, which will result either in an error or a different result.\n",
      "  return np.add.reduce(sorted[indexer] * weights, axis=axis) / sumval\n"
     ]
    },
    {
     "data": {
      "image/png": "[encoded data removed]",
      "text/plain": [
       "<Figure size 432x288 with 1 Axes>"
      ]
     },
     "metadata": {},
     "output_type": "display_data"
    }
   ],
   "source": [
    "##windows de 100\n",
    "sns.barplot(x='stimulation', y='abs_error', data=df, order=['OFF', 'ON'], palette=palette_)\n",
    "plt.gca().spines['right'].set_visible(False)  # aesthetics                                                                              # remove right spines\n",
    "plt.gca().spines['top'].set_visible(False)                                                                                  # remove top spines\n",
    "plt.gca().get_xaxis().tick_bottom()                                                                                         \n",
    "plt.gca().get_yaxis().tick_left()\n",
    "plt.gca().tick_params(direction='in') #direction\n",
    "plt.ylabel('absolute error')\n",
    "plt.ylim(0,30);\n",
    "##"
   ]
  },
  {
   "cell_type": "code",
   "execution_count": 44,
   "metadata": {},
   "outputs": [
    {
     "name": "stderr",
     "output_type": "stream",
     "text": [
      "C:\\Users\\David\\Anaconda3\\envs\\python3\\lib\\site-packages\\scipy\\stats\\stats.py:1713: FutureWarning: Using a non-tuple sequence for multidimensional indexing is deprecated; use `arr[tuple(seq)]` instead of `arr[seq]`. In the future this will be interpreted as an array index, `arr[np.array(seq)]`, which will result either in an error or a different result.\n",
      "  return np.add.reduce(sorted[indexer] * weights, axis=axis) / sumval\n"
     ]
    },
    {
     "data": {
      "image/png": "[encoded data removed]",
      "text/plain": [
       "<Figure size 432x288 with 1 Axes>"
      ]
     },
     "metadata": {},
     "output_type": "display_data"
    }
   ],
   "source": [
    "sns.distplot(df.loc[df['stimulation']=='OFF', 'Error'].values, color=palette_[0], bins=30, label='OFF')\n",
    "sns.distplot(df.loc[df['stimulation']=='ON', 'Error'].values, color=palette_[1], bins=20, label='ON')\n",
    "plt.gca().spines['right'].set_visible(False)  # aesthetics                                                                              # remove right spines\n",
    "plt.gca().spines['top'].set_visible(False)                                                                                  # remove top spines\n",
    "plt.gca().get_xaxis().tick_bottom()                                                                                         \n",
    "plt.gca().get_yaxis().tick_left()\n",
    "plt.gca().tick_params(direction='in') #direction\n",
    "plt.legend(frameon=False);\n",
    "##"
   ]
  },
  {
   "cell_type": "code",
   "execution_count": null,
   "metadata": {},
   "outputs": [],
   "source": []
  },
  {
   "cell_type": "code",
   "execution_count": null,
   "metadata": {},
   "outputs": [],
   "source": []
  },
  {
   "cell_type": "code",
   "execution_count": 27,
   "metadata": {},
   "outputs": [
    {
     "name": "stderr",
     "output_type": "stream",
     "text": [
      "C:\\Users\\David\\Anaconda3\\envs\\python3\\lib\\site-packages\\scipy\\stats\\stats.py:1713: FutureWarning: Using a non-tuple sequence for multidimensional indexing is deprecated; use `arr[tuple(seq)]` instead of `arr[seq]`. In the future this will be interpreted as an array index, `arr[np.array(seq)]`, which will result either in an error or a different result.\n",
      "  return np.add.reduce(sorted[indexer] * weights, axis=axis) / sumval\n"
     ]
    },
    {
     "data": {
      "text/plain": [
       "Text(0,0.5,'absolute error')"
      ]
     },
     "execution_count": 27,
     "metadata": {},
     "output_type": "execute_result"
    },
    {
     "data": {
      "image/png": "[encoded data removed]",
      "text/plain": [
       "<Figure size 432x288 with 1 Axes>"
      ]
     },
     "metadata": {
      "needs_background": "light"
     },
     "output_type": "display_data"
    }
   ],
   "source": [
    "##windows de 500\n",
    "sns.barplot(x='stimulation', y='abs_error', data=df, order=['OFF', 'ON'], palette=palette_)\n",
    "plt.gca().spines['right'].set_visible(False)  # aesthetics                                                                              # remove right spines\n",
    "plt.gca().spines['top'].set_visible(False)                                                                                  # remove top spines\n",
    "plt.gca().get_xaxis().tick_bottom()                                                                                         \n",
    "plt.gca().get_yaxis().tick_left()\n",
    "plt.gca().tick_params(direction='in') #direction\n",
    "plt.ylabel('absolute error')\n",
    "#plt.ylim(0,60);\n",
    "##"
   ]
  },
  {
   "cell_type": "code",
   "execution_count": 16,
   "metadata": {},
   "outputs": [
    {
     "name": "stderr",
     "output_type": "stream",
     "text": [
      "C:\\Users\\David\\Anaconda3\\envs\\python3\\lib\\site-packages\\scipy\\stats\\stats.py:1713: FutureWarning: Using a non-tuple sequence for multidimensional indexing is deprecated; use `arr[tuple(seq)]` instead of `arr[seq]`. In the future this will be interpreted as an array index, `arr[np.array(seq)]`, which will result either in an error or a different result.\n",
      "  return np.add.reduce(sorted[indexer] * weights, axis=axis) / sumval\n"
     ]
    },
    {
     "data": {
      "text/plain": [
       "Text(0,0.5,'absolute error')"
      ]
     },
     "execution_count": 16,
     "metadata": {},
     "output_type": "execute_result"
    },
    {
     "data": {
      "image/png": "[encoded data removed]",
      "text/plain": [
       "<Figure size 432x288 with 1 Axes>"
      ]
     },
     "metadata": {
      "needs_background": "light"
     },
     "output_type": "display_data"
    }
   ],
   "source": [
    "##windows de 1000\n",
    "sns.barplot(x='stimulation', y='abs_error', data=df, order=['OFF', 'ON'], palette=palette_)\n",
    "plt.gca().spines['right'].set_visible(False)  # aesthetics                                                                              # remove right spines\n",
    "plt.gca().spines['top'].set_visible(False)                                                                                  # remove top spines\n",
    "plt.gca().get_xaxis().tick_bottom()                                                                                         \n",
    "plt.gca().get_yaxis().tick_left()\n",
    "plt.gca().tick_params(direction='in') #direction\n",
    "plt.ylabel('absolute error')\n",
    "#plt.ylim(0,60);\n",
    "##"
   ]
  },
  {
   "cell_type": "code",
   "execution_count": null,
   "metadata": {},
   "outputs": [],
   "source": []
  },
  {
   "cell_type": "code",
   "execution_count": null,
   "metadata": {},
   "outputs": [],
   "source": []
  },
  {
   "cell_type": "code",
   "execution_count": null,
   "metadata": {},
   "outputs": [],
   "source": []
  },
  {
   "cell_type": "code",
   "execution_count": null,
   "metadata": {},
   "outputs": [],
   "source": []
  },
  {
   "cell_type": "code",
   "execution_count": 48,
   "metadata": {},
   "outputs": [],
   "source": [
    "def circ_dist(a1,a2):\n",
    "    ## Returns the minimal distance in angles between to angles \n",
    "    op1=abs(a2-a1)\n",
    "    angs=[a1,a2]\n",
    "    op2=min(angs)+(360-max(angs))\n",
    "    options=[op1,op2]\n",
    "    return min(options)"
   ]
  },
  {
   "cell_type": "code",
   "execution_count": 45,
   "metadata": {},
   "outputs": [],
   "source": [
    "IExts = np.array(Iexts) \n",
    "Positions=np.array(pos_stim)\n",
    "firings_wind = np.array(firings_wind)"
   ]
  },
  {
   "cell_type": "code",
   "execution_count": 46,
   "metadata": {},
   "outputs": [],
   "source": [
    "Neurons_  = np.arange(0,16000,1000) ## np.arange(0,16000,1) \n",
    "Windows_ =np.arange(0,7000,w)  "
   ]
  },
  {
   "cell_type": "code",
   "execution_count": 49,
   "metadata": {
    "scrolled": true
   },
   "outputs": [
    {
     "name": "stdout",
     "output_type": "stream",
     "text": [
      "0 0\n",
      "0 100\n",
      "0 200\n",
      "0 300\n",
      "0 400\n",
      "0 500\n",
      "0 600\n",
      "0 700\n",
      "0 800\n",
      "0 900\n",
      "0 1000\n",
      "0 1100\n",
      "0 1200\n",
      "0 1300\n",
      "0 1400\n",
      "0 1500\n",
      "0 1600\n",
      "0 1700\n",
      "0 1800\n",
      "0 1900\n",
      "0 2000\n",
      "0 2100\n",
      "0 2200\n",
      "0 2300\n",
      "0 2400\n",
      "0 2500\n",
      "0 2600\n",
      "0 2700\n",
      "0 2800\n",
      "0 2900\n",
      "0 3000\n",
      "0 3100\n",
      "0 3200\n",
      "0 3300\n",
      "0 3400\n",
      "0 3500\n",
      "0 3600\n",
      "0 3700\n",
      "0 3800\n",
      "0 3900\n",
      "0 4000\n",
      "0 4100\n",
      "0 4200\n",
      "0 4300\n",
      "0 4400\n",
      "0 4500\n",
      "0 4600\n",
      "0 4700\n",
      "0 4800\n",
      "0 4900\n",
      "0 5000\n",
      "0 5100\n",
      "0 5200\n",
      "0 5300\n",
      "0 5400\n",
      "0 5500\n",
      "0 5600\n",
      "0 5700\n",
      "0 5800\n",
      "0 5900\n",
      "0 6000\n",
      "0 6100\n",
      "0 6200\n",
      "0 6300\n",
      "0 6400\n",
      "0 6500\n",
      "0 6600\n",
      "0 6700\n",
      "0 6800\n",
      "0 6900\n",
      "0.5 0\n",
      "0.5 100\n",
      "0.5 200\n",
      "0.5 300\n",
      "0.5 400\n",
      "0.5 500\n",
      "0.5 600\n",
      "0.5 700\n",
      "0.5 800\n",
      "0.5 900\n",
      "0.5 1000\n",
      "0.5 1100\n",
      "0.5 1200\n",
      "0.5 1300\n",
      "0.5 1400\n",
      "0.5 1500\n",
      "0.5 1600\n",
      "0.5 1700\n",
      "0.5 1800\n",
      "0.5 1900\n",
      "0.5 2000\n",
      "0.5 2100\n",
      "0.5 2200\n",
      "0.5 2300\n",
      "0.5 2400\n",
      "0.5 2500\n",
      "0.5 2600\n",
      "0.5 2700\n",
      "0.5 2800\n",
      "0.5 2900\n",
      "0.5 3000\n",
      "0.5 3100\n",
      "0.5 3200\n",
      "0.5 3300\n",
      "0.5 3400\n",
      "0.5 3500\n",
      "0.5 3600\n",
      "0.5 3700\n",
      "0.5 3800\n",
      "0.5 3900\n",
      "0.5 4000\n",
      "0.5 4100\n",
      "0.5 4200\n",
      "0.5 4300\n",
      "0.5 4400\n",
      "0.5 4500\n",
      "0.5 4600\n",
      "0.5 4700\n",
      "0.5 4800\n",
      "0.5 4900\n",
      "0.5 5000\n",
      "0.5 5100\n",
      "0.5 5200\n",
      "0.5 5300\n",
      "0.5 5400\n",
      "0.5 5500\n",
      "0.5 5600\n",
      "0.5 5700\n",
      "0.5 5800\n",
      "0.5 5900\n",
      "0.5 6000\n",
      "0.5 6100\n",
      "0.5 6200\n",
      "0.5 6300\n",
      "0.5 6400\n",
      "0.5 6500\n",
      "0.5 6600\n",
      "0.5 6700\n",
      "0.5 6800\n",
      "0.5 6900\n"
     ]
    }
   ],
   "source": [
    "Iext_ = [0, 0.5]\n",
    "\n",
    "\n",
    "lim_RF = 45/4 ##limit to consider a position is inside the RF of the neuron\n",
    "base_fpr = np.linspace(0, 1, 101)\n",
    "\n",
    "number_Iexs = len(Iext_)\n",
    "number_neurons=len(Neurons_)\n",
    "number_windows = len(Windows_)\n",
    "\n",
    "\n",
    "auc_ = np.zeros((number_Iexs, number_windows, number_neurons))\n",
    "#tprs_ =np.zeros((number_Iexs, number_windows))\n",
    "\n",
    "\n",
    "for idx_Iext, IEXT in enumerate(Iext_):\n",
    "    for idx_wind, wind in enumerate(Windows_):\n",
    "        print(IEXT, wind)\n",
    "        for idx_neuron, Neuron in enumerate(Neurons_):\n",
    "            ###\n",
    "            ### Get the positions of the appropiate Iext\n",
    "            nx_positions=Positions[IExts==IEXT]\n",
    "            ###\n",
    "            ### Get the simulations of the appropiate Iext\n",
    "            nx_rates_iex = firings_wind[IExts==IEXT]\n",
    "            ###\n",
    "            ### Get the firing of the neuron at a certain window in each simulation\n",
    "            nx_rates = np.array([nx_rates_iex[n][Neuron, idx_wind] for n in range(len(nx_rates_iex))])\n",
    "            ###\n",
    "            dfx = pd.DataFrame({'position':nx_positions, 'rate':nx_rates, 'Neuron':Neuron, 'wind':wind})\n",
    "            ###\n",
    "            ### RF center of each neuro\n",
    "            index_max_rate = np.where(dfx['rate']==dfx['rate'].max())[0][0]\n",
    "            RF_center = dfx['position'].iloc[index_max_rate]\n",
    "            dfx['RF_center'] = RF_center\n",
    "            in_out_rf = []\n",
    "            for p in range(len(dfx)):\n",
    "                dist_ = circ_dist(RF_center, dfx.position.iloc[p])\n",
    "                if dist_>lim_RF:\n",
    "                    in_out_rf.append(5) #outside RF\n",
    "                else:\n",
    "                    in_out_rf.append(1) #inside RF\n",
    "            #####\n",
    "            dfx['in_out_rf']=in_out_rf\n",
    "            ###\n",
    "            ## appropiate shape for the classifier\n",
    "            y = label_binarize(dfx['in_out_rf'].values, classes=[5,1]) #matrix (1,0,0,...,0)\n",
    "            y=y.ravel()\n",
    "            ######\n",
    "            if len(np.unique(y))==1:\n",
    "                mean_tprs = np.empty(np.shape(base_fpr))*np.nan\n",
    "            else:\n",
    "                fpr, tpr, _ = roc_curve(y, dfx['rate'].values) #HERE: compute ROC with raw firing rate\n",
    "                tpr = np.interp(base_fpr, fpr, tpr)\n",
    "                tpr[0] = 0.0\n",
    "                mean_tprs = tpr\n",
    "            \n",
    "            #tprs_[idx_Iext, idx_wind] = mean_tprs\n",
    "            ##\n",
    "            auc_[idx_Iext, idx_wind, idx_neuron] = auc(base_fpr, mean_tprs)\n",
    "            ##\n",
    "\n",
    "\n",
    "            "
   ]
  },
  {
   "cell_type": "code",
   "execution_count": 50,
   "metadata": {},
   "outputs": [],
   "source": [
    "### Mean AUC of all neurons in each Iex and window\n",
    "\n",
    "Mean_auc = []\n",
    "exts=[]\n",
    "times_=[]\n",
    "\n",
    "for idx_Iext, IEXT in enumerate(Iext_):\n",
    "    for idx_wind, wind in enumerate(Windows_):\n",
    "        auc_wind = auc_[idx_Iext, idx_wind, :] \n",
    "        ind = np.isnan(auc_wind)\n",
    "        ##\n",
    "        Mean_auc.append(np.mean(auc_wind[~ind]) )\n",
    "        exts.append(IEXT)\n",
    "        times_.append(wind*w)\n",
    "        \n",
    "##\n",
    "\n",
    "df_mean_auc = pd.DataFrame({'AUC':Mean_auc, 'Iext':exts, 'time':times_})\n",
    "df_mean_auc[' '] = df_mean_auc['Iext'].replace([0, 0.5], ['OFF', 'ON'])"
   ]
  },
  {
   "cell_type": "code",
   "execution_count": 51,
   "metadata": {},
   "outputs": [
    {
     "data": {
      "image/png": "[encoded data removed]",
      "text/plain": [
       "<Figure size 432x72 with 1 Axes>"
      ]
     },
     "metadata": {},
     "output_type": "display_data"
    }
   ],
   "source": [
    "pal_= sns.color_palette(\"cividis\", n_colors=6) #RdBu_r\n",
    "sns.palplot(pal_)\n",
    "plt.show()\n",
    "palette_ = [pal_.as_hex()[0], pal_.as_hex()[-1]]"
   ]
  },
  {
   "cell_type": "code",
   "execution_count": 55,
   "metadata": {},
   "outputs": [
    {
     "name": "stderr",
     "output_type": "stream",
     "text": [
      "C:\\Users\\David\\Anaconda3\\envs\\python3\\lib\\site-packages\\matplotlib\\legend.py:641: UserWarning: Unrecognized location \"top right\". Falling back on \"best\"; valid locations are\n",
      "\tlower right\n",
      "\tupper center\n",
      "\tbest\n",
      "\tupper left\n",
      "\tlower center\n",
      "\tcenter right\n",
      "\tcenter left\n",
      "\tright\n",
      "\tlower left\n",
      "\tcenter\n",
      "\tupper right\n",
      "\n",
      "  % (loc, '\\n\\t'.join(self.codes)))\n"
     ]
    },
    {
     "data": {
      "image/png": "[encoded data removed]",
      "text/plain": [
       "<Figure size 432x288 with 1 Axes>"
      ]
     },
     "metadata": {},
     "output_type": "display_data"
    }
   ],
   "source": [
    "ax=plt.figure()\n",
    "\n",
    "sns.lineplot(x='time', y='AUC', hue=' ', hue_order=['OFF', 'ON'], data=df_mean_auc, palette=palette_)\n",
    "#plt.xlim(10,700)\n",
    "#plt.xticks([100,250,400,550,700], fontsize=20)\n",
    "plt.ylim([0.5, 1.])\n",
    "plt.yticks([0.5, 0.75, 1], fontsize=20)\n",
    "plt.ylabel('AUC', fontsize=25)\n",
    "plt.xlabel('time (ms)', fontsize=25)\n",
    "plt.title('')\n",
    "plt.legend(loc=\"top right\", fontsize=20, frameon=False)\n",
    "plt.gca().spines['right'].set_visible(False)  # aesthetics                                                                              # remove right spines\n",
    "plt.gca().spines['top'].set_visible(False)                                                                                  # remove top spines\n",
    "plt.gca().get_xaxis().tick_bottom()                                                                                         \n",
    "plt.gca().get_yaxis().tick_left()\n",
    "plt.gca().tick_params(direction='in') #direction\n",
    "#plt.plot([200,200], [0.5, 0.95], 'k--', linewidth=1)\n",
    "#plt.plot([300,300], [0.5, 0.95], 'k--', linewidth=1)\n",
    "plt.fill_between([200000,300000], [0.95, 0.95], color='lightgrey')\n",
    "plt.show()"
   ]
  },
  {
   "cell_type": "code",
   "execution_count": null,
   "metadata": {},
   "outputs": [],
   "source": []
  }
 ],
 "metadata": {
  "kernelspec": {
   "display_name": "Python 3",
   "language": "python",
   "name": "python3"
  },
  "language_info": {
   "codemirror_mode": {
    "name": "ipython",
    "version": 3
   },
   "file_extension": ".py",
   "mimetype": "text/x-python",
   "name": "python",
   "nbconvert_exporter": "python",
   "pygments_lexer": "ipython3",
   "version": "3.5.6"
  }
 },
 "nbformat": 4,
 "nbformat_minor": 2
}
