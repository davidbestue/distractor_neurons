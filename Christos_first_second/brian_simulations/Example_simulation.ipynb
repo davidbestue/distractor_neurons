{
 "cells": [
  {
   "cell_type": "code",
   "execution_count": 2,
   "metadata": {},
   "outputs": [],
   "source": [
    "from linares_plot import *\n",
    "import scipy.io as io\n",
    "import pickle\n"
   ]
  },
  {
   "cell_type": "code",
   "execution_count": 161,
   "metadata": {},
   "outputs": [
    {
     "data": {
      "text/plain": [
       "'C:\\\\Users\\\\David\\\\Documents\\\\GitHub\\\\distractor_neurons\\\\Christos_first_second\\\\brian_simulations'"
      ]
     },
     "execution_count": 161,
     "metadata": {},
     "output_type": "execute_result"
    }
   ],
   "source": [
    "import os\n",
    "os.getcwd()"
   ]
  },
  {
   "cell_type": "code",
   "execution_count": 173,
   "metadata": {},
   "outputs": [],
   "source": [
    "data = io.loadmat('C:\\\\Users\\\\David\\\\Desktop\\\\IDIBAPS\\\\brian_simulations\\\\results_simulation4.mat') #,{'rate':rates, 'spktm': spikes.it})\n",
    "spikes = data['spktm']"
   ]
  },
  {
   "cell_type": "code",
   "execution_count": 177,
   "metadata": {},
   "outputs": [],
   "source": [
    "data = io.loadmat('C:\\\\Users\\\\David\\\\Desktop\\\\IDIBAPS\\\\brian_simulations\\\\results_simulation_10000.mat') #,{'rate':rates, 'spktm': spikes.it})\n",
    "spikes = data['spktm']"
   ]
  },
  {
   "cell_type": "code",
   "execution_count": 178,
   "metadata": {
    "scrolled": true
   },
   "outputs": [
    {
     "data": {
      "text/plain": [
       "array([  35.,  146.,  199.,  211.,  237.,  295.,  411.,  421.,  464.,\n",
       "        598.,  604.,  747., 1020., 1021., 1142., 1245., 1387., 1589.,\n",
       "       1629., 1908., 1976., 2053., 2246., 2411., 2799., 2845., 2852.,\n",
       "       2949., 3455., 3501., 3559., 3578., 3612., 3754., 3784., 4295.,\n",
       "       4520., 4694., 4707., 4762., 4836., 4838., 4863., 5048., 5068.,\n",
       "       5127., 5216., 5578., 5602., 5693., 5949., 5952., 6177., 6179.,\n",
       "       6184., 6406., 6463., 6626., 6866., 6921., 6983., 6984., 7071.,\n",
       "       7097., 7182., 7268., 7403., 7405., 7457., 7544., 7566., 7680.,\n",
       "       7743., 7899.,  266.,  492.,  595.,  611.,  933., 1217., 1662.,\n",
       "       1737., 1792., 1823., 1826., 2085., 2154., 2196., 2209., 2506.,\n",
       "       2615., 2631., 2674., 3004., 3017., 3572., 3648., 3725., 3767.,\n",
       "       3832., 3966., 4129., 4477., 4507., 4698., 4717., 4809., 4870.,\n",
       "       4891., 4908., 4930., 5027., 5086., 5428., 5459., 5478., 5480.,\n",
       "       5599., 5625., 5639., 6318., 6615., 6723., 7002., 7228., 7421.,\n",
       "       7547., 7759.,  122.,  219.,  726., 1052., 1097., 1226., 1311.,\n",
       "       1357., 1362., 1426., 1438., 1618., 1922., 2160., 2234., 2400.,\n",
       "       2581., 2619., 2684., 2769., 2958., 3901., 4141., 4215., 4664.,\n",
       "       4998., 5174., 5286., 5384., 5770., 5847., 5867., 6493., 6888.,\n",
       "       7145., 7174., 7389., 7589., 7636., 7707., 7828.,  158.,  160.,\n",
       "        534.,  921., 1282., 1349., 1677., 1860., 2027., 2094., 2259.,\n",
       "       3027., 3138., 3424., 3750., 4290., 4578., 4782., 4898., 5017.,\n",
       "       5585., 5789., 6518., 6901., 6972., 7880.,  322.,  778., 1066.,\n",
       "       1285., 1593., 1881., 2041., 2352., 2503., 2636., 2749., 3297.,\n",
       "       3691., 4510., 5396., 7969.,  445.,  883., 2474., 3674., 4306.,\n",
       "       7482.,   71., 2012., 4132., 3807., 4204., 3909., 4158., 4586.,\n",
       "       3763., 4110., 4047., 3764., 3198., 4030., 4107., 4440., 3982.,\n",
       "       4132., 3807., 4083., 3599., 3999., 4188., 4158., 4204., 3531.,\n",
       "       3976., 3973., 4160., 4065., 4448., 4218., 4586., 4260., 3198.,\n",
       "       3763., 3909., 4440., 3982., 4204., 4079., 4110., 4107., 4083.,\n",
       "       3856., 4132., 4429., 3807., 4464., 4158., 4052., 3764., 4288.,\n",
       "       4053., 3938., 4079., 4022., 4204., 4047., 4132., 4083., 3873.,\n",
       "       4188., 3976., 3887., 4158., 3909., 4586., 4429., 4222., 4464.,\n",
       "       4052., 3856., 3807., 4132., 3198., 3764., 4171., 4158., 3999.,\n",
       "       4204., 3767., 3976., 4586., 3909., 4448., 4030., 3868., 3807.,\n",
       "       4158., 4083., 3531., 3973., 4260., 4132., 3198., 3706., 4204.,\n",
       "       3976., 4090., 4110., 4188., 3887., 4586., 4291., 4158., 3764.,\n",
       "       3909., 3419., 4429., 4079., 4171., 4132., 3807., 4106., 4288.,\n",
       "       3973., 4083., 3763., 3987., 3982., 4107., 4448., 3695., 3198.,\n",
       "       4586., 4204., 3807., 3536., 4314., 4111., 4464., 4158., 4260.,\n",
       "       3435., 4146., 4090., 3767., 3909., 3976., 4188., 4132., 4083.,\n",
       "       4110., 3998., 3938., 3887., 3764., 3198., 3807., 3982., 3856.,\n",
       "       4204., 3763., 4079., 4448., 3999., 4586., 3599., 4158., 3531.,\n",
       "       4052., 4464., 3871., 3909., 4030., 4188., 4132., 3976., 3706.,\n",
       "       3498., 3973., 4083., 4053., 4047., 4204., 4090., 4288., 3764.,\n",
       "       3956., 4158., 4171., 3807., 3982., 3873., 3198., 4132., 4110.,\n",
       "       3909., 3845., 3616., 4586., 4440., 4111., 4232., 4429., 4188.,\n",
       "       4291., 3973., 4158., 4083., 3911., 4140., 3856., 4204., 4448.,\n",
       "       4160., 4030., 3764., 3887., 3531., 4260., 3976., 3706., 4132.,\n",
       "       4047., 3198., 4158., 3923., 4197., 3807., 3938., 3982., 3987.,\n",
       "       4052., 3909., 4053., 3856., 3973., 4065., 3764., 4188., 4107.,\n",
       "       4429., 4158., 4586., 4204., 3807., 3945., 4030., 4132., 4079.,\n",
       "       3976., 4464., 3909., 3956., 4083., 4188., 4186., 4440., 3763.,\n",
       "       4448., 4288., 3198., 4140., 4096., 3531., 4586., 4132., 3616.,\n",
       "       4158., 3473., 3887., 3987., 3982., 3764., 3999., 4204., 3807.,\n",
       "       4110., 4079., 3976., 3984., 4171., 4188., 4052., 4132., 3909.,\n",
       "       3856., 4083., 4030., 4586., 4260., 4429., 4107., 4158., 4047.,\n",
       "       3531., 3938., 3198., 3807., 4197., 4204., 3918., 4464., 4034.,\n",
       "       3796., 3764., 3763., 4079., 4188., 3976., 4288., 4160., 4158.,\n",
       "       3616., 4052., 3984., 4083., 4132., 4586., 4053., 4204., 3599.,\n",
       "       4260., 3973., 3473., 4107., 4202., 3856., 4158., 3887., 3763.,\n",
       "       4448., 3807., 3909., 3198., 4440., 3923., 4072., 4429., 4132.,\n",
       "       3945., 4464., 3976., 3767., 4232., 4204., 4034., 3987., 4188.,\n",
       "       3938., 3764., 4110., 3536., 4083., 3918.])"
      ]
     },
     "execution_count": 178,
     "metadata": {},
     "output_type": "execute_result"
    }
   ],
   "source": [
    "spikes[1] ## todos los tiempos donde ha habido un spike\n",
    "spikes[0] ## la neurona correspondiente que ha hecho el spike"
   ]
  },
  {
   "cell_type": "code",
   "execution_count": 180,
   "metadata": {},
   "outputs": [
    {
     "data": {
      "image/png": "[encoded data removed]",
      "text/plain": [
       "<Figure size 432x288 with 1 Axes>"
      ]
     },
     "metadata": {
      "needs_background": "light"
     },
     "output_type": "display_data"
    }
   ],
   "source": [
    "time_s =10\n",
    "N=0.8*10000 #(el 80% son excitadoras)\n",
    "stim_on=2\n",
    "stim_off=3\n",
    "\n",
    "\n",
    "stim_on/time_s\n",
    "\n",
    "fig, ax = plt.subplots()\n",
    "ax.plot(spikes[1],spikes[0], '.', markersize=2, color='black')\n",
    "ax.set_facecolor(\"orange\")\n",
    "plt.xlim(0,time_s)\n",
    "plt.ylim(0,N)\n",
    "\n",
    "# ax = fig.add_subplot(1, 1, 1)\n",
    "inf=1.03\n",
    "sup=1.11\n",
    "ax.annotate('', xy=(0, inf), xycoords='axes fraction', xytext=(stim_on/time_s, inf), arrowprops=dict(arrowstyle=\"-\", color='black'))\n",
    "ax.annotate('', xy=(stim_on/time_s, inf), xycoords='axes fraction', xytext=(stim_on/time_s, sup), arrowprops=dict(arrowstyle=\"-\", color='orange'))\n",
    "ax.annotate('', xy=(stim_on/time_s, sup), xycoords='axes fraction', xytext=(stim_off/time_s, sup), arrowprops=dict(arrowstyle=\"-\", color='orange'))\n",
    "ax.annotate('', xy=(stim_off/time_s, sup), xycoords='axes fraction', xytext=(stim_off/time_s, inf), arrowprops=dict(arrowstyle=\"-\", color='orange'))\n",
    "ax.annotate('', xy=(stim_off/time_s, inf), xycoords='axes fraction', xytext=(1, inf), arrowprops=dict(arrowstyle=\"-\", color='black'))\n",
    "\n",
    "ax.annotate('', xy=(1-1/time_s, -.06), xycoords='axes fraction', xytext=(1, -.06), arrowprops=dict(arrowstyle=\"-\", color='black'))\n",
    "plt.text(time_s-0.6, -0.15*N, '1s', fontsize=20) ##en función de time_s y N\n",
    "plt.gca().set_xticks([])\n",
    "plt.gca().set_xticklabels([])\n",
    "\n",
    "plt.gca().set_yticks([0, int(N/4), int(N/2),  int(3*N/4), int(N) ])\n",
    "plt.gca().set_yticklabels(['0','','180', '', '360'], fontsize=20)\n",
    "plt.gca().set_ylabel('neuron preferred ($^\\circ$)', fontsize=20);\n"
   ]
  },
  {
   "cell_type": "code",
   "execution_count": 176,
   "metadata": {},
   "outputs": [
    {
     "data": {
      "text/plain": [
       "[<matplotlib.lines.Line2D at 0x1c0e74bf438>]"
      ]
     },
     "execution_count": 176,
     "metadata": {},
     "output_type": "execute_result"
    },
    {
     "data": {
      "image/png": "[encoded data removed]",
      "text/plain": [
       "<Figure size 432x288 with 1 Axes>"
      ]
     },
     "metadata": {
      "needs_background": "light"
     },
     "output_type": "display_data"
    }
   ],
   "source": [
    "### Rate de todas las neuronas durante el delay\n",
    "plt.plot(data['rate'][0])"
   ]
  },
  {
   "cell_type": "code",
   "execution_count": 62,
   "metadata": {},
   "outputs": [],
   "source": [
    "## aquí tienes los spiketimes da cada una d elas neuronas\n",
    "\n",
    "dict_spiketimes = pickle.load( open( \"C:\\\\Users\\\\David\\\\Desktop\\\\IDIBAPS\\\\brian_simulations\\\\dict_spiketimes.pkl\", \"rb\" ), \n",
    "                              encoding='latin1' )\n",
    "\n",
    "dict_spiketimes"
   ]
  },
  {
   "cell_type": "code",
   "execution_count": null,
   "metadata": {},
   "outputs": [],
   "source": []
  }
 ],
 "metadata": {
  "kernelspec": {
   "display_name": "Python 3",
   "language": "python",
   "name": "python3"
  },
  "language_info": {
   "codemirror_mode": {
    "name": "ipython",
    "version": 3
   },
   "file_extension": ".py",
   "mimetype": "text/x-python",
   "name": "python",
   "nbconvert_exporter": "python",
   "pygments_lexer": "ipython3",
   "version": "3.5.6"
  }
 },
 "nbformat": 4,
 "nbformat_minor": 2
}
