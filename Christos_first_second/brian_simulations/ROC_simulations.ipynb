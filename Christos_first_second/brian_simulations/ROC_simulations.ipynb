{
 "cells": [
  {
   "cell_type": "code",
   "execution_count": 1,
   "metadata": {},
   "outputs": [],
   "source": [
    "from linares_plot import *\n",
    "import scipy.io as io\n",
    "import pickle\n",
    "from scipy.ndimage import gaussian_filter\n",
    "from scipy import misc\n",
    "import os\n"
   ]
  },
  {
   "cell_type": "code",
   "execution_count": 3,
   "metadata": {},
   "outputs": [],
   "source": [
    "path_ = 'C:\\\\Users\\\\David\\\\Desktop\\\\IDIBAPS\\\\brian_simulations\\\\r2'\n",
    "all_= os.listdir(path_)"
   ]
  },
  {
   "cell_type": "code",
   "execution_count": 4,
   "metadata": {},
   "outputs": [
    {
     "data": {
      "text/plain": [
       "641"
      ]
     },
     "execution_count": 4,
     "metadata": {},
     "output_type": "execute_result"
    }
   ],
   "source": [
    "len(all_)"
   ]
  },
  {
   "cell_type": "code",
   "execution_count": 23,
   "metadata": {},
   "outputs": [
    {
     "data": {
      "text/plain": [
       "dict_keys(['__version__', 'pos_stim', 'errtm', 'dectm', '__header__', 'ratedelay', '__globals__', 'IEext'])"
      ]
     },
     "execution_count": 23,
     "metadata": {},
     "output_type": "execute_result"
    }
   ],
   "source": [
    "data = io.loadmat(path_ + '\\\\' + all_[500]) #,{'rate':rates, 'spktm': spikes.it})\n",
    "data.keys()"
   ]
  },
  {
   "cell_type": "code",
   "execution_count": 24,
   "metadata": {},
   "outputs": [
    {
     "data": {
      "text/plain": [
       "16000"
      ]
     },
     "execution_count": 24,
     "metadata": {},
     "output_type": "execute_result"
    }
   ],
   "source": [
    "len(data['ratedelay'][0])"
   ]
  },
  {
   "cell_type": "code",
   "execution_count": 25,
   "metadata": {},
   "outputs": [
    {
     "data": {
      "text/plain": [
       "0.5"
      ]
     },
     "execution_count": 25,
     "metadata": {},
     "output_type": "execute_result"
    }
   ],
   "source": [
    "data['IEext'][0][0]"
   ]
  },
  {
   "cell_type": "code",
   "execution_count": 26,
   "metadata": {},
   "outputs": [
    {
     "data": {
      "text/plain": [
       "0.0"
      ]
     },
     "execution_count": 26,
     "metadata": {},
     "output_type": "execute_result"
    }
   ],
   "source": [
    "data['pos_stim'][0][0]"
   ]
  },
  {
   "cell_type": "code",
   "execution_count": 46,
   "metadata": {},
   "outputs": [],
   "source": [
    "rates_=[]\n",
    "pos_stim = []\n",
    "Iexts=[]\n",
    "\n",
    "for sim_ in range(len(all_)): #len(all_)\n",
    "    simx = io.loadmat(path_ + '\\\\' + all_[sim_])\n",
    "    rates_.append(simx['ratedelay'][0])\n",
    "    pos_stim.append(360*simx['pos_stim'][0][0])\n",
    "    Iexts.append(simx['IEext'][0][0])\n",
    "\n",
    "###\n",
    "Rates = np.array(rates_)\n",
    "IExts = np.array(Iexts) \n",
    "Positions=np.array(pos_stim)"
   ]
  },
  {
   "cell_type": "code",
   "execution_count": 39,
   "metadata": {},
   "outputs": [
    {
     "data": {
      "text/plain": [
       "(641, 16000)"
      ]
     },
     "execution_count": 39,
     "metadata": {},
     "output_type": "execute_result"
    }
   ],
   "source": [
    "np.shape(Rates)"
   ]
  },
  {
   "cell_type": "code",
   "execution_count": 40,
   "metadata": {},
   "outputs": [
    {
     "data": {
      "text/plain": [
       "array([[12.25,  0.25, 18.5 , ..., 32.  ,  0.5 ,  0.75],\n",
       "       [12.5 ,  0.5 , 19.5 , ..., 31.25,  0.  ,  0.75],\n",
       "       [13.25,  0.5 , 19.5 , ..., 31.5 ,  0.5 ,  0.5 ],\n",
       "       ...,\n",
       "       [ 0.  ,  0.  ,  0.25, ...,  6.25,  0.  ,  0.  ],\n",
       "       [ 0.25,  0.  ,  0.  , ...,  6.75,  0.  ,  0.  ],\n",
       "       [ 0.25,  0.  ,  0.  , ...,  6.25,  0.  ,  0.  ]])"
      ]
     },
     "execution_count": 40,
     "metadata": {},
     "output_type": "execute_result"
    }
   ],
   "source": [
    "Rates"
   ]
  },
  {
   "cell_type": "code",
   "execution_count": 47,
   "metadata": {},
   "outputs": [
    {
     "data": {
      "text/plain": [
       "array([0.  , 0.25, 0.5 ])"
      ]
     },
     "execution_count": 47,
     "metadata": {},
     "output_type": "execute_result"
    }
   ],
   "source": [
    "np.unique(IExts)"
   ]
  },
  {
   "cell_type": "code",
   "execution_count": 50,
   "metadata": {},
   "outputs": [
    {
     "data": {
      "text/plain": [
       "250"
      ]
     },
     "execution_count": 50,
     "metadata": {},
     "output_type": "execute_result"
    }
   ],
   "source": [
    "len(IExts[IExts==0])"
   ]
  },
  {
   "cell_type": "code",
   "execution_count": null,
   "metadata": {},
   "outputs": [],
   "source": []
  },
  {
   "cell_type": "code",
   "execution_count": 52,
   "metadata": {},
   "outputs": [],
   "source": [
    "Iext_ = 0\n",
    "for Neuron in [10,100,1000,10000,15000]:\n",
    "    ## each column is a neuron\n",
    "    nx_rates = Rates[:,Neuron]\n",
    "    nx_positions = Positions\n",
    "    ## get the ones according to the Iext you want\n",
    "    nx_rates=nx_rates[IExts==Iext_]\n",
    "    nx_positions=nx_positions[IExts==Iext_]\n",
    "    "
   ]
  },
  {
   "cell_type": "code",
   "execution_count": 53,
   "metadata": {},
   "outputs": [
    {
     "data": {
      "text/plain": [
       "250"
      ]
     },
     "execution_count": 53,
     "metadata": {},
     "output_type": "execute_result"
    }
   ],
   "source": [
    "len(nx_rates)"
   ]
  },
  {
   "cell_type": "code",
   "execution_count": 54,
   "metadata": {},
   "outputs": [
    {
     "data": {
      "text/plain": [
       "250"
      ]
     },
     "execution_count": 54,
     "metadata": {},
     "output_type": "execute_result"
    }
   ],
   "source": [
    "len(nx_positions)"
   ]
  },
  {
   "cell_type": "code",
   "execution_count": 55,
   "metadata": {},
   "outputs": [
    {
     "data": {
      "text/plain": [
       "array([  0. ,   0. ,   0. ,   0. ,   0. ,   0. ,   0. ,   0. ,   0. ,\n",
       "         0. ,  14.4,  14.4,  14.4,  14.4,  14.4,  14.4,  14.4,  14.4,\n",
       "        14.4,  14.4,  28.8,  28.8,  28.8,  28.8,  28.8,  28.8,  28.8,\n",
       "        28.8,  28.8,  28.8,  43.2,  43.2,  43.2,  43.2,  43.2,  43.2,\n",
       "        43.2,  43.2,  43.2,  43.2,  61.2,  61.2,  61.2,  61.2,  61.2,\n",
       "        61.2,  61.2,  61.2,  61.2,  61.2,  75.6,  75.6,  75.6,  75.6,\n",
       "        75.6,  75.6,  75.6,  75.6,  75.6,  75.6,  90. ,  90. ,  90. ,\n",
       "        90. ,  90. ,  90. ,  90. ,  90. ,  90. ,  90. , 104.4, 104.4,\n",
       "       104.4, 104.4, 104.4, 104.4, 104.4, 104.4, 104.4, 104.4, 118.8,\n",
       "       118.8, 118.8, 118.8, 118.8, 118.8, 118.8, 118.8, 118.8, 118.8,\n",
       "       136.8, 136.8, 136.8, 136.8, 136.8, 136.8, 136.8, 136.8, 136.8,\n",
       "       136.8, 151.2, 151.2, 151.2, 151.2, 151.2, 151.2, 151.2, 151.2,\n",
       "       151.2, 151.2, 165.6, 165.6, 165.6, 165.6, 165.6, 165.6, 165.6,\n",
       "       165.6, 165.6, 165.6, 180. , 180. , 180. , 180. , 180. , 180. ,\n",
       "       180. , 180. , 180. , 180. , 194.4, 194.4, 194.4, 194.4, 194.4,\n",
       "       194.4, 194.4, 194.4, 194.4, 194.4, 208.8, 208.8, 208.8, 208.8,\n",
       "       208.8, 208.8, 208.8, 208.8, 208.8, 208.8, 223.2, 223.2, 223.2,\n",
       "       223.2, 223.2, 223.2, 223.2, 223.2, 223.2, 223.2, 241.2, 241.2,\n",
       "       241.2, 241.2, 241.2, 241.2, 241.2, 241.2, 241.2, 241.2, 255.6,\n",
       "       255.6, 255.6, 255.6, 255.6, 255.6, 255.6, 255.6, 255.6, 255.6,\n",
       "       270. , 270. , 270. , 270. , 270. , 270. , 270. , 270. , 270. ,\n",
       "       270. , 284.4, 284.4, 284.4, 284.4, 284.4, 284.4, 284.4, 284.4,\n",
       "       284.4, 284.4, 298.8, 298.8, 298.8, 298.8, 298.8, 298.8, 298.8,\n",
       "       298.8, 298.8, 298.8, 316.8, 316.8, 316.8, 316.8, 316.8, 316.8,\n",
       "       316.8, 316.8, 316.8, 316.8, 331.2, 331.2, 331.2, 331.2, 331.2,\n",
       "       331.2, 331.2, 331.2, 331.2, 331.2, 345.6, 345.6, 345.6, 345.6,\n",
       "       345.6, 345.6, 345.6, 345.6, 345.6, 345.6, 360. , 360. , 360. ,\n",
       "       360. , 360. , 360. , 360. , 360. , 360. , 360. ])"
      ]
     },
     "execution_count": 55,
     "metadata": {},
     "output_type": "execute_result"
    }
   ],
   "source": [
    "nx_positions"
   ]
  },
  {
   "cell_type": "code",
   "execution_count": null,
   "metadata": {},
   "outputs": [],
   "source": []
  }
 ],
 "metadata": {
  "kernelspec": {
   "display_name": "Python 3",
   "language": "python",
   "name": "python3"
  },
  "language_info": {
   "codemirror_mode": {
    "name": "ipython",
    "version": 3
   },
   "file_extension": ".py",
   "mimetype": "text/x-python",
   "name": "python",
   "nbconvert_exporter": "python",
   "pygments_lexer": "ipython3",
   "version": "3.5.6"
  }
 },
 "nbformat": 4,
 "nbformat_minor": 2
}
