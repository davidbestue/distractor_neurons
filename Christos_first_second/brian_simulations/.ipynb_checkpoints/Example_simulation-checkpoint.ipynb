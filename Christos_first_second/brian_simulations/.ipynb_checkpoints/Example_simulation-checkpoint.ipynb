{
 "cells": [
  {
   "cell_type": "code",
   "execution_count": 1,
   "metadata": {},
   "outputs": [],
   "source": [
    "from linares_plot import *\n",
    "import scipy.io as io\n",
    "import pickle\n"
   ]
  },
  {
   "cell_type": "code",
   "execution_count": 2,
   "metadata": {},
   "outputs": [
    {
     "data": {
      "text/plain": [
       "'C:\\\\Users\\\\David\\\\Documents\\\\GitHub\\\\distractor_neurons\\\\Christos_first_second\\\\brian_simulations'"
      ]
     },
     "execution_count": 2,
     "metadata": {},
     "output_type": "execute_result"
    }
   ],
   "source": [
    "import os\n",
    "os.getcwd()"
   ]
  },
  {
   "cell_type": "code",
   "execution_count": 3,
   "metadata": {},
   "outputs": [],
   "source": [
    "data = io.loadmat('C:\\\\Users\\\\David\\\\Desktop\\\\IDIBAPS\\\\brian_simulations\\\\results_simulation_30000.mat') #,{'rate':rates, 'spktm': spikes.it})\n",
    "spikes = data['spktm']"
   ]
  },
  {
   "cell_type": "code",
   "execution_count": 4,
   "metadata": {},
   "outputs": [],
   "source": [
    "# data = io.loadmat('C:\\\\Users\\\\David\\\\Desktop\\\\IDIBAPS\\\\brian_simulations\\\\results_simulation_10000.mat') #,{'rate':rates, 'spktm': spikes.it})\n",
    "# spikes = data['spktm']"
   ]
  },
  {
   "cell_type": "code",
   "execution_count": 5,
   "metadata": {
    "scrolled": true
   },
   "outputs": [
    {
     "data": {
      "text/plain": [
       "array([  229.,   275.,   419., ..., 10082., 16627.,  9301.])"
      ]
     },
     "execution_count": 5,
     "metadata": {},
     "output_type": "execute_result"
    }
   ],
   "source": [
    "spikes[1] ## todos los tiempos donde ha habido un spike\n",
    "spikes[0] ## la neurona correspondiente que ha hecho el spike"
   ]
  },
  {
   "cell_type": "code",
   "execution_count": 6,
   "metadata": {},
   "outputs": [
    {
     "data": {
      "image/png": "[encoded data removed]",
      "text/plain": [
       "<Figure size 432x288 with 1 Axes>"
      ]
     },
     "metadata": {
      "needs_background": "light"
     },
     "output_type": "display_data"
    }
   ],
   "source": [
    "time_s =10\n",
    "N=0.8*10000 #(el 80% son excitadoras)\n",
    "stim_on=2\n",
    "stim_off=3\n",
    "\n",
    "\n",
    "stim_on/time_s\n",
    "\n",
    "fig, ax = plt.subplots()\n",
    "ax.plot(spikes[1],spikes[0], '.', markersize=2, color='black')\n",
    "ax.set_facecolor(\"orange\")\n",
    "plt.xlim(0,time_s)\n",
    "plt.ylim(0,N)\n",
    "\n",
    "# ax = fig.add_subplot(1, 1, 1)\n",
    "inf=1.03\n",
    "sup=1.11\n",
    "ax.annotate('', xy=(0, inf), xycoords='axes fraction', xytext=(stim_on/time_s, inf), arrowprops=dict(arrowstyle=\"-\", color='black'))\n",
    "ax.annotate('', xy=(stim_on/time_s, inf), xycoords='axes fraction', xytext=(stim_on/time_s, sup), arrowprops=dict(arrowstyle=\"-\", color='orange'))\n",
    "ax.annotate('', xy=(stim_on/time_s, sup), xycoords='axes fraction', xytext=(stim_off/time_s, sup), arrowprops=dict(arrowstyle=\"-\", color='orange'))\n",
    "ax.annotate('', xy=(stim_off/time_s, sup), xycoords='axes fraction', xytext=(stim_off/time_s, inf), arrowprops=dict(arrowstyle=\"-\", color='orange'))\n",
    "ax.annotate('', xy=(stim_off/time_s, inf), xycoords='axes fraction', xytext=(1, inf), arrowprops=dict(arrowstyle=\"-\", color='black'))\n",
    "\n",
    "ax.annotate('', xy=(1-1/time_s, -.06), xycoords='axes fraction', xytext=(1, -.06), arrowprops=dict(arrowstyle=\"-\", color='black'))\n",
    "plt.text(time_s-0.6, -0.15*N, '1s', fontsize=20) ##en función de time_s y N\n",
    "plt.gca().set_xticks([])\n",
    "plt.gca().set_xticklabels([])\n",
    "\n",
    "plt.gca().set_yticks([0, int(N/4), int(N/2),  int(3*N/4), int(N) ])\n",
    "plt.gca().set_yticklabels(['0','','180', '', '360'], fontsize=20)\n",
    "plt.gca().set_ylabel('neuron preferred ($^\\circ$)', fontsize=20);\n"
   ]
  },
  {
   "cell_type": "code",
   "execution_count": 7,
   "metadata": {},
   "outputs": [
    {
     "data": {
      "text/plain": [
       "[<matplotlib.lines.Line2D at 0x185e0322b70>]"
      ]
     },
     "execution_count": 7,
     "metadata": {},
     "output_type": "execute_result"
    },
    {
     "data": {
      "image/png": "[encoded data removed]",
      "text/plain": [
       "<Figure size 432x288 with 1 Axes>"
      ]
     },
     "metadata": {
      "needs_background": "light"
     },
     "output_type": "display_data"
    }
   ],
   "source": [
    "### Rate de todas las neuronas durante el delay\n",
    "plt.plot(data['rate'][0])"
   ]
  },
  {
   "cell_type": "code",
   "execution_count": 62,
   "metadata": {},
   "outputs": [],
   "source": [
    "## aquí tienes los spiketimes da cada una d elas neuronas\n",
    "\n",
    "dict_spiketimes = pickle.load( open( \"C:\\\\Users\\\\David\\\\Desktop\\\\IDIBAPS\\\\brian_simulations\\\\dict_spiketimes.pkl\", \"rb\" ), \n",
    "                              encoding='latin1' )\n",
    "\n",
    "dict_spiketimes"
   ]
  },
  {
   "cell_type": "code",
   "execution_count": null,
   "metadata": {},
   "outputs": [],
   "source": []
  },
  {
   "cell_type": "code",
   "execution_count": null,
   "metadata": {},
   "outputs": [],
   "source": []
  },
  {
   "cell_type": "code",
   "execution_count": 11,
   "metadata": {},
   "outputs": [],
   "source": [
    "data = io.loadmat('C:\\\\Users\\\\David\\\\Desktop\\\\IDIBAPS\\\\brian_simulations\\\\results_simulations.mat') #,{'rate':rates, 'spktm': spikes.it})\n",
    "spikes_all = data['spktm']"
   ]
  },
  {
   "cell_type": "code",
   "execution_count": 12,
   "metadata": {},
   "outputs": [],
   "source": [
    "spikes = spikes_all[0]"
   ]
  },
  {
   "cell_type": "code",
   "execution_count": null,
   "metadata": {},
   "outputs": [],
   "source": [
    "time_s =10\n",
    "N=0.8*10000 #(el 80% son excitadoras)\n",
    "stim_on=2\n",
    "stim_off=3\n",
    "\n",
    "\n",
    "stim_on/time_s\n",
    "\n",
    "fig, ax = plt.subplots()\n",
    "ax.plot(spikes[1],spikes[0], '.', markersize=2, color='black')\n",
    "ax.set_facecolor(\"orange\")\n",
    "plt.xlim(0,time_s)\n",
    "plt.ylim(0,N)\n",
    "\n",
    "# ax = fig.add_subplot(1, 1, 1)\n",
    "inf=1.03\n",
    "sup=1.11\n",
    "ax.annotate('', xy=(0, inf), xycoords='axes fraction', xytext=(stim_on/time_s, inf), arrowprops=dict(arrowstyle=\"-\", color='black'))\n",
    "ax.annotate('', xy=(stim_on/time_s, inf), xycoords='axes fraction', xytext=(stim_on/time_s, sup), arrowprops=dict(arrowstyle=\"-\", color='orange'))\n",
    "ax.annotate('', xy=(stim_on/time_s, sup), xycoords='axes fraction', xytext=(stim_off/time_s, sup), arrowprops=dict(arrowstyle=\"-\", color='orange'))\n",
    "ax.annotate('', xy=(stim_off/time_s, sup), xycoords='axes fraction', xytext=(stim_off/time_s, inf), arrowprops=dict(arrowstyle=\"-\", color='orange'))\n",
    "ax.annotate('', xy=(stim_off/time_s, inf), xycoords='axes fraction', xytext=(1, inf), arrowprops=dict(arrowstyle=\"-\", color='black'))\n",
    "\n",
    "ax.annotate('', xy=(1-1/time_s, -.06), xycoords='axes fraction', xytext=(1, -.06), arrowprops=dict(arrowstyle=\"-\", color='black'))\n",
    "plt.text(time_s-0.6, -0.15*N, '1s', fontsize=20) ##en función de time_s y N\n",
    "plt.gca().set_xticks([])\n",
    "plt.gca().set_xticklabels([])\n",
    "\n",
    "plt.gca().set_yticks([0, int(N/4), int(N/2),  int(3*N/4), int(N) ])\n",
    "plt.gca().set_yticklabels(['0','','180', '', '360'], fontsize=20)\n",
    "plt.gca().set_ylabel('neuron preferred ($^\\circ$)', fontsize=20);\n"
   ]
  },
  {
   "cell_type": "code",
   "execution_count": null,
   "metadata": {},
   "outputs": [],
   "source": []
  }
 ],
 "metadata": {
  "kernelspec": {
   "display_name": "Python 3",
   "language": "python",
   "name": "python3"
  },
  "language_info": {
   "codemirror_mode": {
    "name": "ipython",
    "version": 3
   },
   "file_extension": ".py",
   "mimetype": "text/x-python",
   "name": "python",
   "nbconvert_exporter": "python",
   "pygments_lexer": "ipython3",
   "version": "3.5.6"
  }
 },
 "nbformat": 4,
 "nbformat_minor": 2
}
