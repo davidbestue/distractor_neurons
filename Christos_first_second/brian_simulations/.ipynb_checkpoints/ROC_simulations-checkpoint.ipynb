{
 "cells": [
  {
   "cell_type": "code",
   "execution_count": 1,
   "metadata": {},
   "outputs": [],
   "source": [
    "from linares_plot import *\n",
    "import scipy.io as io\n",
    "import pickle\n",
    "from scipy.ndimage import gaussian_filter\n",
    "from scipy import misc\n",
    "import os\n",
    "from sklearn.preprocessing import label_binarize\n",
    "from sklearn.metrics import roc_curve, auc\n"
   ]
  },
  {
   "cell_type": "code",
   "execution_count": 2,
   "metadata": {},
   "outputs": [],
   "source": [
    "def circ_dist(a1,a2):\n",
    "    ## Returns the minimal distance in angles between to angles \n",
    "    op1=abs(a2-a1)\n",
    "    angs=[a1,a2]\n",
    "    op2=min(angs)+(360-max(angs))\n",
    "    options=[op1,op2]\n",
    "    return min(options)"
   ]
  },
  {
   "cell_type": "code",
   "execution_count": null,
   "metadata": {},
   "outputs": [],
   "source": []
  },
  {
   "cell_type": "code",
   "execution_count": 3,
   "metadata": {},
   "outputs": [],
   "source": [
    "path_ = 'C:\\\\Users\\\\David\\\\Desktop\\\\IDIBAPS\\\\brian_simulations\\\\r2'\n",
    "all_= os.listdir(path_)"
   ]
  },
  {
   "cell_type": "code",
   "execution_count": 4,
   "metadata": {},
   "outputs": [
    {
     "data": {
      "text/plain": [
       "641"
      ]
     },
     "execution_count": 4,
     "metadata": {},
     "output_type": "execute_result"
    }
   ],
   "source": [
    "len(all_)"
   ]
  },
  {
   "cell_type": "code",
   "execution_count": 6,
   "metadata": {},
   "outputs": [],
   "source": [
    "data = io.loadmat(path_ + '\\\\' + all_[0]) #,{'rate':rates, 'spktm': spikes.it})"
   ]
  },
  {
   "cell_type": "code",
   "execution_count": 7,
   "metadata": {},
   "outputs": [
    {
     "data": {
      "text/plain": [
       "16000"
      ]
     },
     "execution_count": 7,
     "metadata": {},
     "output_type": "execute_result"
    }
   ],
   "source": [
    "len(data['ratedelay'][0])"
   ]
  },
  {
   "cell_type": "code",
   "execution_count": 25,
   "metadata": {},
   "outputs": [
    {
     "data": {
      "text/plain": [
       "0.5"
      ]
     },
     "execution_count": 25,
     "metadata": {},
     "output_type": "execute_result"
    }
   ],
   "source": [
    "data['IEext'][0][0]"
   ]
  },
  {
   "cell_type": "code",
   "execution_count": 26,
   "metadata": {},
   "outputs": [
    {
     "data": {
      "text/plain": [
       "0.0"
      ]
     },
     "execution_count": 26,
     "metadata": {},
     "output_type": "execute_result"
    }
   ],
   "source": [
    "data['pos_stim'][0][0]"
   ]
  },
  {
   "cell_type": "code",
   "execution_count": null,
   "metadata": {},
   "outputs": [],
   "source": []
  },
  {
   "cell_type": "code",
   "execution_count": 46,
   "metadata": {},
   "outputs": [],
   "source": [
    "rates_=[]\n",
    "pos_stim = []\n",
    "Iexts=[]\n",
    "\n",
    "for sim_ in range(len(all_)): #len(all_)\n",
    "    simx = io.loadmat(path_ + '\\\\' + all_[sim_])\n",
    "    rates_.append(simx['ratedelay'][0])\n",
    "    pos_stim.append(360*simx['pos_stim'][0][0])\n",
    "    Iexts.append(simx['IEext'][0][0])\n",
    "\n",
    "###\n",
    "Rates = np.array(rates_)\n",
    "IExts = np.array(Iexts) \n",
    "Positions=np.array(pos_stim)"
   ]
  },
  {
   "cell_type": "code",
   "execution_count": 39,
   "metadata": {},
   "outputs": [
    {
     "data": {
      "text/plain": [
       "(641, 16000)"
      ]
     },
     "execution_count": 39,
     "metadata": {},
     "output_type": "execute_result"
    }
   ],
   "source": [
    "np.shape(Rates)"
   ]
  },
  {
   "cell_type": "code",
   "execution_count": 40,
   "metadata": {},
   "outputs": [
    {
     "data": {
      "text/plain": [
       "array([[12.25,  0.25, 18.5 , ..., 32.  ,  0.5 ,  0.75],\n",
       "       [12.5 ,  0.5 , 19.5 , ..., 31.25,  0.  ,  0.75],\n",
       "       [13.25,  0.5 , 19.5 , ..., 31.5 ,  0.5 ,  0.5 ],\n",
       "       ...,\n",
       "       [ 0.  ,  0.  ,  0.25, ...,  6.25,  0.  ,  0.  ],\n",
       "       [ 0.25,  0.  ,  0.  , ...,  6.75,  0.  ,  0.  ],\n",
       "       [ 0.25,  0.  ,  0.  , ...,  6.25,  0.  ,  0.  ]])"
      ]
     },
     "execution_count": 40,
     "metadata": {},
     "output_type": "execute_result"
    }
   ],
   "source": [
    "Rates"
   ]
  },
  {
   "cell_type": "code",
   "execution_count": 47,
   "metadata": {},
   "outputs": [
    {
     "data": {
      "text/plain": [
       "array([0.  , 0.25, 0.5 ])"
      ]
     },
     "execution_count": 47,
     "metadata": {},
     "output_type": "execute_result"
    }
   ],
   "source": [
    "np.unique(IExts)"
   ]
  },
  {
   "cell_type": "code",
   "execution_count": 50,
   "metadata": {},
   "outputs": [
    {
     "data": {
      "text/plain": [
       "250"
      ]
     },
     "execution_count": 50,
     "metadata": {},
     "output_type": "execute_result"
    }
   ],
   "source": [
    "len(IExts[IExts==0])"
   ]
  },
  {
   "cell_type": "code",
   "execution_count": null,
   "metadata": {},
   "outputs": [],
   "source": []
  },
  {
   "cell_type": "markdown",
   "metadata": {},
   "source": [
    "### Loop to calculate ROC\n"
   ]
  },
  {
   "cell_type": "code",
   "execution_count": 133,
   "metadata": {},
   "outputs": [],
   "source": [
    "Neurons_  = np.arange(0,16000,10)"
   ]
  },
  {
   "cell_type": "code",
   "execution_count": 134,
   "metadata": {},
   "outputs": [],
   "source": [
    "Iext_off = 0\n",
    "Iext_on = 0.25\n",
    "\n",
    "lim_RF = 45/4 ##limit to consider a position is inside the RF of the neuron\n",
    "base_fpr = np.linspace(0, 1, 101)\n",
    "\n",
    "\n",
    "number_neurons=len(Neurons_)\n",
    "\n",
    "auc_off = np.zeros(number_neurons)\n",
    "auc_on = np.zeros(number_neurons)\n",
    "\n",
    "tprs_on = []\n",
    "tprs_off = []\n",
    "\n",
    "\n",
    "for idx_neuron, Neuron in enumerate(Neurons_):\n",
    "    ########################################### OFF ############################################\n",
    "    ## each column is a neuron\n",
    "    nx_rates = Rates[:,Neuron]\n",
    "    nx_positions = Positions\n",
    "    ## get the ones according to the Iext you want\n",
    "    nx_rates=nx_rates[IExts==Iext_off]\n",
    "    nx_positions=nx_positions[IExts==Iext_off]\n",
    "    dfx = pd.DataFrame({'position':nx_positions, 'rate':nx_rates, 'Neuron':Neuron})\n",
    "    #sns.lineplot('position', 'rate', data=dfx, label=dfx.Neuron.iloc[0])\n",
    "    ## RF center of each neuro\n",
    "    index_max_rate = np.where(dfx['rate']==dfx['rate'].max())[0][0]\n",
    "    RF_center = dfx['position'].iloc[index_max_rate]\n",
    "    dfx['RF_center'] = RF_center\n",
    "    in_out_rf = []\n",
    "    for p in range(len(dfx)):\n",
    "        dist_ = circ_dist(RF_center, dfx.position.iloc[p])\n",
    "        if dist_>lim_RF:\n",
    "            in_out_rf.append(5) #outside RF\n",
    "        else:\n",
    "            in_out_rf.append(1) #inside RF\n",
    "    #####\n",
    "    dfx['in_out_rf']=in_out_rf\n",
    "    ###\n",
    "    ## appropiate shape for the classifier\n",
    "    y = label_binarize(dfx['in_out_rf'].values, classes=[5,1]) #matrix (1,0,0,...,0)\n",
    "    y=y.ravel()\n",
    "    ######\n",
    "    if len(np.unique(y))==1:\n",
    "        mean_tprs = np.empty(np.shape(base_fpr))*np.nan\n",
    "    else:\n",
    "        fpr, tpr, _ = roc_curve(y, dfx['rate'].values) #HERE: compute ROC with raw firing rate\n",
    "        tpr = np.interp(base_fpr, fpr, tpr)\n",
    "        tpr[0] = 0.0\n",
    "        mean_tprs = tpr\n",
    "    tprs_off.append(mean_tprs)\n",
    "    ##\n",
    "    auc_off[idx_neuron] = auc(base_fpr, mean_tprs)\n",
    "    ##\n",
    "    ########################################### ON ############################################\n",
    "    ## each column is a neuron\n",
    "    nx_rates = Rates[:,Neuron]\n",
    "    nx_positions = Positions\n",
    "    ## get the ones according to the Iext you want\n",
    "    nx_rates=nx_rates[IExts==Iext_on]\n",
    "    nx_positions=nx_positions[IExts==Iext_on]\n",
    "    dfx = pd.DataFrame({'position':nx_positions, 'rate':nx_rates, 'Neuron':Neuron})\n",
    "    #sns.lineplot('position', 'rate', data=dfx, label=dfx.Neuron.iloc[0])\n",
    "    ## RF center of each neuro\n",
    "    index_max_rate = np.where(dfx['rate']==dfx['rate'].max())[0][0]\n",
    "    RF_center = dfx['position'].iloc[index_max_rate]\n",
    "    dfx['RF_center'] = RF_center\n",
    "    in_out_rf = []\n",
    "    for p in range(len(dfx)):\n",
    "        dist_ = circ_dist(RF_center, dfx.position.iloc[p])\n",
    "        if dist_>lim_RF:\n",
    "            in_out_rf.append(5) #outside RF\n",
    "        else:\n",
    "            in_out_rf.append(1) #inside RF\n",
    "    #####\n",
    "    dfx['in_out_rf']=in_out_rf\n",
    "    ###\n",
    "    ## appropiate shape for the classifier\n",
    "    y = label_binarize(dfx['in_out_rf'].values, classes=[5,1]) #matrix (1,0,0,...,0)\n",
    "    y=y.ravel()\n",
    "    ######\n",
    "    if len(np.unique(y))==1:\n",
    "        mean_tprs = np.empty(np.shape(base_fpr))*np.nan\n",
    "    else:\n",
    "        fpr, tpr, _ = roc_curve(y, dfx['rate'].values) #HERE: compute ROC with raw firing rate\n",
    "        tpr = np.interp(base_fpr, fpr, tpr)\n",
    "        tpr[0] = 0.0\n",
    "        mean_tprs = tpr\n",
    "    tprs_on.append(mean_tprs)\n",
    "    ##\n",
    "    auc_on[idx_neuron] = auc(base_fpr, mean_tprs)\n",
    "            \n",
    "            \n",
    "    \n",
    "#plt.legend(loc=\"lower right\", fontsize=10, frameon=False)"
   ]
  },
  {
   "cell_type": "code",
   "execution_count": 135,
   "metadata": {},
   "outputs": [
    {
     "data": {
      "image/png": "[encoded data removed]",
      "text/plain": [
       "<Figure size 432x288 with 1 Axes>"
      ]
     },
     "metadata": {
      "needs_background": "light"
     },
     "output_type": "display_data"
    }
   ],
   "source": [
    "plt.plot(auc_off, auc_on, '.')\n",
    "plt.plot([0,1],[0,1],'k--')\n",
    "plt.xlabel('AUC$_{OFF}$')\n",
    "plt.ylabel('AUC$_{ON}$')\n",
    "plt.axis('scaled');"
   ]
  },
  {
   "cell_type": "code",
   "execution_count": 136,
   "metadata": {},
   "outputs": [
    {
     "data": {
      "text/plain": [
       "Ttest_relResult(statistic=2.1873661921036547, pvalue=0.02886019442066494)"
      ]
     },
     "execution_count": 136,
     "metadata": {},
     "output_type": "execute_result"
    }
   ],
   "source": [
    "import scipy\n",
    "#np.sum(np.isnan(auc_on))\n",
    "ind = np.isnan(auc_on)\n",
    "scipy.stats.ttest_rel(auc_off[~ind], auc_on[~ind])"
   ]
  },
  {
   "cell_type": "code",
   "execution_count": 154,
   "metadata": {},
   "outputs": [
    {
     "data": {
      "image/png": "[encoded data removed]",
      "text/plain": [
       "<Figure size 432x288 with 1 Axes>"
      ]
     },
     "metadata": {
      "needs_background": "light"
     },
     "output_type": "display_data"
    }
   ],
   "source": [
    "tprs_off = np.array(tprs_off)\n",
    "tprs_on = np.array(tprs_on)\n",
    "mean_tprs_off = np.nanmean(tprs_off, axis=0)\n",
    "mean_tprs_on = np.nanmean(tprs_on, axis=0)\n",
    "std_off = np.nanstd(tprs_off, axis=0)\n",
    "std_on = np.nanstd(tprs_on, axis=0)\n",
    "\n",
    "tprs_upper_off = np.minimum(mean_tprs_off + std_off, 1)\n",
    "tprs_lower_off = mean_tprs_off - std_off\n",
    "tprs_upper_on = np.minimum(mean_tprs_on + std_on, 1)\n",
    "tprs_lower_on = mean_tprs_on - std_on\n",
    "\n",
    "plt.plot(base_fpr, mean_tprs_off, 'cadetblue', lw=4, label='ROC OFF (AUC = {0:0.2f})'''.format(np.mean(auc_off[~ind])))\n",
    "\n",
    "plt.plot(base_fpr, mean_tprs_on, 'darkorange', lw=4, label='ROC ON (AUC = {0:0.2f})'''.format(np.mean(auc_on[~ind])))\n",
    "\n",
    "#plt.fill_between(base_fpr, tprs_lower_off, tprs_upper_off, color='grey', alpha=0.3)\n",
    "#plt.fill_between(base_fpr, tprs_lower_on, tprs_upper_on, color='grey', alpha=0.3)\n",
    "\n",
    "plt.plot([0, 1], [0, 1], color='k', lw=2, linestyle='--')\n",
    "plt.xlim([0., 1])\n",
    "plt.xticks([0, 0.5, 1])\n",
    "plt.ylim([0, 1.])\n",
    "plt.yticks([0.5, 1])\n",
    "plt.xlabel('False Positive Rate')\n",
    "plt.ylabel('True Positive Rate')\n",
    "plt.title('')\n",
    "plt.legend(loc=\"lower right\", fontsize=10, frameon=False)\n",
    "plt.gca().spines['right'].set_visible(False)  # aesthetics                                                                              # remove right spines\n",
    "plt.gca().spines['top'].set_visible(False)                                                                                  # remove top spines\n",
    "plt.gca().get_xaxis().tick_bottom()                                                                                         \n",
    "plt.gca().get_yaxis().tick_left()\n",
    "plt.gca().tick_params(direction='in') #direction\n",
    "plt.legend(fontsize=14, frameon=False)\n",
    "plt.show()"
   ]
  },
  {
   "cell_type": "code",
   "execution_count": null,
   "metadata": {},
   "outputs": [],
   "source": []
  },
  {
   "cell_type": "code",
   "execution_count": null,
   "metadata": {},
   "outputs": [],
   "source": []
  },
  {
   "cell_type": "code",
   "execution_count": 147,
   "metadata": {},
   "outputs": [],
   "source": [
    "### Plot some neurons Tuning Curve "
   ]
  },
  {
   "cell_type": "code",
   "execution_count": 150,
   "metadata": {},
   "outputs": [
    {
     "name": "stderr",
     "output_type": "stream",
     "text": [
      "C:\\Users\\David\\Anaconda3\\envs\\python3\\lib\\site-packages\\scipy\\stats\\stats.py:1713: FutureWarning: Using a non-tuple sequence for multidimensional indexing is deprecated; use `arr[tuple(seq)]` instead of `arr[seq]`. In the future this will be interpreted as an array index, `arr[np.array(seq)]`, which will result either in an error or a different result.\n",
      "  return np.add.reduce(sorted[indexer] * weights, axis=axis) / sumval\n"
     ]
    },
    {
     "data": {
      "image/png": "[encoded data removed]",
      "text/plain": [
       "<Figure size 432x288 with 1 Axes>"
      ]
     },
     "metadata": {
      "needs_background": "light"
     },
     "output_type": "display_data"
    }
   ],
   "source": [
    "for idx_neuron, Neuron in enumerate([100, 1000, 10000, 15000]):\n",
    "    ########################################### OFF ############################################\n",
    "    ## each column is a neuron\n",
    "    nx_rates = Rates[:,Neuron]\n",
    "    nx_positions = Positions\n",
    "    ## get the ones according to the Iext you want\n",
    "    nx_rates=nx_rates[IExts==Iext_off]\n",
    "    nx_positions=nx_positions[IExts==Iext_off]\n",
    "    dfx = pd.DataFrame({'position':nx_positions, 'rate':nx_rates, 'Neuron':Neuron})\n",
    "    sns.lineplot('position', 'rate', data=dfx, label=dfx.Neuron.iloc[0])\n",
    "\n",
    "plt.legend(fontsize=20, frameon=False, bbox_to_anchor=(1.05, 1))\n",
    "plt.gca().spines['right'].set_visible(False)  # aesthetics                                                                              # remove right spines\n",
    "plt.gca().spines['top'].set_visible(False)                                                                                  # remove top spines\n",
    "plt.gca().get_xaxis().tick_bottom()                                                                                         \n",
    "plt.gca().get_yaxis().tick_left()\n",
    "plt.gca().tick_params(direction='in') #direction\n",
    "plt.ylim(-5,40)\n",
    "plt.xlim(0,360)\n",
    "plt.xticks([0,90,180,270,360]);\n",
    "#"
   ]
  },
  {
   "cell_type": "code",
   "execution_count": null,
   "metadata": {},
   "outputs": [],
   "source": []
  },
  {
   "cell_type": "code",
   "execution_count": null,
   "metadata": {},
   "outputs": [],
   "source": []
  }
 ],
 "metadata": {
  "kernelspec": {
   "display_name": "Python 3",
   "language": "python",
   "name": "python3"
  },
  "language_info": {
   "codemirror_mode": {
    "name": "ipython",
    "version": 3
   },
   "file_extension": ".py",
   "mimetype": "text/x-python",
   "name": "python",
   "nbconvert_exporter": "python",
   "pygments_lexer": "ipython3",
   "version": "3.5.6"
  }
 },
 "nbformat": 4,
 "nbformat_minor": 2
}
