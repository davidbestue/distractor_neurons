{
 "cells": [
  {
   "cell_type": "code",
   "execution_count": 1,
   "metadata": {},
   "outputs": [],
   "source": [
    "from linares_plot import *\n",
    "import scipy.io as io\n",
    "import pickle\n",
    "from scipy.ndimage import gaussian_filter\n",
    "from scipy import misc\n",
    "import os\n"
   ]
  },
  {
   "cell_type": "code",
   "execution_count": 3,
   "metadata": {},
   "outputs": [],
   "source": [
    "path_ = 'C:\\\\Users\\\\David\\\\Desktop\\\\IDIBAPS\\\\brian_simulations\\\\r2'\n",
    "all_= os.listdir(path_)"
   ]
  },
  {
   "cell_type": "code",
   "execution_count": 4,
   "metadata": {},
   "outputs": [
    {
     "data": {
      "text/plain": [
       "641"
      ]
     },
     "execution_count": 4,
     "metadata": {},
     "output_type": "execute_result"
    }
   ],
   "source": [
    "len(all_)"
   ]
  },
  {
   "cell_type": "code",
   "execution_count": 23,
   "metadata": {},
   "outputs": [
    {
     "data": {
      "text/plain": [
       "dict_keys(['__version__', 'pos_stim', 'errtm', 'dectm', '__header__', 'ratedelay', '__globals__', 'IEext'])"
      ]
     },
     "execution_count": 23,
     "metadata": {},
     "output_type": "execute_result"
    }
   ],
   "source": [
    "data = io.loadmat(path_ + '\\\\' + all_[500]) #,{'rate':rates, 'spktm': spikes.it})\n",
    "data.keys()"
   ]
  },
  {
   "cell_type": "code",
   "execution_count": 24,
   "metadata": {},
   "outputs": [
    {
     "data": {
      "text/plain": [
       "16000"
      ]
     },
     "execution_count": 24,
     "metadata": {},
     "output_type": "execute_result"
    }
   ],
   "source": [
    "len(data['ratedelay'][0])"
   ]
  },
  {
   "cell_type": "code",
   "execution_count": 25,
   "metadata": {},
   "outputs": [
    {
     "data": {
      "text/plain": [
       "0.5"
      ]
     },
     "execution_count": 25,
     "metadata": {},
     "output_type": "execute_result"
    }
   ],
   "source": [
    "data['IEext'][0][0]"
   ]
  },
  {
   "cell_type": "code",
   "execution_count": 26,
   "metadata": {},
   "outputs": [
    {
     "data": {
      "text/plain": [
       "0.0"
      ]
     },
     "execution_count": 26,
     "metadata": {},
     "output_type": "execute_result"
    }
   ],
   "source": [
    "data['pos_stim'][0][0]"
   ]
  },
  {
   "cell_type": "code",
   "execution_count": 46,
   "metadata": {},
   "outputs": [],
   "source": [
    "rates_=[]\n",
    "pos_stim = []\n",
    "Iexts=[]\n",
    "\n",
    "for sim_ in range(len(all_)): #len(all_)\n",
    "    simx = io.loadmat(path_ + '\\\\' + all_[sim_])\n",
    "    rates_.append(simx['ratedelay'][0])\n",
    "    pos_stim.append(360*simx['pos_stim'][0][0])\n",
    "    Iexts.append(simx['IEext'][0][0])\n",
    "\n",
    "###\n",
    "Rates = np.array(rates_)\n",
    "IExts = np.array(Iexts) \n",
    "Positions=np.array(pos_stim)"
   ]
  },
  {
   "cell_type": "code",
   "execution_count": 39,
   "metadata": {},
   "outputs": [
    {
     "data": {
      "text/plain": [
       "(641, 16000)"
      ]
     },
     "execution_count": 39,
     "metadata": {},
     "output_type": "execute_result"
    }
   ],
   "source": [
    "np.shape(Rates)"
   ]
  },
  {
   "cell_type": "code",
   "execution_count": 40,
   "metadata": {},
   "outputs": [
    {
     "data": {
      "text/plain": [
       "array([[12.25,  0.25, 18.5 , ..., 32.  ,  0.5 ,  0.75],\n",
       "       [12.5 ,  0.5 , 19.5 , ..., 31.25,  0.  ,  0.75],\n",
       "       [13.25,  0.5 , 19.5 , ..., 31.5 ,  0.5 ,  0.5 ],\n",
       "       ...,\n",
       "       [ 0.  ,  0.  ,  0.25, ...,  6.25,  0.  ,  0.  ],\n",
       "       [ 0.25,  0.  ,  0.  , ...,  6.75,  0.  ,  0.  ],\n",
       "       [ 0.25,  0.  ,  0.  , ...,  6.25,  0.  ,  0.  ]])"
      ]
     },
     "execution_count": 40,
     "metadata": {},
     "output_type": "execute_result"
    }
   ],
   "source": [
    "Rates"
   ]
  },
  {
   "cell_type": "code",
   "execution_count": 47,
   "metadata": {},
   "outputs": [
    {
     "data": {
      "text/plain": [
       "array([0.  , 0.25, 0.5 ])"
      ]
     },
     "execution_count": 47,
     "metadata": {},
     "output_type": "execute_result"
    }
   ],
   "source": [
    "np.unique(IExts)"
   ]
  },
  {
   "cell_type": "code",
   "execution_count": 50,
   "metadata": {},
   "outputs": [
    {
     "data": {
      "text/plain": [
       "250"
      ]
     },
     "execution_count": 50,
     "metadata": {},
     "output_type": "execute_result"
    }
   ],
   "source": [
    "len(IExts[IExts==0])"
   ]
  },
  {
   "cell_type": "code",
   "execution_count": 81,
   "metadata": {},
   "outputs": [],
   "source": [
    "def circ_dist(a1,a2):\n",
    "    ## Returns the minimal distance in angles between to angles \n",
    "    op1=abs(a2-a1)\n",
    "    angs=[a1,a2]\n",
    "    op2=min(angs)+(360-max(angs))\n",
    "    options=[op1,op2]\n",
    "    return min(options)"
   ]
  },
  {
   "cell_type": "code",
   "execution_count": null,
   "metadata": {},
   "outputs": [],
   "source": []
  },
  {
   "cell_type": "code",
   "execution_count": 80,
   "metadata": {},
   "outputs": [],
   "source": [
    "from sklearn.preprocessing import label_binarize"
   ]
  },
  {
   "cell_type": "code",
   "execution_count": 95,
   "metadata": {},
   "outputs": [],
   "source": [
    "Iext_ = 0\n",
    "lim_RF = 45/2 ##limit to consider a position is inside the RF of the neuron\n",
    "base_fpr = np.linspace(0, 1, 101)\n",
    "\n",
    "\n",
    "for Neuron in [10,100,1000,10000,15000]:\n",
    "    ## each column is a neuron\n",
    "    nx_rates = Rates[:,Neuron]\n",
    "    nx_positions = Positions\n",
    "    ## get the ones according to the Iext you want\n",
    "    nx_rates=nx_rates[IExts==Iext_]\n",
    "    nx_positions=nx_positions[IExts==Iext_]\n",
    "    dfx = pd.DataFrame({'position':nx_positions, 'rate':nx_rates, 'Neuron':Neuron})\n",
    "    #sns.lineplot('position', 'rate', data=dfx, label=dfx.Neuron.iloc[0])\n",
    "    ## RF center of each neuro\n",
    "    index_max_rate = np.where(dfx['rate']==dfx['rate'].max())[0][0]\n",
    "    RF_center = dfx['position'].iloc[index_max_rate]\n",
    "    dfx['RF_center'] = RF_center\n",
    "    in_out_rf = []\n",
    "    for p in range(len(dfx)):\n",
    "        dist_ = circ_dist(RF_center, dfx.position.iloc[p])\n",
    "        if dist_>lim_RF:\n",
    "            in_out_rf.append(5) #outside RF\n",
    "        else:\n",
    "            in_out_rf.append(1) #inside RF\n",
    "    #####\n",
    "    dfx['in_out_rf']=in_out_rf\n",
    "    ###\n",
    "    ## appropiate shape for the classifier\n",
    "    y = label_binarize(dfx['in_out_rf'].values, classes=[5,1]) #matrix (1,0,0,...,0)\n",
    "    y=y.ravel()\n",
    "    #X =np.reshape(dfx['rate'].values, (len(dfx['rate'].values),1))\n",
    "    ######\n",
    "    #fpr, tpr, _ = roc_curve(y, X) #HERE: compute ROC with raw firing rate\n",
    "    fpr, tpr, _ = roc_curve(y, dfx['rate'].values) #HERE: compute ROC with raw firing rate\n",
    "    tpr = np.interp(base_fpr, fpr, tpr)\n",
    "    tpr[0] = 0.0\n",
    "    mean_tprs = tpr\n",
    "    tprs_off.append(mean_tprs)\n",
    "\n",
    "    auc_off[Neuron] = auc(base_fpr, mean_tprs)\n",
    "            \n",
    "            \n",
    "    \n",
    "#plt.legend(loc=\"lower right\", fontsize=10, frameon=False)"
   ]
  },
  {
   "cell_type": "code",
   "execution_count": 97,
   "metadata": {},
   "outputs": [
    {
     "data": {
      "text/plain": [
       "array([[4.  ],\n",
       "       [4.25],\n",
       "       [4.5 ],\n",
       "       [3.75],\n",
       "       [4.75],\n",
       "       [4.75],\n",
       "       [4.75],\n",
       "       [3.25],\n",
       "       [4.75],\n",
       "       [4.5 ],\n",
       "       [4.25],\n",
       "       [4.  ],\n",
       "       [2.5 ],\n",
       "       [3.5 ],\n",
       "       [4.  ],\n",
       "       [4.5 ],\n",
       "       [3.5 ],\n",
       "       [3.75],\n",
       "       [4.5 ],\n",
       "       [4.5 ],\n",
       "       [3.25],\n",
       "       [3.75],\n",
       "       [2.5 ],\n",
       "       [3.5 ],\n",
       "       [2.5 ],\n",
       "       [3.5 ],\n",
       "       [3.75],\n",
       "       [4.25],\n",
       "       [3.75],\n",
       "       [3.  ],\n",
       "       [2.5 ],\n",
       "       [3.75],\n",
       "       [2.75],\n",
       "       [3.  ],\n",
       "       [1.75],\n",
       "       [3.  ],\n",
       "       [2.  ],\n",
       "       [3.5 ],\n",
       "       [3.75],\n",
       "       [1.25],\n",
       "       [1.5 ],\n",
       "       [0.75],\n",
       "       [2.5 ],\n",
       "       [1.75],\n",
       "       [2.25],\n",
       "       [2.75],\n",
       "       [3.25],\n",
       "       [1.75],\n",
       "       [1.  ],\n",
       "       [0.5 ],\n",
       "       [0.5 ],\n",
       "       [1.5 ],\n",
       "       [0.75],\n",
       "       [0.5 ],\n",
       "       [1.  ],\n",
       "       [0.75],\n",
       "       [1.  ],\n",
       "       [0.25],\n",
       "       [1.  ],\n",
       "       [0.75],\n",
       "       [0.  ],\n",
       "       [1.5 ],\n",
       "       [0.5 ],\n",
       "       [0.  ],\n",
       "       [0.5 ],\n",
       "       [0.  ],\n",
       "       [0.25],\n",
       "       [0.75],\n",
       "       [0.  ],\n",
       "       [0.5 ],\n",
       "       [0.25],\n",
       "       [0.25],\n",
       "       [0.  ],\n",
       "       [0.  ],\n",
       "       [0.25],\n",
       "       [0.5 ],\n",
       "       [0.  ],\n",
       "       [0.5 ],\n",
       "       [0.25],\n",
       "       [0.  ],\n",
       "       [0.  ],\n",
       "       [0.  ],\n",
       "       [0.  ],\n",
       "       [0.  ],\n",
       "       [0.  ],\n",
       "       [0.  ],\n",
       "       [0.  ],\n",
       "       [0.  ],\n",
       "       [0.  ],\n",
       "       [0.  ],\n",
       "       [0.  ],\n",
       "       [0.  ],\n",
       "       [0.25],\n",
       "       [0.  ],\n",
       "       [0.  ],\n",
       "       [0.25],\n",
       "       [0.  ],\n",
       "       [0.  ],\n",
       "       [0.  ],\n",
       "       [0.  ],\n",
       "       [0.  ],\n",
       "       [0.  ],\n",
       "       [0.  ],\n",
       "       [0.  ],\n",
       "       [0.  ],\n",
       "       [0.  ],\n",
       "       [0.  ],\n",
       "       [0.  ],\n",
       "       [0.  ],\n",
       "       [0.  ],\n",
       "       [0.  ],\n",
       "       [0.  ],\n",
       "       [0.  ],\n",
       "       [0.  ],\n",
       "       [0.  ],\n",
       "       [0.  ],\n",
       "       [0.  ],\n",
       "       [0.  ],\n",
       "       [0.  ],\n",
       "       [0.  ],\n",
       "       [0.  ],\n",
       "       [0.  ],\n",
       "       [0.  ],\n",
       "       [0.  ],\n",
       "       [0.  ],\n",
       "       [0.  ],\n",
       "       [0.  ],\n",
       "       [0.  ],\n",
       "       [0.  ],\n",
       "       [0.  ],\n",
       "       [0.  ],\n",
       "       [0.  ],\n",
       "       [0.  ],\n",
       "       [0.  ],\n",
       "       [0.  ],\n",
       "       [0.  ],\n",
       "       [0.  ],\n",
       "       [0.  ],\n",
       "       [0.  ],\n",
       "       [0.  ],\n",
       "       [0.  ],\n",
       "       [0.  ],\n",
       "       [0.  ],\n",
       "       [0.  ],\n",
       "       [0.  ],\n",
       "       [0.  ],\n",
       "       [0.  ],\n",
       "       [0.  ],\n",
       "       [0.  ],\n",
       "       [0.  ],\n",
       "       [0.  ],\n",
       "       [0.  ],\n",
       "       [0.  ],\n",
       "       [0.  ],\n",
       "       [0.  ],\n",
       "       [0.  ],\n",
       "       [0.  ],\n",
       "       [0.  ],\n",
       "       [0.  ],\n",
       "       [0.  ],\n",
       "       [0.  ],\n",
       "       [0.  ],\n",
       "       [0.  ],\n",
       "       [0.  ],\n",
       "       [0.  ],\n",
       "       [0.  ],\n",
       "       [0.  ],\n",
       "       [0.  ],\n",
       "       [0.  ],\n",
       "       [0.  ],\n",
       "       [0.  ],\n",
       "       [0.25],\n",
       "       [0.  ],\n",
       "       [0.  ],\n",
       "       [0.  ],\n",
       "       [0.  ],\n",
       "       [0.25],\n",
       "       [0.25],\n",
       "       [0.  ],\n",
       "       [0.25],\n",
       "       [1.25],\n",
       "       [1.25],\n",
       "       [1.  ],\n",
       "       [1.25],\n",
       "       [1.75],\n",
       "       [2.25],\n",
       "       [0.75],\n",
       "       [2.5 ],\n",
       "       [2.  ],\n",
       "       [2.  ],\n",
       "       [4.75],\n",
       "       [3.75],\n",
       "       [2.75],\n",
       "       [3.75],\n",
       "       [4.75],\n",
       "       [3.25],\n",
       "       [4.  ],\n",
       "       [4.75],\n",
       "       [3.75],\n",
       "       [5.25],\n",
       "       [7.5 ],\n",
       "       [4.5 ],\n",
       "       [6.75],\n",
       "       [7.75],\n",
       "       [7.  ],\n",
       "       [8.  ],\n",
       "       [6.5 ],\n",
       "       [6.  ],\n",
       "       [7.  ],\n",
       "       [7.  ],\n",
       "       [8.5 ],\n",
       "       [7.25],\n",
       "       [6.5 ],\n",
       "       [9.25],\n",
       "       [7.5 ],\n",
       "       [8.  ],\n",
       "       [8.5 ],\n",
       "       [7.  ],\n",
       "       [8.5 ],\n",
       "       [8.25],\n",
       "       [8.  ],\n",
       "       [7.5 ],\n",
       "       [8.5 ],\n",
       "       [7.5 ],\n",
       "       [7.5 ],\n",
       "       [7.75],\n",
       "       [7.  ],\n",
       "       [7.  ],\n",
       "       [8.  ],\n",
       "       [7.25],\n",
       "       [6.75],\n",
       "       [9.  ],\n",
       "       [7.75],\n",
       "       [8.  ],\n",
       "       [7.5 ],\n",
       "       [7.75],\n",
       "       [8.  ],\n",
       "       [8.5 ],\n",
       "       [8.5 ],\n",
       "       [8.75],\n",
       "       [7.5 ],\n",
       "       [8.75],\n",
       "       [7.5 ],\n",
       "       [7.25],\n",
       "       [7.25],\n",
       "       [7.5 ],\n",
       "       [7.75],\n",
       "       [8.  ],\n",
       "       [6.  ],\n",
       "       [7.75]])"
      ]
     },
     "execution_count": 97,
     "metadata": {},
     "output_type": "execute_result"
    }
   ],
   "source": [
    "X"
   ]
  },
  {
   "cell_type": "code",
   "execution_count": null,
   "metadata": {},
   "outputs": [],
   "source": []
  },
  {
   "cell_type": "code",
   "execution_count": 91,
   "metadata": {},
   "outputs": [
    {
     "data": {
      "text/html": [
       "<div>\n",
       "<style scoped>\n",
       "    .dataframe tbody tr th:only-of-type {\n",
       "        vertical-align: middle;\n",
       "    }\n",
       "\n",
       "    .dataframe tbody tr th {\n",
       "        vertical-align: top;\n",
       "    }\n",
       "\n",
       "    .dataframe thead th {\n",
       "        text-align: right;\n",
       "    }\n",
       "</style>\n",
       "<table border=\"1\" class=\"dataframe\">\n",
       "  <thead>\n",
       "    <tr style=\"text-align: right;\">\n",
       "      <th></th>\n",
       "      <th>Neuron</th>\n",
       "      <th>position</th>\n",
       "      <th>rate</th>\n",
       "      <th>RF_center</th>\n",
       "      <th>in_out_rf</th>\n",
       "    </tr>\n",
       "  </thead>\n",
       "  <tbody>\n",
       "    <tr>\n",
       "      <th>0</th>\n",
       "      <td>15000</td>\n",
       "      <td>0.0</td>\n",
       "      <td>4.00</td>\n",
       "      <td>316.8</td>\n",
       "      <td>1</td>\n",
       "    </tr>\n",
       "    <tr>\n",
       "      <th>1</th>\n",
       "      <td>15000</td>\n",
       "      <td>0.0</td>\n",
       "      <td>4.25</td>\n",
       "      <td>316.8</td>\n",
       "      <td>1</td>\n",
       "    </tr>\n",
       "    <tr>\n",
       "      <th>2</th>\n",
       "      <td>15000</td>\n",
       "      <td>0.0</td>\n",
       "      <td>4.50</td>\n",
       "      <td>316.8</td>\n",
       "      <td>1</td>\n",
       "    </tr>\n",
       "    <tr>\n",
       "      <th>3</th>\n",
       "      <td>15000</td>\n",
       "      <td>0.0</td>\n",
       "      <td>3.75</td>\n",
       "      <td>316.8</td>\n",
       "      <td>1</td>\n",
       "    </tr>\n",
       "    <tr>\n",
       "      <th>4</th>\n",
       "      <td>15000</td>\n",
       "      <td>0.0</td>\n",
       "      <td>4.75</td>\n",
       "      <td>316.8</td>\n",
       "      <td>1</td>\n",
       "    </tr>\n",
       "    <tr>\n",
       "      <th>...</th>\n",
       "      <td>...</td>\n",
       "      <td>...</td>\n",
       "      <td>...</td>\n",
       "      <td>...</td>\n",
       "      <td>...</td>\n",
       "    </tr>\n",
       "    <tr>\n",
       "      <th>245</th>\n",
       "      <td>15000</td>\n",
       "      <td>360.0</td>\n",
       "      <td>7.50</td>\n",
       "      <td>316.8</td>\n",
       "      <td>1</td>\n",
       "    </tr>\n",
       "    <tr>\n",
       "      <th>246</th>\n",
       "      <td>15000</td>\n",
       "      <td>360.0</td>\n",
       "      <td>7.75</td>\n",
       "      <td>316.8</td>\n",
       "      <td>1</td>\n",
       "    </tr>\n",
       "    <tr>\n",
       "      <th>247</th>\n",
       "      <td>15000</td>\n",
       "      <td>360.0</td>\n",
       "      <td>8.00</td>\n",
       "      <td>316.8</td>\n",
       "      <td>1</td>\n",
       "    </tr>\n",
       "    <tr>\n",
       "      <th>248</th>\n",
       "      <td>15000</td>\n",
       "      <td>360.0</td>\n",
       "      <td>6.00</td>\n",
       "      <td>316.8</td>\n",
       "      <td>1</td>\n",
       "    </tr>\n",
       "    <tr>\n",
       "      <th>249</th>\n",
       "      <td>15000</td>\n",
       "      <td>360.0</td>\n",
       "      <td>7.75</td>\n",
       "      <td>316.8</td>\n",
       "      <td>1</td>\n",
       "    </tr>\n",
       "  </tbody>\n",
       "</table>\n",
       "<p>250 rows × 5 columns</p>\n",
       "</div>"
      ],
      "text/plain": [
       "     Neuron  position  rate  RF_center  in_out_rf\n",
       "0     15000       0.0  4.00      316.8          1\n",
       "1     15000       0.0  4.25      316.8          1\n",
       "2     15000       0.0  4.50      316.8          1\n",
       "3     15000       0.0  3.75      316.8          1\n",
       "4     15000       0.0  4.75      316.8          1\n",
       "..      ...       ...   ...        ...        ...\n",
       "245   15000     360.0  7.50      316.8          1\n",
       "246   15000     360.0  7.75      316.8          1\n",
       "247   15000     360.0  8.00      316.8          1\n",
       "248   15000     360.0  6.00      316.8          1\n",
       "249   15000     360.0  7.75      316.8          1\n",
       "\n",
       "[250 rows x 5 columns]"
      ]
     },
     "execution_count": 91,
     "metadata": {},
     "output_type": "execute_result"
    }
   ],
   "source": [
    "dfx"
   ]
  },
  {
   "cell_type": "code",
   "execution_count": null,
   "metadata": {},
   "outputs": [],
   "source": []
  },
  {
   "cell_type": "code",
   "execution_count": 90,
   "metadata": {},
   "outputs": [
    {
     "data": {
      "text/plain": [
       "array([1, 0], dtype=int64)"
      ]
     },
     "execution_count": 90,
     "metadata": {},
     "output_type": "execute_result"
    }
   ],
   "source": [
    "dfx.in_out_rf.unique()"
   ]
  },
  {
   "cell_type": "code",
   "execution_count": 78,
   "metadata": {},
   "outputs": [],
   "source": [
    "index_max_rate = np.where(dfx['rate']==dfx['rate'].max())[0][0]\n",
    "RF_center = dfx['position'].iloc[index_max_rate]\n",
    "dfx['RF_center'] = RF_center"
   ]
  },
  {
   "cell_type": "code",
   "execution_count": 67,
   "metadata": {},
   "outputs": [
    {
     "data": {
      "text/plain": [
       "22.5"
      ]
     },
     "execution_count": 67,
     "metadata": {},
     "output_type": "execute_result"
    }
   ],
   "source": [
    "45/2"
   ]
  },
  {
   "cell_type": "code",
   "execution_count": 64,
   "metadata": {},
   "outputs": [
    {
     "name": "stderr",
     "output_type": "stream",
     "text": [
      "C:\\Users\\David\\Anaconda3\\envs\\python3\\lib\\site-packages\\scipy\\stats\\stats.py:1713: FutureWarning: Using a non-tuple sequence for multidimensional indexing is deprecated; use `arr[tuple(seq)]` instead of `arr[seq]`. In the future this will be interpreted as an array index, `arr[np.array(seq)]`, which will result either in an error or a different result.\n",
      "  return np.add.reduce(sorted[indexer] * weights, axis=axis) / sumval\n"
     ]
    },
    {
     "data": {
      "text/plain": [
       "<matplotlib.axes._subplots.AxesSubplot at 0x1f825ef3358>"
      ]
     },
     "execution_count": 64,
     "metadata": {},
     "output_type": "execute_result"
    },
    {
     "data": {
      "image/png": "[encoded data removed]",
      "text/plain": [
       "<Figure size 432x288 with 1 Axes>"
      ]
     },
     "metadata": {
      "needs_background": "light"
     },
     "output_type": "display_data"
    }
   ],
   "source": [
    "sns.lineplot('position', 'rate', data=dfx, label=dfx.Neuron.iloc[0])"
   ]
  },
  {
   "cell_type": "code",
   "execution_count": 54,
   "metadata": {},
   "outputs": [
    {
     "data": {
      "text/plain": [
       "250"
      ]
     },
     "execution_count": 54,
     "metadata": {},
     "output_type": "execute_result"
    }
   ],
   "source": [
    "len(nx_positions)"
   ]
  },
  {
   "cell_type": "code",
   "execution_count": 55,
   "metadata": {},
   "outputs": [
    {
     "data": {
      "text/plain": [
       "array([  0. ,   0. ,   0. ,   0. ,   0. ,   0. ,   0. ,   0. ,   0. ,\n",
       "         0. ,  14.4,  14.4,  14.4,  14.4,  14.4,  14.4,  14.4,  14.4,\n",
       "        14.4,  14.4,  28.8,  28.8,  28.8,  28.8,  28.8,  28.8,  28.8,\n",
       "        28.8,  28.8,  28.8,  43.2,  43.2,  43.2,  43.2,  43.2,  43.2,\n",
       "        43.2,  43.2,  43.2,  43.2,  61.2,  61.2,  61.2,  61.2,  61.2,\n",
       "        61.2,  61.2,  61.2,  61.2,  61.2,  75.6,  75.6,  75.6,  75.6,\n",
       "        75.6,  75.6,  75.6,  75.6,  75.6,  75.6,  90. ,  90. ,  90. ,\n",
       "        90. ,  90. ,  90. ,  90. ,  90. ,  90. ,  90. , 104.4, 104.4,\n",
       "       104.4, 104.4, 104.4, 104.4, 104.4, 104.4, 104.4, 104.4, 118.8,\n",
       "       118.8, 118.8, 118.8, 118.8, 118.8, 118.8, 118.8, 118.8, 118.8,\n",
       "       136.8, 136.8, 136.8, 136.8, 136.8, 136.8, 136.8, 136.8, 136.8,\n",
       "       136.8, 151.2, 151.2, 151.2, 151.2, 151.2, 151.2, 151.2, 151.2,\n",
       "       151.2, 151.2, 165.6, 165.6, 165.6, 165.6, 165.6, 165.6, 165.6,\n",
       "       165.6, 165.6, 165.6, 180. , 180. , 180. , 180. , 180. , 180. ,\n",
       "       180. , 180. , 180. , 180. , 194.4, 194.4, 194.4, 194.4, 194.4,\n",
       "       194.4, 194.4, 194.4, 194.4, 194.4, 208.8, 208.8, 208.8, 208.8,\n",
       "       208.8, 208.8, 208.8, 208.8, 208.8, 208.8, 223.2, 223.2, 223.2,\n",
       "       223.2, 223.2, 223.2, 223.2, 223.2, 223.2, 223.2, 241.2, 241.2,\n",
       "       241.2, 241.2, 241.2, 241.2, 241.2, 241.2, 241.2, 241.2, 255.6,\n",
       "       255.6, 255.6, 255.6, 255.6, 255.6, 255.6, 255.6, 255.6, 255.6,\n",
       "       270. , 270. , 270. , 270. , 270. , 270. , 270. , 270. , 270. ,\n",
       "       270. , 284.4, 284.4, 284.4, 284.4, 284.4, 284.4, 284.4, 284.4,\n",
       "       284.4, 284.4, 298.8, 298.8, 298.8, 298.8, 298.8, 298.8, 298.8,\n",
       "       298.8, 298.8, 298.8, 316.8, 316.8, 316.8, 316.8, 316.8, 316.8,\n",
       "       316.8, 316.8, 316.8, 316.8, 331.2, 331.2, 331.2, 331.2, 331.2,\n",
       "       331.2, 331.2, 331.2, 331.2, 331.2, 345.6, 345.6, 345.6, 345.6,\n",
       "       345.6, 345.6, 345.6, 345.6, 345.6, 345.6, 360. , 360. , 360. ,\n",
       "       360. , 360. , 360. , 360. , 360. , 360. , 360. ])"
      ]
     },
     "execution_count": 55,
     "metadata": {},
     "output_type": "execute_result"
    }
   ],
   "source": [
    "nx_positions"
   ]
  },
  {
   "cell_type": "code",
   "execution_count": null,
   "metadata": {},
   "outputs": [],
   "source": []
  }
 ],
 "metadata": {
  "kernelspec": {
   "display_name": "Python 3",
   "language": "python",
   "name": "python3"
  },
  "language_info": {
   "codemirror_mode": {
    "name": "ipython",
    "version": 3
   },
   "file_extension": ".py",
   "mimetype": "text/x-python",
   "name": "python",
   "nbconvert_exporter": "python",
   "pygments_lexer": "ipython3",
   "version": "3.5.6"
  }
 },
 "nbformat": 4,
 "nbformat_minor": 2
}
