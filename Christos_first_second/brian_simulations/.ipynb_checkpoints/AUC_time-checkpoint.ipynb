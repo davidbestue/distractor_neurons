{
 "cells": [
  {
   "cell_type": "code",
   "execution_count": 1,
   "metadata": {},
   "outputs": [],
   "source": [
    "from linares_plot import *\n",
    "import scipy.io as io\n",
    "import pickle\n",
    "from scipy.ndimage import gaussian_filter\n",
    "from scipy import misc\n",
    "import os\n",
    "from sklearn.preprocessing import label_binarize\n",
    "from sklearn.metrics import roc_curve, auc\n"
   ]
  },
  {
   "cell_type": "code",
   "execution_count": 2,
   "metadata": {},
   "outputs": [],
   "source": [
    "def circ_dist(a1,a2):\n",
    "    ## Returns the minimal distance in angles between to angles \n",
    "    op1=abs(a2-a1)\n",
    "    angs=[a1,a2]\n",
    "    op2=min(angs)+(360-max(angs))\n",
    "    options=[op1,op2]\n",
    "    return min(options)"
   ]
  },
  {
   "cell_type": "code",
   "execution_count": 3,
   "metadata": {},
   "outputs": [],
   "source": [
    "path_ = 'C:\\\\Users\\\\David\\\\Desktop\\\\IDIBAPS\\\\brian_simulations\\\\r4'\n",
    "all_= os.listdir(path_)"
   ]
  },
  {
   "cell_type": "code",
   "execution_count": 8,
   "metadata": {},
   "outputs": [],
   "source": [
    "N0 = 20000\n",
    "time_s =7\n",
    "N=0.8*N0 #(el 80% son excitadoras)\n",
    "rounding = 2 ##round the timing\n",
    "w=10 #100ms"
   ]
  },
  {
   "cell_type": "code",
   "execution_count": 9,
   "metadata": {},
   "outputs": [],
   "source": [
    "### Reshape data from simulations"
   ]
  },
  {
   "cell_type": "code",
   "execution_count": 11,
   "metadata": {},
   "outputs": [],
   "source": [
    "pos_stim=[]\n",
    "Iexts = []\n",
    "firings_wind = []\n",
    "\n",
    "for sim_ in range(len(all_)): \n",
    "    print(sim_)\n",
    "    simx = io.loadmat(path_ + '\\\\' + all_[sim_])\n",
    "    ####\n",
    "    #### save position and I0E of each simulation\n",
    "    ####\n",
    "    pos_stim.append(360*simx['pos_stim'][0][0])\n",
    "    Iexts.append(simx['IEext'][0][0])\n",
    "    ####\n",
    "    #### For each simulation I will calculate the firing rate in windows of 100ms\n",
    "    ####\n",
    "    ####\n",
    "    #### STEP 1: put all the spikes in the shape (neuron, time) ##time dimension here is 700\n",
    "    ####\n",
    "    spikes = simx['spktm'] ##all the spike times\n",
    "    Matrix_spikes = np.zeros([int(0.8*N0), time_s*10**2])\n",
    "    neurons_ = np.array([int(spikes[0][x]) for x in range(len(spikes[0]))])\n",
    "    times_ = np.array([int(spikes[1][x]*10**rounding) for x in range(len(spikes[1]))])\n",
    "    times_ = times_ - min(times_)\n",
    "    for t, n in zip(times_, neurons_ ):\n",
    "        Matrix_spikes[n,t]=1\n",
    "    ##\n",
    "    ####\n",
    "    #### STEP 2: calculate firing of each neuron in windows of 100ms (10)\n",
    "    ####\n",
    "    f = np.shape(Matrix_spikes)[1] #700\n",
    "    t1s = np.arange(0,f,w)\n",
    "    t2s = np.arange(w,f+w,w)\n",
    "    ##\n",
    "    fr_time = []\n",
    "    for N in range(np.shape(Matrix_spikes)[0]):\n",
    "        neuron_fr = []\n",
    "        for i in range(len(t1s)):\n",
    "            neuron_fr.append(Matrix_spikes[N, t1s[i]:t2s[i]].sum()/ (w*time_s/f) ) ## works fine, same methos as in the function\n",
    "        #\n",
    "        fr_time.append(neuron_fr)\n",
    "    ###\n",
    "    fr_time=np.array(fr_time)\n",
    "    ####\n",
    "    #### STEP 3: save the new matrix, this time with the dimension (neuron, time) ##time dimension is 700/w = 70\n",
    "    ####\n",
    "    firings_wind.append(fr_time)\n",
    "    \n",
    "\n",
    "##\n",
    "IExts = np.array(Iexts) \n",
    "Positions=np.array(pos_stim)\n",
    "firings_wind = np.array(firings_wind)"
   ]
  },
  {
   "cell_type": "code",
   "execution_count": null,
   "metadata": {},
   "outputs": [],
   "source": []
  },
  {
   "cell_type": "code",
   "execution_count": 16,
   "metadata": {},
   "outputs": [],
   "source": [
    "### Calculate ROC and AUC per time"
   ]
  },
  {
   "cell_type": "code",
   "execution_count": 45,
   "metadata": {},
   "outputs": [],
   "source": [
    "Neurons_  = np.arange(0,16000,1) ## np.arange(0,16000,1) \n",
    "Windows_ =np.arange(0,70,1)  ## np.arange(0,70,1)"
   ]
  },
  {
   "cell_type": "code",
   "execution_count": 47,
   "metadata": {},
   "outputs": [
    {
     "name": "stdout",
     "output_type": "stream",
     "text": [
      "0\n",
      "1.25\n"
     ]
    }
   ],
   "source": [
    "Iext_ = [0, 1.25]\n",
    "\n",
    "\n",
    "lim_RF = 45/4 ##limit to consider a position is inside the RF of the neuron\n",
    "base_fpr = np.linspace(0, 1, 101)\n",
    "\n",
    "number_Iexs = len(Iext_)\n",
    "number_neurons=len(Neurons_)\n",
    "number_windows = len(Windows_)\n",
    "\n",
    "\n",
    "auc_ = np.zeros((number_Iexs, number_windows, number_neurons))\n",
    "#tprs_ =np.zeros((number_Iexs, number_windows))\n",
    "\n",
    "\n",
    "for idx_Iext, IEXT in enumerate(Iext_):\n",
    "    print(IEXT)\n",
    "    for idx_wind, wind in enumerate(Windows_):\n",
    "        for idx_neuron, Neuron in enumerate(Neurons_):\n",
    "            ###\n",
    "            ### Get the positions of the appropiate Iext\n",
    "            nx_positions=Positions[IExts==IEXT]\n",
    "            ###\n",
    "            ### Get the simulations of the appropiate Iext\n",
    "            nx_rates_iex = firings_wind[IExts==IEXT]\n",
    "            ###\n",
    "            ### Get the firing of the neuron at a certain window in each simulation\n",
    "            nx_rates = np.array([nx_rates_iex[n][Neuron, wind] for n in range(len(nx_rates_iex))])\n",
    "            ###\n",
    "            dfx = pd.DataFrame({'position':nx_positions, 'rate':nx_rates, 'Neuron':Neuron, 'wind':wind})\n",
    "            ###\n",
    "            ### RF center of each neuro\n",
    "            index_max_rate = np.where(dfx['rate']==dfx['rate'].max())[0][0]\n",
    "            RF_center = dfx['position'].iloc[index_max_rate]\n",
    "            dfx['RF_center'] = RF_center\n",
    "            in_out_rf = []\n",
    "            for p in range(len(dfx)):\n",
    "                dist_ = circ_dist(RF_center, dfx.position.iloc[p])\n",
    "                if dist_>lim_RF:\n",
    "                    in_out_rf.append(5) #outside RF\n",
    "                else:\n",
    "                    in_out_rf.append(1) #inside RF\n",
    "            #####\n",
    "            dfx['in_out_rf']=in_out_rf\n",
    "            ###\n",
    "            ## appropiate shape for the classifier\n",
    "            y = label_binarize(dfx['in_out_rf'].values, classes=[5,1]) #matrix (1,0,0,...,0)\n",
    "            y=y.ravel()\n",
    "            ######\n",
    "            if len(np.unique(y))==1:\n",
    "                mean_tprs = np.empty(np.shape(base_fpr))*np.nan\n",
    "            else:\n",
    "                fpr, tpr, _ = roc_curve(y, dfx['rate'].values) #HERE: compute ROC with raw firing rate\n",
    "                tpr = np.interp(base_fpr, fpr, tpr)\n",
    "                tpr[0] = 0.0\n",
    "                mean_tprs = tpr\n",
    "            \n",
    "            #tprs_[idx_Iext, idx_wind] = mean_tprs\n",
    "            ##\n",
    "            auc_[idx_Iext, idx_wind, idx_neuron] = auc(base_fpr, mean_tprs)\n",
    "            ##\n",
    "\n",
    "\n",
    "            "
   ]
  },
  {
   "cell_type": "code",
   "execution_count": 77,
   "metadata": {},
   "outputs": [],
   "source": [
    "### Mean AUC of all neurons in each Iex and window\n",
    "\n",
    "Mean_auc = []\n",
    "exts=[]\n",
    "times_=[]\n",
    "\n",
    "for idx_Iext, IEXT in enumerate(Iext_):\n",
    "    for idx_wind, wind in enumerate(Windows_):\n",
    "        auc_wind = auc_[idx_Iext, idx_wind, :] \n",
    "        ind = np.isnan(auc_wind)\n",
    "        ##\n",
    "        Mean_auc.append(np.mean(auc_wind[~ind]) )\n",
    "        exts.append(IEXT)\n",
    "        times_.append(wind*w)\n",
    "        \n",
    "##\n",
    "\n",
    "df_mean_auc = pd.DataFrame({'AUC':Mean_auc, 'Iext':exts, 'time':times_})\n",
    "df_mean_auc[' '] = df_mean_auc['Iext'].replace([0,1.25], ['OFF', 'ON'])"
   ]
  },
  {
   "cell_type": "code",
   "execution_count": null,
   "metadata": {},
   "outputs": [],
   "source": []
  },
  {
   "cell_type": "code",
   "execution_count": 78,
   "metadata": {},
   "outputs": [],
   "source": [
    "## Plot AUC with time in ON and OFF conditions"
   ]
  },
  {
   "cell_type": "code",
   "execution_count": 79,
   "metadata": {},
   "outputs": [
    {
     "data": {
      "image/png": "[encoded data removed]",
      "text/plain": [
       "<Figure size 432x72 with 1 Axes>"
      ]
     },
     "metadata": {
      "needs_background": "light"
     },
     "output_type": "display_data"
    }
   ],
   "source": [
    "pal_= sns.color_palette(\"cividis\", n_colors=6) #RdBu_r\n",
    "sns.palplot(pal_)\n",
    "plt.show()\n",
    "palette_ = [pal_.as_hex()[0], pal_.as_hex()[-1]]"
   ]
  },
  {
   "cell_type": "code",
   "execution_count": null,
   "metadata": {},
   "outputs": [],
   "source": [
    "ax=plt.figure()\n",
    "\n",
    "\n",
    "sns.lineplot(x='time', y='AUC', hue=' ', hue_order=['OFF', 'ON'], data=df_mean_auc, palette=palette_)\n",
    "plt.xlim(10,700)\n",
    "plt.xticks([100,250,400,550,700], fontsize=20)\n",
    "plt.ylim([0.5, 1.])\n",
    "plt.yticks([0.5, 0.75, 1], fontsize=20)\n",
    "plt.ylabel('AUC', fontsize=25)\n",
    "plt.xlabel('time (ms)', fontsize=25)\n",
    "plt.title('')\n",
    "plt.legend(loc=\"lower right\", fontsize=20, frameon=False)\n",
    "plt.gca().spines['right'].set_visible(False)  # aesthetics                                                                              # remove right spines\n",
    "plt.gca().spines['top'].set_visible(False)                                                                                  # remove top spines\n",
    "plt.gca().get_xaxis().tick_bottom()                                                                                         \n",
    "plt.gca().get_yaxis().tick_left()\n",
    "plt.gca().tick_params(direction='in') #direction\n",
    "#plt.plot([200,200], [0.5, 0.95], 'k--', linewidth=1)\n",
    "#plt.plot([300,300], [0.5, 0.95], 'k--', linewidth=1)\n",
    "plt.fill_between([200,300], [0.95, 0.95], color='lightgrey')\n",
    "plt.show()\n",
    "\n",
    "ax.savefig('C:\\\\Users\\\\David\\\\Desktop\\\\AUC_Hansel.svg', transparent=True)"
   ]
  },
  {
   "cell_type": "code",
   "execution_count": null,
   "metadata": {},
   "outputs": [],
   "source": []
  },
  {
   "cell_type": "code",
   "execution_count": null,
   "metadata": {},
   "outputs": [],
   "source": []
  },
  {
   "cell_type": "code",
   "execution_count": 81,
   "metadata": {},
   "outputs": [
    {
     "data": {
      "image/png": "[encoded data removed]",
      "text/plain": [
       "<Figure size 432x288 with 1 Axes>"
      ]
     },
     "metadata": {
      "needs_background": "light"
     },
     "output_type": "display_data"
    }
   ],
   "source": [
    "ax=plt.figure()\n",
    "\n",
    "\n",
    "sns.lineplot(x='time', y='AUC', hue=' ', hue_order=['OFF', 'ON'], data=df_mean_auc, palette=palette_)\n",
    "plt.xlim(10,700)\n",
    "plt.xticks([100,250,400,550,700], fontsize=20)\n",
    "plt.ylim([0.5, 1.])\n",
    "plt.yticks([0.5, 0.75, 1], fontsize=20)\n",
    "plt.ylabel('AUC', fontsize=25)\n",
    "plt.xlabel('time (ms)', fontsize=25)\n",
    "plt.title('')\n",
    "plt.legend(loc=\"lower right\", fontsize=20, frameon=False)\n",
    "plt.gca().spines['right'].set_visible(False)  # aesthetics                                                                              # remove right spines\n",
    "plt.gca().spines['top'].set_visible(False)                                                                                  # remove top spines\n",
    "plt.gca().get_xaxis().tick_bottom()                                                                                         \n",
    "plt.gca().get_yaxis().tick_left()\n",
    "plt.gca().tick_params(direction='in') #direction\n",
    "#plt.plot([200,200], [0.5, 0.95], 'k--', linewidth=1)\n",
    "#plt.plot([300,300], [0.5, 0.95], 'k--', linewidth=1)\n",
    "plt.fill_between([200,300], [0.95, 0.95], color='lightgrey')\n",
    "plt.show()\n",
    "\n",
    "ax.savefig('C:\\\\Users\\\\David\\\\Desktop\\\\AUC_Hansel.svg', transparent=True)"
   ]
  },
  {
   "cell_type": "code",
   "execution_count": null,
   "metadata": {},
   "outputs": [],
   "source": []
  },
  {
   "cell_type": "code",
   "execution_count": null,
   "metadata": {},
   "outputs": [],
   "source": []
  }
 ],
 "metadata": {
  "kernelspec": {
   "display_name": "Python 3",
   "language": "python",
   "name": "python3"
  },
  "language_info": {
   "codemirror_mode": {
    "name": "ipython",
    "version": 3
   },
   "file_extension": ".py",
   "mimetype": "text/x-python",
   "name": "python",
   "nbconvert_exporter": "python",
   "pygments_lexer": "ipython3",
   "version": "3.5.6"
  }
 },
 "nbformat": 4,
 "nbformat_minor": 2
}
