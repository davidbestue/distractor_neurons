{
 "cells": [
  {
   "cell_type": "code",
   "execution_count": null,
   "metadata": {},
   "outputs": [],
   "source": [
    "from linares_plot import *\n",
    "import scipy.io as io\n",
    "import pickle\n",
    "from scipy.ndimage import gaussian_filter\n",
    "from scipy import misc"
   ]
  },
  {
   "cell_type": "code",
   "execution_count": null,
   "metadata": {},
   "outputs": [],
   "source": [
    "def decode_rE(rE, a_ini=0, a_fin=360, N=512):\n",
    "    #Population vector for a given rE\n",
    "    # return ( angle in radians, absolut angle in radians, abs angle in degrees )\n",
    "    N=len(rE)\n",
    "    Angles = np.linspace(a_ini, a_fin, N) \n",
    "    angles=np.radians(Angles)\n",
    "    rE = np.reshape(rE, (1,N))\n",
    "    R = np.sum(np.dot(rE,np.exp(1j*angles)))/np.sum(rE)\n",
    "    \n",
    "    angle_decoded = np.degrees(np.angle(R))\n",
    "    if angle_decoded<0:\n",
    "        angle_decoded = 360+angle_decoded\n",
    "    \n",
    "    return angle_decoded\n",
    "\n",
    "\n",
    "def err_deg(a1,ref):\n",
    "    ### Calculate the error ref-a1 in an efficient way in the circular space\n",
    "    ### \"going ccw from the reference (ref) is negative\" - \"going cw from the reference (ref) is positive\"\n",
    "    ### it uses complex numbers!\n",
    "    ### Input in degrees (0-360)\n",
    "    a1=np.radians(a1)\n",
    "    ref=np.radians(ref)\n",
    "    err = np.angle(np.exp(1j*ref)/np.exp(1j*(a1) ), deg=True) \n",
    "    err=round(err, 2)\n",
    "    return err\n"
   ]
  },
  {
   "cell_type": "code",
   "execution_count": null,
   "metadata": {},
   "outputs": [],
   "source": [
    "path_ = 'C:\\\\Users\\\\David\\\\Desktop\\\\IDIBAPS\\\\brian_simulations\\\\r8'\n",
    "all_= os.listdir(path_)\n",
    "print(len(all_))"
   ]
  },
  {
   "cell_type": "code",
   "execution_count": null,
   "metadata": {},
   "outputs": [],
   "source": [
    "N0 = 20000\n",
    "N=0.8*N0 #(el 80% son excitadoras)\n",
    "stim_on=2\n",
    "stim_off=3\n",
    "\n",
    "\n",
    "time_s =7000 #(ms)\n",
    "rounding = 2 ##round the timing\n",
    "w=100 #(ms)\n"
   ]
  },
  {
   "cell_type": "code",
   "execution_count": null,
   "metadata": {},
   "outputs": [],
   "source": [
    "frames=[]\n",
    "\n",
    "for sim_ in range(5): #len(all_)\n",
    "    print(sim_)\n",
    "    data = io.loadmat(path_ + '\\\\' + all_[sim_])\n",
    "    spikes = data['spktm']\n",
    "    rates= data['ratedelay']\n",
    "    #####\n",
    "    pos_stim = 360*data['pos_stim'][0][0]\n",
    "    Iext = data['IEext'][0][0]\n",
    "    spikes = data['spktm']\n",
    "    Matrix_spikes=np.zeros([int(0.8*N0), time_s])\n",
    "    neurons_ = np.array([int(spikes[0][x]) for x in range(len(spikes[0]))])\n",
    "    times_ = np.array([spikes[1][x] for x in range(len(spikes[1]))])\n",
    "    times_ = times_ - min(times_)\n",
    "    times_ = np.array([int(times_[x]*1000) for x in range(len(times_))])\n",
    "    # dimensions = neurons, time_s\n",
    "    for t, n in zip(times_, neurons_ ):\n",
    "        Matrix_spikes[n,t]=1\n",
    "    ##\n",
    "    ####\n",
    "    #### STEP 2: calculate firing of each neuron in windows of 100ms (10)\n",
    "    ####\n",
    "    t1s = np.arange(0, time_s ,w)\n",
    "    t2s = np.arange(w, time_s+w, w)\n",
    "    ##\n",
    "    fr_time = []\n",
    "    for N in range(np.shape(Matrix_spikes)[0]):\n",
    "        neuron_fr = []\n",
    "        for i in range(len(t1s)):\n",
    "            neuron_fr.append(Matrix_spikes[N, t1s[i]:t2s[i]].sum()/ float(1000/w) ) \n",
    "        #\n",
    "        fr_time.append(neuron_fr)\n",
    "    ###\n",
    "    fr_time=np.array(fr_time)\n",
    "    ######\n",
    "    ######\n",
    "    firings_wind_final=fr_time[:,-1]\n",
    "    target_ = pos_stim\n",
    "    decoded_position = decode_rE(firings_wind_final, N=16000)\n",
    "    Error = err_deg(decoded_position, target_)\n",
    "    ###print( 'Error OFF: ' +str(Error))\n",
    "    target_pos = np.linspace(0,360,16000) \n",
    "    target_pos = np.array([int(target_pos[x]) for x in range(len(target_pos))])\n",
    "    position_center_bump =   target_pos[np.where(firings_wind_final==max(firings_wind_final))[0][0]]\n",
    "    fract = position_center_bump/360\n",
    "    to_move = - ( int(round(0.5*N,0)) - int(round(fract*N,0))  )\n",
    "    target_pos = np.roll(target_pos, to_move) \n",
    "    target_pos = target_pos -180\n",
    "    #\n",
    "    df_ = pd.DataFrame({'rate': firings_wind_final_OFF, 'preferred':target_pos })\n",
    "    df_['Iext'] = Iext\n",
    "    #\n",
    "    frames.append(df_)\n",
    "\n",
    "\n",
    "\n"
   ]
  },
  {
   "cell_type": "code",
   "execution_count": null,
   "metadata": {},
   "outputs": [],
   "source": [
    "df = pd.concat(frames)\n",
    "df['stimulation'] = df['Iext'].replace([0,0.5], ['OFF', 'ON'])\n",
    "df['preferred_10'] = [int(df['preferred'].values[x]/10) for x in range(len(df)) ]"
   ]
  },
  {
   "cell_type": "code",
   "execution_count": null,
   "metadata": {},
   "outputs": [],
   "source": [
    "sns.lineplot(x='preferred_10', y='rate', hue='stimulation', data=df)\n",
    "plt.legend(frameon=False, fontsize=15)\n",
    "plt.gca().spines['right'].set_visible(False)  # aesthetics                                                                              # remove right spines\n",
    "plt.gca().spines['top'].set_visible(False)                                                                                  # remove top spines\n",
    "plt.gca().get_xaxis().tick_bottom()                                                                                         \n",
    "plt.gca().get_yaxis().tick_left()\n",
    "plt.gca().tick_params(direction='in') #direction\n",
    "#plt.ylim(-0.05, 0.2);"
   ]
  }
 ],
 "metadata": {
  "kernelspec": {
   "display_name": "Python 3",
   "language": "python",
   "name": "python3"
  },
  "language_info": {
   "codemirror_mode": {
    "name": "ipython",
    "version": 3
   },
   "file_extension": ".py",
   "mimetype": "text/x-python",
   "name": "python",
   "nbconvert_exporter": "python",
   "pygments_lexer": "ipython3",
   "version": "3.5.6"
  }
 },
 "nbformat": 4,
 "nbformat_minor": 2
}
