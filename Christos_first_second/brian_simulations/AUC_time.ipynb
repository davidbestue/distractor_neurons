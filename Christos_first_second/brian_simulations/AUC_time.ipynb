{
 "cells": [
  {
   "cell_type": "code",
   "execution_count": 2,
   "metadata": {},
   "outputs": [],
   "source": [
    "from linares_plot import *\n",
    "import scipy.io as io\n",
    "import pickle\n",
    "from scipy.ndimage import gaussian_filter\n",
    "from scipy import misc\n",
    "import os\n",
    "from sklearn.preprocessing import label_binarize\n",
    "from sklearn.metrics import roc_curve, auc\n"
   ]
  },
  {
   "cell_type": "code",
   "execution_count": 3,
   "metadata": {},
   "outputs": [],
   "source": [
    "def circ_dist(a1,a2):\n",
    "    ## Returns the minimal distance in angles between to angles \n",
    "    op1=abs(a2-a1)\n",
    "    angs=[a1,a2]\n",
    "    op2=min(angs)+(360-max(angs))\n",
    "    options=[op1,op2]\n",
    "    return min(options)"
   ]
  },
  {
   "cell_type": "code",
   "execution_count": null,
   "metadata": {},
   "outputs": [],
   "source": [
    "path_ = 'C:\\\\Users\\\\David\\\\Desktop\\\\IDIBAPS\\\\brian_simulations\\\\r'\n",
    "all_= os.listdir(path_)"
   ]
  },
  {
   "cell_type": "code",
   "execution_count": null,
   "metadata": {},
   "outputs": [],
   "source": [
    "pos_stim=[]\n",
    "Iexts = []\n",
    "\n",
    "for sim_ in range(len(all_)): #len(all_)\n",
    "    simx = io.loadmat(path_ + '\\\\' + all_[sim_])\n",
    "    pos_stim.append(360*simx['pos_stim'][0][0])\n",
    "    Iexts.append(simx['IEext'][0][0])\n",
    "    ##\n",
    "    spikes_on = simx['spktm']\n",
    "    ##"
   ]
  },
  {
   "cell_type": "code",
   "execution_count": null,
   "metadata": {},
   "outputs": [],
   "source": []
  },
  {
   "cell_type": "code",
   "execution_count": null,
   "metadata": {},
   "outputs": [],
   "source": [
    "data_on = io.loadmat('C:\\\\Users\\\\David\\\\Desktop\\\\IDIBAPS\\\\brian_simulations\\\\simulation_28797_1628595989_bor.mat') #,{'rate':rates, 'spktm': spikes.it})\n",
    "spikes_on = data_on['spktm']\n",
    "\n",
    "N0 = 20000\n",
    "time_s =7\n",
    "N=0.8*N0 #(el 80% son excitadoras)\n",
    "rounding = 2 ##round the timing\n",
    "\n",
    "Matrix_spikes_on = np.zeros([int(N), time_s*10**2])\n",
    "\n",
    "### the bump is centered to 0, move it to 180\n",
    "# spikes_180 = spikes[0]+ (N/2)\n",
    "# for i in range(len(spikes_180)):\n",
    "#     if spikes_180[i]>=N:\n",
    "#         spikes_180[i] = spikes_180[i]-N\n",
    "\n",
    "##\n",
    "neurons_ = np.array([int(spikes_on[0][x]) for x in range(len(spikes_on[0]))])\n",
    "#neurons_ =  np.array([int(spikes_180[x]) for x in range(len(spikes_180))])\n",
    "times_ = np.array([int(spikes_on[1][x]*10**rounding-700) for x in range(len(spikes_on[1]))])\n",
    "\n",
    "for t, n in zip(times_, neurons_ ):\n",
    "    #print(t,n)\n",
    "    Matrix_spikes_on[n,t]=1"
   ]
  }
 ],
 "metadata": {
  "kernelspec": {
   "display_name": "Python 3",
   "language": "python",
   "name": "python3"
  },
  "language_info": {
   "codemirror_mode": {
    "name": "ipython",
    "version": 3
   },
   "file_extension": ".py",
   "mimetype": "text/x-python",
   "name": "python",
   "nbconvert_exporter": "python",
   "pygments_lexer": "ipython3",
   "version": "3.5.6"
  }
 },
 "nbformat": 4,
 "nbformat_minor": 2
}
