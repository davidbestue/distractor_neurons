{
 "cells": [
  {
   "cell_type": "code",
   "execution_count": 1,
   "metadata": {},
   "outputs": [],
   "source": [
    "from model_phantom import *"
   ]
  },
  {
   "cell_type": "code",
   "execution_count": 3,
   "metadata": {},
   "outputs": [
    {
     "name": "stdout",
     "output_type": "stream",
     "text": [
      "['#1f77b4', '#ff7f0e', '#2ca02c', '#d62728', '#9467bd', '#8c564b', '#e377c2', '#7f7f7f', '#bcbd22', '#17becf']\n"
     ]
    },
    {
     "data": {
      "image/png": "[encoded data removed]",
      "text/plain": [
       "<Figure size 720x72 with 1 Axes>"
      ]
     },
     "metadata": {
      "needs_background": "light"
     },
     "output_type": "display_data"
    }
   ],
   "source": [
    "#Palettes\n",
    "print(sns.color_palette(\"tab10\").as_hex())\n",
    "sns.palplot(sns.color_palette(\"tab10\"))\n",
    "plt.show()\n",
    "c_on = 'darkorange' #'#ff7f0e'\n",
    "c_off = 'dodgerblue' #'#1f77b4'\n",
    "\n",
    "onoff_pal=[c_on, c_off]\n",
    "offon_pal = [c_off, c_on]\n",
    "\n",
    "pal_cyan = sns.color_palette(\"RdBu_r\", n_colors=200)[40:] #RdBu_r\n",
    "ltc= 'gold'  #'springgreen'\n",
    "lw_t=3\n",
    "N=512\n",
    "stimon = 50\n",
    "stimoff = 50 + floor(250/2) ;\n",
    "nsteps=int(floor(750));\n",
    "p_targ2 = int((N * 90)/360)\n",
    "p_dist = int((N * (90+50) )/360)\n",
    "sns.set_context(\"poster\", font_scale=1.1)\n",
    "sns.set_style(\"ticks\")"
   ]
  },
  {
   "cell_type": "code",
   "execution_count": 4,
   "metadata": {},
   "outputs": [],
   "source": [
    "def hemap(an):\n",
    "    RE_sorted=flipud(an[4])\n",
    "    sns.heatmap(RE_sorted, cmap=pal_cyan, vmin=0, vmax=17,  cbar=True)\n",
    "    plt.gca().set_ylabel('')\n",
    "    plt.gca().set_xlabel('')\n",
    "    plt.gca().set_title('')\n",
    "    plt.gca().plot([stimon, nsteps], [p_targ2, p_targ2], ls='--', color =ltc, linewidth=lw_t) ## flipped, so it is p_target \n",
    "    plt.gca().set_xticks([])\n",
    "    plt.gca().set_yticks([0, N/4, N/2,  3*N/4, N ])\n",
    "    plt.gca().set_yticklabels(['0','90','180', '270', '360'])\n",
    "    plt.gca().set_xlabel('time');"
   ]
  },
  {
   "cell_type": "code",
   "execution_count": null,
   "metadata": {},
   "outputs": [],
   "source": [
    "fee=1\n",
    "fei=1\n",
    "fie=1\n",
    "fii=1\n",
    "\n",
    "fee=0.94\n",
    "fei=0.92\n",
    "fie=1.14\n",
    "fii=1.08\n",
    "\n",
    "on= model(totalTime=2000, targ_onset_1=50000, targ_onset_2=1000, angle_target_i=90, presentation_period=100,\n",
    "           angle_separation=52, tauE=20, tauI=10,  n_stims=2, I0E=0.1, I0I=0.5, \n",
    "           GEE=0.068*fee,\n",
    "           GII= 0.13*fei,\n",
    "           GEI=0.13*fie,\n",
    "           GIE=0.042*fii, \n",
    "           sigE=8., sigI=5.,            \n",
    "           kappa_E=45, \n",
    "           kappa_I=0.3, \n",
    "           kappa_stim=40., N=512, stim_strengthE=9.4, stim_strengthI=0.,\n",
    "           plot_connectivity=False, plot_rate=False, plot_hm=False , plot_fit=False, \n",
    "           phantom_st=1.1, phantom_onset=500, phnatom_duration=100)\n",
    "\n",
    "\n",
    "hemap(on)\n",
    "plt.plot([400/2, 400/2], [0, 512], '--k', linewidth=2) ## flipped, so it is p_target \n",
    "plt.plot([600/2, 600/2], [0, 512], '--k', linewidth=2)"
   ]
  },
  {
   "cell_type": "code",
   "execution_count": null,
   "metadata": {},
   "outputs": [],
   "source": []
  }
 ],
 "metadata": {
  "kernelspec": {
   "display_name": "Python 3",
   "language": "python",
   "name": "python3"
  },
  "language_info": {
   "codemirror_mode": {
    "name": "ipython",
    "version": 3
   },
   "file_extension": ".py",
   "mimetype": "text/x-python",
   "name": "python",
   "nbconvert_exporter": "python",
   "pygments_lexer": "ipython3",
   "version": "3.5.6"
  }
 },
 "nbformat": 4,
 "nbformat_minor": 2
}
