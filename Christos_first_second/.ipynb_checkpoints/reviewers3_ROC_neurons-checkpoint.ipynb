{
 "cells": [
  {
   "cell_type": "code",
   "execution_count": 1,
   "metadata": {},
   "outputs": [],
   "source": [
    "from model_phantom_DB import *\n",
    "from linares_plot import * \n",
    "import itertools\n",
    "\n",
    "%matplotlib inline\n",
    "%config InlineBackend.figure_format = 'png' ## 'svg'\n",
    "\n",
    "%load_ext autoreload\n",
    "%autoreload 2\n",
    "\n",
    "import numpy as np\n",
    "import matplotlib.pyplot as plt\n",
    "from itertools import cycle\n",
    "from sklearn import svm, datasets\n",
    "from sklearn.metrics import roc_curve, auc\n",
    "from sklearn.model_selection import train_test_split\n",
    "from sklearn.preprocessing import label_binarize\n",
    "from sklearn.multiclass import OneVsRestClassifier\n",
    "from scipy import interp\n",
    "from sklearn.metrics import roc_auc_score\n",
    "import pandas as pd"
   ]
  },
  {
   "cell_type": "markdown",
   "metadata": {},
   "source": [
    "For all the matrice data : each row is one trial, each column is one neuron. \n",
    "For the same row the trial data may not be collected on the same trial since data might are collected on different days.\n",
    "\n",
    "cuerate: firing rate during 1st visual stimuli(cue) presentation.\n",
    "\n",
    "cuerate_stim: firing rate during 1st cue presentation with NB stimulation. \n",
    "\n",
    "cdrate: firing rate during the 1st delay after 1st cue presentation. \n",
    "\n",
    "cdrate_stim: firing rate during the 1st delay after cue presentation  with NB stimulation.  \n",
    " \n",
    "samplerate: firing rate during 2nd visual stimuli(sample) presentation. \n",
    "\n",
    "samplerate_stim: firing rate during sample presentation with NB stimulation. \n",
    "\n",
    "sdrate: firing rate during the delay after sample presentation. \n",
    "\n",
    "sdrate_stim: firing rate during the delay after sample presentation with NB stimulation. \n",
    "\n",
    "g1: location of 1st visual stimuli(cue)\n",
    " value -1 means no visual stimuli presented.\n",
    " value [1 2 3 4 5] are  relative locaions, such as [0 45 90 135 180], or [ 45 90 135 180 225], etc.\n",
    " The real locations depended on neurons' receptive field.\n",
    " According to our behavioral paradigm, the cue will only be presented on locaion [1 5]. that is two opposite locations, such as [0 180], [45 225], etc.\n",
    " For each neuron, thoes value([1:5]) refer to the same locations.\n",
    "\n",
    "g2: location of 2nd visual stimuli(sample)\n",
    "  Sample can show up in all five possible locations([1:5]) or not presented(-1).\n",
    "\n",
    "g3: task type for each trial, eg. saccade to 1st (value 1), or saccade to 2nd(value 2).\n"
   ]
  },
  {
   "cell_type": "code",
   "execution_count": 2,
   "metadata": {},
   "outputs": [
    {
     "data": {
      "text/plain": [
       "dict_keys(['__version__', 'cdrate_stim', 'cdrate', '__globals__', 'cuerate', 'g3', 'sdrate_stim', 'cuerate_stim', 'g2_stim', '__header__', 'samplerate_stim', 'g3_stim', 'g1', 'sdrate', 'samplerate', 'g2', 'g1_stim'])"
      ]
     },
     "execution_count": 2,
     "metadata": {},
     "output_type": "execute_result"
    }
   ],
   "source": [
    "from scipy.io import loadmat \n",
    "file = 'C:\\\\Users\\\\David\\\\Desktop\\\\IDIBAPS\\\\Classifiy_data_odrdistvar_allNeurons_reverse.matlab'\n",
    "data = loadmat(file)\n",
    "data.keys()"
   ]
  },
  {
   "cell_type": "code",
   "execution_count": 3,
   "metadata": {},
   "outputs": [],
   "source": [
    "rate_d1_off = data['cdrate']\n",
    "positions_stim_off= data['g1'] #1, 5, -1 (entiendo que 1 es RF y 5 es opposite, -1 es no estímulo)\n",
    "\n",
    "rate_d1_on = data['cdrate_stim']\n",
    "positions_stim_on= data['g1_stim'] #1, 5, -1 (entiendo que 1 es RF y 5 es opposite, -1 es no estímulo)"
   ]
  },
  {
   "cell_type": "code",
   "execution_count": null,
   "metadata": {},
   "outputs": [],
   "source": []
  },
  {
   "cell_type": "code",
   "execution_count": null,
   "metadata": {},
   "outputs": [],
   "source": []
  },
  {
   "cell_type": "code",
   "execution_count": 12,
   "metadata": {},
   "outputs": [
    {
     "name": "stderr",
     "output_type": "stream",
     "text": [
      "C:\\Users\\David\\Anaconda3\\envs\\python3\\lib\\site-packages\\ipykernel_launcher.py:8: RuntimeWarning: invalid value encountered in greater\n",
      "  \n",
      "C:\\Users\\David\\Anaconda3\\envs\\python3\\lib\\site-packages\\ipykernel_launcher.py:9: RuntimeWarning: invalid value encountered in greater\n",
      "  if __name__ == '__main__':\n"
     ]
    }
   ],
   "source": [
    "### neuron 1 off\n",
    "Neuron = 0\n",
    "\n",
    "n1_rates = rate_d1_off[:,Neuron]\n",
    "n1_positions = positions_stim_off[:,Neuron]\n",
    "\n",
    "#just get the 1 and 5 (RF and oppoiste)\n",
    "n1_y = n1_positions[n1_positions>0]\n",
    "n1_x = n1_rates[n1_positions>0]\n"
   ]
  },
  {
   "cell_type": "code",
   "execution_count": 13,
   "metadata": {},
   "outputs": [],
   "source": [
    "y_off = label_binarize(n1_y, classes=[5,1]) #matrix (1,0,0,...,0)\n",
    "n_classes = y_off.shape[1]\n",
    "X_off =np.reshape(n1_x, (len(n1_x),1))"
   ]
  },
  {
   "cell_type": "code",
   "execution_count": null,
   "metadata": {},
   "outputs": [],
   "source": []
  }
 ],
 "metadata": {
  "kernelspec": {
   "display_name": "Python 3",
   "language": "python",
   "name": "python3"
  },
  "language_info": {
   "codemirror_mode": {
    "name": "ipython",
    "version": 3
   },
   "file_extension": ".py",
   "mimetype": "text/x-python",
   "name": "python",
   "nbconvert_exporter": "python",
   "pygments_lexer": "ipython3",
   "version": "3.5.6"
  }
 },
 "nbformat": 4,
 "nbformat_minor": 2
}
