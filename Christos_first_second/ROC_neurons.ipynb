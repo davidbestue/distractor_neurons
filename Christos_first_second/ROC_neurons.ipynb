{
 "cells": [
  {
   "cell_type": "code",
   "execution_count": 3,
   "metadata": {
    "ExecuteTime": {
     "end_time": "2021-04-07T11:12:45.917177Z",
     "start_time": "2021-04-07T11:12:44.895454Z"
    }
   },
   "outputs": [],
   "source": [
    "# from model_phantom_DB import *\n",
    "#from plot_functions import * \n",
    "import itertools\n",
    "\n",
    "%matplotlib inline\n",
    "%config InlineBackend.figure_format = 'png' ## 'svg'\n",
    "\n",
    "%load_ext autoreload\n",
    "%autoreload 2\n",
    "\n",
    "import numpy as np\n",
    "import matplotlib.pyplot as plt\n",
    "from itertools import cycle\n",
    "from sklearn import svm, datasets\n",
    "from sklearn.metrics import roc_curve, auc\n",
    "from sklearn.model_selection import train_test_split\n",
    "from sklearn.preprocessing import label_binarize\n",
    "from sklearn.multiclass import OneVsRestClassifier\n",
    "from scipy import interp\n",
    "from sklearn.metrics import roc_auc_score\n",
    "import pandas as pd\n",
    "\n",
    "import pandas as pd\n",
    "import matplotlib.pyplot as plt\n",
    "import seaborn as sns\n",
    "import numpy as np\n",
    "\n",
    "\n",
    "## Style of poster for the plots\n",
    "sns.set_context(\"poster\", font_scale=1.1) ## poster format\n",
    "sns.set_style(\"ticks\")\n"
   ]
  },
  {
   "cell_type": "markdown",
   "metadata": {},
   "source": [
    "For all the matrice data : each row is one trial, each column is one neuron. \n",
    "For the same row the trial data may not be collected on the same trial since data might are collected on different days.\n",
    "\n",
    "cuerate: firing rate during 1st visual stimuli(cue) presentation.\n",
    "\n",
    "cuerate_stim: firing rate during 1st cue presentation with NB stimulation. \n",
    "\n",
    "cdrate: firing rate during the 1st delay after 1st cue presentation. \n",
    "\n",
    "cdrate_stim: firing rate during the 1st delay after cue presentation  with NB stimulation.  \n",
    " \n",
    "samplerate: firing rate during 2nd visual stimuli(sample) presentation. \n",
    "\n",
    "samplerate_stim: firing rate during sample presentation with NB stimulation. \n",
    "\n",
    "sdrate: firing rate during the delay after sample presentation. \n",
    "\n",
    "sdrate_stim: firing rate during the delay after sample presentation with NB stimulation. \n",
    "\n",
    "g1: location of 1st visual stimuli(cue)\n",
    " value -1 means no visual stimuli presented.\n",
    " value [1 2 3 4 5] are  relative locaions, such as [0 45 90 135 180], or [ 45 90 135 180 225], etc.\n",
    " The real locations depended on neurons' receptive field.\n",
    " According to our behavioral paradigm, the cue will only be presented on locaion [1 5]. that is two opposite locations, such as [0 180], [45 225], etc.\n",
    " For each neuron, thoes value([1:5]) refer to the same locations.\n",
    "\n",
    "g2: location of 2nd visual stimuli(sample)\n",
    "  Sample can show up in all five possible locations([1:5]) or not presented(-1).\n",
    "\n",
    "g3: task type for each trial, eg. saccade to 1st (value 1), or saccade to 2nd(value 2).\n"
   ]
  },
  {
   "cell_type": "code",
   "execution_count": 4,
   "metadata": {
    "ExecuteTime": {
     "end_time": "2021-04-07T17:57:30.155527Z",
     "start_time": "2021-04-07T17:57:30.046344Z"
    }
   },
   "outputs": [
    {
     "data": {
      "text/plain": [
       "dict_keys(['cuerate_stim', 'g3', 'cuerate', 'g1_stim', 'sdrate', 'g2_stim', 'sdrate_stim', 'cdrate_stim', 'cdrate', 'samplerate', 'g1', '__globals__', '__version__', '__header__', 'g2', 'samplerate_stim', 'g3_stim'])"
      ]
     },
     "execution_count": 4,
     "metadata": {},
     "output_type": "execute_result"
    }
   ],
   "source": [
    "from scipy.io import loadmat \n",
    "file = 'C:\\\\Users\\\\David\\\\Desktop\\\\IDIBAPS\\\\Classifiy_data_odrdistvar_allNeurons_reverse.matlab'\n",
    "data = loadmat(file)\n",
    "data.keys()"
   ]
  },
  {
   "cell_type": "code",
   "execution_count": 5,
   "metadata": {
    "ExecuteTime": {
     "end_time": "2021-04-07T18:00:35.062407Z",
     "start_time": "2021-04-07T18:00:35.029909Z"
    }
   },
   "outputs": [],
   "source": [
    "rate_d1_off = data['cdrate']\n",
    "positions_stim_off= data['g1'] #1, 5, -1 (entiendo que 1 es RF y 5 es opposite, -1 es no estímulo)\n",
    "\n",
    "rate_d1_on = data['cdrate_stim']\n",
    "positions_stim_on= data['g1_stim'] #1, 5, -1 (entiendo que 1 es RF y 5 es opposite, -1 es no estímulo)\n",
    "\n",
    "number_neurons = np.shape(rate_d1_on)[1]"
   ]
  },
  {
   "cell_type": "code",
   "execution_count": null,
   "metadata": {},
   "outputs": [],
   "source": []
  },
  {
   "cell_type": "code",
   "execution_count": 6,
   "metadata": {},
   "outputs": [],
   "source": [
    "from sklearn.linear_model import LogisticRegression\n",
    "from sklearn.model_selection import KFold\n",
    "\n",
    "np.warnings.filterwarnings('ignore')\n",
    "\n",
    "auc_off = np.zeros(number_neurons)\n",
    "auc_on = np.zeros(number_neurons)\n",
    "\n",
    "tprs_on = []\n",
    "tprs_off = []\n",
    "base_fpr = np.linspace(0, 1, 101)\n",
    "\n",
    "\n",
    "for Neuron in range(number_neurons):\n",
    "    ## each column is a neuron\n",
    "    nx_rates = rate_d1_off[:,Neuron]\n",
    "    nx_positions = positions_stim_off[:,Neuron]\n",
    "    ## just get the 1 and 5 (RF and oppoiste)\n",
    "    nx_y = nx_positions[nx_positions>0]\n",
    "    nx_x = nx_rates[nx_positions>0]\n",
    "    ## appropiate shape for the classifier\n",
    "    y = label_binarize(nx_y, classes=[5,1]) #matrix (1,0,0,...,0)\n",
    "    y=y.ravel()\n",
    "    X =np.reshape(nx_x, (len(nx_x),1))\n",
    "    \n",
    "    if len(np.unique(y))==1:\n",
    "        mean_tprs = np.empty(np.shape(base_fpr))*np.nan\n",
    "    else:\n",
    "        fpr, tpr, _ = roc_curve(y, nx_x) #HERE: compute ROC with raw spike counts nx_x\n",
    "        tpr = np.interp(base_fpr, fpr, tpr)\n",
    "        tpr[0] = 0.0\n",
    "        mean_tprs = tpr\n",
    "    tprs_off.append(mean_tprs)\n",
    "\n",
    "    auc_off[Neuron] = auc(base_fpr, mean_tprs)\n",
    "\n",
    "    ## each column is a neuron\n",
    "    nx_rates = rate_d1_on[:,Neuron]\n",
    "    nx_positions = positions_stim_on[:,Neuron]\n",
    "    ## just get the 1 and 5 (RF and oppoiste)\n",
    "    nx_y = nx_positions[nx_positions>0]\n",
    "    nx_x = nx_rates[nx_positions>0]\n",
    "    ## appropiate shape for the classifier\n",
    "    y = label_binarize(nx_y, classes=[5,1]) #matrix (1,0,0,...,0)\n",
    "    y=y.ravel()\n",
    "    X =np.reshape(nx_x, (len(nx_x),1))\n",
    "    \n",
    "    if len(np.unique(y))==1:\n",
    "        mean_tprs = np.empty(np.shape(base_fpr))*np.nan\n",
    "    else:\n",
    "        fpr, tpr, _ = roc_curve(y, nx_x)\n",
    "        tpr = np.interp(base_fpr, fpr, tpr)\n",
    "        tpr[0] = 0.0\n",
    "        mean_tprs = tpr\n",
    "    tprs_on.append(mean_tprs)\n",
    "\n",
    "    auc_on[Neuron] = auc(base_fpr, mean_tprs)\n",
    "\n",
    "\n",
    "\n"
   ]
  },
  {
   "cell_type": "code",
   "execution_count": 7,
   "metadata": {},
   "outputs": [
    {
     "name": "stderr",
     "output_type": "stream",
     "text": [
      "No handles with labels found to put in legend.\n"
     ]
    },
    {
     "data": {
      "image/png": "[encoded data removed]",
      "text/plain": [
       "<Figure size 432x288 with 1 Axes>"
      ]
     },
     "metadata": {
      "needs_background": "light"
     },
     "output_type": "display_data"
    }
   ],
   "source": [
    "%config InlineBackend.figure_format = 'png' ## 'svg'\n",
    "\n",
    "plt.plot(auc_off, auc_on, '.', color='olivedrab', markersize=10)\n",
    "plt.xlabel('AUC$_{OFF}$')\n",
    "plt.ylabel('AUC$_{ON}$')\n",
    "plt.axis('scaled');\n",
    "\n",
    "plt.plot([0, 1], [0, 1], color='k', lw=1.5, linestyle='--')\n",
    "plt.xlim([0., 1.005])\n",
    "plt.xticks([0, 0.5, 1])\n",
    "plt.ylim([0, 1.0])\n",
    "plt.yticks([0.5, 1])\n",
    "plt.title('')\n",
    "plt.gca().spines['right'].set_visible(False)  # aesthetics                                                                              # remove right spines\n",
    "plt.gca().spines['top'].set_visible(False)                                                                                  # remove top spines\n",
    "plt.gca().get_xaxis().tick_bottom()                                                                                         \n",
    "plt.gca().get_yaxis().tick_left()\n",
    "plt.gca().tick_params(direction='in') #direction\n",
    "plt.legend(fontsize=14, frameon=False)\n",
    "plt.show()"
   ]
  },
  {
   "cell_type": "code",
   "execution_count": 8,
   "metadata": {},
   "outputs": [
    {
     "data": {
      "text/plain": [
       "Ttest_relResult(statistic=5.129432844338237, pvalue=6.39082064663582e-07)"
      ]
     },
     "execution_count": 8,
     "metadata": {},
     "output_type": "execute_result"
    }
   ],
   "source": [
    "import scipy\n",
    "#np.sum(np.isnan(auc_on))\n",
    "ind = np.isnan(auc_on)\n",
    "scipy.stats.ttest_rel(auc_off[~ind], auc_on[~ind])"
   ]
  },
  {
   "cell_type": "code",
   "execution_count": null,
   "metadata": {},
   "outputs": [],
   "source": []
  },
  {
   "cell_type": "code",
   "execution_count": 12,
   "metadata": {},
   "outputs": [
    {
     "data": {
      "image/png": "[encoded data removed]",
      "text/plain": [
       "<Figure size 432x288 with 1 Axes>"
      ]
     },
     "metadata": {
      "needs_background": "light"
     },
     "output_type": "display_data"
    }
   ],
   "source": [
    "tprs_off = np.array(tprs_off)\n",
    "tprs_on = np.array(tprs_on)\n",
    "mean_tprs_off = np.nanmean(tprs_off, axis=0)\n",
    "mean_tprs_on = np.nanmean(tprs_on, axis=0)\n",
    "std_off = np.nanstd(tprs_off, axis=0)\n",
    "std_on = np.nanstd(tprs_on, axis=0)\n",
    "\n",
    "tprs_upper_off = np.minimum(mean_tprs_off + std_off, 1)\n",
    "tprs_lower_off = mean_tprs_off - std_off\n",
    "tprs_upper_on = np.minimum(mean_tprs_on + std_on, 1)\n",
    "tprs_lower_on = mean_tprs_on - std_on\n",
    "\n",
    "ax = plt.figure()\n",
    "\n",
    "plt.plot(base_fpr, mean_tprs_off, 'cadetblue', label='ROC OFF (AUC = {0:0.2f})'''.format(np.mean(auc_off[~ind])))\n",
    "\n",
    "plt.plot(base_fpr, mean_tprs_on, 'darkorange', label='ROC ON (AUC = {0:0.2f})'''.format(np.mean(auc_on[~ind])))\n",
    "\n",
    "#plt.fill_between(base_fpr, tprs_lower_off, tprs_upper_off, color='grey', alpha=0.3)\n",
    "#plt.fill_between(base_fpr, tprs_lower_on, tprs_upper_on, color='grey', alpha=0.3)\n",
    "\n",
    "plt.plot([0, 1], [0, 1], color='k', lw=2, linestyle='--')\n",
    "plt.xlim([0., 1])\n",
    "plt.xticks([0, 0.5, 1])\n",
    "plt.ylim([0, 1.])\n",
    "plt.yticks([0.5, 1])\n",
    "plt.xlabel('False Positive Rate')\n",
    "plt.ylabel('True Positive Rate')\n",
    "plt.title('')\n",
    "plt.legend(loc=\"lower right\", fontsize=10, frameon=False)\n",
    "plt.gca().spines['right'].set_visible(False)  # aesthetics                                                                              # remove right spines\n",
    "plt.gca().spines['top'].set_visible(False)                                                                                  # remove top spines\n",
    "plt.gca().get_xaxis().tick_bottom()                                                                                         \n",
    "plt.gca().get_yaxis().tick_left()\n",
    "plt.gca().tick_params(direction='in') #direction\n",
    "plt.legend(fontsize=14, frameon=False)\n",
    "plt.show()\n",
    "ax.savefig('C:\\\\Users\\\\David\\\\Desktop\\\\ROC_neurons.svg', transparent=True)\n"
   ]
  },
  {
   "cell_type": "code",
   "execution_count": 1,
   "metadata": {},
   "outputs": [
    {
     "data": {
      "text/plain": [
       "0.24"
      ]
     },
     "execution_count": 1,
     "metadata": {},
     "output_type": "execute_result"
    }
   ],
   "source": [
    "0.1*2.4"
   ]
  },
  {
   "cell_type": "code",
   "execution_count": null,
   "metadata": {},
   "outputs": [],
   "source": []
  }
 ],
 "metadata": {
  "hide_input": false,
  "kernelspec": {
   "display_name": "Python 3",
   "language": "python",
   "name": "python3"
  },
  "language_info": {
   "codemirror_mode": {
    "name": "ipython",
    "version": 3
   },
   "file_extension": ".py",
   "mimetype": "text/x-python",
   "name": "python",
   "nbconvert_exporter": "python",
   "pygments_lexer": "ipython3",
   "version": "3.5.6"
  },
  "toc": {
   "base_numbering": 1,
   "nav_menu": {},
   "number_sections": true,
   "sideBar": true,
   "skip_h1_title": false,
   "title_cell": "Table of Contents",
   "title_sidebar": "Contents",
   "toc_cell": false,
   "toc_position": {},
   "toc_section_display": true,
   "toc_window_display": false
  },
  "varInspector": {
   "cols": {
    "lenName": 16,
    "lenType": 16,
    "lenVar": 40
   },
   "kernels_config": {
    "python": {
     "delete_cmd_postfix": "",
     "delete_cmd_prefix": "del ",
     "library": "var_list.py",
     "varRefreshCmd": "print(var_dic_list())"
    },
    "r": {
     "delete_cmd_postfix": ") ",
     "delete_cmd_prefix": "rm(",
     "library": "var_list.r",
     "varRefreshCmd": "cat(var_dic_list()) "
    }
   },
   "types_to_exclude": [
    "module",
    "function",
    "builtin_function_or_method",
    "instance",
    "_Feature"
   ],
   "window_display": false
  }
 },
 "nbformat": 4,
 "nbformat_minor": 2
}
