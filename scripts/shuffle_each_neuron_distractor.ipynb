{
 "cells": [
  {
   "cell_type": "code",
   "execution_count": 1,
   "metadata": {},
   "outputs": [],
   "source": [
    "# Load all dictionaries\n",
    "#%matplotlib inline\n",
    "\n",
    "import os\n",
    "import numpy as np\n",
    "import pandas as pd\n",
    "import matplotlib.pyplot as plt\n",
    "import seaborn as sns\n",
    "import statsmodels.api as sm\n",
    "from sklearn.model_selection import train_test_split\n",
    "import statsmodels.formula.api as smf\n",
    "\n",
    "\n",
    "##if you are the local\n",
    "os.chdir('C:\\\\Users\\\\David\\\\Dropbox\\\\IDIBAPS\\\\Distractor_neurons\\\\FR_trials') #David_all_cond\n",
    "\n",
    "## if your are in the cluster\n",
    "#os.chdir('/home/david/Desktop/IDIBAPS/Gottlib/FR_trials')\n",
    "\n",
    "\n",
    "\n",
    "##Load the data\n",
    "### Target\n",
    "LIP_control = np.load('control_LIP.npy')\n",
    "LIP_0 = np.load('0_LIP.npy')\n",
    "LIP_100 = np.load('100_LIP.npy')\n",
    "LIP_200 = np.load('200_LIP.npy')\n",
    "LIP_800 = np.load('800_LIP.npy')\n",
    "####\n",
    "DLPFC_control = np.load('control_DLPFC.npy')\n",
    "DLPFC_0 = np.load('0_DLPFC.npy')\n",
    "DLPFC_100 = np.load('100_DLPFC.npy')\n",
    "DLPFC_200 = np.load('200_DLPFC.npy')\n",
    "DLPFC_800 = np.load('800_DLPFC.npy')\n",
    "\n",
    "### Distractor\n",
    "LIP_control_d = np.load('control_LIP_d.npy')\n",
    "LIP_0_d = np.load('0_LIP_d.npy')\n",
    "LIP_100_d = np.load('100_LIP_d.npy')\n",
    "LIP_200_d = np.load('200_LIP_d.npy')\n",
    "LIP_800_d = np.load('800_LIP_d.npy')\n",
    "####\n",
    "DLPFC_control_d = np.load('control_DLPFC_d.npy')\n",
    "DLPFC_0_d = np.load('0_DLPFC_d.npy')\n",
    "DLPFC_100_d = np.load('100_DLPFC_d.npy')\n",
    "DLPFC_200_d = np.load('200_DLPFC_d.npy')\n",
    "DLPFC_800_d = np.load('800_DLPFC_d.npy')\n",
    "\n",
    "### Response\n",
    "LIP_control_r = np.load('control_LIP_r.npy')\n",
    "LIP_0_r = np.load('0_LIP_r.npy')\n",
    "LIP_100_r = np.load('100_LIP_r.npy')\n",
    "LIP_200_r = np.load('200_LIP_r.npy')\n",
    "LIP_800_r = np.load('800_LIP_r.npy')\n",
    "####\n",
    "DLPFC_control_r = np.load('control_DLPFC_r.npy')\n",
    "DLPFC_0_r = np.load('0_DLPFC_r.npy')\n",
    "DLPFC_100_r = np.load('100_DLPFC_r.npy')\n",
    "DLPFC_200_r = np.load('200_DLPFC_r.npy')\n",
    "DLPFC_800_r = np.load('800_DLPFC_r.npy')"
   ]
  },
  {
   "cell_type": "code",
   "execution_count": 2,
   "metadata": {},
   "outputs": [],
   "source": [
    "def circdist(a1,a2):\n",
    "    ## Returns the minimal distance in angles between to angles \n",
    "    op1=abs(a2-a1)\n",
    "    angs=[a1,a2]\n",
    "    op2=min(angs)+(360-max(angs))\n",
    "    options=[op1,op2]\n",
    "    return min(options)\n",
    "\n",
    "\n",
    "\n",
    "def decoding_spikes_angles_err(df, size_test=0.1):\n",
    "    #### Input : dataframe with three columns: (spikes, behaviour and neuron label)\n",
    "    ###Take off nans\n",
    "    df = df.loc[df.iloc[:,0]<9999]\n",
    "    df.columns=['spikes', 'beh', 'neuron']\n",
    "    neuron_means=[]\n",
    "    ### Train and test on the same neuron --> append the error of each neuron\n",
    "    pop_err=[]\n",
    "    \n",
    "    for Neur in df.neuron.unique():\n",
    "        ### same neuron 5 times --> mean value\n",
    "        neur_err=[]\n",
    "        for rep in range(0,5):\n",
    "            spikes_train, spikes_test, beh_train, beh_test = train_test_split(df.groupby('neuron').get_group(Neur)['spikes'],\n",
    "                                                                              df.groupby('neuron').get_group(Neur)['beh'],\n",
    "                                                                              test_size=size_test)  \n",
    "\n",
    "            ######## Trainning #########\n",
    "            ## X matrix (intercept and spikes)\n",
    "            X = np.column_stack([np.ones(np.shape(spikes_train)[0]),spikes_train])\n",
    "            ## Y (sinus and cos)\n",
    "            sinus =np.sin([np.radians(np.array(beh_train)[i]) for i in range(0, len(beh_train))])\n",
    "            cosinus = np.cos([np.radians(np.array(beh_train)[i]) for i in range(0, len(beh_train))])\n",
    "            Y = np.column_stack([cosinus, sinus])\n",
    "            ### one OLS for sin and cos: output: beta of intercetp and bea of spikes (two B intercepts and 2 B for spikes )\n",
    "            Y = Y.astype(float) #to make it work in the cluster\n",
    "            X = X.astype(float)\n",
    "            model = sm.OLS(Y, X)\n",
    "            ##train the model\n",
    "            fit=model.fit()\n",
    "\n",
    "            ######### Testing ###########\n",
    "            X = np.column_stack([np.ones(np.shape(spikes_test)[0]),spikes_test])\n",
    "            p = fit.predict(X)\n",
    "            x = p[:,0]\n",
    "            y = p[:,1]\n",
    "            #####\n",
    "            ##### Error --> take the resulting vector in sin/cos space\n",
    "            ### from sin and cos get the angle (-pi, pi)\n",
    "            #pred_angle = [ np.degrees(np.arctan2(y[i], x[i]) + np.pi) for i in range(0, len(y))]\n",
    "            pred_angle = [ np.degrees(np.arctan2(y[i], x[i])) for i in range(0, len(y))]\n",
    "            for i in range(0, len(pred_angle)):\n",
    "                if pred_angle[i]<0:\n",
    "                    pred_angle[i]=360+pred_angle[i]\n",
    "            ##\n",
    "            #error=[ circdist(beh_test[i], pred_angle[i]) for i in range(0, len(pred_angle))]\n",
    "            error=[ circdist(beh_test.values[i], pred_angle[i]) for i in range(0, len(pred_angle))]\n",
    "            \n",
    "            #low_value --> predicted positionns close to real\n",
    "            neur_err.append(np.mean(error))\n",
    "            ####\n",
    "        \n",
    "        #####       \n",
    "        pop_err.append(np.mean(neur_err))\n",
    "        ####\n",
    "    \n",
    "    return pop_err\n",
    "\n",
    "\n",
    "\n",
    "\n"
   ]
  },
  {
   "cell_type": "code",
   "execution_count": null,
   "metadata": {},
   "outputs": [],
   "source": [
    "# Conditions_titles = ['LIP_0', 'LIP_100', 'LIP_200', 'LIP_800', 'DLPFC_0', 'DLPFC_100', 'DLPFC_200', 'DLPFC_800']\n",
    "# Conditions = [LIP_0, LIP_100, LIP_200, LIP_800, DLPFC_0, DLPFC_100, DLPFC_200, DLPFC_800]\n",
    "\n",
    "\n",
    "# lens_max=[]\n",
    "# for cond in range(0,8):\n",
    "#     shuff=pd.DataFrame(Conditions[cond])\n",
    "#     lens_max.append(max([len(shuff.groupby(23).get_group(n)) for n in shuff[23].unique()]))\n",
    "\n",
    "# #\n",
    "# max_l = max(lens_max)\n",
    "\n",
    "# conditions_shuff=[]\n",
    "# times_shuff=[[] for N in range(0, max_l)]\n",
    "\n",
    "# for cond in range(0,8): #8  \n",
    "#     for N in range(0, max_l): #max_l\n",
    "#         print('t', cond, N)\n",
    "#         shuff=pd.DataFrame(Conditions[cond])\n",
    "#         a = np.roll(shuff[0].values, N+1)\n",
    "#         shuff[0]=a\n",
    "#         for time in range(1, 23): #(1,23)             \n",
    "#             df = shuff[[time, 0, 23]]\n",
    "#             times_shuff[N].append(decoding_spikes_angles_err(df))\n",
    "    \n",
    "#     ##\n",
    "#     conditions_shuff.append(times_shuff)\n",
    "    \n",
    "    \n",
    "# ####        \n",
    "# os.chdir('/home/david/Desktop/IDIBAPS/Gottlib/Shuffle')\n",
    "# np.save('Shuffle_each_conditions', np.array(conditions_shuff))\n"
   ]
  },
  {
   "cell_type": "code",
   "execution_count": null,
   "metadata": {},
   "outputs": [],
   "source": [
    "\n",
    "Conditions_titles = ['LIP_0_d', 'LIP_100_d', 'LIP_200_d', 'LIP_800_d', 'DLPFC_0_d', 'DLPFC_100_d', 'DLPFC_200_d', 'DLPFC_800_d']\n",
    "Conditions = [LIP_0_d, LIP_100_d, LIP_200_d, LIP_800_d, DLPFC_0_d, DLPFC_100_d, DLPFC_200_d, DLPFC_800_d]\n",
    "\n",
    "\n",
    "lens_max=[]\n",
    "for cond in range(0,8):\n",
    "    shuff=pd.DataFrame(Conditions[cond])\n",
    "    lens_max.append(max([len(shuff.groupby(23).get_group(n)) for n in shuff[23].unique()]))\n",
    "\n",
    "#\n",
    "max_l = max(lens_max)\n",
    "\n",
    "conditions_shuff=[]\n",
    "times_shuff=[[] for N in range(0, max_l)]\n",
    "\n",
    "for cond in range(0,8):  #8 \n",
    "    for N in range(0, max_l): #max_l\n",
    "        print('d', cond, N)\n",
    "        shuff=pd.DataFrame(Conditions[cond])\n",
    "        a = np.roll(shuff[0].values, N+1)\n",
    "        shuff[0]=a\n",
    "        for time in range(1, 23): #(1,23)             \n",
    "            df = shuff[[time, 0, 23]]\n",
    "            times_shuff[N].append(decoding_spikes_angles_err(df))\n",
    "    \n",
    "    ##\n",
    "    conditions_shuff.append(times_shuff)\n",
    "    \n",
    "\n",
    "\n",
    "####        \n",
    "os.chdir('/home/david/Desktop/IDIBAPS/Gottlib/Shuffle')\n",
    "np.save('Shuffle_each_conditions_d', np.array(conditions_shuff))"
   ]
  },
  {
   "cell_type": "markdown",
   "metadata": {},
   "source": [
    "## Load the shuffle"
   ]
  },
  {
   "cell_type": "code",
   "execution_count": 7,
   "metadata": {},
   "outputs": [
    {
     "data": {
      "text/plain": [
       "(8, 285, 176)"
      ]
     },
     "execution_count": 7,
     "metadata": {},
     "output_type": "execute_result"
    }
   ],
   "source": [
    "os.chdir('C:\\\\Users\\\\David\\\\Dropbox\\\\IDIBAPS\\\\Distractor_neurons\\\\Shuffle')\n",
    "shuffle_conditions_d = np.load('Shuffle_each_conditions_d.npy', encoding = 'latin1')\n",
    "np.shape(shuffle_conditions_d[0])"
   ]
  },
  {
   "cell_type": "code",
   "execution_count": 123,
   "metadata": {},
   "outputs": [
    {
     "data": {
      "text/plain": [
       "array([44, 63])"
      ]
     },
     "execution_count": 123,
     "metadata": {},
     "output_type": "execute_result"
    }
   ],
   "source": [
    "sh_cond=1\n",
    "time=100 ## 22*8\n",
    "neuron =23 \n",
    "np.shape(shuffle_conditions_d[sh_cond, time][neuron])\n",
    "np.shape(shuffle_conditions_d[sh_cond, time])\n",
    "\n",
    "## Amount of neuorn in first 4 and 2nd 4 conditions (IPS, DLPFC)\n",
    "amount_neurons = np.unique([np.shape(shuffle_conditions_d[sh_cond, time])[0] for time in range(0, 176)])\n"
   ]
  },
  {
   "cell_type": "code",
   "execution_count": 121,
   "metadata": {},
   "outputs": [
    {
     "data": {
      "text/plain": [
       "63"
      ]
     },
     "execution_count": 121,
     "metadata": {},
     "output_type": "execute_result"
    }
   ],
   "source": [
    "np.shape(shuffle_conditions_d[sh_cond, time])[0]"
   ]
  },
  {
   "cell_type": "code",
   "execution_count": 53,
   "metadata": {},
   "outputs": [
    {
     "name": "stdout",
     "output_type": "stream",
     "text": [
      "(285, 176)\n",
      "(285, 176)\n"
     ]
    }
   ],
   "source": [
    "print(np.shape(shuffle_conditions_d[0]))\n",
    "## Each of the 285 is a different shuffle\n",
    "## The 176 is 22*8\n",
    "## The first 22 are for IPS_100, the secon 22 for IPS_200... and so on...\n",
    "\n",
    "shuffle_conditions_d = shuffle_conditions_d[0]\n",
    "print(np.shape(shuffle_conditions_d))\n",
    "\n"
   ]
  },
  {
   "cell_type": "code",
   "execution_count": 132,
   "metadata": {},
   "outputs": [
    {
     "data": {
      "text/plain": [
       "dict_keys(['58', '15', '60', '53', '18', '40', '10', '29', '42', '22', '14', '2', '45', '30', '61', '1', '27', '41', '8', '44', '47', '54', '55', '39', '56', '25', '33', '17', '31', '46', '7', '37', '5', '26', '49', '52', '32', '23', '19', '24', '50', '38', '11', '57', '34', '51', '3', '28', '20', '9', '12', '36', '4', '0', '16', '21', '6', '13', '59', '62', '35', '43', '48'])"
      ]
     },
     "execution_count": 132,
     "metadata": {},
     "output_type": "execute_result"
    }
   ],
   "source": [
    "#### For each condition I have the (285, 22) matrix of each neuron\n",
    "ns_IPS_0={}\n",
    "ns_IPS_100={}\n",
    "ns_IPS_200={}\n",
    "ns_IPS_800={}\n",
    "ns_DLPFC_0={}\n",
    "ns_DLPFC_100={}\n",
    "ns_DLPFC_200={}\n",
    "ns_DLPFC_800={}\n",
    "\n",
    "conditions_dictionaries_d= [ns_IPS_0, ns_IPS_100,ns_IPS_200, ns_IPS_800, ns_DLPFC_0, ns_DLPFC_100, ns_DLPFC_200, ns_DLPFC_800]\n",
    "neurons_cons = [44, 44, 44, 44, 63, 63, 63, 63]\n",
    "start_conditions = list(np.arange(0, 176, 22))\n",
    "end_conditions = list(np.array(start_conditions) + 22 )\n",
    "\n",
    "for Condition in range(0,8):\n",
    "    start=start_conditions[Condition]\n",
    "    end = end_conditions[Condition]\n",
    "    n_neurons= neurons_cons[Condition]\n",
    "    for neuron in range(0, n_neurons):\n",
    "        times=[]\n",
    "        for t in range(start,end):\n",
    "            times.append(pd.DataFrame([shuffle_conditions_d[i, t][neuron] for i in range(0, 285)]))\n",
    "\n",
    "        n_t = pd.concat(times, axis=1)\n",
    "        n_t.columns = [str(i) for i in range(0,22)]\n",
    "        conditions_dictionaries_d[Condition][str(neuron)] = n_t\n",
    "\n",
    "\n",
    "        \n",
    "        \n",
    "conditions_dictionaries_d[6].keys()\n"
   ]
  },
  {
   "cell_type": "code",
   "execution_count": 141,
   "metadata": {
    "scrolled": true
   },
   "outputs": [
    {
     "name": "stdout",
     "output_type": "stream",
     "text": [
      "['LIP_0', 'LIP_100', 'LIP_200', 'LIP_800']\n"
     ]
    },
    {
     "name": "stderr",
     "output_type": "stream",
     "text": [
      "C:\\Users\\David\\Anaconda3\\envs\\python3\\lib\\site-packages\\scipy\\stats\\stats.py:1713: FutureWarning: Using a non-tuple sequence for multidimensional indexing is deprecated; use `arr[tuple(seq)]` instead of `arr[seq]`. In the future this will be interpreted as an array index, `arr[np.array(seq)]`, which will result either in an error or a different result.\n",
      "  return np.add.reduce(sorted[indexer] * weights, axis=axis) / sumval\n"
     ]
    },
    {
     "data": {
      "image/png": "[encoded data removed]",
      "text/plain": [
       "<Figure size 432x288 with 1 Axes>"
      ]
     },
     "metadata": {
      "needs_background": "light"
     },
     "output_type": "display_data"
    },
    {
     "name": "stdout",
     "output_type": "stream",
     "text": [
      "['DLPFC_0', 'DLPFC_100', 'DLPFC_200', 'DLPFC_800']\n"
     ]
    },
    {
     "data": {
      "image/png": "[encoded data removed]",
      "text/plain": [
       "<Figure size 432x288 with 1 Axes>"
      ]
     },
     "metadata": {
      "needs_background": "light"
     },
     "output_type": "display_data"
    }
   ],
   "source": [
    "## If I want one line for each neuron. Example of one neuron of IPS and one of PFC\n",
    "\n",
    "### IPS\n",
    "Conditions_titles = ['LIP_0', 'LIP_100', 'LIP_200', 'LIP_800']\n",
    "Colors=['b', 'y', 'g', 'k']\n",
    "print(Conditions_titles)\n",
    "\n",
    "N='15'\n",
    "\n",
    "plt.figure()\n",
    "for i in range(0,4):\n",
    "    sns.pointplot(data=conditions_dictionaries_d[i][N], color=Colors[i], label=Conditions_titles[i], legend=True)\n",
    "\n",
    "#\n",
    "plt.title('IPS n=' + N)\n",
    "plt.show()\n",
    "    \n",
    "    \n",
    "    \n",
    "Conditions_titles = ['DLPFC_0', 'DLPFC_100', 'DLPFC_200', 'DLPFC_800']\n",
    "Colors=['b', 'y', 'g', 'k']\n",
    "print(Conditions_titles)\n",
    "\n",
    "N='51'\n",
    "\n",
    "plt.figure()\n",
    "for idx, cond in enumerate(range(4,8)):\n",
    "    sns.pointplot(data=conditions_dictionaries_d[cond][N], color=Colors[idx], label=Conditions_titles[idx], legend=True)\n",
    "\n",
    "#\n",
    "plt.title('DLPFC n=' + N)\n",
    "plt.show()"
   ]
  },
  {
   "cell_type": "code",
   "execution_count": null,
   "metadata": {},
   "outputs": [],
   "source": []
  }
 ],
 "metadata": {
  "kernelspec": {
   "display_name": "Python 3",
   "language": "python",
   "name": "python3"
  },
  "language_info": {
   "codemirror_mode": {
    "name": "ipython",
    "version": 3
   },
   "file_extension": ".py",
   "mimetype": "text/x-python",
   "name": "python",
   "nbconvert_exporter": "python",
   "pygments_lexer": "ipython3",
   "version": "3.5.6"
  }
 },
 "nbformat": 4,
 "nbformat_minor": 2
}
