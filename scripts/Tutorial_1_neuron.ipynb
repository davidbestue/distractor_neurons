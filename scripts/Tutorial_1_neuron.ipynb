{
 "cells": [
  {
   "cell_type": "code",
   "execution_count": 2,
   "metadata": {},
   "outputs": [],
   "source": [
    "import os \n",
    "import numpy as np\n",
    "import pandas as pd\n",
    "import scipy.io\n",
    "import seaborn as sns\n",
    "import matplotlib.pyplot as plt"
   ]
  },
  {
   "cell_type": "code",
   "execution_count": null,
   "metadata": {},
   "outputs": [],
   "source": [
    "### Open file\n",
    "file_to_use = '1369702.mat'\n",
    "f = scipy.io.loadmat(file_to_use) #put in the same path"
   ]
  },
  {
   "cell_type": "code",
   "execution_count": 10,
   "metadata": {},
   "outputs": [
    {
     "data": {
      "text/plain": [
       "4      13.000000\n",
       "5      85.875000\n",
       "6     155.104167\n",
       "7     196.333333\n",
       "8     226.854167\n",
       "         ...    \n",
       "72           NaN\n",
       "73           NaN\n",
       "74           NaN\n",
       "75           NaN\n",
       "76           NaN\n",
       "Name: 0, Length: 73, dtype: float64"
      ]
     },
     "execution_count": 10,
     "metadata": {},
     "output_type": "execute_result"
    }
   ],
   "source": [
    "### Each column is one trial\n",
    "df_spike_time=pd.DataFrame(f['data']['spikes'][0][0][0][0][:, :])\n",
    "df_spike_time.columns = [str(i) for i in range(0, np.shape(df_spike_time)[1])]\n",
    "### Each column is one trial\n",
    "df_spikes_trial1 = df_spike_time.iloc[4:, 0] #remove the first 4 rows, no spikes (this data frame)\n",
    "df_spikes_trial1 ##spike times of the first trial"
   ]
  },
  {
   "cell_type": "code",
   "execution_count": null,
   "metadata": {},
   "outputs": [],
   "source": [
    "## Puedes mirarte este tutorial, es donde lo aprendí yo:\n",
    "## https://elephant.readthedocs.io/en/latest/tutorials/statistics.html"
   ]
  },
  {
   "cell_type": "code",
   "execution_count": 14,
   "metadata": {},
   "outputs": [
    {
     "name": "stderr",
     "output_type": "stream",
     "text": [
      "C:\\Users\\David\\Anaconda3\\envs\\python3\\lib\\site-packages\\h5py\\__init__.py:36: FutureWarning: Conversion of the second argument of issubdtype from `float` to `np.floating` is deprecated. In future, it will be treated as `np.float64 == np.dtype(float).type`.\n",
      "  from ._conv import register_converters as _register_converters\n"
     ]
    }
   ],
   "source": [
    "#### Necesitas estas librerías!\n",
    "### Elephant --> https://elephant.readthedocs.io/en/latest/tutorials/statistics.html\n",
    "### neo --> https://neo.readthedocs.io/en/stable/install.html\n",
    "\n",
    "from neo.core import SpikeTrain\n",
    "from quantities import ms, s, Hz\n",
    "from elephant.statistics import mean_firing_rate\n",
    "from elephant.statistics import time_histogram, instantaneous_rate\n",
    "from elephant.kernels import GaussianKernel"
   ]
  },
  {
   "cell_type": "code",
   "execution_count": null,
   "metadata": {},
   "outputs": [],
   "source": [
    "### Spike times"
   ]
  },
  {
   "cell_type": "code",
   "execution_count": 19,
   "metadata": {},
   "outputs": [
    {
     "name": "stderr",
     "output_type": "stream",
     "text": [
      "C:\\Users\\David\\Anaconda3\\envs\\python3\\lib\\site-packages\\ipykernel_launcher.py:2: RuntimeWarning: invalid value encountered in less\n",
      "  \n"
     ]
    },
    {
     "data": {
      "text/plain": [
       "array([  13.        ,   85.875     ,  155.10416667,  196.33333333,\n",
       "        226.85416667,  270.83333333,  353.54166667,  381.52083333,\n",
       "        615.6875    ,  627.52083333,  652.83333333,  679.85416667,\n",
       "        744.25      ,  823.85416667,  845.52083333,  895.54166667,\n",
       "        924.02083333,  943.14583333,  958.89583333,  976.75      ,\n",
       "        994.95833333, 1001.77083333, 1023.58333333, 1031.72916667,\n",
       "       1046.08333333, 1075.9375    , 1092.72916667, 1107.33333333,\n",
       "       1132.52083333, 1209.33333333, 1248.5       , 1264.77083333,\n",
       "       2441.27083333, 2747.70833333, 2797.04166667, 2802.08333333,\n",
       "       2836.64583333])"
      ]
     },
     "execution_count": 19,
     "metadata": {},
     "output_type": "execute_result"
    }
   ],
   "source": [
    "times_spikes= df_spikes_trial1.values # get trial spike times\n",
    "times_spikes = times_spikes[times_spikes<9999] ##remove nans in the trial (at the end) Probably you will not need this\n",
    "times_spikes"
   ]
  },
  {
   "cell_type": "code",
   "execution_count": 32,
   "metadata": {},
   "outputs": [],
   "source": [
    "stop_time =  times_spikes.max() ##Needed to make the spiketrain\n",
    "### start_time = 0*ms #has de ponerlo si no se empieza a samplear alineado al mismo momento, default es 0"
   ]
  },
  {
   "cell_type": "code",
   "execution_count": 21,
   "metadata": {},
   "outputs": [],
   "source": [
    "### Ahora pones los spiketimes en el formato de spiketrain (necesario para siguientes pasos)\n",
    "spiketrain1 = SpikeTrain(times_spikes, units=ms, t_stop=stop_time) #spiketrain"
   ]
  },
  {
   "cell_type": "code",
   "execution_count": 27,
   "metadata": {},
   "outputs": [
    {
     "name": "stderr",
     "output_type": "stream",
     "text": [
      "C:\\Users\\David\\AppData\\Roaming\\Python\\Python35\\site-packages\\elephant\\conversion.py:495: UserWarning: Binning discarded 1 last spike(s) in the input spiketrain.\n",
      "  n=n_spikes - n_spikes_binned))\n"
     ]
    }
   ],
   "source": [
    "histogram_rate = time_histogram([spiketrain1], 2*ms, output='rate') ##sampling rate de 2ms (bining) for example, increase for less temporal resolution"
   ]
  },
  {
   "cell_type": "code",
   "execution_count": 65,
   "metadata": {},
   "outputs": [],
   "source": [
    "###### Convoluted firing rate (yo usé el Gaussian para replicar los resultados de un paper, hay mas!)\n",
    "gaus_rate = instantaneous_rate(spiketrain1, sampling_period=2*ms, kernel=GaussianKernel(15*ms)) #s.d of Suzuki & Gottlieb \n",
    "times_ = gaus_rate.times.rescale(ms)\n",
    "firing_gauss = gaus_rate.rescale(histogram_rate.dimensionality).magnitude.flatten()\n",
    "\n",
    "\n",
    "df_trial = pd.DataFrame({'times':times_, 'firing_gauss':firing_gauss}) #dataframe con times y firing"
   ]
  },
  {
   "cell_type": "code",
   "execution_count": 66,
   "metadata": {},
   "outputs": [
    {
     "data": {
      "text/html": [
       "<div>\n",
       "<style scoped>\n",
       "    .dataframe tbody tr th:only-of-type {\n",
       "        vertical-align: middle;\n",
       "    }\n",
       "\n",
       "    .dataframe tbody tr th {\n",
       "        vertical-align: top;\n",
       "    }\n",
       "\n",
       "    .dataframe thead th {\n",
       "        text-align: right;\n",
       "    }\n",
       "</style>\n",
       "<table border=\"1\" class=\"dataframe\">\n",
       "  <thead>\n",
       "    <tr style=\"text-align: right;\">\n",
       "      <th></th>\n",
       "      <th>firing_gauss</th>\n",
       "      <th>times</th>\n",
       "    </tr>\n",
       "  </thead>\n",
       "  <tbody>\n",
       "    <tr>\n",
       "      <th>0</th>\n",
       "      <td>0.020326</td>\n",
       "      <td>0.0</td>\n",
       "    </tr>\n",
       "    <tr>\n",
       "      <th>1</th>\n",
       "      <td>0.022215</td>\n",
       "      <td>2.0</td>\n",
       "    </tr>\n",
       "    <tr>\n",
       "      <th>2</th>\n",
       "      <td>0.023852</td>\n",
       "      <td>4.0</td>\n",
       "    </tr>\n",
       "    <tr>\n",
       "      <th>3</th>\n",
       "      <td>0.025159</td>\n",
       "      <td>6.0</td>\n",
       "    </tr>\n",
       "    <tr>\n",
       "      <th>4</th>\n",
       "      <td>0.026070</td>\n",
       "      <td>8.0</td>\n",
       "    </tr>\n",
       "    <tr>\n",
       "      <th>...</th>\n",
       "      <td>...</td>\n",
       "      <td>...</td>\n",
       "    </tr>\n",
       "    <tr>\n",
       "      <th>1413</th>\n",
       "      <td>0.031990</td>\n",
       "      <td>2826.0</td>\n",
       "    </tr>\n",
       "    <tr>\n",
       "      <th>1414</th>\n",
       "      <td>0.031481</td>\n",
       "      <td>2828.0</td>\n",
       "    </tr>\n",
       "    <tr>\n",
       "      <th>1415</th>\n",
       "      <td>0.031011</td>\n",
       "      <td>2830.0</td>\n",
       "    </tr>\n",
       "    <tr>\n",
       "      <th>1416</th>\n",
       "      <td>0.030482</td>\n",
       "      <td>2832.0</td>\n",
       "    </tr>\n",
       "    <tr>\n",
       "      <th>1417</th>\n",
       "      <td>0.029808</td>\n",
       "      <td>2834.0</td>\n",
       "    </tr>\n",
       "  </tbody>\n",
       "</table>\n",
       "<p>1418 rows × 2 columns</p>\n",
       "</div>"
      ],
      "text/plain": [
       "      firing_gauss   times\n",
       "0         0.020326     0.0\n",
       "1         0.022215     2.0\n",
       "2         0.023852     4.0\n",
       "3         0.025159     6.0\n",
       "4         0.026070     8.0\n",
       "...            ...     ...\n",
       "1413      0.031990  2826.0\n",
       "1414      0.031481  2828.0\n",
       "1415      0.031011  2830.0\n",
       "1416      0.030482  2832.0\n",
       "1417      0.029808  2834.0\n",
       "\n",
       "[1418 rows x 2 columns]"
      ]
     },
     "execution_count": 66,
     "metadata": {},
     "output_type": "execute_result"
    }
   ],
   "source": [
    "df_trial"
   ]
  },
  {
   "cell_type": "code",
   "execution_count": 62,
   "metadata": {},
   "outputs": [],
   "source": [
    "##otro ejemplo de kernel con otro sampling period\n",
    "inst_rate = instantaneous_rate(spiketrain1, sampling_period=25*ms)\n",
    "times_ = inst_rate.times.rescale(ms)\n",
    "firing_kernel2 = inst_rate.rescale(histogram_rate.dimensionality).magnitude.flatten()"
   ]
  },
  {
   "cell_type": "code",
   "execution_count": 63,
   "metadata": {},
   "outputs": [],
   "source": [
    "#Plot con todo"
   ]
  },
  {
   "cell_type": "code",
   "execution_count": 64,
   "metadata": {},
   "outputs": [
    {
     "data": {
      "image/png": "[encoded data removed]",
      "text/plain": [
       "<Figure size 600x400 with 1 Axes>"
      ]
     },
     "metadata": {
      "needs_background": "light"
     },
     "output_type": "display_data"
    }
   ],
   "source": [
    "plt.figure(dpi=100) #dpi=150\n",
    "\n",
    "# plotting the original spiketrain\n",
    "plt.plot(spiketrain1, [0]*len(spiketrain1), 'r', marker=2, ms=40, markeredgewidth=2, lw=0, label='spike times')\n",
    "\n",
    "# mean firing rate\n",
    "plt.hlines(mean_firing_rate(spiketrain1), xmin=spiketrain1.t_start, xmax=spiketrain1.t_stop, linestyle='--', label='mean firing rate')\n",
    "\n",
    "# convoluted firing rate Gaussian Kernel\n",
    "plt.plot(gaus_rate.times.rescale(ms), gaus_rate.rescale(histogram_rate.dimensionality).magnitude.flatten(), color='y', label='firing rate Gauss')\n",
    "\n",
    "# convoluted firing rate Other Kernel\n",
    "plt.plot(inst_rate.times.rescale(ms), inst_rate.rescale(histogram_rate.dimensionality).magnitude.flatten(), color='g', label='firing rate kernel')\n",
    "\n",
    "\n",
    "\n",
    "\n",
    "# axis labels and legend\n",
    "plt.xlabel('time [{}]'.format(spiketrain1.times.dimensionality.latex))\n",
    "plt.ylabel('firing rate [{}]'.format(histogram_rate.dimensionality.latex))\n",
    "plt.xlim(spiketrain1.t_start, spiketrain1.t_stop)\n",
    "plt.legend( frameon=False, bbox_to_anchor=(1.05, 1))\n",
    "plt.gca().spines['right'].set_visible(False)  # aesthetics                                                                              # remove right spines\n",
    "plt.gca().spines['top'].set_visible(False)                                                                                  # remove top spines\n",
    "plt.gca().get_xaxis().tick_bottom()                                                                                         \n",
    "plt.gca().get_yaxis().tick_left()\n",
    "plt.gca().tick_params(direction='in') #direction\n",
    "plt.show()"
   ]
  }
 ],
 "metadata": {
  "kernelspec": {
   "display_name": "Python 3",
   "language": "python",
   "name": "python3"
  },
  "language_info": {
   "codemirror_mode": {
    "name": "ipython",
    "version": 3
   },
   "file_extension": ".py",
   "mimetype": "text/x-python",
   "name": "python",
   "nbconvert_exporter": "python",
   "pygments_lexer": "ipython3",
   "version": "3.5.6"
  }
 },
 "nbformat": 4,
 "nbformat_minor": 2
}
