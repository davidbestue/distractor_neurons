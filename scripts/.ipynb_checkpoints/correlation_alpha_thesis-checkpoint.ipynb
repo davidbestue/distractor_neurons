{
 "cells": [
  {
   "cell_type": "code",
   "execution_count": 2,
   "metadata": {},
   "outputs": [],
   "source": [
    "import os\n",
    "from linares_plot import *\n",
    "from statsmodels.stats.multicomp import pairwise_tukeyhsd\n",
    "from scipy.optimize import curve_fit\n",
    "from scipy import stats\n",
    "import statsmodels.formula.api as smf"
   ]
  },
  {
   "cell_type": "code",
   "execution_count": null,
   "metadata": {
    "scrolled": true
   },
   "outputs": [
    {
     "name": "stdout",
     "output_type": "stream",
     "text": [
      "1364705.xlsx\n",
      "1365201.xlsx\n",
      "1365301.xlsx\n",
      "1365501.xlsx\n",
      "1365701.xlsx\n",
      "1365802.xlsx\n",
      "1365902.xlsx\n",
      "1366002.xlsx\n",
      "1366101.xlsx\n",
      "1367701.xlsx\n",
      "1367802.xlsx\n",
      "1367903.xlsx\n",
      "1369702.xlsx\n",
      "1369901.xlsx\n",
      "1370002.xlsx\n",
      "1370202.xlsx\n",
      "1371202.xlsx\n",
      "1371901.xlsx\n",
      "1372003.xlsx\n",
      "1372301.xlsx\n",
      "1372402.xlsx\n",
      "189139306.xlsx\n",
      "1891406.xlsx\n",
      "1891407.xlsx\n",
      "189141804.xlsx\n",
      "1891421.xlsx\n",
      "1891436.xlsx\n",
      "189144701.xlsx\n",
      "189144904.xlsx\n",
      "189147105.xlsx\n",
      "189150602.xlsx\n",
      "189151102.xlsx\n",
      "189152601.xlsx\n",
      "189154404.xlsx\n",
      "189154602.xlsx\n",
      "189155501.xlsx\n",
      "189156205.xlsx\n",
      "189157901.xlsx\n",
      "189158601.xlsx\n",
      "1891598.xlsx\n",
      "189160302.xlsx\n",
      "189160702.xlsx\n",
      "189161604.xlsx\n",
      "1891626.xlsx\n",
      "189163101.xlsx\n",
      "189163701.xlsx\n",
      "189164103.xlsx\n",
      "189164404.xlsx\n",
      "189164801.xlsx\n",
      "189164803.xlsx\n",
      "189165003.xlsx\n",
      "1891653.xlsx\n",
      "189168701.xlsx\n",
      "189169502.xlsx\n",
      "189171003.xlsx\n",
      "189171602.xlsx\n",
      "189172801.xlsx\n",
      "189173101.xlsx\n",
      "189173801.xlsx\n",
      "189174201.xlsx\n",
      "189175201.xlsx\n",
      "189175801.xlsx\n",
      "189176101.xlsx\n",
      "189176501.xlsx\n",
      "189176901.xlsx\n",
      "189177402.xlsx\n",
      "189177701.xlsx\n",
      "1891783.xlsx\n",
      "189179001.xlsx\n",
      "189179002.xlsx\n",
      "1891793.xlsx\n",
      "189179702.xlsx\n",
      "189180001.xlsx\n",
      "189181001.xlsx\n",
      "189181502.xlsx\n",
      "1891819.xlsx\n",
      "189182202.xlsx\n",
      "189182501.xlsx\n",
      "189182901.xlsx\n",
      "189183201.xlsx\n",
      "189183402.xlsx\n",
      "1891841.xlsx\n",
      "189184601.xlsx\n",
      "1891857.xlsx\n",
      "189186201.xlsx\n",
      "189187301.xlsx\n",
      "189188901.xlsx\n",
      "189189601.xlsx\n",
      "189191601.xlsx\n",
      "189191602.xlsx\n",
      "1891918.xlsx\n",
      "189192001.xlsx\n",
      "189192201.xlsx\n",
      "189192401.xlsx\n",
      "1891935.xlsx\n",
      "189194301.xlsx\n",
      "189195301.xlsx\n",
      "189196301.xlsx\n",
      "189196401.xlsx\n",
      "1892063.xlsx\n",
      "189207101.xlsx\n",
      "189207501.xlsx\n",
      "189208001.xlsx\n",
      "189209101.xlsx\n"
     ]
    }
   ],
   "source": [
    "### Aprox. 10.000.000 de rows \n",
    "### Takes about 40min to load\n",
    "### path_ = 'C:\\\\Users\\\\David\\\\Desktop\\\\IDIBAPS\\\\Gottlib_data\\\\firing_rates_100' ##sliding window of 100\n",
    "### path_ = 'C:\\\\Users\\\\David\\\\Desktop\\\\IDIBAPS\\\\Gottlib_data\\\\firing_rates_10' ##sliding window of 10\n",
    "path_ = 'C:\\\\Users\\\\David\\\\Desktop\\\\IDIBAPS\\\\Gottlib_data\\\\firing_rates'  ##sliding window of 10\n",
    "files = os.listdir(path_)\n",
    "frames=[]\n",
    "for f in files:\n",
    "    fx=pd.read_excel( os.path.join(path_,f))\n",
    "    print(f)\n",
    "    frames.append(fx)\n",
    "#\n",
    "df=pd.concat(frames)"
   ]
  },
  {
   "cell_type": "code",
   "execution_count": null,
   "metadata": {},
   "outputs": [],
   "source": [
    "len(df)"
   ]
  },
  {
   "cell_type": "code",
   "execution_count": null,
   "metadata": {},
   "outputs": [],
   "source": [
    "def parabola(x, a, b, c):\n",
    "    return a*x**2 + b*x + c\n",
    "\n",
    "\n",
    "def parabola_cent(x, a, b, c):\n",
    "    return a*(x-1)**2 + b*x + c"
   ]
  },
  {
   "cell_type": "code",
   "execution_count": null,
   "metadata": {},
   "outputs": [],
   "source": []
  },
  {
   "cell_type": "code",
   "execution_count": null,
   "metadata": {},
   "outputs": [],
   "source": [
    "#alphas of each neuron"
   ]
  },
  {
   "cell_type": "code",
   "execution_count": null,
   "metadata": {},
   "outputs": [],
   "source": [
    "alphas_=[]\n",
    "\n",
    "#target in RF with close and far distractors, DLPFC, correct trials, TDOA de 100 (0,100,2)\n",
    "N_all = df.loc[(df['TDconf'].isin([1,2])) & (df['brain_region']=='DLPFC') & (df['performance']==1) & (df['TDOA']==0)] ## p=0.12\n",
    "\n",
    "\n",
    "df_control_pfc = df.loc[(df['TDconf']==0) & (df['brain_region']=='DLPFC') & (df['performance']==1) ]\n",
    "df_control_pfc['time_centered_s'] = df_control_pfc['time_centered']/1000\n",
    "\n",
    "\n",
    "\n",
    "for idx, neuron in enumerate(N_all.neuron.unique()):\n",
    "    N = N_all.loc[N_all['neuron']==neuron]\n",
    "    N['time_centered_s'] = N['time_centered']/1000\n",
    "    plt.figure()\n",
    "    sns.lineplot(x='time_centered_s', y='norm_firing_gauss', data=df_control_pfc, color='darkgrey', linewidth=2)\n",
    "    sns.lineplot(x='time_centered_s', y='norm_firing_gauss', data=N, ci=68, color='darkred', linewidth=0.5)\n",
    "    N1 = N.loc[(N['time_centered']>300) & (N['time_centered']<1700) ] ##100 - 1700 (700 around 1000, 300-1700)\n",
    "    x = N1.time_centered.unique()/1000\n",
    "    y = N1.groupby('time_centered').norm_firing_gauss.mean().values\n",
    "    popt, pcov = curve_fit(parabola_cent, x, y, method='dogbox',  maxfev=1000 )\n",
    "    #y_fit = [popt[0]*x**2 + popt[1]*x + popt[2] for x in x]\n",
    "    y_fit = [popt[0]*(x-1)**2 + popt[1]*x + popt[2] for x in x]\n",
    "    plt.plot(x, y_fit, 'k--', linewidth=1, label='parabolic fit')\n",
    "    plt.title(str(neuron))\n",
    "    plt.gca().spines['right'].set_visible(False)  # aesthetics                                                                              # remove right spines\n",
    "    plt.gca().spines['top'].set_visible(False)                                                                                  # remove top spines\n",
    "    plt.gca().get_xaxis().tick_bottom()                                                                                         \n",
    "    plt.gca().get_yaxis().tick_left()\n",
    "    plt.gca().tick_params(direction='in') #direction\n",
    "    plt.xlim(-0.5,2)\n",
    "    plt.ylabel('norm firing rate')\n",
    "    plt.xlabel('times_centered')\n",
    "    print(idx, neuron, round(popt[0],3))\n",
    "    plt.show()\n",
    "    alphas_.append([neuron, round(popt[0],3)])"
   ]
  },
  {
   "cell_type": "code",
   "execution_count": null,
   "metadata": {},
   "outputs": [],
   "source": [
    "Alphas = pd.DataFrame(alphas_)\n",
    "Alphas.columns=['neuron', 'alpha']\n",
    "Alphas"
   ]
  },
  {
   "cell_type": "code",
   "execution_count": null,
   "metadata": {},
   "outputs": [],
   "source": []
  },
  {
   "cell_type": "code",
   "execution_count": null,
   "metadata": {},
   "outputs": [],
   "source": [
    "#decoding stregth of each neuron"
   ]
  },
  {
   "cell_type": "code",
   "execution_count": null,
   "metadata": {},
   "outputs": [],
   "source": [
    "### otra opcion es cambiar el heatmap e ir a por el de 900, que es donde lo hacen mejor...\n",
    "path_CTD = 'C:\\\\Users\\\\David\\\\Dropbox\\\\IDIBAPS\\\\Distractor_neurons\\\\thesis_plots\\\\signal_HM_DLPFC_100.npy'\n",
    "A = np.load(path_CTD)\n",
    "decoding_500 = [np.mean(A[x][17:22, 17:22]) for x in range(len(A))] #the lower the worse\n",
    "DLPFC_ = np.load('C:\\\\Users\\\\David\\\\Dropbox\\\\IDIBAPS\\\\Distractor_neurons\\\\FR_trials\\\\0_DLPFC.npy')\n",
    "neuron_ = [Neuron for Neuron in np.unique(DLPFC_[:, 23])]\n",
    "\n",
    "decoding_strenght = pd.DataFrame({'decoding error':decoding_500, 'neuron':neuron_} )\n",
    "decoding_strenght"
   ]
  },
  {
   "cell_type": "code",
   "execution_count": null,
   "metadata": {},
   "outputs": [],
   "source": []
  },
  {
   "cell_type": "code",
   "execution_count": null,
   "metadata": {},
   "outputs": [],
   "source": []
  },
  {
   "cell_type": "code",
   "execution_count": null,
   "metadata": {},
   "outputs": [],
   "source": [
    "dss=[]\n",
    "for i in range(len(Alphas)):\n",
    "    d_s = decoding_strenght.loc[decoding_strenght['neuron']== str(Alphas['neuron'].iloc[i]), 'decoding error' ].iloc[0]\n",
    "    dss.append(d_s)\n",
    "    \n",
    "    \n",
    "Alphas['decoding_error']=dss"
   ]
  },
  {
   "cell_type": "code",
   "execution_count": null,
   "metadata": {},
   "outputs": [],
   "source": [
    "Alphas['decoding'] = 1-Alphas['decoding_error']"
   ]
  },
  {
   "cell_type": "code",
   "execution_count": null,
   "metadata": {},
   "outputs": [],
   "source": [
    "Color = 'navy'\n",
    "\n",
    "slope, intercept, r_value, p_value, std_err = stats.linregress(Alphas['decoding_error'],Alphas['alpha'])\n",
    "\n",
    "ax=sns.regplot(x='decoding_error', y='alpha', data=Alphas, color=Color, scatter_kws={'s':12}, \n",
    "               line_kws={'linewidth':2, 'alpha':1.})\n",
    "plt.gca().spines['right'].set_visible(False)  # aesthetics                                                                              # remove right spines\n",
    "plt.gca().spines['top'].set_visible(False)                                                                                  # remove top spines\n",
    "plt.gca().get_xaxis().tick_bottom()                                                                                         \n",
    "plt.gca().get_yaxis().tick_left()\n",
    "plt.gca().tick_params(direction='in') #direction\n",
    "plt.text(65, 1.5, \"y= {0:.3f}x + {1:.3f}\".format(slope,intercept), color=Color, fontsize=15)\n",
    "plt.text(65, 1.25, \"p one sided={0:.3f}\".format(p_value/2), color=Color, fontsize=15)\n",
    "plt.xlabel('decoding error ($^\\circ$)')\n",
    "plt.ylabel(r'$ \\alpha $')\n",
    "plt.ylim(-0.8, 1.8)\n",
    "plt.yticks([-0.8,0.5,1.8])\n",
    "plt.xlim(20,90)\n",
    "plt.xticks([30,60,90])\n",
    "plt.show()\n",
    "\n",
    "##figure = ax.get_figure()    \n",
    "##figure.savefig('C:\\\\Users\\\\David\\\\Desktop\\\\alpha_de.svg', transparent=True)\n",
    "\n",
    "\n",
    "result = smf.ols(formula=\"alpha ~ decoding_error\", data=Alphas).fit()\n",
    "print(result.summary())"
   ]
  },
  {
   "cell_type": "code",
   "execution_count": null,
   "metadata": {},
   "outputs": [],
   "source": []
  },
  {
   "cell_type": "code",
   "execution_count": null,
   "metadata": {},
   "outputs": [],
   "source": [
    "Color = 'navy'\n",
    "\n",
    "slope, intercept, r_value, p_value, std_err = stats.linregress(Alphas['alpha'], Alphas['decoding_error'])\n",
    "\n",
    "ax=sns.regplot(x='alpha', y='decoding_error', data=Alphas, color=Color, scatter_kws={'s':12}, \n",
    "               line_kws={'linewidth':2, 'alpha':1.})\n",
    "plt.gca().spines['right'].set_visible(False)  # aesthetics                                                                              # remove right spines\n",
    "plt.gca().spines['top'].set_visible(False)                                                                                  # remove top spines\n",
    "plt.gca().get_xaxis().tick_bottom()                                                                                         \n",
    "plt.gca().get_yaxis().tick_left()\n",
    "plt.gca().tick_params(direction='in') #direction\n",
    "plt.text( 1.5, 65 \"err= {0:.3f}a + {1:.3f}\".format(slope,intercept), color=Color, fontsize=15)\n",
    "plt.text( 1.5, 60 \"p one sided={0:.3f}\".format(p_value/2), color=Color, fontsize=15)\n",
    "plt.ylabel('decoding error ($^\\circ$)')\n",
    "plt.xlabel(r'$ a $')\n",
    "plt.xlim(-0.8, 1.8)\n",
    "plt.xticks([-0.8,0.5,1.8])\n",
    "plt.ylim(20,90)\n",
    "plt.yticks([30,60,90])\n",
    "plt.show()"
   ]
  },
  {
   "cell_type": "code",
   "execution_count": null,
   "metadata": {},
   "outputs": [],
   "source": []
  }
 ],
 "metadata": {
  "kernelspec": {
   "display_name": "Python 3",
   "language": "python",
   "name": "python3"
  },
  "language_info": {
   "codemirror_mode": {
    "name": "ipython",
    "version": 3
   },
   "file_extension": ".py",
   "mimetype": "text/x-python",
   "name": "python",
   "nbconvert_exporter": "python",
   "pygments_lexer": "ipython3",
   "version": "3.5.6"
  }
 },
 "nbformat": 4,
 "nbformat_minor": 2
}
