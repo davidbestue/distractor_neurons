{
 "cells": [
  {
   "cell_type": "code",
   "execution_count": 37,
   "metadata": {},
   "outputs": [],
   "source": [
    "from linares_plot import *\n",
    "import os\n",
    "import statsmodels.api as sm\n",
    "from joblib import Parallel, delayed\n",
    "import multiprocessing"
   ]
  },
  {
   "cell_type": "code",
   "execution_count": null,
   "metadata": {},
   "outputs": [],
   "source": [
    "numcores = multiprocessing.cpu_count() - 1\n",
    "numcores"
   ]
  },
  {
   "cell_type": "code",
   "execution_count": 38,
   "metadata": {},
   "outputs": [],
   "source": [
    "def circdist(a1,a2):\n",
    "    ## Returns the minimal distance in angles between to angles \n",
    "    op1=abs(a2-a1)\n",
    "    angs=[a1,a2]\n",
    "    op2=min(angs)+(360-max(angs))\n",
    "    options=[op1,op2]\n",
    "    return min(options)\n",
    "\n",
    "\n",
    "\n",
    "def decoding_spikes_angles_err(df, size_test=0.1):\n",
    "    #### Input : dataframe with three columns: (spikes, behaviour and neuron label)\n",
    "    ###Take off nans\n",
    "    df = df.loc[df.iloc[:,0]<9999]\n",
    "    df.columns=['spikes', 'beh', 'neuron']\n",
    "    neuron_means=[]\n",
    "    ### Train and test on the same neuron --> append the error of each neuron\n",
    "    pop_err=[]\n",
    "    \n",
    "    for Neur in df.neuron.unique():\n",
    "        ### same neuron 5 times --> mean value\n",
    "        neur_err=[]\n",
    "        for rep in range(0,5):\n",
    "            spikes_train, spikes_test, beh_train, beh_test = train_test_split(df.groupby('neuron').get_group(Neur)['spikes'],\n",
    "                                                                              df.groupby('neuron').get_group(Neur)['beh'],\n",
    "                                                                              test_size=size_test)  \n",
    "\n",
    "            ######## Trainning #########\n",
    "            ## X matrix (intercept and spikes)\n",
    "            X = np.column_stack([np.ones(np.shape(spikes_train)[0]),spikes_train])\n",
    "            ## Y (sinus and cos)\n",
    "            sinus =np.sin([np.radians(np.array(beh_train)[i]) for i in range(0, len(beh_train))])\n",
    "            cosinus = np.cos([np.radians(np.array(beh_train)[i]) for i in range(0, len(beh_train))])\n",
    "            Y = np.column_stack([cosinus, sinus])\n",
    "            ### one OLS for sin and cos: output: beta of intercetp and bea of spikes (two B intercepts and 2 B for spikes )\n",
    "            Y = Y.astype(float) #to make it work in the cluster\n",
    "            X = X.astype(float)\n",
    "            model = sm.OLS(Y, X)\n",
    "            ##train the model\n",
    "            fit=model.fit()\n",
    "\n",
    "            ######### Testing ###########\n",
    "            X = np.column_stack([np.ones(np.shape(spikes_test)[0]),spikes_test])\n",
    "            p = fit.predict(X)\n",
    "            x = p[:,0]\n",
    "            y = p[:,1]\n",
    "            #####\n",
    "            ##### Error --> take the resulting vector in sin/cos space\n",
    "            ### from sin and cos get the angle (-pi, pi)\n",
    "            #pred_angle = [ np.degrees(np.arctan2(y[i], x[i]) + np.pi) for i in range(0, len(y))]\n",
    "            pred_angle = [ np.degrees(np.arctan2(y[i], x[i])) for i in range(0, len(y))]\n",
    "            for i in range(0, len(pred_angle)):\n",
    "                if pred_angle[i]<0:\n",
    "                    pred_angle[i]=360+pred_angle[i]\n",
    "            ##\n",
    "            #error=[ circdist(beh_test[i], pred_angle[i]) for i in range(0, len(pred_angle))]\n",
    "            error=[ circdist(beh_test.values[i], pred_angle[i]) for i in range(0, len(pred_angle))]\n",
    "            \n",
    "            #low_value --> predicted positionns close to real\n",
    "            neur_err.append(np.mean(error))\n",
    "            ####\n",
    "        \n",
    "        #####       \n",
    "        pop_err.append(np.mean(neur_err))\n",
    "        ####\n",
    "    \n",
    "    return pop_err\n",
    "\n",
    "\n"
   ]
  },
  {
   "cell_type": "code",
   "execution_count": 50,
   "metadata": {},
   "outputs": [],
   "source": [
    "path_CTD = 'C:\\\\Users\\\\David\\\\Desktop\\\\IDIBAPS\\\\Gottlib_data\\\\CTD'\n"
   ]
  },
  {
   "cell_type": "code",
   "execution_count": 51,
   "metadata": {},
   "outputs": [],
   "source": [
    "pfc_100 = pd.read_excel( os.path.join(path_CTD, 'pfc_100.xlsx'))\n",
    "pfc_200 = pd.read_excel( os.path.join(path_CTD, 'pfc_200.xlsx'))\n",
    "pfc_300 = pd.read_excel( os.path.join(path_CTD, 'pfc_300.xlsx'))\n",
    "pfc_900 = pd.read_excel( os.path.join(path_CTD, 'pfc_900.xlsx'))"
   ]
  },
  {
   "cell_type": "code",
   "execution_count": 52,
   "metadata": {},
   "outputs": [],
   "source": [
    "lip_100 = pd.read_excel( os.path.join(path_CTD, 'lip_100.xlsx'))\n",
    "lip_200 = pd.read_excel( os.path.join(path_CTD, 'lip_200.xlsx'))\n",
    "lip_300 = pd.read_excel( os.path.join(path_CTD, 'lip_300.xlsx'))\n",
    "lip_900 = pd.read_excel( os.path.join(path_CTD, 'lip_900.xlsx'))"
   ]
  },
  {
   "cell_type": "code",
   "execution_count": null,
   "metadata": {},
   "outputs": [],
   "source": []
  },
  {
   "cell_type": "code",
   "execution_count": null,
   "metadata": {},
   "outputs": [],
   "source": [
    "### Cross temporal decoding"
   ]
  },
  {
   "cell_type": "code",
   "execution_count": 162,
   "metadata": {},
   "outputs": [],
   "source": [
    "def circdist(a1,a2):\n",
    "    ## Returns the minimal distance in angles between to angles \n",
    "    op1=abs(a2-a1)\n",
    "    angs=[a1,a2]\n",
    "    op2=min(angs)+(360-max(angs))\n",
    "    options=[op1,op2]\n",
    "    return min(options)\n",
    "\n",
    "\n",
    "\n",
    "def decoder(df_train, df_test):\n",
    "    #### Input : dataframe with three columns: (spikes, behaviour and neuron label)\n",
    "    df_train.columns=['firing', 'beh']\n",
    "    df_test.columns=['firing', 'beh']\n",
    "    \n",
    "    ## Train and test         \n",
    "    activity_train= df_train.firing.values\n",
    "    activity_test= df_test.firing.values\n",
    "    beh_train= df_train.beh.values\n",
    "    beh_test= df_test.beh.values\n",
    "\n",
    "    ######## Trainning #########\n",
    "    ## X matrix (intercept and spikes)\n",
    "    X = np.column_stack([np.ones(np.shape(activity_train)[0]), activity_train])\n",
    "    ## Y (sinus and cos)\n",
    "    sinus =np.sin([np.radians(np.array(beh_train)[i]) for i in range(0, len(beh_train))])\n",
    "    cosinus = np.cos([np.radians(np.array(beh_train)[i]) for i in range(0, len(beh_train))])\n",
    "    Y = np.column_stack([cosinus, sinus])\n",
    "    ### one OLS for sin and cos: output: beta of intercetp and bea of spikes (two B intercepts and 2 B for spikes )\n",
    "    model = sm.OLS(Y, X)\n",
    "    ##train the model\n",
    "    fit=model.fit()\n",
    "\n",
    "    ######### Testing ###########\n",
    "    X = np.column_stack([np.ones(np.shape(activity_test)[0]),activity_test])\n",
    "    p = fit.predict(X)\n",
    "    x = p[:,0]\n",
    "    y = p[:,1]\n",
    "    #####\n",
    "    ##### Error --> take the resulting vector in sin/cos space\n",
    "    ### from sin and cos get the angle (-pi, pi)\n",
    "    #pred_angle = [ np.degrees(np.arctan2(y[i], x[i]) + np.pi) for i in range(0, len(y))]\n",
    "    pred_angle = [ np.degrees(np.arctan2(y[i], x[i])) for i in range(0, len(y))]\n",
    "    for i in range(0, len(pred_angle)):\n",
    "        if pred_angle[i]<0:\n",
    "            pred_angle[i]=360+pred_angle[i]\n",
    "    ##\n",
    "    #\n",
    "    #print(beh_test)\n",
    "    error_trial=[ circdist(beh_test[i], pred_angle[i]) for i in range(0, len(pred_angle))]\n",
    "    mean_error = np.round(np.mean(error_trial),2)\n",
    "\n",
    "    return mean_error\n",
    "\n",
    "\n",
    "def heatmap(data, title, dist_time='None', fs1=20, fs2=12):\n",
    "    ax = sns.heatmap(data,vmin=50, vmax=90, cmap= 'viridis_r',\n",
    "                    cbar_kws={\"shrink\": .82, 'ticks' : [50, 70, 90], 'label': 'decoding error ($^\\circ$)'}) ##sns.cm.rocket_r\n",
    "    ax.invert_yaxis()\n",
    "    ax.figure.axes[-1].yaxis.label.set_size(fs1)\n",
    "    ax.figure.axes[-1].tick_params(labelsize=fs2)\n",
    "    plt.gca().set_title(title, fontsize=fs1)\n",
    "    plt.gca().set_xticks([0,5,10,15,20])\n",
    "    plt.gca().set_xticklabels([-500,0,500,1000,1500])\n",
    "    plt.gca().set_ylim(0,24)\n",
    "    plt.gca().set_yticks([0,5,10,15,20])\n",
    "    plt.gca().set_yticklabels([-500,0,500,1000,1500])\n",
    "    plt.xticks(fontsize=fs2, rotation=0)\n",
    "    plt.yticks(fontsize=fs2)\n",
    "    plt.gca().set_ylabel('training time (ms)', fontsize=fs1, labelpad=12)\n",
    "    plt.gca().set_xlabel('testing time (ms)', fontsize=fs1, labelpad=12)\n",
    "    ##### Target presented at 500ms\n",
    "    ##### Stimulus duration: 100ms\n",
    "    ##### Distractor presented with different SOA\n",
    "    plt.plot([500/100, 500/100], [23,23], markersize=10, color='y', marker='v')\n",
    "    if dist_time != 'None':\n",
    "        plt.plot([(600+dist_time)/100, (600+dist_time)/100], [23,23], markersize=10, color='r', marker='v')\n",
    "                \n",
    "    \n",
    "    plt.show(block=False)\n",
    "\n",
    "    "
   ]
  },
  {
   "cell_type": "code",
   "execution_count": null,
   "metadata": {},
   "outputs": [],
   "source": []
  },
  {
   "cell_type": "markdown",
   "metadata": {},
   "source": [
    "### Example 1 neuron"
   ]
  },
  {
   "cell_type": "code",
   "execution_count": 175,
   "metadata": {},
   "outputs": [
    {
     "name": "stdout",
     "output_type": "stream",
     "text": [
      "1367701\n"
     ]
    },
    {
     "name": "stderr",
     "output_type": "stream",
     "text": [
      "C:\\Users\\David\\Anaconda3\\envs\\python3\\lib\\site-packages\\ipykernel_launcher.py:6: SettingWithCopyWarning: \n",
      "A value is trying to be set on a copy of a slice from a DataFrame.\n",
      "Try using .loc[row_indexer,col_indexer] = value instead\n",
      "\n",
      "See the caveats in the documentation: http://pandas.pydata.org/pandas-docs/stable/user_guide/indexing.html#returning-a-view-versus-a-copy\n",
      "  \n"
     ]
    }
   ],
   "source": [
    "neuron_ = pfc_100.neuron.unique()[0]\n",
    "print(neuron_)\n",
    "## get the neuron\n",
    "dfN = pfc_100.loc[pfc_100['neuron']==neuron_]\n",
    "## column of times centered to stim onset\n",
    "dfN['times_centered'] = dfN['times'] - dfN['fixationtime']\n",
    "\n",
    "#cross-decoding for 1 neuron\n",
    "### empty matrix to append the cross temporal decoding\n",
    "all_times = np.arange(-500,2100, 100)\n",
    "train_test = np.empty( (len(all_times), len(all_times) ) )\n",
    "train_test[:] = np.nan\n",
    "\n",
    "### times I am interested in (no need to get more times)\n",
    "dfN = dfN.loc[(dfN['times_centered']>=-500) & (dfN['times_centered']<=2000) ]\n",
    "list_times = dfn.times_centered.unique()\n",
    "list_times_sorted =np.sort(list_times)\n",
    "list_times_sorted\n",
    "\n",
    "for training_time in list_times_sorted:\n",
    "    #print(training_time)\n",
    "    dfn_train = dfN.loc[(dfN['times_centered']==training_time), ['firing', 'target_angle']]\n",
    "    dfn_train = dfn_train.loc[dfn_train.iloc[:,0]<9999] ###Take off nans\n",
    "    paralel_train = [dfn_train for i in range(len(list_times_sorted))]\n",
    "    \n",
    "    paralel_test = []\n",
    "    for times_testing in list_times_sorted:\n",
    "        dfn_test =dfN.loc[(dfN['times_centered']==times_testing), ['firing', 'target_angle']]\n",
    "        dfn_test = dfn_test.loc[dfn_test.iloc[:,0]<9999] ###Take off nans\n",
    "        paralel_test.append(dfn_test)\n",
    "\n",
    "    cross_temp = Parallel(n_jobs = numcores)(delayed(decoder)(training, testing)  for training, testing in zip(paralel_train, paralel_test) )   #### reconstruction standard (paralel)\n",
    "\n",
    "    idx_append_row = np.where(training_time == all_times )[0][0]\n",
    "    idx_append_col1 = np.where(list_times_sorted[0] == all_times)[0][0]\n",
    "    idx_append_col2 = np.where(list_times_sorted[-1] == all_times)[0][0]\n",
    "    train_test[idx_append_row, idx_append_col1:idx_append_col2+1] = cross_temp"
   ]
  },
  {
   "cell_type": "code",
   "execution_count": 176,
   "metadata": {},
   "outputs": [
    {
     "data": {
      "image/png": "[encoded data removed]",
      "text/plain": [
       "<Figure size 432x288 with 2 Axes>"
      ]
     },
     "metadata": {
      "needs_background": "light"
     },
     "output_type": "display_data"
    }
   ],
   "source": [
    "heatmap(train_test, 'pfc 100: ' + str(neuron_))"
   ]
  },
  {
   "cell_type": "code",
   "execution_count": null,
   "metadata": {},
   "outputs": [],
   "source": []
  },
  {
   "cell_type": "code",
   "execution_count": null,
   "metadata": {},
   "outputs": [],
   "source": []
  },
  {
   "cell_type": "markdown",
   "metadata": {},
   "source": [
    "### All neurons in one condition"
   ]
  },
  {
   "cell_type": "code",
   "execution_count": null,
   "metadata": {},
   "outputs": [],
   "source": []
  },
  {
   "cell_type": "markdown",
   "metadata": {},
   "source": [
    "## pfc, tdoa=100"
   ]
  },
  {
   "cell_type": "code",
   "execution_count": 169,
   "metadata": {},
   "outputs": [
    {
     "data": {
      "text/plain": [
       "63"
      ]
     },
     "execution_count": 169,
     "metadata": {},
     "output_type": "execute_result"
    }
   ],
   "source": [
    "len(pfc_100.neuron.unique()) ##number of neurons"
   ]
  },
  {
   "cell_type": "code",
   "execution_count": 174,
   "metadata": {
    "scrolled": true
   },
   "outputs": [
    {
     "name": "stdout",
     "output_type": "stream",
     "text": [
      "0 1367701\n"
     ]
    },
    {
     "name": "stderr",
     "output_type": "stream",
     "text": [
      "C:\\Users\\David\\Anaconda3\\envs\\python3\\lib\\site-packages\\ipykernel_launcher.py:8: SettingWithCopyWarning: \n",
      "A value is trying to be set on a copy of a slice from a DataFrame.\n",
      "Try using .loc[row_indexer,col_indexer] = value instead\n",
      "\n",
      "See the caveats in the documentation: http://pandas.pydata.org/pandas-docs/stable/user_guide/indexing.html#returning-a-view-versus-a-copy\n",
      "  \n"
     ]
    },
    {
     "name": "stdout",
     "output_type": "stream",
     "text": [
      "1 1367802\n",
      "2 1367903\n",
      "3 1369702\n",
      "4 1369901\n",
      "5 1370002\n",
      "6 1370202\n",
      "7 1371202\n",
      "8 1371901\n",
      "9 1372003\n",
      "10 1372301\n",
      "11 1372402\n",
      "12 189168701\n",
      "13 189169502\n",
      "14 189171003\n",
      "15 189171602\n",
      "16 189172801\n",
      "17 189173101\n",
      "18 189173801\n",
      "19 189174201\n",
      "20 189175201\n",
      "21 189175801\n",
      "22 189176101\n",
      "23 189176501\n",
      "24 189176901\n",
      "25 189177402\n",
      "26 189177701\n",
      "27 1891783\n",
      "28 189179001\n",
      "29 189179002\n",
      "30 1891793\n",
      "31 189179702\n",
      "32 189180001\n",
      "33 189181001\n",
      "34 189181502\n",
      "35 1891819\n",
      "36 189182202\n",
      "37 189182501\n",
      "38 189182901\n",
      "39 189183201\n",
      "40 189183402\n",
      "41 1891841\n",
      "42 189184601\n",
      "43 1891857\n",
      "44 189186201\n",
      "45 189187301\n",
      "46 189188901\n",
      "47 189189601\n",
      "48 189191601\n",
      "49 189191602\n",
      "50 1891918\n",
      "51 189192001\n",
      "52 189192201\n",
      "53 189192401\n",
      "54 1891935\n",
      "55 189194301\n",
      "56 189195301\n",
      "57 189196301\n",
      "58 189196401\n",
      "59 189209101\n",
      "60 189209503\n",
      "61 189210001\n",
      "62 189210901\n"
     ]
    }
   ],
   "source": [
    "heatmaps_pfc_100=[]\n",
    "\n",
    "for n_neuron,neuron_ in enumerate(pfc_100.neuron.unique()):\n",
    "    print(n_neuron, neuron_)\n",
    "    ## get the neuron\n",
    "    dfN = pfc_100.loc[pfc_100['neuron']==neuron_]\n",
    "    ## column of times centered to stim onset\n",
    "    dfN['times_centered'] = dfN['times'] - dfN['fixationtime']\n",
    "\n",
    "    #cross-decoding for 1 neuron\n",
    "    ### empty matrix to append the cross temporal decoding\n",
    "    all_times = np.arange(-500,2100, 100)\n",
    "    train_test = np.empty( (len(all_times), len(all_times) ) )\n",
    "    train_test[:] = np.nan\n",
    "\n",
    "    ### times I am interested in (no need to get more times)\n",
    "    dfN = dfN.loc[(dfN['times_centered']>=-500) & (dfN['times_centered']<=2000) ]\n",
    "    list_times = dfn.times_centered.unique()\n",
    "    list_times_sorted =np.sort(list_times)\n",
    "    list_times_sorted\n",
    "\n",
    "    for training_time in list_times_sorted:\n",
    "        #print(training_time)\n",
    "        dfn_train = dfN.loc[(dfN['times_centered']==training_time), ['firing', 'target_angle']]         \n",
    "        dfn_train = dfn_train.loc[dfn_train.iloc[:,0]<9999] ###Take off nans\n",
    "        paralel_train = [dfn_train for i in range(len(list_times_sorted))]\n",
    "\n",
    "        paralel_test = []\n",
    "        for times_testing in list_times_sorted:\n",
    "            dfn_test =dfN.loc[(dfN['times_centered']==times_testing), ['firing', 'target_angle']]\n",
    "            dfn_test = dfn_test.loc[dfn_test.iloc[:,0]<9999] ###Take off nans\n",
    "            paralel_test.append(dfn_test)\n",
    "\n",
    "        cross_temp = Parallel(n_jobs = numcores)(delayed(decoder)(training, testing)  for training, testing in zip(paralel_train, paralel_test) )   #### reconstruction standard (paralel)\n",
    "\n",
    "        idx_append_row = np.where(training_time == all_times )[0][0]\n",
    "        idx_append_col1 = np.where(list_times_sorted[0] == all_times)[0][0]\n",
    "        idx_append_col2 = np.where(list_times_sorted[-1] == all_times)[0][0]\n",
    "        train_test[idx_append_row, idx_append_col1:idx_append_col2+1] = cross_temp\n",
    "    ##\n",
    "    heatmaps_pfc_100.append(train_test)"
   ]
  },
  {
   "cell_type": "code",
   "execution_count": 183,
   "metadata": {},
   "outputs": [
    {
     "data": {
      "image/png": "[encoded data removed]",
      "text/plain": [
       "<Figure size 432x288 with 2 Axes>"
      ]
     },
     "metadata": {
      "needs_background": "light"
     },
     "output_type": "display_data"
    }
   ],
   "source": [
    "H = [pd.DataFrame(heatmaps_pfc_100[x]) for x in range(len(heatmaps_pfc_100))]\n",
    "H_mean = pd.concat(H).groupby(level=0).mean()\n",
    "heatmap(H_mean, 'DLPFC: TDOA=' +str(100)+'ms', dist_time=0)"
   ]
  },
  {
   "cell_type": "code",
   "execution_count": null,
   "metadata": {},
   "outputs": [],
   "source": []
  },
  {
   "cell_type": "code",
   "execution_count": null,
   "metadata": {},
   "outputs": [],
   "source": []
  },
  {
   "cell_type": "code",
   "execution_count": 184,
   "metadata": {
    "scrolled": true
   },
   "outputs": [
    {
     "name": "stdout",
     "output_type": "stream",
     "text": [
      "0 1367701\n"
     ]
    },
    {
     "name": "stderr",
     "output_type": "stream",
     "text": [
      "C:\\Users\\David\\Anaconda3\\envs\\python3\\lib\\site-packages\\ipykernel_launcher.py:8: SettingWithCopyWarning: \n",
      "A value is trying to be set on a copy of a slice from a DataFrame.\n",
      "Try using .loc[row_indexer,col_indexer] = value instead\n",
      "\n",
      "See the caveats in the documentation: http://pandas.pydata.org/pandas-docs/stable/user_guide/indexing.html#returning-a-view-versus-a-copy\n",
      "  \n"
     ]
    },
    {
     "name": "stdout",
     "output_type": "stream",
     "text": [
      "1 1367802\n",
      "2 1367903\n",
      "3 1369702\n",
      "4 1369901\n",
      "5 1370002\n",
      "6 1370202\n",
      "7 1371202\n",
      "8 1371901\n",
      "9 1372003\n",
      "10 1372301\n",
      "11 1372402\n",
      "12 189168701\n",
      "13 189169502\n",
      "14 189171003\n",
      "15 189171602\n",
      "16 189172801\n",
      "17 189173101\n",
      "18 189173801\n",
      "19 189174201\n",
      "20 189175201\n",
      "21 189175801\n",
      "22 189176101\n",
      "23 189176501\n",
      "24 189176901\n",
      "25 189177402\n",
      "26 189177701\n",
      "27 1891783\n",
      "28 189179001\n",
      "29 189179002\n",
      "30 1891793\n",
      "31 189179702\n",
      "32 189180001\n",
      "33 189181001\n",
      "34 189181502\n",
      "35 1891819\n",
      "36 189182202\n",
      "37 189182501\n",
      "38 189182901\n",
      "39 189183201\n",
      "40 189183402\n",
      "41 1891841\n",
      "42 189184601\n",
      "43 1891857\n",
      "44 189186201\n",
      "45 189187301\n",
      "46 189188901\n",
      "47 189189601\n",
      "48 189191601\n",
      "49 189191602\n",
      "50 1891918\n",
      "51 189192001\n",
      "52 189192201\n",
      "53 189192401\n",
      "54 1891935\n",
      "55 189194301\n",
      "56 189195301\n",
      "57 189196301\n",
      "58 189196401\n",
      "59 189209101\n",
      "60 189209503\n",
      "61 189210001\n",
      "62 189210901\n"
     ]
    }
   ],
   "source": [
    "heatmaps_pfc_200=[]\n",
    "\n",
    "for n_neuron,neuron_ in enumerate(pfc_200.neuron.unique()):\n",
    "    print(n_neuron, neuron_)\n",
    "    ## get the neuron\n",
    "    dfN = pfc_200.loc[pfc_200['neuron']==neuron_]\n",
    "    ## column of times centered to stim onset\n",
    "    dfN['times_centered'] = dfN['times'] - dfN['fixationtime']\n",
    "\n",
    "    #cross-decoding for 1 neuron\n",
    "    ### empty matrix to append the cross temporal decoding\n",
    "    all_times = np.arange(-500,2100, 100)\n",
    "    train_test = np.empty( (len(all_times), len(all_times) ) )\n",
    "    train_test[:] = np.nan\n",
    "\n",
    "    ### times I am interested in (no need to get more times)\n",
    "    dfN = dfN.loc[(dfN['times_centered']>=-500) & (dfN['times_centered']<=2000) ]\n",
    "    list_times = dfn.times_centered.unique()\n",
    "    list_times_sorted =np.sort(list_times)\n",
    "    list_times_sorted\n",
    "\n",
    "    for training_time in list_times_sorted:\n",
    "        #print(training_time)\n",
    "        dfn_train = dfN.loc[(dfN['times_centered']==training_time), ['firing', 'target_angle']]         \n",
    "        dfn_train = dfn_train.loc[dfn_train.iloc[:,0]<9999] ###Take off nans\n",
    "        paralel_train = [dfn_train for i in range(len(list_times_sorted))]\n",
    "\n",
    "        paralel_test = []\n",
    "        for times_testing in list_times_sorted:\n",
    "            dfn_test =dfN.loc[(dfN['times_centered']==times_testing), ['firing', 'target_angle']]\n",
    "            dfn_test = dfn_test.loc[dfn_test.iloc[:,0]<9999] ###Take off nans\n",
    "            paralel_test.append(dfn_test)\n",
    "\n",
    "        cross_temp = Parallel(n_jobs = numcores)(delayed(decoder)(training, testing)  for training, testing in zip(paralel_train, paralel_test) )   #### reconstruction standard (paralel)\n",
    "\n",
    "        idx_append_row = np.where(training_time == all_times )[0][0]\n",
    "        idx_append_col1 = np.where(list_times_sorted[0] == all_times)[0][0]\n",
    "        idx_append_col2 = np.where(list_times_sorted[-1] == all_times)[0][0]\n",
    "        train_test[idx_append_row, idx_append_col1:idx_append_col2+1] = cross_temp\n",
    "    ##\n",
    "    heatmaps_pfc_200.append(train_test)"
   ]
  },
  {
   "cell_type": "code",
   "execution_count": 185,
   "metadata": {},
   "outputs": [
    {
     "data": {
      "image/png": "[encoded data removed]",
      "text/plain": [
       "<Figure size 432x288 with 2 Axes>"
      ]
     },
     "metadata": {
      "needs_background": "light"
     },
     "output_type": "display_data"
    }
   ],
   "source": [
    "H = [pd.DataFrame(heatmaps_pfc_200[x]) for x in range(len(heatmaps_pfc_200))]\n",
    "H_mean = pd.concat(H).groupby(level=0).mean()\n",
    "heatmap(H_mean, 'DLPFC: TDOA=' +str(200)+'ms', dist_time=100)"
   ]
  },
  {
   "cell_type": "code",
   "execution_count": null,
   "metadata": {},
   "outputs": [],
   "source": []
  },
  {
   "cell_type": "code",
   "execution_count": 186,
   "metadata": {
    "scrolled": true
   },
   "outputs": [
    {
     "name": "stdout",
     "output_type": "stream",
     "text": [
      "0 1367701\n"
     ]
    },
    {
     "name": "stderr",
     "output_type": "stream",
     "text": [
      "C:\\Users\\David\\Anaconda3\\envs\\python3\\lib\\site-packages\\ipykernel_launcher.py:8: SettingWithCopyWarning: \n",
      "A value is trying to be set on a copy of a slice from a DataFrame.\n",
      "Try using .loc[row_indexer,col_indexer] = value instead\n",
      "\n",
      "See the caveats in the documentation: http://pandas.pydata.org/pandas-docs/stable/user_guide/indexing.html#returning-a-view-versus-a-copy\n",
      "  \n"
     ]
    },
    {
     "name": "stdout",
     "output_type": "stream",
     "text": [
      "1 1367802\n",
      "2 1367903\n",
      "3 1369702\n",
      "4 1369901\n",
      "5 1370002\n",
      "6 1370202\n",
      "7 1371202\n",
      "8 1371901\n",
      "9 1372003\n",
      "10 1372301\n",
      "11 1372402\n",
      "12 189168701\n",
      "13 189169502\n",
      "14 189171003\n",
      "15 189171602\n",
      "16 189172801\n",
      "17 189173101\n",
      "18 189173801\n",
      "19 189174201\n",
      "20 189175201\n",
      "21 189175801\n",
      "22 189176101\n",
      "23 189176501\n",
      "24 189176901\n",
      "25 189177402\n",
      "26 189177701\n",
      "27 1891783\n",
      "28 189179001\n",
      "29 189179002\n",
      "30 1891793\n",
      "31 189179702\n",
      "32 189180001\n",
      "33 189181001\n",
      "34 189181502\n",
      "35 1891819\n",
      "36 189182202\n",
      "37 189182501\n",
      "38 189182901\n",
      "39 189183201\n",
      "40 189183402\n",
      "41 1891841\n",
      "42 189184601\n",
      "43 1891857\n",
      "44 189186201\n",
      "45 189187301\n",
      "46 189188901\n",
      "47 189189601\n",
      "48 189191601\n",
      "49 189191602\n",
      "50 1891918\n",
      "51 189192001\n",
      "52 189192201\n",
      "53 189192401\n",
      "54 1891935\n",
      "55 189194301\n",
      "56 189195301\n",
      "57 189196301\n",
      "58 189196401\n",
      "59 189209101\n",
      "60 189209503\n",
      "61 189210001\n",
      "62 189210901\n"
     ]
    }
   ],
   "source": [
    "heatmaps_pfc_300=[]\n",
    "\n",
    "for n_neuron,neuron_ in enumerate(pfc_300.neuron.unique()):\n",
    "    print(n_neuron, neuron_)\n",
    "    ## get the neuron\n",
    "    dfN = pfc_300.loc[pfc_300['neuron']==neuron_]\n",
    "    ## column of times centered to stim onset\n",
    "    dfN['times_centered'] = dfN['times'] - dfN['fixationtime']\n",
    "\n",
    "    #cross-decoding for 1 neuron\n",
    "    ### empty matrix to append the cross temporal decoding\n",
    "    all_times = np.arange(-500,2100, 100)\n",
    "    train_test = np.empty( (len(all_times), len(all_times) ) )\n",
    "    train_test[:] = np.nan\n",
    "\n",
    "    ### times I am interested in (no need to get more times)\n",
    "    dfN = dfN.loc[(dfN['times_centered']>=-500) & (dfN['times_centered']<=2000) ]\n",
    "    list_times = dfn.times_centered.unique()\n",
    "    list_times_sorted =np.sort(list_times)\n",
    "    list_times_sorted\n",
    "\n",
    "    for training_time in list_times_sorted:\n",
    "        #print(training_time)\n",
    "        dfn_train = dfN.loc[(dfN['times_centered']==training_time), ['firing', 'target_angle']]         \n",
    "        dfn_train = dfn_train.loc[dfn_train.iloc[:,0]<9999] ###Take off nans\n",
    "        paralel_train = [dfn_train for i in range(len(list_times_sorted))]\n",
    "\n",
    "        paralel_test = []\n",
    "        for times_testing in list_times_sorted:\n",
    "            dfn_test =dfN.loc[(dfN['times_centered']==times_testing), ['firing', 'target_angle']]\n",
    "            dfn_test = dfn_test.loc[dfn_test.iloc[:,0]<9999] ###Take off nans\n",
    "            paralel_test.append(dfn_test)\n",
    "\n",
    "        cross_temp = Parallel(n_jobs = numcores)(delayed(decoder)(training, testing)  for training, testing in zip(paralel_train, paralel_test) )   #### reconstruction standard (paralel)\n",
    "\n",
    "        idx_append_row = np.where(training_time == all_times )[0][0]\n",
    "        idx_append_col1 = np.where(list_times_sorted[0] == all_times)[0][0]\n",
    "        idx_append_col2 = np.where(list_times_sorted[-1] == all_times)[0][0]\n",
    "        train_test[idx_append_row, idx_append_col1:idx_append_col2+1] = cross_temp\n",
    "    ##\n",
    "    heatmaps_pfc_300.append(train_test)"
   ]
  },
  {
   "cell_type": "code",
   "execution_count": 187,
   "metadata": {},
   "outputs": [
    {
     "data": {
      "image/png": "[encoded data removed]",
      "text/plain": [
       "<Figure size 432x288 with 2 Axes>"
      ]
     },
     "metadata": {
      "needs_background": "light"
     },
     "output_type": "display_data"
    }
   ],
   "source": [
    "H = [pd.DataFrame(heatmaps_pfc_300[x]) for x in range(len(heatmaps_pfc_300))]\n",
    "H_mean = pd.concat(H).groupby(level=0).mean()\n",
    "heatmap(H_mean, 'DLPFC: TDOA=' +str(300)+'ms', dist_time=200)"
   ]
  },
  {
   "cell_type": "code",
   "execution_count": null,
   "metadata": {},
   "outputs": [],
   "source": []
  },
  {
   "cell_type": "code",
   "execution_count": null,
   "metadata": {},
   "outputs": [],
   "source": []
  },
  {
   "cell_type": "code",
   "execution_count": 188,
   "metadata": {},
   "outputs": [
    {
     "name": "stdout",
     "output_type": "stream",
     "text": [
      "0 1367701\n"
     ]
    },
    {
     "name": "stderr",
     "output_type": "stream",
     "text": [
      "C:\\Users\\David\\Anaconda3\\envs\\python3\\lib\\site-packages\\ipykernel_launcher.py:8: SettingWithCopyWarning: \n",
      "A value is trying to be set on a copy of a slice from a DataFrame.\n",
      "Try using .loc[row_indexer,col_indexer] = value instead\n",
      "\n",
      "See the caveats in the documentation: http://pandas.pydata.org/pandas-docs/stable/user_guide/indexing.html#returning-a-view-versus-a-copy\n",
      "  \n"
     ]
    },
    {
     "name": "stdout",
     "output_type": "stream",
     "text": [
      "1 1367802\n",
      "2 1367903\n",
      "3 1369702\n",
      "4 1369901\n",
      "5 1370002\n",
      "6 1370202\n",
      "7 1371202\n",
      "8 1371901\n",
      "9 1372003\n",
      "10 1372301\n",
      "11 1372402\n",
      "12 189168701\n",
      "13 189169502\n",
      "14 189171003\n",
      "15 189171602\n",
      "16 189172801\n",
      "17 189173101\n",
      "18 189173801\n",
      "19 189174201\n",
      "20 189175201\n",
      "21 189175801\n",
      "22 189176101\n",
      "23 189176501\n",
      "24 189176901\n",
      "25 189177402\n",
      "26 189177701\n",
      "27 1891783\n",
      "28 189179001\n",
      "29 189179002\n",
      "30 1891793\n",
      "31 189179702\n",
      "32 189180001\n",
      "33 189181001\n",
      "34 189181502\n",
      "35 1891819\n",
      "36 189182202\n",
      "37 189182501\n",
      "38 189182901\n",
      "39 189183201\n",
      "40 189183402\n",
      "41 1891841\n",
      "42 189184601\n",
      "43 1891857\n",
      "44 189186201\n",
      "45 189187301\n",
      "46 189188901\n",
      "47 189189601\n",
      "48 189191601\n",
      "49 189191602\n",
      "50 1891918\n",
      "51 189192001\n",
      "52 189192201\n",
      "53 189192401\n",
      "54 1891935\n",
      "55 189194301\n",
      "56 189195301\n",
      "57 189196301\n",
      "58 189196401\n",
      "59 189209101\n",
      "60 189209503\n",
      "61 189210001\n",
      "62 189210901\n"
     ]
    }
   ],
   "source": [
    "heatmaps_pfc_900=[]\n",
    "\n",
    "for n_neuron,neuron_ in enumerate(pfc_900.neuron.unique()):\n",
    "    print(n_neuron, neuron_)\n",
    "    ## get the neuron\n",
    "    dfN = pfc_900.loc[pfc_900['neuron']==neuron_]\n",
    "    ## column of times centered to stim onset\n",
    "    dfN['times_centered'] = dfN['times'] - dfN['fixationtime']\n",
    "\n",
    "    #cross-decoding for 1 neuron\n",
    "    ### empty matrix to append the cross temporal decoding\n",
    "    all_times = np.arange(-500,2100, 100)\n",
    "    train_test = np.empty( (len(all_times), len(all_times) ) )\n",
    "    train_test[:] = np.nan\n",
    "\n",
    "    ### times I am interested in (no need to get more times)\n",
    "    dfN = dfN.loc[(dfN['times_centered']>=-500) & (dfN['times_centered']<=2000) ]\n",
    "    list_times = dfn.times_centered.unique()\n",
    "    list_times_sorted =np.sort(list_times)\n",
    "    list_times_sorted\n",
    "\n",
    "    for training_time in list_times_sorted:\n",
    "        #print(training_time)\n",
    "        dfn_train = dfN.loc[(dfN['times_centered']==training_time), ['firing', 'target_angle']]         \n",
    "        dfn_train = dfn_train.loc[dfn_train.iloc[:,0]<9999] ###Take off nans\n",
    "        paralel_train = [dfn_train for i in range(len(list_times_sorted))]\n",
    "\n",
    "        paralel_test = []\n",
    "        for times_testing in list_times_sorted:\n",
    "            dfn_test =dfN.loc[(dfN['times_centered']==times_testing), ['firing', 'target_angle']]\n",
    "            dfn_test = dfn_test.loc[dfn_test.iloc[:,0]<9999] ###Take off nans\n",
    "            paralel_test.append(dfn_test)\n",
    "\n",
    "        cross_temp = Parallel(n_jobs = numcores)(delayed(decoder)(training, testing)  for training, testing in zip(paralel_train, paralel_test) )   #### reconstruction standard (paralel)\n",
    "\n",
    "        idx_append_row = np.where(training_time == all_times )[0][0]\n",
    "        idx_append_col1 = np.where(list_times_sorted[0] == all_times)[0][0]\n",
    "        idx_append_col2 = np.where(list_times_sorted[-1] == all_times)[0][0]\n",
    "        train_test[idx_append_row, idx_append_col1:idx_append_col2+1] = cross_temp\n",
    "    ##\n",
    "    heatmaps_pfc_900.append(train_test)"
   ]
  },
  {
   "cell_type": "code",
   "execution_count": 189,
   "metadata": {},
   "outputs": [
    {
     "data": {
      "image/png": "[encoded data removed]",
      "text/plain": [
       "<Figure size 432x288 with 2 Axes>"
      ]
     },
     "metadata": {
      "needs_background": "light"
     },
     "output_type": "display_data"
    }
   ],
   "source": [
    "H = [pd.DataFrame(heatmaps_pfc_900[x]) for x in range(len(heatmaps_pfc_900))]\n",
    "H_mean = pd.concat(H).groupby(level=0).mean()\n",
    "heatmap(H_mean, 'DLPFC: TDOA=' +str(900)+'ms', dist_time=800)"
   ]
  },
  {
   "cell_type": "code",
   "execution_count": null,
   "metadata": {},
   "outputs": [],
   "source": []
  },
  {
   "cell_type": "code",
   "execution_count": null,
   "metadata": {},
   "outputs": [],
   "source": []
  },
  {
   "cell_type": "code",
   "execution_count": null,
   "metadata": {},
   "outputs": [],
   "source": []
  },
  {
   "cell_type": "code",
   "execution_count": null,
   "metadata": {},
   "outputs": [],
   "source": []
  },
  {
   "cell_type": "code",
   "execution_count": 190,
   "metadata": {},
   "outputs": [
    {
     "data": {
      "text/plain": [
       "44"
      ]
     },
     "execution_count": 190,
     "metadata": {},
     "output_type": "execute_result"
    }
   ],
   "source": [
    "len(lip_100.neuron.unique()) ##number of neurons"
   ]
  },
  {
   "cell_type": "code",
   "execution_count": 192,
   "metadata": {},
   "outputs": [
    {
     "name": "stdout",
     "output_type": "stream",
     "text": [
      "0 1364705\n"
     ]
    },
    {
     "name": "stderr",
     "output_type": "stream",
     "text": [
      "C:\\Users\\David\\Anaconda3\\envs\\python3\\lib\\site-packages\\ipykernel_launcher.py:8: SettingWithCopyWarning: \n",
      "A value is trying to be set on a copy of a slice from a DataFrame.\n",
      "Try using .loc[row_indexer,col_indexer] = value instead\n",
      "\n",
      "See the caveats in the documentation: http://pandas.pydata.org/pandas-docs/stable/user_guide/indexing.html#returning-a-view-versus-a-copy\n",
      "  \n"
     ]
    },
    {
     "name": "stdout",
     "output_type": "stream",
     "text": [
      "1 1365201\n",
      "2 1365301\n",
      "3 1365501\n",
      "4 1365701\n",
      "5 1365802\n",
      "6 1365902\n",
      "7 1366002\n",
      "8 1366101\n",
      "9 189139306\n",
      "10 1891406\n",
      "11 1891407\n",
      "12 189141804\n",
      "13 1891421\n",
      "14 1891436\n",
      "15 189144701\n",
      "16 189144904\n",
      "17 189147105\n",
      "18 189150602\n",
      "19 189151102\n",
      "20 189152601\n",
      "21 189154404\n",
      "22 189154602\n",
      "23 189155501\n",
      "24 189156205\n",
      "25 189157901\n",
      "26 189158601\n",
      "27 1891598\n",
      "28 189160302\n",
      "29 189160702\n",
      "30 189161604\n",
      "31 1891626\n",
      "32 189163101\n",
      "33 189163701\n",
      "34 189164103\n",
      "35 189164404\n",
      "36 189164801\n",
      "37 189164803\n",
      "38 189165003\n",
      "39 1891653\n",
      "40 1892063\n",
      "41 189207101\n",
      "42 189207501\n",
      "43 189208001\n"
     ]
    }
   ],
   "source": [
    "heatmaps_lip_100=[]\n",
    "\n",
    "for n_neuron,neuron_ in enumerate(lip_100.neuron.unique()):\n",
    "    print(n_neuron, neuron_)\n",
    "    ## get the neuron\n",
    "    dfN = lip_100.loc[lip_100['neuron']==neuron_]\n",
    "    ## column of times centered to stim onset\n",
    "    dfN['times_centered'] = dfN['times'] - dfN['fixationtime']\n",
    "\n",
    "    #cross-decoding for 1 neuron\n",
    "    ### empty matrix to append the cross temporal decoding\n",
    "    all_times = np.arange(-500,2100, 100)\n",
    "    train_test = np.empty( (len(all_times), len(all_times) ) )\n",
    "    train_test[:] = np.nan\n",
    "\n",
    "    ### times I am interested in (no need to get more times)\n",
    "    dfN = dfN.loc[(dfN['times_centered']>=-500) & (dfN['times_centered']<=2000) ]\n",
    "    list_times = dfn.times_centered.unique()\n",
    "    list_times_sorted =np.sort(list_times)\n",
    "    list_times_sorted\n",
    "\n",
    "    for training_time in list_times_sorted:\n",
    "        #print(training_time)\n",
    "        dfn_train = dfN.loc[(dfN['times_centered']==training_time), ['firing', 'target_angle']]         \n",
    "        dfn_train = dfn_train.loc[dfn_train.iloc[:,0]<9999] ###Take off nans\n",
    "        paralel_train = [dfn_train for i in range(len(list_times_sorted))]\n",
    "\n",
    "        paralel_test = []\n",
    "        for times_testing in list_times_sorted:\n",
    "            dfn_test =dfN.loc[(dfN['times_centered']==times_testing), ['firing', 'target_angle']]\n",
    "            dfn_test = dfn_test.loc[dfn_test.iloc[:,0]<9999] ###Take off nans\n",
    "            paralel_test.append(dfn_test)\n",
    "\n",
    "        cross_temp = Parallel(n_jobs = numcores)(delayed(decoder)(training, testing)  for training, testing in zip(paralel_train, paralel_test) )   #### reconstruction standard (paralel)\n",
    "\n",
    "        idx_append_row = np.where(training_time == all_times )[0][0]\n",
    "        idx_append_col1 = np.where(list_times_sorted[0] == all_times)[0][0]\n",
    "        idx_append_col2 = np.where(list_times_sorted[-1] == all_times)[0][0]\n",
    "        train_test[idx_append_row, idx_append_col1:idx_append_col2+1] = cross_temp\n",
    "    ##\n",
    "    heatmaps_lip_100.append(train_test)"
   ]
  },
  {
   "cell_type": "code",
   "execution_count": 193,
   "metadata": {},
   "outputs": [
    {
     "data": {
      "image/png": "[encoded data removed]",
      "text/plain": [
       "<Figure size 432x288 with 2 Axes>"
      ]
     },
     "metadata": {
      "needs_background": "light"
     },
     "output_type": "display_data"
    }
   ],
   "source": [
    "H = [pd.DataFrame(heatmaps_lip_100[x]) for x in range(len(heatmaps_lip_100))]\n",
    "H_mean = pd.concat(H).groupby(level=0).mean()\n",
    "heatmap(H_mean, 'LIP: TDOA=' +str(100)+'ms', dist_time=0)"
   ]
  },
  {
   "cell_type": "code",
   "execution_count": null,
   "metadata": {},
   "outputs": [],
   "source": []
  },
  {
   "cell_type": "code",
   "execution_count": 191,
   "metadata": {},
   "outputs": [
    {
     "name": "stdout",
     "output_type": "stream",
     "text": [
      "0 1364705\n"
     ]
    },
    {
     "name": "stderr",
     "output_type": "stream",
     "text": [
      "C:\\Users\\David\\Anaconda3\\envs\\python3\\lib\\site-packages\\ipykernel_launcher.py:8: SettingWithCopyWarning: \n",
      "A value is trying to be set on a copy of a slice from a DataFrame.\n",
      "Try using .loc[row_indexer,col_indexer] = value instead\n",
      "\n",
      "See the caveats in the documentation: http://pandas.pydata.org/pandas-docs/stable/user_guide/indexing.html#returning-a-view-versus-a-copy\n",
      "  \n"
     ]
    },
    {
     "name": "stdout",
     "output_type": "stream",
     "text": [
      "1 1365201\n",
      "2 1365301\n",
      "3 1365501\n",
      "4 1365701\n",
      "5 1365802\n",
      "6 1365902\n",
      "7 1366002\n",
      "8 1366101\n",
      "9 189139306\n",
      "10 1891406\n",
      "11 1891407\n",
      "12 189141804\n",
      "13 1891421\n",
      "14 1891436\n",
      "15 189144701\n",
      "16 189144904\n",
      "17 189147105\n",
      "18 189150602\n",
      "19 189151102\n",
      "20 189152601\n",
      "21 189154404\n",
      "22 189154602\n",
      "23 189155501\n",
      "24 189156205\n",
      "25 189157901\n",
      "26 189158601\n",
      "27 1891598\n",
      "28 189160302\n",
      "29 189160702\n",
      "30 189161604\n",
      "31 1891626\n",
      "32 189163101\n",
      "33 189163701\n",
      "34 189164103\n",
      "35 189164404\n",
      "36 189164801\n",
      "37 189164803\n",
      "38 189165003\n",
      "39 1891653\n",
      "40 1892063\n",
      "41 189207101\n",
      "42 189207501\n",
      "43 189208001\n"
     ]
    }
   ],
   "source": [
    "heatmaps_lip_200=[]\n",
    "\n",
    "for n_neuron,neuron_ in enumerate(lip_200.neuron.unique()):\n",
    "    print(n_neuron, neuron_)\n",
    "    ## get the neuron\n",
    "    dfN = lip_200.loc[lip_200['neuron']==neuron_]\n",
    "    ## column of times centered to stim onset\n",
    "    dfN['times_centered'] = dfN['times'] - dfN['fixationtime']\n",
    "\n",
    "    #cross-decoding for 1 neuron\n",
    "    ### empty matrix to append the cross temporal decoding\n",
    "    all_times = np.arange(-500,2100, 100)\n",
    "    train_test = np.empty( (len(all_times), len(all_times) ) )\n",
    "    train_test[:] = np.nan\n",
    "\n",
    "    ### times I am interested in (no need to get more times)\n",
    "    dfN = dfN.loc[(dfN['times_centered']>=-500) & (dfN['times_centered']<=2000) ]\n",
    "    list_times = dfn.times_centered.unique()\n",
    "    list_times_sorted =np.sort(list_times)\n",
    "    list_times_sorted\n",
    "\n",
    "    for training_time in list_times_sorted:\n",
    "        #print(training_time)\n",
    "        dfn_train = dfN.loc[(dfN['times_centered']==training_time), ['firing', 'target_angle']]         \n",
    "        dfn_train = dfn_train.loc[dfn_train.iloc[:,0]<9999] ###Take off nans\n",
    "        paralel_train = [dfn_train for i in range(len(list_times_sorted))]\n",
    "\n",
    "        paralel_test = []\n",
    "        for times_testing in list_times_sorted:\n",
    "            dfn_test =dfN.loc[(dfN['times_centered']==times_testing), ['firing', 'target_angle']]\n",
    "            dfn_test = dfn_test.loc[dfn_test.iloc[:,0]<9999] ###Take off nans\n",
    "            paralel_test.append(dfn_test)\n",
    "\n",
    "        cross_temp = Parallel(n_jobs = numcores)(delayed(decoder)(training, testing)  for training, testing in zip(paralel_train, paralel_test) )   #### reconstruction standard (paralel)\n",
    "\n",
    "        idx_append_row = np.where(training_time == all_times )[0][0]\n",
    "        idx_append_col1 = np.where(list_times_sorted[0] == all_times)[0][0]\n",
    "        idx_append_col2 = np.where(list_times_sorted[-1] == all_times)[0][0]\n",
    "        train_test[idx_append_row, idx_append_col1:idx_append_col2+1] = cross_temp\n",
    "    ##\n",
    "    heatmaps_lip_200.append(train_test)"
   ]
  },
  {
   "cell_type": "code",
   "execution_count": 194,
   "metadata": {},
   "outputs": [
    {
     "data": {
      "image/png": "[encoded data removed]",
      "text/plain": [
       "<Figure size 432x288 with 2 Axes>"
      ]
     },
     "metadata": {
      "needs_background": "light"
     },
     "output_type": "display_data"
    }
   ],
   "source": [
    "H = [pd.DataFrame(heatmaps_lip_200[x]) for x in range(len(heatmaps_lip_200))]\n",
    "H_mean = pd.concat(H).groupby(level=0).mean()\n",
    "heatmap(H_mean, 'LIP: TDOA=' +str(200)+'ms', dist_time=100)"
   ]
  },
  {
   "cell_type": "code",
   "execution_count": null,
   "metadata": {},
   "outputs": [],
   "source": []
  },
  {
   "cell_type": "code",
   "execution_count": 196,
   "metadata": {},
   "outputs": [
    {
     "name": "stdout",
     "output_type": "stream",
     "text": [
      "0 1364705\n"
     ]
    },
    {
     "name": "stderr",
     "output_type": "stream",
     "text": [
      "C:\\Users\\David\\Anaconda3\\envs\\python3\\lib\\site-packages\\ipykernel_launcher.py:8: SettingWithCopyWarning: \n",
      "A value is trying to be set on a copy of a slice from a DataFrame.\n",
      "Try using .loc[row_indexer,col_indexer] = value instead\n",
      "\n",
      "See the caveats in the documentation: http://pandas.pydata.org/pandas-docs/stable/user_guide/indexing.html#returning-a-view-versus-a-copy\n",
      "  \n"
     ]
    },
    {
     "name": "stdout",
     "output_type": "stream",
     "text": [
      "1 1365201\n",
      "2 1365301\n",
      "3 1365501\n",
      "4 1365701\n",
      "5 1365802\n",
      "6 1365902\n",
      "7 1366002\n",
      "8 1366101\n",
      "9 189139306\n",
      "10 1891406\n",
      "11 1891407\n",
      "12 189141804\n",
      "13 1891421\n",
      "14 1891436\n",
      "15 189144701\n",
      "16 189144904\n",
      "17 189147105\n",
      "18 189150602\n",
      "19 189151102\n",
      "20 189152601\n",
      "21 189154404\n",
      "22 189154602\n",
      "23 189155501\n",
      "24 189156205\n",
      "25 189157901\n",
      "26 189158601\n",
      "27 1891598\n",
      "28 189160302\n",
      "29 189160702\n",
      "30 189161604\n",
      "31 1891626\n",
      "32 189163101\n",
      "33 189163701\n",
      "34 189164103\n",
      "35 189164404\n",
      "36 189164801\n",
      "37 189164803\n",
      "38 189165003\n",
      "39 1891653\n",
      "40 1892063\n",
      "41 189207101\n",
      "42 189207501\n",
      "43 189208001\n"
     ]
    }
   ],
   "source": [
    "heatmaps_lip_300=[]\n",
    "\n",
    "for n_neuron,neuron_ in enumerate(lip_300.neuron.unique()):\n",
    "    print(n_neuron, neuron_)\n",
    "    ## get the neuron\n",
    "    dfN = lip_300.loc[lip_300['neuron']==neuron_]\n",
    "    ## column of times centered to stim onset\n",
    "    dfN['times_centered'] = dfN['times'] - dfN['fixationtime']\n",
    "\n",
    "    #cross-decoding for 1 neuron\n",
    "    ### empty matrix to append the cross temporal decoding\n",
    "    all_times = np.arange(-500,2100, 100)\n",
    "    train_test = np.empty( (len(all_times), len(all_times) ) )\n",
    "    train_test[:] = np.nan\n",
    "\n",
    "    ### times I am interested in (no need to get more times)\n",
    "    dfN = dfN.loc[(dfN['times_centered']>=-500) & (dfN['times_centered']<=2000) ]\n",
    "    list_times = dfn.times_centered.unique()\n",
    "    list_times_sorted =np.sort(list_times)\n",
    "    list_times_sorted\n",
    "\n",
    "    for training_time in list_times_sorted:\n",
    "        #print(training_time)\n",
    "        dfn_train = dfN.loc[(dfN['times_centered']==training_time), ['firing', 'target_angle']]         \n",
    "        dfn_train = dfn_train.loc[dfn_train.iloc[:,0]<9999] ###Take off nans\n",
    "        paralel_train = [dfn_train for i in range(len(list_times_sorted))]\n",
    "\n",
    "        paralel_test = []\n",
    "        for times_testing in list_times_sorted:\n",
    "            dfn_test =dfN.loc[(dfN['times_centered']==times_testing), ['firing', 'target_angle']]\n",
    "            dfn_test = dfn_test.loc[dfn_test.iloc[:,0]<9999] ###Take off nans\n",
    "            paralel_test.append(dfn_test)\n",
    "\n",
    "        cross_temp = Parallel(n_jobs = numcores)(delayed(decoder)(training, testing)  for training, testing in zip(paralel_train, paralel_test) )   #### reconstruction standard (paralel)\n",
    "\n",
    "        idx_append_row = np.where(training_time == all_times )[0][0]\n",
    "        idx_append_col1 = np.where(list_times_sorted[0] == all_times)[0][0]\n",
    "        idx_append_col2 = np.where(list_times_sorted[-1] == all_times)[0][0]\n",
    "        train_test[idx_append_row, idx_append_col1:idx_append_col2+1] = cross_temp\n",
    "    ##\n",
    "    heatmaps_lip_300.append(train_test)"
   ]
  },
  {
   "cell_type": "code",
   "execution_count": 197,
   "metadata": {},
   "outputs": [
    {
     "data": {
      "image/png": "[encoded data removed]",
      "text/plain": [
       "<Figure size 432x288 with 2 Axes>"
      ]
     },
     "metadata": {
      "needs_background": "light"
     },
     "output_type": "display_data"
    }
   ],
   "source": [
    "H = [pd.DataFrame(heatmaps_lip_300[x]) for x in range(len(heatmaps_lip_300))]\n",
    "H_mean = pd.concat(H).groupby(level=0).mean()\n",
    "heatmap(H_mean, 'LIP: TDOA=' +str(300)+'ms', dist_time=200)"
   ]
  },
  {
   "cell_type": "code",
   "execution_count": null,
   "metadata": {},
   "outputs": [],
   "source": []
  },
  {
   "cell_type": "code",
   "execution_count": null,
   "metadata": {},
   "outputs": [],
   "source": []
  },
  {
   "cell_type": "code",
   "execution_count": 198,
   "metadata": {},
   "outputs": [
    {
     "name": "stdout",
     "output_type": "stream",
     "text": [
      "0 1364705\n"
     ]
    },
    {
     "name": "stderr",
     "output_type": "stream",
     "text": [
      "C:\\Users\\David\\Anaconda3\\envs\\python3\\lib\\site-packages\\ipykernel_launcher.py:8: SettingWithCopyWarning: \n",
      "A value is trying to be set on a copy of a slice from a DataFrame.\n",
      "Try using .loc[row_indexer,col_indexer] = value instead\n",
      "\n",
      "See the caveats in the documentation: http://pandas.pydata.org/pandas-docs/stable/user_guide/indexing.html#returning-a-view-versus-a-copy\n",
      "  \n"
     ]
    },
    {
     "name": "stdout",
     "output_type": "stream",
     "text": [
      "1 1365201\n",
      "2 1365301\n",
      "3 1365501\n",
      "4 1365701\n",
      "5 1365802\n",
      "6 1365902\n",
      "7 1366002\n",
      "8 1366101\n",
      "9 189139306\n",
      "10 1891406\n",
      "11 1891407\n",
      "12 189141804\n",
      "13 1891421\n",
      "14 1891436\n",
      "15 189144701\n",
      "16 189144904\n",
      "17 189147105\n",
      "18 189150602\n",
      "19 189151102\n",
      "20 189152601\n",
      "21 189154404\n",
      "22 189154602\n",
      "23 189155501\n",
      "24 189156205\n",
      "25 189157901\n",
      "26 189158601\n",
      "27 1891598\n",
      "28 189160302\n",
      "29 189160702\n",
      "30 189161604\n",
      "31 1891626\n",
      "32 189163101\n",
      "33 189163701\n",
      "34 189164103\n",
      "35 189164404\n",
      "36 189164801\n",
      "37 189164803\n",
      "38 189165003\n",
      "39 1891653\n",
      "40 1892063\n",
      "41 189207101\n",
      "42 189207501\n",
      "43 189208001\n"
     ]
    }
   ],
   "source": [
    "heatmaps_lip_900=[]\n",
    "\n",
    "for n_neuron,neuron_ in enumerate(lip_900.neuron.unique()):\n",
    "    print(n_neuron, neuron_)\n",
    "    ## get the neuron\n",
    "    dfN = lip_900.loc[lip_900['neuron']==neuron_]\n",
    "    ## column of times centered to stim onset\n",
    "    dfN['times_centered'] = dfN['times'] - dfN['fixationtime']\n",
    "\n",
    "    #cross-decoding for 1 neuron\n",
    "    ### empty matrix to append the cross temporal decoding\n",
    "    all_times = np.arange(-500,2100, 100)\n",
    "    train_test = np.empty( (len(all_times), len(all_times) ) )\n",
    "    train_test[:] = np.nan\n",
    "\n",
    "    ### times I am interested in (no need to get more times)\n",
    "    dfN = dfN.loc[(dfN['times_centered']>=-500) & (dfN['times_centered']<=2000) ]\n",
    "    list_times = dfn.times_centered.unique()\n",
    "    list_times_sorted =np.sort(list_times)\n",
    "    list_times_sorted\n",
    "\n",
    "    for training_time in list_times_sorted:\n",
    "        #print(training_time)\n",
    "        dfn_train = dfN.loc[(dfN['times_centered']==training_time), ['firing', 'target_angle']]         \n",
    "        dfn_train = dfn_train.loc[dfn_train.iloc[:,0]<9999] ###Take off nans\n",
    "        paralel_train = [dfn_train for i in range(len(list_times_sorted))]\n",
    "\n",
    "        paralel_test = []\n",
    "        for times_testing in list_times_sorted:\n",
    "            dfn_test =dfN.loc[(dfN['times_centered']==times_testing), ['firing', 'target_angle']]\n",
    "            dfn_test = dfn_test.loc[dfn_test.iloc[:,0]<9999] ###Take off nans\n",
    "            paralel_test.append(dfn_test)\n",
    "\n",
    "        cross_temp = Parallel(n_jobs = numcores)(delayed(decoder)(training, testing)  for training, testing in zip(paralel_train, paralel_test) )   #### reconstruction standard (paralel)\n",
    "\n",
    "        idx_append_row = np.where(training_time == all_times )[0][0]\n",
    "        idx_append_col1 = np.where(list_times_sorted[0] == all_times)[0][0]\n",
    "        idx_append_col2 = np.where(list_times_sorted[-1] == all_times)[0][0]\n",
    "        train_test[idx_append_row, idx_append_col1:idx_append_col2+1] = cross_temp\n",
    "    ##\n",
    "    heatmaps_lip_900.append(train_test)"
   ]
  },
  {
   "cell_type": "code",
   "execution_count": 199,
   "metadata": {},
   "outputs": [
    {
     "data": {
      "image/png": "[encoded data removed]",
      "text/plain": [
       "<Figure size 432x288 with 2 Axes>"
      ]
     },
     "metadata": {
      "needs_background": "light"
     },
     "output_type": "display_data"
    }
   ],
   "source": [
    "H = [pd.DataFrame(heatmaps_lip_900[x]) for x in range(len(heatmaps_lip_900))]\n",
    "H_mean = pd.concat(H).groupby(level=0).mean()\n",
    "heatmap(H_mean, 'LIP: TDOA=' +str(900)+'ms', dist_time=800)"
   ]
  },
  {
   "cell_type": "code",
   "execution_count": null,
   "metadata": {},
   "outputs": [],
   "source": []
  },
  {
   "cell_type": "code",
   "execution_count": null,
   "metadata": {},
   "outputs": [],
   "source": []
  },
  {
   "cell_type": "code",
   "execution_count": null,
   "metadata": {},
   "outputs": [],
   "source": []
  },
  {
   "cell_type": "code",
   "execution_count": null,
   "metadata": {},
   "outputs": [],
   "source": []
  },
  {
   "cell_type": "code",
   "execution_count": null,
   "metadata": {},
   "outputs": [],
   "source": [
    "### Subpopulation analysis"
   ]
  },
  {
   "cell_type": "code",
   "execution_count": 204,
   "metadata": {},
   "outputs": [
    {
     "data": {
      "text/plain": [
       "63"
      ]
     },
     "execution_count": 204,
     "metadata": {},
     "output_type": "execute_result"
    }
   ],
   "source": [
    "len(heatmaps_pfc_900)"
   ]
  },
  {
   "cell_type": "code",
   "execution_count": 244,
   "metadata": {},
   "outputs": [
    {
     "data": {
      "image/png": "[encoded data removed]",
      "text/plain": [
       "<Figure size 432x288 with 1 Axes>"
      ]
     },
     "metadata": {
      "needs_background": "light"
     },
     "output_type": "display_data"
    }
   ],
   "source": [
    "apps=[]\n",
    "for i in range(5):\n",
    "    n1 = heatmaps_pfc_900[i]\n",
    "    plt.plot(n1[16, 8:21])\n",
    "    apps.append(n1[16, 8:21])"
   ]
  },
  {
   "cell_type": "code",
   "execution_count": 243,
   "metadata": {},
   "outputs": [
    {
     "data": {
      "text/plain": [
       "([<matplotlib.axis.XTick at 0x179c49aa9e8>,\n",
       "  <matplotlib.axis.XTick at 0x179b8dc6908>,\n",
       "  <matplotlib.axis.XTick at 0x179b8dc6978>],\n",
       " <a list of 3 Text xticklabel objects>)"
      ]
     },
     "execution_count": 243,
     "metadata": {},
     "output_type": "execute_result"
    },
    {
     "data": {
      "image/png": "[encoded data removed]",
      "text/plain": [
       "<Figure size 432x288 with 1 Axes>"
      ]
     },
     "metadata": {
      "needs_background": "light"
     },
     "output_type": "display_data"
    }
   ],
   "source": [
    "plt.plot(np.arange(300,1600, 100), np.mean(apps, axis=0))\n",
    "plt.xticks(np.arange(300,1600, 500))"
   ]
  },
  {
   "cell_type": "code",
   "execution_count": null,
   "metadata": {},
   "outputs": [],
   "source": []
  },
  {
   "cell_type": "code",
   "execution_count": null,
   "metadata": {},
   "outputs": [],
   "source": []
  },
  {
   "cell_type": "code",
   "execution_count": null,
   "metadata": {},
   "outputs": [],
   "source": []
  },
  {
   "cell_type": "code",
   "execution_count": null,
   "metadata": {},
   "outputs": [],
   "source": []
  },
  {
   "cell_type": "code",
   "execution_count": null,
   "metadata": {},
   "outputs": [],
   "source": []
  },
  {
   "cell_type": "code",
   "execution_count": 229,
   "metadata": {},
   "outputs": [
    {
     "data": {
      "text/plain": [
       "([<matplotlib.axis.XTick at 0x179c1f79390>,\n",
       "  <matplotlib.axis.XTick at 0x179c1f67be0>,\n",
       "  <matplotlib.axis.XTick at 0x179c1f67978>,\n",
       "  <matplotlib.axis.XTick at 0x179c1f77c50>,\n",
       "  <matplotlib.axis.XTick at 0x179c1f50208>,\n",
       "  <matplotlib.axis.XTick at 0x179c1f506a0>],\n",
       " <a list of 6 Text xticklabel objects>)"
      ]
     },
     "execution_count": 229,
     "metadata": {},
     "output_type": "execute_result"
    },
    {
     "data": {
      "image/png": "[encoded data removed]",
      "text/plain": [
       "<Figure size 432x288 with 1 Axes>"
      ]
     },
     "metadata": {
      "needs_background": "light"
     },
     "output_type": "display_data"
    }
   ],
   "source": [
    "plt.plot(np.arange(-500,2100, 100), np.mean(apps, axis=0))\n",
    "plt.xticks(np.arange(-500,2100, 500))"
   ]
  },
  {
   "cell_type": "code",
   "execution_count": null,
   "metadata": {},
   "outputs": [],
   "source": []
  },
  {
   "cell_type": "code",
   "execution_count": null,
   "metadata": {},
   "outputs": [],
   "source": []
  },
  {
   "cell_type": "code",
   "execution_count": null,
   "metadata": {},
   "outputs": [],
   "source": []
  },
  {
   "cell_type": "code",
   "execution_count": null,
   "metadata": {},
   "outputs": [],
   "source": []
  },
  {
   "cell_type": "code",
   "execution_count": 171,
   "metadata": {},
   "outputs": [
    {
     "data": {
      "text/html": [
       "<div>\n",
       "<style scoped>\n",
       "    .dataframe tbody tr th:only-of-type {\n",
       "        vertical-align: middle;\n",
       "    }\n",
       "\n",
       "    .dataframe tbody tr th {\n",
       "        vertical-align: top;\n",
       "    }\n",
       "\n",
       "    .dataframe thead th {\n",
       "        text-align: right;\n",
       "    }\n",
       "</style>\n",
       "<table border=\"1\" class=\"dataframe\">\n",
       "  <thead>\n",
       "    <tr style=\"text-align: right;\">\n",
       "      <th></th>\n",
       "      <th>firing</th>\n",
       "      <th>target_angle</th>\n",
       "    </tr>\n",
       "  </thead>\n",
       "  <tbody>\n",
       "    <tr>\n",
       "      <th>4772</th>\n",
       "      <td>5.500830e-02</td>\n",
       "      <td>225</td>\n",
       "    </tr>\n",
       "    <tr>\n",
       "      <th>4795</th>\n",
       "      <td>5.298962e-02</td>\n",
       "      <td>225</td>\n",
       "    </tr>\n",
       "    <tr>\n",
       "      <th>4814</th>\n",
       "      <td>2.080248e-04</td>\n",
       "      <td>45</td>\n",
       "    </tr>\n",
       "    <tr>\n",
       "      <th>4840</th>\n",
       "      <td>-1.208642e-18</td>\n",
       "      <td>360</td>\n",
       "    </tr>\n",
       "    <tr>\n",
       "      <th>4856</th>\n",
       "      <td>6.336929e-19</td>\n",
       "      <td>225</td>\n",
       "    </tr>\n",
       "    <tr>\n",
       "      <th>...</th>\n",
       "      <td>...</td>\n",
       "      <td>...</td>\n",
       "    </tr>\n",
       "    <tr>\n",
       "      <th>7168</th>\n",
       "      <td>5.024093e-02</td>\n",
       "      <td>270</td>\n",
       "    </tr>\n",
       "    <tr>\n",
       "      <th>7189</th>\n",
       "      <td>2.339006e-02</td>\n",
       "      <td>270</td>\n",
       "    </tr>\n",
       "    <tr>\n",
       "      <th>7210</th>\n",
       "      <td>1.496089e-02</td>\n",
       "      <td>180</td>\n",
       "    </tr>\n",
       "    <tr>\n",
       "      <th>7231</th>\n",
       "      <td>3.682093e-02</td>\n",
       "      <td>225</td>\n",
       "    </tr>\n",
       "    <tr>\n",
       "      <th>7252</th>\n",
       "      <td>1.003298e-02</td>\n",
       "      <td>360</td>\n",
       "    </tr>\n",
       "  </tbody>\n",
       "</table>\n",
       "<p>119 rows × 2 columns</p>\n",
       "</div>"
      ],
      "text/plain": [
       "            firing  target_angle\n",
       "4772  5.500830e-02           225\n",
       "4795  5.298962e-02           225\n",
       "4814  2.080248e-04            45\n",
       "4840 -1.208642e-18           360\n",
       "4856  6.336929e-19           225\n",
       "...            ...           ...\n",
       "7168  5.024093e-02           270\n",
       "7189  2.339006e-02           270\n",
       "7210  1.496089e-02           180\n",
       "7231  3.682093e-02           225\n",
       "7252  1.003298e-02           360\n",
       "\n",
       "[119 rows x 2 columns]"
      ]
     },
     "execution_count": 171,
     "metadata": {},
     "output_type": "execute_result"
    }
   ],
   "source": [
    "dfn_train"
   ]
  },
  {
   "cell_type": "code",
   "execution_count": 173,
   "metadata": {},
   "outputs": [
    {
     "data": {
      "text/html": [
       "<div>\n",
       "<style scoped>\n",
       "    .dataframe tbody tr th:only-of-type {\n",
       "        vertical-align: middle;\n",
       "    }\n",
       "\n",
       "    .dataframe tbody tr th {\n",
       "        vertical-align: top;\n",
       "    }\n",
       "\n",
       "    .dataframe thead th {\n",
       "        text-align: right;\n",
       "    }\n",
       "</style>\n",
       "<table border=\"1\" class=\"dataframe\">\n",
       "  <thead>\n",
       "    <tr style=\"text-align: right;\">\n",
       "      <th></th>\n",
       "      <th>firing</th>\n",
       "      <th>target_angle</th>\n",
       "    </tr>\n",
       "  </thead>\n",
       "  <tbody>\n",
       "    <tr>\n",
       "      <th>4787</th>\n",
       "      <td>2.728294e-02</td>\n",
       "      <td>225</td>\n",
       "    </tr>\n",
       "    <tr>\n",
       "      <th>4829</th>\n",
       "      <td>-3.203190e-18</td>\n",
       "      <td>45</td>\n",
       "    </tr>\n",
       "    <tr>\n",
       "      <th>4871</th>\n",
       "      <td>2.080248e-04</td>\n",
       "      <td>225</td>\n",
       "    </tr>\n",
       "    <tr>\n",
       "      <th>4892</th>\n",
       "      <td>3.332432e-18</td>\n",
       "      <td>270</td>\n",
       "    </tr>\n",
       "    <tr>\n",
       "      <th>5039</th>\n",
       "      <td>NaN</td>\n",
       "      <td>225</td>\n",
       "    </tr>\n",
       "    <tr>\n",
       "      <th>5123</th>\n",
       "      <td>1.077019e-20</td>\n",
       "      <td>270</td>\n",
       "    </tr>\n",
       "    <tr>\n",
       "      <th>5186</th>\n",
       "      <td>-6.073699e-19</td>\n",
       "      <td>225</td>\n",
       "    </tr>\n",
       "    <tr>\n",
       "      <th>5270</th>\n",
       "      <td>-9.860449e-19</td>\n",
       "      <td>90</td>\n",
       "    </tr>\n",
       "    <tr>\n",
       "      <th>5312</th>\n",
       "      <td>-5.226685e-19</td>\n",
       "      <td>90</td>\n",
       "    </tr>\n",
       "    <tr>\n",
       "      <th>5333</th>\n",
       "      <td>NaN</td>\n",
       "      <td>135</td>\n",
       "    </tr>\n",
       "    <tr>\n",
       "      <th>5438</th>\n",
       "      <td>8.332946e-03</td>\n",
       "      <td>180</td>\n",
       "    </tr>\n",
       "    <tr>\n",
       "      <th>5480</th>\n",
       "      <td>2.515888e-02</td>\n",
       "      <td>180</td>\n",
       "    </tr>\n",
       "    <tr>\n",
       "      <th>5543</th>\n",
       "      <td>-1.122364e-19</td>\n",
       "      <td>360</td>\n",
       "    </tr>\n",
       "    <tr>\n",
       "      <th>5585</th>\n",
       "      <td>1.840539e-18</td>\n",
       "      <td>270</td>\n",
       "    </tr>\n",
       "    <tr>\n",
       "      <th>5669</th>\n",
       "      <td>9.968223e-03</td>\n",
       "      <td>225</td>\n",
       "    </tr>\n",
       "    <tr>\n",
       "      <th>5690</th>\n",
       "      <td>-9.896290e-19</td>\n",
       "      <td>135</td>\n",
       "    </tr>\n",
       "    <tr>\n",
       "      <th>5774</th>\n",
       "      <td>3.140524e-18</td>\n",
       "      <td>225</td>\n",
       "    </tr>\n",
       "    <tr>\n",
       "      <th>5795</th>\n",
       "      <td>3.434188e-06</td>\n",
       "      <td>270</td>\n",
       "    </tr>\n",
       "    <tr>\n",
       "      <th>5858</th>\n",
       "      <td>-9.663789e-19</td>\n",
       "      <td>315</td>\n",
       "    </tr>\n",
       "    <tr>\n",
       "      <th>5879</th>\n",
       "      <td>2.108779e-18</td>\n",
       "      <td>270</td>\n",
       "    </tr>\n",
       "    <tr>\n",
       "      <th>5963</th>\n",
       "      <td>-7.043255e-20</td>\n",
       "      <td>360</td>\n",
       "    </tr>\n",
       "    <tr>\n",
       "      <th>5984</th>\n",
       "      <td>6.683348e-19</td>\n",
       "      <td>45</td>\n",
       "    </tr>\n",
       "    <tr>\n",
       "      <th>6110</th>\n",
       "      <td>NaN</td>\n",
       "      <td>270</td>\n",
       "    </tr>\n",
       "    <tr>\n",
       "      <th>6278</th>\n",
       "      <td>3.297984e-05</td>\n",
       "      <td>225</td>\n",
       "    </tr>\n",
       "    <tr>\n",
       "      <th>6341</th>\n",
       "      <td>NaN</td>\n",
       "      <td>180</td>\n",
       "    </tr>\n",
       "    <tr>\n",
       "      <th>6404</th>\n",
       "      <td>2.524540e-20</td>\n",
       "      <td>45</td>\n",
       "    </tr>\n",
       "    <tr>\n",
       "      <th>6425</th>\n",
       "      <td>-3.082472e-18</td>\n",
       "      <td>90</td>\n",
       "    </tr>\n",
       "    <tr>\n",
       "      <th>6446</th>\n",
       "      <td>-7.686612e-19</td>\n",
       "      <td>315</td>\n",
       "    </tr>\n",
       "    <tr>\n",
       "      <th>6488</th>\n",
       "      <td>9.911463e-09</td>\n",
       "      <td>225</td>\n",
       "    </tr>\n",
       "    <tr>\n",
       "      <th>6551</th>\n",
       "      <td>7.107337e-19</td>\n",
       "      <td>360</td>\n",
       "    </tr>\n",
       "    <tr>\n",
       "      <th>6635</th>\n",
       "      <td>NaN</td>\n",
       "      <td>225</td>\n",
       "    </tr>\n",
       "    <tr>\n",
       "      <th>6656</th>\n",
       "      <td>NaN</td>\n",
       "      <td>270</td>\n",
       "    </tr>\n",
       "    <tr>\n",
       "      <th>6761</th>\n",
       "      <td>2.484112e-03</td>\n",
       "      <td>225</td>\n",
       "    </tr>\n",
       "    <tr>\n",
       "      <th>6782</th>\n",
       "      <td>2.163615e-18</td>\n",
       "      <td>360</td>\n",
       "    </tr>\n",
       "    <tr>\n",
       "      <th>6845</th>\n",
       "      <td>7.531753e-19</td>\n",
       "      <td>270</td>\n",
       "    </tr>\n",
       "    <tr>\n",
       "      <th>6866</th>\n",
       "      <td>1.021099e-02</td>\n",
       "      <td>225</td>\n",
       "    </tr>\n",
       "    <tr>\n",
       "      <th>6929</th>\n",
       "      <td>1.500343e-02</td>\n",
       "      <td>270</td>\n",
       "    </tr>\n",
       "    <tr>\n",
       "      <th>6950</th>\n",
       "      <td>-1.778599e-18</td>\n",
       "      <td>225</td>\n",
       "    </tr>\n",
       "    <tr>\n",
       "      <th>7034</th>\n",
       "      <td>-1.255219e-18</td>\n",
       "      <td>225</td>\n",
       "    </tr>\n",
       "    <tr>\n",
       "      <th>7076</th>\n",
       "      <td>8.856299e-19</td>\n",
       "      <td>270</td>\n",
       "    </tr>\n",
       "    <tr>\n",
       "      <th>7118</th>\n",
       "      <td>2.277515e-18</td>\n",
       "      <td>360</td>\n",
       "    </tr>\n",
       "  </tbody>\n",
       "</table>\n",
       "</div>"
      ],
      "text/plain": [
       "            firing  target_angle\n",
       "4787  2.728294e-02           225\n",
       "4829 -3.203190e-18            45\n",
       "4871  2.080248e-04           225\n",
       "4892  3.332432e-18           270\n",
       "5039           NaN           225\n",
       "5123  1.077019e-20           270\n",
       "5186 -6.073699e-19           225\n",
       "5270 -9.860449e-19            90\n",
       "5312 -5.226685e-19            90\n",
       "5333           NaN           135\n",
       "5438  8.332946e-03           180\n",
       "5480  2.515888e-02           180\n",
       "5543 -1.122364e-19           360\n",
       "5585  1.840539e-18           270\n",
       "5669  9.968223e-03           225\n",
       "5690 -9.896290e-19           135\n",
       "5774  3.140524e-18           225\n",
       "5795  3.434188e-06           270\n",
       "5858 -9.663789e-19           315\n",
       "5879  2.108779e-18           270\n",
       "5963 -7.043255e-20           360\n",
       "5984  6.683348e-19            45\n",
       "6110           NaN           270\n",
       "6278  3.297984e-05           225\n",
       "6341           NaN           180\n",
       "6404  2.524540e-20            45\n",
       "6425 -3.082472e-18            90\n",
       "6446 -7.686612e-19           315\n",
       "6488  9.911463e-09           225\n",
       "6551  7.107337e-19           360\n",
       "6635           NaN           225\n",
       "6656           NaN           270\n",
       "6761  2.484112e-03           225\n",
       "6782  2.163615e-18           360\n",
       "6845  7.531753e-19           270\n",
       "6866  1.021099e-02           225\n",
       "6929  1.500343e-02           270\n",
       "6950 -1.778599e-18           225\n",
       "7034 -1.255219e-18           225\n",
       "7076  8.856299e-19           270\n",
       "7118  2.277515e-18           360"
      ]
     },
     "execution_count": 173,
     "metadata": {},
     "output_type": "execute_result"
    }
   ],
   "source": [
    "dfn_test"
   ]
  },
  {
   "cell_type": "code",
   "execution_count": null,
   "metadata": {},
   "outputs": [],
   "source": []
  },
  {
   "cell_type": "code",
   "execution_count": null,
   "metadata": {},
   "outputs": [],
   "source": []
  },
  {
   "cell_type": "code",
   "execution_count": null,
   "metadata": {},
   "outputs": [],
   "source": []
  },
  {
   "cell_type": "code",
   "execution_count": null,
   "metadata": {},
   "outputs": [],
   "source": []
  },
  {
   "cell_type": "code",
   "execution_count": 49,
   "metadata": {},
   "outputs": [
    {
     "data": {
      "text/plain": [
       "[60.657331230582926]"
      ]
     },
     "execution_count": 49,
     "metadata": {},
     "output_type": "execute_result"
    }
   ],
   "source": [
    "df1 = df.loc[(df['times']==500) & (df['neuron']==1367701), ['firing', 'target_angle', 'neuron']] ###tiene que ser centered!\n",
    "df2 = df.loc[(df['times']==600) & (df['neuron']==1367701), ['firing', 'target_angle', 'neuron']] ###tiene que ser centered!\n",
    "cross_decoding_spikes_angles_err_all(df1, df2)"
   ]
  },
  {
   "cell_type": "code",
   "execution_count": null,
   "metadata": {},
   "outputs": [],
   "source": [
    "### cambiar la funcion para que sea en cada neurona (asi poder identificar subpoblaciones)\n",
    "### buscar en internet como hacer eso? PCA???\n",
    "### idea! tres fits diferentes! compararlos en cada neurona! :)\n"
   ]
  },
  {
   "cell_type": "code",
   "execution_count": 57,
   "metadata": {},
   "outputs": [],
   "source": []
  },
  {
   "cell_type": "code",
   "execution_count": 58,
   "metadata": {},
   "outputs": [
    {
     "data": {
      "text/plain": [
       "60.66"
      ]
     },
     "execution_count": 58,
     "metadata": {},
     "output_type": "execute_result"
    }
   ],
   "source": [
    "df1 = df.loc[(df['times']==500) & (df['neuron']==1367701), ['firing', 'target_angle']] ###tiene que ser centered!\n",
    "df2 = df.loc[(df['times']==600) & (df['neuron']==1367701), ['firing', 'target_angle']] ###tiene que ser centered!\n",
    "decoder_n(df1, df2)"
   ]
  },
  {
   "cell_type": "code",
   "execution_count": 63,
   "metadata": {},
   "outputs": [],
   "source": [
    "df['times_centered'] = df['times'] - df['fixationtime']"
   ]
  },
  {
   "cell_type": "code",
   "execution_count": 64,
   "metadata": {},
   "outputs": [
    {
     "data": {
      "text/html": [
       "<div>\n",
       "<style scoped>\n",
       "    .dataframe tbody tr th:only-of-type {\n",
       "        vertical-align: middle;\n",
       "    }\n",
       "\n",
       "    .dataframe tbody tr th {\n",
       "        vertical-align: top;\n",
       "    }\n",
       "\n",
       "    .dataframe thead th {\n",
       "        text-align: right;\n",
       "    }\n",
       "</style>\n",
       "<table border=\"1\" class=\"dataframe\">\n",
       "  <thead>\n",
       "    <tr style=\"text-align: right;\">\n",
       "      <th></th>\n",
       "      <th>firing</th>\n",
       "      <th>target_angle</th>\n",
       "      <th>times_centered</th>\n",
       "    </tr>\n",
       "  </thead>\n",
       "  <tbody>\n",
       "    <tr>\n",
       "      <th>0</th>\n",
       "      <td>-3.637979e-19</td>\n",
       "      <td>225</td>\n",
       "      <td>-300</td>\n",
       "    </tr>\n",
       "    <tr>\n",
       "      <th>1</th>\n",
       "      <td>1.382432e-17</td>\n",
       "      <td>225</td>\n",
       "      <td>-200</td>\n",
       "    </tr>\n",
       "    <tr>\n",
       "      <th>2</th>\n",
       "      <td>1.127773e-17</td>\n",
       "      <td>225</td>\n",
       "      <td>-100</td>\n",
       "    </tr>\n",
       "    <tr>\n",
       "      <th>3</th>\n",
       "      <td>2.691904e-03</td>\n",
       "      <td>225</td>\n",
       "      <td>0</td>\n",
       "    </tr>\n",
       "    <tr>\n",
       "      <th>4</th>\n",
       "      <td>1.751611e-02</td>\n",
       "      <td>225</td>\n",
       "      <td>100</td>\n",
       "    </tr>\n",
       "    <tr>\n",
       "      <th>...</th>\n",
       "      <td>...</td>\n",
       "      <td>...</td>\n",
       "      <td>...</td>\n",
       "    </tr>\n",
       "    <tr>\n",
       "      <th>2242</th>\n",
       "      <td>1.003299e-02</td>\n",
       "      <td>315</td>\n",
       "      <td>800</td>\n",
       "    </tr>\n",
       "    <tr>\n",
       "      <th>2243</th>\n",
       "      <td>2.412903e-02</td>\n",
       "      <td>315</td>\n",
       "      <td>900</td>\n",
       "    </tr>\n",
       "    <tr>\n",
       "      <th>2244</th>\n",
       "      <td>1.087097e-02</td>\n",
       "      <td>315</td>\n",
       "      <td>1000</td>\n",
       "    </tr>\n",
       "    <tr>\n",
       "      <th>2245</th>\n",
       "      <td>3.434188e-06</td>\n",
       "      <td>315</td>\n",
       "      <td>1100</td>\n",
       "    </tr>\n",
       "    <tr>\n",
       "      <th>2246</th>\n",
       "      <td>1.247725e-02</td>\n",
       "      <td>315</td>\n",
       "      <td>1200</td>\n",
       "    </tr>\n",
       "  </tbody>\n",
       "</table>\n",
       "<p>2247 rows × 3 columns</p>\n",
       "</div>"
      ],
      "text/plain": [
       "            firing  target_angle  times_centered\n",
       "0    -3.637979e-19           225            -300\n",
       "1     1.382432e-17           225            -200\n",
       "2     1.127773e-17           225            -100\n",
       "3     2.691904e-03           225               0\n",
       "4     1.751611e-02           225             100\n",
       "...            ...           ...             ...\n",
       "2242  1.003299e-02           315             800\n",
       "2243  2.412903e-02           315             900\n",
       "2244  1.087097e-02           315            1000\n",
       "2245  3.434188e-06           315            1100\n",
       "2246  1.247725e-02           315            1200\n",
       "\n",
       "[2247 rows x 3 columns]"
      ]
     },
     "execution_count": 64,
     "metadata": {},
     "output_type": "execute_result"
    }
   ],
   "source": [
    "df.loc[df['neuron']==1367701, ['firing', 'target_angle', 'times_centered']]"
   ]
  },
  {
   "cell_type": "code",
   "execution_count": 68,
   "metadata": {},
   "outputs": [
    {
     "data": {
      "text/html": [
       "<div>\n",
       "<style scoped>\n",
       "    .dataframe tbody tr th:only-of-type {\n",
       "        vertical-align: middle;\n",
       "    }\n",
       "\n",
       "    .dataframe tbody tr th {\n",
       "        vertical-align: top;\n",
       "    }\n",
       "\n",
       "    .dataframe thead th {\n",
       "        text-align: right;\n",
       "    }\n",
       "</style>\n",
       "<table border=\"1\" class=\"dataframe\">\n",
       "  <thead>\n",
       "    <tr style=\"text-align: right;\">\n",
       "      <th></th>\n",
       "      <th>Unnamed: 0</th>\n",
       "      <th>firing</th>\n",
       "      <th>times</th>\n",
       "      <th>trial</th>\n",
       "      <th>TDOA</th>\n",
       "      <th>TDconf</th>\n",
       "      <th>targetloc</th>\n",
       "      <th>distLoc</th>\n",
       "      <th>fixationtime</th>\n",
       "      <th>failed</th>\n",
       "      <th>saccadeChoice</th>\n",
       "      <th>monkey</th>\n",
       "      <th>neuron</th>\n",
       "      <th>brain_region</th>\n",
       "      <th>rf_loc</th>\n",
       "      <th>target_angle</th>\n",
       "      <th>times_centered</th>\n",
       "    </tr>\n",
       "  </thead>\n",
       "  <tbody>\n",
       "    <tr>\n",
       "      <th>0</th>\n",
       "      <td>0</td>\n",
       "      <td>-3.637979e-19</td>\n",
       "      <td>0</td>\n",
       "      <td>2</td>\n",
       "      <td>0</td>\n",
       "      <td>3</td>\n",
       "      <td>7</td>\n",
       "      <td>0</td>\n",
       "      <td>300</td>\n",
       "      <td>1</td>\n",
       "      <td>7</td>\n",
       "      <td>Mojo</td>\n",
       "      <td>1367701</td>\n",
       "      <td>DLPFC</td>\n",
       "      <td>270</td>\n",
       "      <td>225</td>\n",
       "      <td>-300</td>\n",
       "    </tr>\n",
       "    <tr>\n",
       "      <th>1</th>\n",
       "      <td>1</td>\n",
       "      <td>1.382432e-17</td>\n",
       "      <td>100</td>\n",
       "      <td>2</td>\n",
       "      <td>0</td>\n",
       "      <td>3</td>\n",
       "      <td>7</td>\n",
       "      <td>0</td>\n",
       "      <td>300</td>\n",
       "      <td>1</td>\n",
       "      <td>7</td>\n",
       "      <td>Mojo</td>\n",
       "      <td>1367701</td>\n",
       "      <td>DLPFC</td>\n",
       "      <td>270</td>\n",
       "      <td>225</td>\n",
       "      <td>-200</td>\n",
       "    </tr>\n",
       "    <tr>\n",
       "      <th>2</th>\n",
       "      <td>2</td>\n",
       "      <td>1.127773e-17</td>\n",
       "      <td>200</td>\n",
       "      <td>2</td>\n",
       "      <td>0</td>\n",
       "      <td>3</td>\n",
       "      <td>7</td>\n",
       "      <td>0</td>\n",
       "      <td>300</td>\n",
       "      <td>1</td>\n",
       "      <td>7</td>\n",
       "      <td>Mojo</td>\n",
       "      <td>1367701</td>\n",
       "      <td>DLPFC</td>\n",
       "      <td>270</td>\n",
       "      <td>225</td>\n",
       "      <td>-100</td>\n",
       "    </tr>\n",
       "    <tr>\n",
       "      <th>3</th>\n",
       "      <td>3</td>\n",
       "      <td>2.691904e-03</td>\n",
       "      <td>300</td>\n",
       "      <td>2</td>\n",
       "      <td>0</td>\n",
       "      <td>3</td>\n",
       "      <td>7</td>\n",
       "      <td>0</td>\n",
       "      <td>300</td>\n",
       "      <td>1</td>\n",
       "      <td>7</td>\n",
       "      <td>Mojo</td>\n",
       "      <td>1367701</td>\n",
       "      <td>DLPFC</td>\n",
       "      <td>270</td>\n",
       "      <td>225</td>\n",
       "      <td>0</td>\n",
       "    </tr>\n",
       "    <tr>\n",
       "      <th>4</th>\n",
       "      <td>4</td>\n",
       "      <td>1.751611e-02</td>\n",
       "      <td>400</td>\n",
       "      <td>2</td>\n",
       "      <td>0</td>\n",
       "      <td>3</td>\n",
       "      <td>7</td>\n",
       "      <td>0</td>\n",
       "      <td>300</td>\n",
       "      <td>1</td>\n",
       "      <td>7</td>\n",
       "      <td>Mojo</td>\n",
       "      <td>1367701</td>\n",
       "      <td>DLPFC</td>\n",
       "      <td>270</td>\n",
       "      <td>225</td>\n",
       "      <td>100</td>\n",
       "    </tr>\n",
       "  </tbody>\n",
       "</table>\n",
       "</div>"
      ],
      "text/plain": [
       "   Unnamed: 0        firing  times  trial  TDOA  TDconf  targetloc  distLoc  \\\n",
       "0           0 -3.637979e-19      0      2     0       3          7        0   \n",
       "1           1  1.382432e-17    100      2     0       3          7        0   \n",
       "2           2  1.127773e-17    200      2     0       3          7        0   \n",
       "3           3  2.691904e-03    300      2     0       3          7        0   \n",
       "4           4  1.751611e-02    400      2     0       3          7        0   \n",
       "\n",
       "   fixationtime  failed  saccadeChoice monkey   neuron brain_region  rf_loc  \\\n",
       "0           300       1              7   Mojo  1367701        DLPFC     270   \n",
       "1           300       1              7   Mojo  1367701        DLPFC     270   \n",
       "2           300       1              7   Mojo  1367701        DLPFC     270   \n",
       "3           300       1              7   Mojo  1367701        DLPFC     270   \n",
       "4           300       1              7   Mojo  1367701        DLPFC     270   \n",
       "\n",
       "   target_angle  times_centered  \n",
       "0           225            -300  \n",
       "1           225            -200  \n",
       "2           225            -100  \n",
       "3           225               0  \n",
       "4           225             100  "
      ]
     },
     "execution_count": 68,
     "metadata": {},
     "output_type": "execute_result"
    }
   ],
   "source": [
    "dfn = df.loc[df['neuron']==1367701]\n",
    "dfn.loc[(dfn['times_centered']>-500) & (dfn['times_centered']<2000) ]\n",
    "dfn.head()"
   ]
  },
  {
   "cell_type": "code",
   "execution_count": 75,
   "metadata": {},
   "outputs": [
    {
     "data": {
      "text/plain": [
       "7"
      ]
     },
     "execution_count": 75,
     "metadata": {},
     "output_type": "execute_result"
    }
   ],
   "source": []
  },
  {
   "cell_type": "code",
   "execution_count": 150,
   "metadata": {},
   "outputs": [],
   "source": [
    "#cross-decoding for 1 neuron\n",
    "all_times = np.arange(-500,2100, 100)\n",
    "train_test = np.empty( (len(all_times), len(all_times) ) )\n",
    "train_test[:] = np.nan\n",
    "\n",
    "\n",
    "dfn = df.loc[df['neuron']==1367701]\n",
    "dfn = dfn.loc[(dfn['times_centered']>=-500) & (dfn['times_centered']<=2000) ]\n",
    "list_times = dfn.times_centered.unique()\n",
    "list_times_sorted =np.sort(list_times)\n",
    "list_times_sorted\n",
    "\n",
    "for training_time in list_times_sorted:\n",
    "    #print(training_time)\n",
    "    dfn_train = dfn.loc[(dfn['times_centered']==training_time), ['firing', 'target_angle']]\n",
    "    paralel_train = [dfn_train for i in range(len(list_times_sorted))]\n",
    "    \n",
    "    paralel_test = []\n",
    "    for times_testing in list_times_sorted:\n",
    "        dfn_test =dfn.loc[(dfn['times_centered']==times_testing), ['firing', 'target_angle']]\n",
    "        paralel_test.append(dfn_test)\n",
    "\n",
    "    cross_temp = Parallel(n_jobs = numcores)(delayed(decoder)(training, testing)  for training, testing in zip(paralel_train, paralel_test) )   #### reconstruction standard (paralel)\n",
    "\n",
    "    idx_append_row = np.where(training_time == all_times )[0][0]\n",
    "    idx_append_col1 = np.where(list_times_sorted[0] == all_times)[0][0]\n",
    "    idx_append_col2 = np.where(list_times_sorted[-1] == all_times)[0][0]\n",
    "    train_test[idx_append_row, idx_append_col1:idx_append_col2+1] = cross_temp\n"
   ]
  },
  {
   "cell_type": "code",
   "execution_count": 151,
   "metadata": {},
   "outputs": [],
   "source": [
    "\n",
    "    "
   ]
  },
  {
   "cell_type": "code",
   "execution_count": 152,
   "metadata": {},
   "outputs": [
    {
     "data": {
      "image/png": "[encoded data removed]",
      "text/plain": [
       "<Figure size 432x288 with 2 Axes>"
      ]
     },
     "metadata": {
      "needs_background": "light"
     },
     "output_type": "display_data"
    }
   ],
   "source": [
    "heatmap(train_test, 'pfc 100')"
   ]
  },
  {
   "cell_type": "code",
   "execution_count": 142,
   "metadata": {},
   "outputs": [
    {
     "data": {
      "text/plain": [
       "<matplotlib.axes._subplots.AxesSubplot at 0x179b8a2ed30>"
      ]
     },
     "execution_count": 142,
     "metadata": {},
     "output_type": "execute_result"
    },
    {
     "data": {
      "image/png": "[encoded data removed]",
      "text/plain": [
       "<Figure size 432x288 with 2 Axes>"
      ]
     },
     "metadata": {
      "needs_background": "light"
     },
     "output_type": "display_data"
    }
   ],
   "source": [
    "sns.heatmap(train_test)"
   ]
  },
  {
   "cell_type": "code",
   "execution_count": 144,
   "metadata": {},
   "outputs": [
    {
     "data": {
      "text/plain": [
       "[<matplotlib.lines.Line2D at 0x179bbb86e80>]"
      ]
     },
     "execution_count": 144,
     "metadata": {},
     "output_type": "execute_result"
    },
    {
     "data": {
      "image/png": "[encoded data removed]",
      "text/plain": [
       "<Figure size 432x288 with 1 Axes>"
      ]
     },
     "metadata": {
      "needs_background": "light"
     },
     "output_type": "display_data"
    }
   ],
   "source": [
    "plt.plot(train_test[0, :])\n",
    "\n",
    "plt.plot(train_test[9, :])"
   ]
  },
  {
   "cell_type": "code",
   "execution_count": 127,
   "metadata": {},
   "outputs": [
    {
     "data": {
      "text/plain": [
       "(26, 26)"
      ]
     },
     "execution_count": 127,
     "metadata": {},
     "output_type": "execute_result"
    }
   ],
   "source": [
    "all_times = np.arange(-500,2100, 100)\n",
    "train_test = np.empty( (len(all_times), len(all_times) ) )\n",
    "train_test[:] = np.nan\n",
    "np.shape(train_test)"
   ]
  },
  {
   "cell_type": "code",
   "execution_count": null,
   "metadata": {},
   "outputs": [],
   "source": []
  },
  {
   "cell_type": "code",
   "execution_count": null,
   "metadata": {},
   "outputs": [],
   "source": []
  },
  {
   "cell_type": "code",
   "execution_count": 126,
   "metadata": {},
   "outputs": [
    {
     "data": {
      "text/plain": [
       "array([[65.81, 65.81, 65.81, 65.81, 65.81, 65.81, 65.81, 65.81, 65.81,\n",
       "        65.81, 65.81, 65.81, 65.81, 65.81, 65.81, 65.81, 65.81, 65.81,\n",
       "        65.81, 65.81, 65.81, 65.81, 65.81,   nan,   nan,   nan],\n",
       "       [66.67, 66.67, 66.67, 66.67, 66.67, 66.67, 66.67, 66.67, 66.67,\n",
       "        66.67, 66.67, 66.67, 66.67, 66.67, 66.67, 66.67, 66.67, 66.67,\n",
       "        66.67, 66.67, 66.67, 66.67, 66.67,   nan,   nan,   nan],\n",
       "       [60.58, 60.58, 60.58, 60.58, 60.58, 60.58, 60.58, 60.58, 60.58,\n",
       "        60.58, 60.58, 60.58, 60.58, 60.58, 60.58, 60.58, 60.58, 60.58,\n",
       "        60.58, 60.58, 60.58, 60.58, 60.58,   nan,   nan,   nan],\n",
       "       [61.29, 61.29, 61.29, 61.29, 61.29, 61.29, 61.29, 61.29, 61.29,\n",
       "        61.29, 61.29, 61.29, 61.29, 61.29, 61.29, 61.29, 61.29, 61.29,\n",
       "        61.29, 61.29, 61.29, 61.29, 61.29,   nan,   nan,   nan],\n",
       "       [61.83, 61.83, 61.83, 61.83, 61.83, 61.83, 61.83, 61.83, 61.83,\n",
       "        61.83, 61.83, 61.83, 61.83, 61.83, 61.83, 61.83, 61.83, 61.83,\n",
       "        61.83, 61.83, 61.83, 61.83, 61.83,   nan,   nan,   nan],\n",
       "       [61.14, 61.14, 61.14, 61.14, 61.14, 61.14, 61.14, 61.14, 61.14,\n",
       "        61.14, 61.14, 61.14, 61.14, 61.14, 61.14, 61.14, 61.14, 61.14,\n",
       "        61.14, 61.14, 61.14, 61.14, 61.14,   nan,   nan,   nan],\n",
       "       [48.08, 48.08, 48.08, 48.08, 48.08, 48.08, 48.08, 48.08, 48.08,\n",
       "        48.08, 48.08, 48.08, 48.08, 48.08, 48.08, 48.08, 48.08, 48.08,\n",
       "        48.08, 48.08, 48.08, 48.08, 48.08,   nan,   nan,   nan],\n",
       "       [47.12, 47.12, 47.12, 47.12, 47.12, 47.12, 47.12, 47.12, 47.12,\n",
       "        47.12, 47.12, 47.12, 47.12, 47.12, 47.12, 47.12, 47.12, 47.12,\n",
       "        47.12, 47.12, 47.12, 47.12, 47.12,   nan,   nan,   nan],\n",
       "       [43.07, 43.07, 43.07, 43.07, 43.07, 43.07, 43.07, 43.07, 43.07,\n",
       "        43.07, 43.07, 43.07, 43.07, 43.07, 43.07, 43.07, 43.07, 43.07,\n",
       "        43.07, 43.07, 43.07, 43.07, 43.07,   nan,   nan,   nan],\n",
       "       [44.8 , 44.8 , 44.8 , 44.8 , 44.8 , 44.8 , 44.8 , 44.8 , 44.8 ,\n",
       "        44.8 , 44.8 , 44.8 , 44.8 , 44.8 , 44.8 , 44.8 , 44.8 , 44.8 ,\n",
       "        44.8 , 44.8 , 44.8 , 44.8 , 44.8 ,   nan,   nan,   nan],\n",
       "       [43.28, 43.28, 43.28, 43.28, 43.28, 43.28, 43.28, 43.28, 43.28,\n",
       "        43.28, 43.28, 43.28, 43.28, 43.28, 43.28, 43.28, 43.28, 43.28,\n",
       "        43.28, 43.28, 43.28, 43.28, 43.28,   nan,   nan,   nan],\n",
       "       [40.9 , 40.9 , 40.9 , 40.9 , 40.9 , 40.9 , 40.9 , 40.9 , 40.9 ,\n",
       "        40.9 , 40.9 , 40.9 , 40.9 , 40.9 , 40.9 , 40.9 , 40.9 , 40.9 ,\n",
       "        40.9 , 40.9 , 40.9 , 40.9 , 40.9 ,   nan,   nan,   nan],\n",
       "       [42.56, 42.56, 42.56, 42.56, 42.56, 42.56, 42.56, 42.56, 42.56,\n",
       "        42.56, 42.56, 42.56, 42.56, 42.56, 42.56, 42.56, 42.56, 42.56,\n",
       "        42.56, 42.56, 42.56, 42.56, 42.56,   nan,   nan,   nan],\n",
       "       [41.48, 41.48, 41.48, 41.48, 41.48, 41.48, 41.48, 41.48, 41.48,\n",
       "        41.48, 41.48, 41.48, 41.48, 41.48, 41.48, 41.48, 41.48, 41.48,\n",
       "        41.48, 41.48, 41.48, 41.48, 41.48,   nan,   nan,   nan],\n",
       "       [40.05, 40.05, 40.05, 40.05, 40.05, 40.05, 40.05, 40.05, 40.05,\n",
       "        40.05, 40.05, 40.05, 40.05, 40.05, 40.05, 40.05, 40.05, 40.05,\n",
       "        40.05, 40.05, 40.05, 40.05, 40.05,   nan,   nan,   nan],\n",
       "       [44.13, 44.13, 44.13, 44.13, 44.13, 44.13, 44.13, 44.13, 44.13,\n",
       "        44.13, 44.13, 44.13, 44.13, 44.13, 44.13, 44.13, 44.13, 44.13,\n",
       "        44.13, 44.13, 44.13, 44.13, 44.13,   nan,   nan,   nan],\n",
       "       [46.71, 46.71, 46.71, 46.71, 46.71, 46.71, 46.71, 46.71, 46.71,\n",
       "        46.71, 46.71, 46.71, 46.71, 46.71, 46.71, 46.71, 46.71, 46.71,\n",
       "        46.71, 46.71, 46.71, 46.71, 46.71,   nan,   nan,   nan],\n",
       "       [47.43, 47.43, 47.43, 47.43, 47.43, 47.43, 47.43, 47.43, 47.43,\n",
       "        47.43, 47.43, 47.43, 47.43, 47.43, 47.43, 47.43, 47.43, 47.43,\n",
       "        47.43, 47.43, 47.43, 47.43, 47.43,   nan,   nan,   nan],\n",
       "       [50.08, 50.08, 50.08, 50.08, 50.08, 50.08, 50.08, 50.08, 50.08,\n",
       "        50.08, 50.08, 50.08, 50.08, 50.08, 50.08, 50.08, 50.08, 50.08,\n",
       "        50.08, 50.08, 50.08, 50.08, 50.08,   nan,   nan,   nan],\n",
       "       [45.54, 45.54, 45.54, 45.54, 45.54, 45.54, 45.54, 45.54, 45.54,\n",
       "        45.54, 45.54, 45.54, 45.54, 45.54, 45.54, 45.54, 45.54, 45.54,\n",
       "        45.54, 45.54, 45.54, 45.54, 45.54,   nan,   nan,   nan],\n",
       "       [41.36, 41.36, 41.36, 41.36, 41.36, 41.36, 41.36, 41.36, 41.36,\n",
       "        41.36, 41.36, 41.36, 41.36, 41.36, 41.36, 41.36, 41.36, 41.36,\n",
       "        41.36, 41.36, 41.36, 41.36, 41.36,   nan,   nan,   nan],\n",
       "       [42.82, 42.82, 42.82, 42.82, 42.82, 42.82, 42.82, 42.82, 42.82,\n",
       "        42.82, 42.82, 42.82, 42.82, 42.82, 42.82, 42.82, 42.82, 42.82,\n",
       "        42.82, 42.82, 42.82, 42.82, 42.82,   nan,   nan,   nan],\n",
       "       [40.43, 40.43, 40.43, 40.43, 40.43, 40.43, 40.43, 40.43, 40.43,\n",
       "        40.43, 40.43, 40.43, 40.43, 40.43, 40.43, 40.43, 40.43, 40.43,\n",
       "        40.43, 40.43, 40.43, 40.43, 40.43,   nan,   nan,   nan],\n",
       "       [  nan,   nan,   nan,   nan,   nan,   nan,   nan,   nan,   nan,\n",
       "          nan,   nan,   nan,   nan,   nan,   nan,   nan,   nan,   nan,\n",
       "          nan,   nan,   nan,   nan,   nan,   nan,   nan,   nan],\n",
       "       [  nan,   nan,   nan,   nan,   nan,   nan,   nan,   nan,   nan,\n",
       "          nan,   nan,   nan,   nan,   nan,   nan,   nan,   nan,   nan,\n",
       "          nan,   nan,   nan,   nan,   nan,   nan,   nan,   nan],\n",
       "       [  nan,   nan,   nan,   nan,   nan,   nan,   nan,   nan,   nan,\n",
       "          nan,   nan,   nan,   nan,   nan,   nan,   nan,   nan,   nan,\n",
       "          nan,   nan,   nan,   nan,   nan,   nan,   nan,   nan]])"
      ]
     },
     "execution_count": 126,
     "metadata": {},
     "output_type": "execute_result"
    }
   ],
   "source": [
    "train_test"
   ]
  },
  {
   "cell_type": "code",
   "execution_count": null,
   "metadata": {},
   "outputs": [],
   "source": []
  },
  {
   "cell_type": "code",
   "execution_count": 120,
   "metadata": {},
   "outputs": [],
   "source": [
    "time_=400"
   ]
  },
  {
   "cell_type": "code",
   "execution_count": 118,
   "metadata": {},
   "outputs": [
    {
     "data": {
      "text/plain": [
       "array([-500, -400, -300, -200, -100,    0,  100,  200,  300,  400,  500,\n",
       "        600,  700,  800,  900, 1000, 1100, 1200, 1300, 1400, 1500, 1600,\n",
       "       1700, 1800, 1900, 2000])"
      ]
     },
     "execution_count": 118,
     "metadata": {},
     "output_type": "execute_result"
    }
   ],
   "source": [
    "np.arange(-500,2100, 100)"
   ]
  },
  {
   "cell_type": "code",
   "execution_count": 122,
   "metadata": {},
   "outputs": [
    {
     "data": {
      "text/plain": [
       "9"
      ]
     },
     "execution_count": 122,
     "metadata": {},
     "output_type": "execute_result"
    }
   ],
   "source": [
    "np.where(time_ == all_times )[0][0]"
   ]
  },
  {
   "cell_type": "code",
   "execution_count": null,
   "metadata": {},
   "outputs": [],
   "source": []
  },
  {
   "cell_type": "code",
   "execution_count": null,
   "metadata": {},
   "outputs": [],
   "source": []
  },
  {
   "cell_type": "code",
   "execution_count": 117,
   "metadata": {},
   "outputs": [
    {
     "data": {
      "text/plain": [
       "array([-500, -400, -300, -200, -100,    0,  100,  200,  300,  400,  500,\n",
       "        600,  700,  800,  900, 1000, 1100, 1200, 1300, 1400, 1500, 1600,\n",
       "       1700], dtype=int64)"
      ]
     },
     "execution_count": 117,
     "metadata": {},
     "output_type": "execute_result"
    }
   ],
   "source": [
    "dfn = df.loc[df['neuron']==1367701]\n",
    "dfn = dfn.loc[(dfn['times_centered']>=-500) & (dfn['times_centered']<=2000) ]\n",
    "list_times = dfn.times_centered.unique()\n",
    "list_times_sorted =np.sort(list_times)\n",
    "list_times_sorted"
   ]
  },
  {
   "cell_type": "code",
   "execution_count": 90,
   "metadata": {},
   "outputs": [],
   "source": [
    "cross_temp = Parallel(n_jobs = numcores)(delayed(decoder_n)(training, testing)  for training, testing in zip(paralel_train, paralel_test) )   #### reconstruction standard (paralel)\n"
   ]
  },
  {
   "cell_type": "code",
   "execution_count": 97,
   "metadata": {},
   "outputs": [],
   "source": [
    "train_test = np.zeros( (len(dfn.times_centered.unique()), len(dfn.times_centered.unique()) ) )\n"
   ]
  },
  {
   "cell_type": "code",
   "execution_count": 108,
   "metadata": {},
   "outputs": [
    {
     "data": {
      "text/plain": [
       "array([[nan, nan, nan, nan, nan, nan, nan, nan, nan, nan, nan, nan, nan,\n",
       "        nan, nan, nan, nan, nan, nan, nan, nan, nan, nan, nan, nan, nan],\n",
       "       [nan, nan, nan, nan, nan, nan, nan, nan, nan, nan, nan, nan, nan,\n",
       "        nan, nan, nan, nan, nan, nan, nan, nan, nan, nan, nan, nan, nan],\n",
       "       [nan, nan, nan, nan, nan, nan, nan, nan, nan, nan, nan, nan, nan,\n",
       "        nan, nan, nan, nan, nan, nan, nan, nan, nan, nan, nan, nan, nan],\n",
       "       [nan, nan, nan, nan, nan, nan, nan, nan, nan, nan, nan, nan, nan,\n",
       "        nan, nan, nan, nan, nan, nan, nan, nan, nan, nan, nan, nan, nan],\n",
       "       [nan, nan, nan, nan, nan, nan, nan, nan, nan, nan, nan, nan, nan,\n",
       "        nan, nan, nan, nan, nan, nan, nan, nan, nan, nan, nan, nan, nan],\n",
       "       [nan, nan, nan, nan, nan, nan, nan, nan, nan, nan, nan, nan, nan,\n",
       "        nan, nan, nan, nan, nan, nan, nan, nan, nan, nan, nan, nan, nan],\n",
       "       [nan, nan, nan, nan, nan, nan, nan, nan, nan, nan, nan, nan, nan,\n",
       "        nan, nan, nan, nan, nan, nan, nan, nan, nan, nan, nan, nan, nan],\n",
       "       [nan, nan, nan, nan, nan, nan, nan, nan, nan, nan, nan, nan, nan,\n",
       "        nan, nan, nan, nan, nan, nan, nan, nan, nan, nan, nan, nan, nan],\n",
       "       [nan, nan, nan, nan, nan, nan, nan, nan, nan, nan, nan, nan, nan,\n",
       "        nan, nan, nan, nan, nan, nan, nan, nan, nan, nan, nan, nan, nan],\n",
       "       [nan, nan, nan, nan, nan, nan, nan, nan, nan, nan, nan, nan, nan,\n",
       "        nan, nan, nan, nan, nan, nan, nan, nan, nan, nan, nan, nan, nan],\n",
       "       [nan, nan, nan, nan, nan, nan, nan, nan, nan, nan, nan, nan, nan,\n",
       "        nan, nan, nan, nan, nan, nan, nan, nan, nan, nan, nan, nan, nan],\n",
       "       [nan, nan, nan, nan, nan, nan, nan, nan, nan, nan, nan, nan, nan,\n",
       "        nan, nan, nan, nan, nan, nan, nan, nan, nan, nan, nan, nan, nan],\n",
       "       [nan, nan, nan, nan, nan, nan, nan, nan, nan, nan, nan, nan, nan,\n",
       "        nan, nan, nan, nan, nan, nan, nan, nan, nan, nan, nan, nan, nan],\n",
       "       [nan, nan, nan, nan, nan, nan, nan, nan, nan, nan, nan, nan, nan,\n",
       "        nan, nan, nan, nan, nan, nan, nan, nan, nan, nan, nan, nan, nan],\n",
       "       [nan, nan, nan, nan, nan, nan, nan, nan, nan, nan, nan, nan, nan,\n",
       "        nan, nan, nan, nan, nan, nan, nan, nan, nan, nan, nan, nan, nan],\n",
       "       [nan, nan, nan, nan, nan, nan, nan, nan, nan, nan, nan, nan, nan,\n",
       "        nan, nan, nan, nan, nan, nan, nan, nan, nan, nan, nan, nan, nan],\n",
       "       [nan, nan, nan, nan, nan, nan, nan, nan, nan, nan, nan, nan, nan,\n",
       "        nan, nan, nan, nan, nan, nan, nan, nan, nan, nan, nan, nan, nan],\n",
       "       [nan, nan, nan, nan, nan, nan, nan, nan, nan, nan, nan, nan, nan,\n",
       "        nan, nan, nan, nan, nan, nan, nan, nan, nan, nan, nan, nan, nan],\n",
       "       [nan, nan, nan, nan, nan, nan, nan, nan, nan, nan, nan, nan, nan,\n",
       "        nan, nan, nan, nan, nan, nan, nan, nan, nan, nan, nan, nan, nan],\n",
       "       [nan, nan, nan, nan, nan, nan, nan, nan, nan, nan, nan, nan, nan,\n",
       "        nan, nan, nan, nan, nan, nan, nan, nan, nan, nan, nan, nan, nan],\n",
       "       [nan, nan, nan, nan, nan, nan, nan, nan, nan, nan, nan, nan, nan,\n",
       "        nan, nan, nan, nan, nan, nan, nan, nan, nan, nan, nan, nan, nan],\n",
       "       [nan, nan, nan, nan, nan, nan, nan, nan, nan, nan, nan, nan, nan,\n",
       "        nan, nan, nan, nan, nan, nan, nan, nan, nan, nan, nan, nan, nan],\n",
       "       [nan, nan, nan, nan, nan, nan, nan, nan, nan, nan, nan, nan, nan,\n",
       "        nan, nan, nan, nan, nan, nan, nan, nan, nan, nan, nan, nan, nan],\n",
       "       [nan, nan, nan, nan, nan, nan, nan, nan, nan, nan, nan, nan, nan,\n",
       "        nan, nan, nan, nan, nan, nan, nan, nan, nan, nan, nan, nan, nan],\n",
       "       [nan, nan, nan, nan, nan, nan, nan, nan, nan, nan, nan, nan, nan,\n",
       "        nan, nan, nan, nan, nan, nan, nan, nan, nan, nan, nan, nan, nan],\n",
       "       [nan, nan, nan, nan, nan, nan, nan, nan, nan, nan, nan, nan, nan,\n",
       "        nan, nan, nan, nan, nan, nan, nan, nan, nan, nan, nan, nan, nan]])"
      ]
     },
     "execution_count": 108,
     "metadata": {},
     "output_type": "execute_result"
    }
   ],
   "source": [
    "all_times = np.arange(-500,2100, 100)\n",
    "train_test = np.empty( (len(all_times), len(all_times) ) )\n",
    "train_test[:] = np.nan\n",
    "train_test"
   ]
  },
  {
   "cell_type": "code",
   "execution_count": 102,
   "metadata": {},
   "outputs": [
    {
     "data": {
      "text/plain": [
       "array([-300, -200, -100,    0,  100,  200,  300,  400,  500,  600,  700,\n",
       "        800,  900, 1000, 1100, 1200, 1300, 1400, 1500, 1600, 1700, -500,\n",
       "       -400, -800, -700, -600], dtype=int64)"
      ]
     },
     "execution_count": 102,
     "metadata": {},
     "output_type": "execute_result"
    }
   ],
   "source": [
    "dfn.times_centered.unique()"
   ]
  },
  {
   "cell_type": "code",
   "execution_count": null,
   "metadata": {},
   "outputs": [],
   "source": []
  },
  {
   "cell_type": "code",
   "execution_count": 91,
   "metadata": {
    "scrolled": false
   },
   "outputs": [
    {
     "data": {
      "text/plain": [
       "[62.01,\n",
       " 62.19,\n",
       " 61.83,\n",
       " 61.86,\n",
       " 65.4,\n",
       " 64.84,\n",
       " 65.39,\n",
       " 65.51,\n",
       " 65.69,\n",
       " 65.59,\n",
       " 65.47,\n",
       " 65.21,\n",
       " 65.1,\n",
       " 65.01,\n",
       " 65.58,\n",
       " 64.78,\n",
       " 64.11,\n",
       " 64.45,\n",
       " 63.72,\n",
       " 54.41,\n",
       " 55.26,\n",
       " 67.91,\n",
       " 68.26,\n",
       " 63.04,\n",
       " 63.32,\n",
       " 63.35]"
      ]
     },
     "execution_count": 91,
     "metadata": {},
     "output_type": "execute_result"
    }
   ],
   "source": [
    "cross_temp"
   ]
  },
  {
   "cell_type": "code",
   "execution_count": null,
   "metadata": {},
   "outputs": [],
   "source": []
  },
  {
   "cell_type": "code",
   "execution_count": 79,
   "metadata": {},
   "outputs": [
    {
     "data": {
      "text/plain": [
       "[60.78,\n",
       " 61.33,\n",
       " 63.65,\n",
       " 65.99,\n",
       " 78.49,\n",
       " 85.95,\n",
       " 92.35,\n",
       " 92.52,\n",
       " 93.1,\n",
       " 88.06,\n",
       " 85.72,\n",
       " 82.57,\n",
       " 80.6,\n",
       " 76.42,\n",
       " 74.66,\n",
       " 75.67,\n",
       " 74.64,\n",
       " 73.01,\n",
       " 72.12,\n",
       " 68.5,\n",
       " 69.8,\n",
       " 65.81,\n",
       " 66.74,\n",
       " 61.21,\n",
       " 61.07,\n",
       " 63.08]"
      ]
     },
     "execution_count": 79,
     "metadata": {},
     "output_type": "execute_result"
    }
   ],
   "source": [
    "cross_temp"
   ]
  },
  {
   "cell_type": "code",
   "execution_count": null,
   "metadata": {},
   "outputs": [],
   "source": [
    "    Reconstructions = Parallel(n_jobs = numcores)(delayed(Representation)(signal, testing_angles, WM, WM_t, ref_angle=180, plot=False, intercept=Inter)  for signal in signal_paralel)    #### reconstruction standard (paralel)\n"
   ]
  },
  {
   "cell_type": "code",
   "execution_count": null,
   "metadata": {},
   "outputs": [],
   "source": []
  },
  {
   "cell_type": "code",
   "execution_count": null,
   "metadata": {},
   "outputs": [],
   "source": [
    "def cross_decoding_spikes_angles_err_all(df_train, df_test):\n",
    "    #### Input : dataframe with three columns: (spikes, behaviour and neuron label)\n",
    "    ###Take off nans\n",
    "    #df_train = df_train.loc[df_train.iloc[:,0]<9999]\n",
    "    df_train.columns=['spikes', 'beh', 'neuron']\n",
    "    #df_test = df_test.loc[df_test.iloc[:,0]<9999]\n",
    "    df_test.columns=['spikes', 'beh', 'neuron']\n",
    "    \n",
    "    ## Train and test on the same neuron --> append the error of each neuron\n",
    "    population_err=[]\n",
    "    \n",
    "    for Neur in df_train.neuron.unique():\n",
    "        \n",
    "        ### same neuron 20 times --> mean value        \n",
    "        spikes_train= df_train.groupby('neuron').get_group(Neur)['spikes'].values\n",
    "        spikes_test= df_test.groupby('neuron').get_group(Neur)['spikes'].values\n",
    "        beh_train= df_train.groupby('neuron').get_group(Neur)['beh'].values\n",
    "        beh_test= df_test.groupby('neuron').get_group(Neur)['beh'].values\n",
    "\n",
    "        ######## Trainning #########\n",
    "        ## X matrix (intercept and spikes)\n",
    "        X = np.column_stack([np.ones(np.shape(spikes_train)[0]),spikes_train])\n",
    "        ## Y (sinus and cos)\n",
    "        sinus =np.sin([np.radians(np.array(beh_train)[i]) for i in range(0, len(beh_train))])\n",
    "        cosinus = np.cos([np.radians(np.array(beh_train)[i]) for i in range(0, len(beh_train))])\n",
    "        Y = np.column_stack([cosinus, sinus])\n",
    "        ### one OLS for sin and cos: output: beta of intercetp and bea of spikes (two B intercepts and 2 B for spikes )\n",
    "        model = sm.OLS(Y, X)\n",
    "        ##train the model\n",
    "        fit=model.fit()\n",
    "\n",
    "        ######### Testing ###########\n",
    "        X = np.column_stack([np.ones(np.shape(spikes_test)[0]),spikes_test])\n",
    "        p = fit.predict(X)\n",
    "        x = p[:,0]\n",
    "        y = p[:,1]\n",
    "        #####\n",
    "        ##### Error --> take the resulting vector in sin/cos space\n",
    "        ### from sin and cos get the angle (-pi, pi)\n",
    "        #pred_angle = [ np.degrees(np.arctan2(y[i], x[i]) + np.pi) for i in range(0, len(y))]\n",
    "        pred_angle = [ np.degrees(np.arctan2(y[i], x[i])) for i in range(0, len(y))]\n",
    "        for i in range(0, len(pred_angle)):\n",
    "            if pred_angle[i]<0:\n",
    "                pred_angle[i]=360+pred_angle[i]\n",
    "        ##\n",
    "        #\n",
    "        #print(beh_test)\n",
    "        error=[ circdist(beh_test[i], pred_angle[i]) for i in range(0, len(pred_angle))]\n",
    "\n",
    "        #low_value --> predicted positionns close to real\n",
    "        population_err.append(np.mean(error))\n",
    "        ######\n",
    "    \n",
    "    return population_err"
   ]
  }
 ],
 "metadata": {
  "kernelspec": {
   "display_name": "Python 3",
   "language": "python",
   "name": "python3"
  },
  "language_info": {
   "codemirror_mode": {
    "name": "ipython",
    "version": 3
   },
   "file_extension": ".py",
   "mimetype": "text/x-python",
   "name": "python",
   "nbconvert_exporter": "python",
   "pygments_lexer": "ipython3",
   "version": "3.5.6"
  }
 },
 "nbformat": 4,
 "nbformat_minor": 2
}
