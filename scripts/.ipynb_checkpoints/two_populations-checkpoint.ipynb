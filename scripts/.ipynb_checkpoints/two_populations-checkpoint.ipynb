{
 "cells": [
  {
   "cell_type": "code",
   "execution_count": 3,
   "metadata": {
    "collapsed": true
   },
   "outputs": [],
   "source": [
    "import os\n",
    "from linares_plot import *"
   ]
  },
  {
   "cell_type": "code",
   "execution_count": 5,
   "metadata": {},
   "outputs": [],
   "source": [
    "def brain_area(file_str):\n",
    "    if file_str in ['189139306', '1891406', '1891407', '189141804', '1891421','189142510', '1891436',\n",
    "                    '189144701', '189144904', '189147105', '189150602', '189151102', '189152601',\n",
    "                    '189154404', '189154602', '189155501', '189156205', '189157901', '189158601',\n",
    "                    '1891598', '189160302', '189160702', '189161203', '189161604', '1891626', '189163101',\n",
    "                    '189163701', '189164103', '189164404', '189164801', '189164803', '189165003',\n",
    "                    '1891653', '1892063', '189207101', '189207302', '189207501', '189208001',\n",
    "                    \n",
    "                    '1364705', '1365201', '1365301', '1365501', '13656021', '1365701', '1365802', \n",
    "                    '1365902', '1366002', '1366101', '1366303',  '1366403', '1366605', '13667021',\n",
    "                    '1366804', '1366904', '1367003', '1367104', '1372803', '1373003', '1373103' ]:\n",
    "        \n",
    "        return 'LIP'\n",
    "    \n",
    "    elif file_str in ['189168701', '189169502', '189171003', '189171602', '189172801', '189173101',\n",
    "                      '189173801', '189174201','189175201', '189175801', '189176101', '189176501',\n",
    "                      '189176901', '189177402', '189177701', '1891783', '189179001', '189179002',\n",
    "                      '1891793', '189179702', '189180001', '189181001', '189181502', '1891819',\n",
    "                      '189182202', '189182501', '189182901', '189183201', '189183402', '1891841',\n",
    "                      '189184601', '1891857', '189186201', '189187301', '189188901', '189189601',\n",
    "                      '189191601', '189191602', '1891918', '189192001', '189192201', '189192401',\n",
    "                      '1891935', '189194301', '189195301', '189196301', '189196401', '189209101',\n",
    "                      '189209503', '189210001', '189210901', \n",
    "                      \n",
    "                      '1367203', '1367701', '1367802',  '1367903', '1368502', '1368802', '1369304',\n",
    "                      '1369403', '1369702', '1369901', '1370002', '1370202', '1370304', '1370603',\n",
    "                      '1371103', '1371202',  '1371303', '1371503', '1371803', '1371901', '1372003',\n",
    "                      '1372103', '1372301', '1372402', '1372603', '1372703']:\n",
    "        \n",
    "        return 'DLPFC'\n",
    "    \n",
    "    \n",
    "    else:\n",
    "        \n",
    "        return 'Other'"
   ]
  },
  {
   "cell_type": "code",
   "execution_count": 7,
   "metadata": {},
   "outputs": [
    {
     "name": "stdout",
     "output_type": "stream",
     "text": [
      "Total number of neurons:107\n",
      "LIP neurons:44\n",
      "DLPFC neurons:63\n"
     ]
    }
   ],
   "source": [
    "path_= 'C:\\\\Users\\\\David\\\\Desktop\\\\IDIBAPS\\\\Gottlib_data\\\\David_fixation'\n",
    "\n",
    "LIP=[]\n",
    "DLPFC=[]\n",
    "\n",
    "for file_to_use in os.listdir(path_):\n",
    "    name = file_to_use.split('.')[0]\n",
    "    B_A = brain_area(name)\n",
    "    if B_A=='LIP':\n",
    "        LIP.append(1)\n",
    "    elif B_A=='DLPFC':\n",
    "        DLPFC.append(1)\n",
    "    else:\n",
    "        print('error')\n",
    "\n",
    "\n",
    "print('Total number of neurons:' + str(len(LIP) + len(DLPFC)))\n",
    "print('LIP neurons:' + str(len(LIP)))\n",
    "print('DLPFC neurons:' + str(len(DLPFC)))"
   ]
  },
  {
   "cell_type": "code",
   "execution_count": null,
   "metadata": {},
   "outputs": [],
   "source": []
  }
 ],
 "metadata": {
  "kernelspec": {
   "display_name": "Python 3",
   "language": "python",
   "name": "python3"
  },
  "language_info": {
   "codemirror_mode": {
    "name": "ipython",
    "version": 3
   },
   "file_extension": ".py",
   "mimetype": "text/x-python",
   "name": "python",
   "nbconvert_exporter": "python",
   "pygments_lexer": "ipython3",
   "version": "3.5.6"
  }
 },
 "nbformat": 4,
 "nbformat_minor": 2
}
