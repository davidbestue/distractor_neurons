{
 "cells": [
  {
   "cell_type": "code",
   "execution_count": 1,
   "metadata": {},
   "outputs": [],
   "source": [
    "import os\n",
    "from linares_plot import *"
   ]
  },
  {
   "cell_type": "code",
   "execution_count": null,
   "metadata": {},
   "outputs": [
    {
     "name": "stdout",
     "output_type": "stream",
     "text": [
      "1364705.xlsx\n",
      "1365201.xlsx\n",
      "1365301.xlsx\n",
      "1365501.xlsx\n",
      "1365701.xlsx\n"
     ]
    }
   ],
   "source": [
    "### Aprox. 10.000.000 de rows \n",
    "### Takes about 40min to load\n",
    "### path_ = 'C:\\\\Users\\\\David\\\\Desktop\\\\IDIBAPS\\\\Gottlib_data\\\\firing_rates_100' ##sliding window of 100\n",
    "### path_ = 'C:\\\\Users\\\\David\\\\Desktop\\\\IDIBAPS\\\\Gottlib_data\\\\firing_rates_10' ##sliding window of 10\n",
    "path_ = 'C:\\\\Users\\\\David\\\\Desktop\\\\IDIBAPS\\\\Gottlib_data\\\\firing_rates'  ##sliding window of 2\n",
    "files = os.listdir(path_)\n",
    "frames=[]\n",
    "for f in files:\n",
    "    fx=pd.read_excel( os.path.join(path_,f))\n",
    "    print(f)\n",
    "    frames.append(fx)\n",
    "#\n",
    "df=pd.concat(frames)"
   ]
  },
  {
   "cell_type": "code",
   "execution_count": null,
   "metadata": {},
   "outputs": [],
   "source": [
    "df.head()"
   ]
  },
  {
   "cell_type": "code",
   "execution_count": null,
   "metadata": {},
   "outputs": [],
   "source": []
  },
  {
   "cell_type": "markdown",
   "metadata": {},
   "source": [
    "## LIP"
   ]
  },
  {
   "cell_type": "code",
   "execution_count": null,
   "metadata": {},
   "outputs": [],
   "source": [
    "df_control_lip = df.loc[(df['TDconf']==0) & (df['brain_region']=='LIP') ]\n",
    "df_near_100_lip = df.loc[(df['TDconf']==3) & (df['brain_region']=='LIP') & (df['TDOA']==0) ]\n",
    "df_near_200_lip = df.loc[(df['TDconf']==3) & (df['brain_region']=='LIP') & (df['TDOA']==100) ]\n",
    "df_near_300_lip = df.loc[(df['TDconf']==3) & (df['brain_region']=='LIP') & (df['TDOA']==200)]\n",
    "df_near_900_lip = df.loc[(df['TDconf']==3) & (df['brain_region']=='LIP') & (df['TDOA']==800)]"
   ]
  },
  {
   "cell_type": "code",
   "execution_count": null,
   "metadata": {},
   "outputs": [],
   "source": [
    "sns.lineplot(x='time_centered', y='norm_firing_gauss', data=df_control_lip, color='darkgrey', linewidth=2)\n",
    "sns.lineplot(x='time_centered', y='norm_firing_gauss', data=df_near_100_lip, color='darkred', linewidth=2)\n",
    "sns.lineplot(x='time_centered', y='norm_firing_gauss', data=df_near_200_lip, color='darkgreen', linewidth=2)\n",
    "sns.lineplot(x='time_centered', y='norm_firing_gauss', data=df_near_300_lip, color='darkblue', linewidth=2)\n",
    "sns.lineplot(x='time_centered', y='norm_firing_gauss', data=df_near_900_lip, color='darkorange', linewidth=2)\n",
    "plt.xlim(-500, 2000)\n",
    "plt.ylim(0,1)\n",
    "plt.yticks([0,0.5,1])\n",
    "#plt.legend( frameon=False, bbox_to_anchor=(1.5, 0.5), prop={'size': 20})\n",
    "plt.gca().spines['right'].set_visible(False)  # aesthetics                                                                              # remove right spines\n",
    "plt.gca().spines['top'].set_visible(False)                                                                                  # remove top spines\n",
    "plt.gca().get_xaxis().tick_bottom()                                                                                         \n",
    "plt.gca().get_yaxis().tick_left()\n",
    "plt.gca().tick_params(direction='in') #direction\n",
    "plt.title('LIP', fontsize=25)\n",
    "plt.ylabel('normalized firing rate', fontsize=20)\n",
    "plt.xlabel('time after target onset', fontsize=20)\n",
    "plt.xticks(fontsize=15)\n",
    "plt.yticks(fontsize=15)\n",
    "\n",
    "plt.plot([0,0], [0,1], 'k--', linewidth=0.5)\n",
    "plt.plot([1700,1700], [0,1], 'k--', linewidth=0.5)\n",
    "\n",
    "plt.plot([100, 100], [0.01,0.01], markersize=15, color='darkred', marker='^')\n",
    "plt.plot([200, 200], [0.01,0.01], markersize=15, color='darkgreen', marker='^')\n",
    "plt.plot([300, 300], [0.01,0.01], markersize=15, color='darkblue', marker='^')\n",
    "plt.plot([900, 900], [0.01,0.01], markersize=15, color='darkorange', marker='^')"
   ]
  },
  {
   "cell_type": "code",
   "execution_count": null,
   "metadata": {},
   "outputs": [],
   "source": []
  },
  {
   "cell_type": "code",
   "execution_count": null,
   "metadata": {},
   "outputs": [],
   "source": [
    "df_control_lip = df.loc[(df['TDconf']==0) & (df['brain_region']=='LIP') ]\n",
    "df_far_100_lip = df.loc[(df['TDconf']==4) & (df['brain_region']=='LIP') & (df['TDOA']==0) ]\n",
    "df_far_200_lip = df.loc[(df['TDconf']==4) & (df['brain_region']=='LIP') & (df['TDOA']==100) ]\n",
    "df_far_300_lip = df.loc[(df['TDconf']==4) & (df['brain_region']=='LIP') & (df['TDOA']==200)]\n",
    "df_far_900_lip = df.loc[(df['TDconf']==4) & (df['brain_region']=='LIP') & (df['TDOA']==800)]"
   ]
  },
  {
   "cell_type": "code",
   "execution_count": null,
   "metadata": {},
   "outputs": [],
   "source": [
    "sns.lineplot(x='time_centered', y='norm_firing_gauss', data=df_control_lip, color='darkgrey', linewidth=2)\n",
    "sns.lineplot(x='time_centered', y='norm_firing_gauss', data=df_far_100_lip, color='darkred', linewidth=2)\n",
    "sns.lineplot(x='time_centered', y='norm_firing_gauss', data=df_far_200_lip, color='darkgreen', linewidth=2)\n",
    "sns.lineplot(x='time_centered', y='norm_firing_gauss', data=df_far_300_lip, color='darkblue', linewidth=2)\n",
    "sns.lineplot(x='time_centered', y='norm_firing_gauss', data=df_far_900_lip, color='darkorange', linewidth=2)\n",
    "plt.xlim(-500, 2000)\n",
    "plt.ylim(0,1)\n",
    "plt.yticks([0,0.5,1])\n",
    "#plt.legend( frameon=False, bbox_to_anchor=(1.5, 0.5), prop={'size': 20})\n",
    "plt.gca().spines['right'].set_visible(False)  # aesthetics                                                                              # remove right spines\n",
    "plt.gca().spines['top'].set_visible(False)                                                                                  # remove top spines\n",
    "plt.gca().get_xaxis().tick_bottom()                                                                                         \n",
    "plt.gca().get_yaxis().tick_left()\n",
    "plt.gca().tick_params(direction='in') #direction\n",
    "plt.title('LIP', fontsize=25)\n",
    "plt.ylabel('normalized firing rate', fontsize=20)\n",
    "plt.xlabel('time after target onset', fontsize=20)\n",
    "plt.xticks(fontsize=15)\n",
    "plt.yticks(fontsize=15)\n",
    "\n",
    "plt.plot([0,0], [0,1], 'k--', linewidth=0.5)\n",
    "plt.plot([1700,1700], [0,1], 'k--', linewidth=0.5)\n",
    "\n",
    "plt.plot([100, 100], [0.01,0.01], markersize=15, color='darkred', marker='^')\n",
    "plt.plot([200, 200], [0.01,0.01], markersize=15, color='darkgreen', marker='^')\n",
    "plt.plot([300, 300], [0.01,0.01], markersize=15, color='darkblue', marker='^')\n",
    "plt.plot([900, 900], [0.01,0.01], markersize=15, color='darkorange', marker='^')"
   ]
  },
  {
   "cell_type": "code",
   "execution_count": null,
   "metadata": {},
   "outputs": [],
   "source": []
  },
  {
   "cell_type": "markdown",
   "metadata": {},
   "source": [
    "## DLPFC"
   ]
  },
  {
   "cell_type": "code",
   "execution_count": null,
   "metadata": {},
   "outputs": [],
   "source": [
    "df_control_pfc = df.loc[(df['TDconf']==0) & (df['brain_region']=='DLPFC') ]\n",
    "df_near_100_pfc = df.loc[(df['TDconf']==3) & (df['brain_region']=='DLPFC') & (df['TDOA']==0) ]\n",
    "df_near_200_pfc = df.loc[(df['TDconf']==3) & (df['brain_region']=='DLPFC') & (df['TDOA']==100) ]\n",
    "df_near_300_pfc = df.loc[(df['TDconf']==3) & (df['brain_region']=='DLPFC') & (df['TDOA']==200)]\n",
    "df_near_900_pfc = df.loc[(df['TDconf']==3) & (df['brain_region']=='DLPFC') & (df['TDOA']==800)]"
   ]
  },
  {
   "cell_type": "code",
   "execution_count": null,
   "metadata": {},
   "outputs": [],
   "source": [
    "sns.lineplot(x='time_centered', y='norm_firing_gauss', data=df_control_pfc, color='darkgrey', linewidth=2)\n",
    "sns.lineplot(x='time_centered', y='norm_firing_gauss', data=df_near_100_pfc, color='darkred', linewidth=2)\n",
    "sns.lineplot(x='time_centered', y='norm_firing_gauss', data=df_near_200_pfc, color='darkgreen', linewidth=2)\n",
    "sns.lineplot(x='time_centered', y='norm_firing_gauss', data=df_near_300_pfc, color='darkblue', linewidth=2)\n",
    "sns.lineplot(x='time_centered', y='norm_firing_gauss', data=df_near_900_pfc, color='darkorange', linewidth=2)\n",
    "plt.xlim(-500, 2000)\n",
    "plt.ylim(0,1)\n",
    "plt.yticks([0,0.5,1])\n",
    "#plt.legend( frameon=False, bbox_to_anchor=(1.5, 0.5), prop={'size': 20})\n",
    "plt.gca().spines['right'].set_visible(False)  # aesthetics                                                                              # remove right spines\n",
    "plt.gca().spines['top'].set_visible(False)                                                                                  # remove top spines\n",
    "plt.gca().get_xaxis().tick_bottom()                                                                                         \n",
    "plt.gca().get_yaxis().tick_left()\n",
    "plt.gca().tick_params(direction='in') #direction\n",
    "plt.title('dlPFC', fontsize=25)\n",
    "plt.ylabel('normalized firing rate', fontsize=20)\n",
    "plt.xlabel('time after target onset', fontsize=20)\n",
    "plt.xticks(fontsize=15)\n",
    "plt.yticks(fontsize=15)\n",
    "\n",
    "plt.plot([0,0], [0,1], 'k--', linewidth=0.5)\n",
    "plt.plot([1700,1700], [0,1], 'k--', linewidth=0.5)\n",
    "\n",
    "plt.plot([100, 100], [0.01,0.01], markersize=15, color='darkred', marker='^')\n",
    "plt.plot([200, 200], [0.01,0.01], markersize=15, color='darkgreen', marker='^')\n",
    "plt.plot([300, 300], [0.01,0.01], markersize=15, color='darkblue', marker='^')\n",
    "plt.plot([900, 900], [0.01,0.01], markersize=15, color='darkorange', marker='^')"
   ]
  },
  {
   "cell_type": "code",
   "execution_count": null,
   "metadata": {},
   "outputs": [],
   "source": []
  },
  {
   "cell_type": "code",
   "execution_count": null,
   "metadata": {},
   "outputs": [],
   "source": [
    "df_control_pfc = df.loc[(df['TDconf']==0) & (df['brain_region']=='DLPFC') ]\n",
    "df_far_100_pfc = df.loc[(df['TDconf']==4) & (df['brain_region']=='DLPFC') & (df['TDOA']==0) ]\n",
    "df_far_200_pfc = df.loc[(df['TDconf']==4) & (df['brain_region']=='DLPFC') & (df['TDOA']==100) ]\n",
    "df_far_300_pfc = df.loc[(df['TDconf']==4) & (df['brain_region']=='DLPFC') & (df['TDOA']==200)]\n",
    "df_far_900_pfc = df.loc[(df['TDconf']==4) & (df['brain_region']=='DLPFC') & (df['TDOA']==800)]"
   ]
  },
  {
   "cell_type": "code",
   "execution_count": null,
   "metadata": {},
   "outputs": [],
   "source": [
    "sns.lineplot(x='time_centered', y='norm_firing_gauss', data=df_control_pfc, color='darkgrey', linewidth=2)\n",
    "sns.lineplot(x='time_centered', y='norm_firing_gauss', data=df_far_100_pfc, color='darkred', linewidth=2)\n",
    "sns.lineplot(x='time_centered', y='norm_firing_gauss', data=df_far_200_pfc, color='darkgreen', linewidth=2)\n",
    "sns.lineplot(x='time_centered', y='norm_firing_gauss', data=df_far_300_pfc, color='darkblue', linewidth=2)\n",
    "sns.lineplot(x='time_centered', y='norm_firing_gauss', data=df_far_900_pfc, color='darkorange', linewidth=2)\n",
    "plt.xlim(-500, 2000)\n",
    "plt.ylim(0,1)\n",
    "plt.yticks([0,0.5,1])\n",
    "#plt.legend( frameon=False, bbox_to_anchor=(1.5, 0.5), prop={'size': 20})\n",
    "plt.gca().spines['right'].set_visible(False)  # aesthetics                                                                              # remove right spines\n",
    "plt.gca().spines['top'].set_visible(False)                                                                                  # remove top spines\n",
    "plt.gca().get_xaxis().tick_bottom()                                                                                         \n",
    "plt.gca().get_yaxis().tick_left()\n",
    "plt.gca().tick_params(direction='in') #direction\n",
    "plt.title('dlPFC', fontsize=25)\n",
    "plt.ylabel('normalized firing rate', fontsize=20)\n",
    "plt.xlabel('time after target onset', fontsize=20)\n",
    "plt.xticks(fontsize=15)\n",
    "plt.yticks(fontsize=15)\n",
    "\n",
    "plt.plot([0,0], [0,1], 'k--', linewidth=0.5)\n",
    "plt.plot([1700,1700], [0,1], 'k--', linewidth=0.5)\n",
    "\n",
    "plt.plot([100, 100], [0.01,0.01], markersize=15, color='darkred', marker='^')\n",
    "plt.plot([200, 200], [0.01,0.01], markersize=15, color='darkgreen', marker='^')\n",
    "plt.plot([300, 300], [0.01,0.01], markersize=15, color='darkblue', marker='^')\n",
    "plt.plot([900, 900], [0.01,0.01], markersize=15, color='darkorange', marker='^')"
   ]
  },
  {
   "cell_type": "code",
   "execution_count": null,
   "metadata": {},
   "outputs": [],
   "source": []
  },
  {
   "cell_type": "markdown",
   "metadata": {},
   "source": [
    "### Subset for cross-temporal decoding"
   ]
  },
  {
   "cell_type": "code",
   "execution_count": null,
   "metadata": {},
   "outputs": [],
   "source": [
    "def reduce_df(df, w_size=100, max_=2100):\n",
    "    windows_st = np.arange(0,max_, w_size)\n",
    "    windows_end = np.arange(w_size, max_+w_size, w_size)\n",
    "    windows_end\n",
    "    ####\n",
    "    frames=[]\n",
    "    for Neuron in df.neuron.unique():\n",
    "        df_NE = df.loc[df['neuron']==Neuron]\n",
    "        for trial in df_NE.trial.unique():\n",
    "            df_TR = df_NE.loc[df_NE['trial']==trial]\n",
    "            mean_=[]\n",
    "            times_=[]\n",
    "            for idx_, wst in enumerate(windows_st):\n",
    "                mean_FR = df_TR.loc[(df_TR['times'] >= wst) & (df_TR['times'] < windows_end[idx_]), 'firing_gauss' ].mean()\n",
    "                mean_.append(mean_FR)\n",
    "                times_.append(wst)\n",
    "\n",
    "            dfx = pd.DataFrame({'firing':mean_, 'times':times_})\n",
    "            dfx['trial']=df_TR.iloc[0].trial\n",
    "            dfx['TDOA']=df_TR.iloc[0].TDOA\n",
    "            dfx['TDconf']=df_TR.iloc[0].TDconf\n",
    "            dfx['targetloc']=df_TR.iloc[0].targetloc\n",
    "            dfx['distLoc']=df_TR.iloc[0].distLoc\n",
    "            dfx['fixationtime']=df_TR.iloc[0].fixationtime\n",
    "            dfx['failed']=df_TR.iloc[0].failed\n",
    "            dfx['saccadeChoice']=df_TR.iloc[0].saccadeChoice\n",
    "            dfx['monkey']=df_TR.iloc[0].monkey\n",
    "            dfx['neuron']=df_TR.iloc[0].neuron\n",
    "            dfx['brain_region']=df_TR.iloc[0].brain_region\n",
    "            dfx['rf_loc']=df_TR.iloc[0].rf_loc\n",
    "            frames.append(dfx)\n",
    "        #\n",
    "    #\n",
    "    df_reduced=pd.concat(frames)\n",
    "    return df_reduced\n"
   ]
  },
  {
   "cell_type": "code",
   "execution_count": null,
   "metadata": {},
   "outputs": [],
   "source": [
    "### The conditions I am interested in for the cross-temporal decoding are the 0 and the 1\n",
    "## T in RF, no D (0)\n",
    "## T in RF, near D (1) (where I can see more effect of the distractor)"
   ]
  },
  {
   "cell_type": "code",
   "execution_count": null,
   "metadata": {},
   "outputs": [],
   "source": [
    "path_CTD = 'C:\\\\Users\\\\David\\\\Desktop\\\\IDIBAPS\\\\Gottlib_data\\\\CTD'"
   ]
  },
  {
   "cell_type": "code",
   "execution_count": null,
   "metadata": {},
   "outputs": [],
   "source": [
    "df_control_pfc = df.loc[(df['TDconf']==0) & (df['brain_region']=='DLPFC') ]\n",
    "df_100_pfc = df.loc[(df['TDconf']==1) & (df['brain_region']=='DLPFC') & (df['TDOA']==0) ]\n",
    "df_200_pfc = df.loc[(df['TDconf']==1) & (df['brain_region']=='DLPFC') & (df['TDOA']==100) ]\n",
    "df_300_pfc = df.loc[(df['TDconf']==1) & (df['brain_region']=='DLPFC') & (df['TDOA']==200)]\n",
    "df_900_pfc = df.loc[(df['TDconf']==1) & (df['brain_region']=='DLPFC') & (df['TDOA']==800)]"
   ]
  },
  {
   "cell_type": "code",
   "execution_count": null,
   "metadata": {},
   "outputs": [],
   "source": [
    "pfc_cont = reduce_df(df_control_pfc)\n",
    "pfc_100 = reduce_df(df_100_pfc)\n",
    "pfc_200 = reduce_df(df_200_pfc)\n",
    "pfc_300 = reduce_df(df_300_pfc)\n",
    "pfc_900 = reduce_df(df_900_pfc)"
   ]
  },
  {
   "cell_type": "code",
   "execution_count": null,
   "metadata": {},
   "outputs": [],
   "source": [
    "pfc_cont.to_excel( os.path.join(path_CTD, 'pfc_cont.xlsx'))\n",
    "pfc_100.to_excel( os.path.join(path_CTD, 'pfc_100.xlsx'))\n",
    "pfc_200.to_excel( os.path.join(path_CTD, 'pfc_200.xlsx'))\n",
    "pfc_300.to_excel( os.path.join(path_CTD, 'pfc_300.xlsx'))\n",
    "pfc_900.to_excel( os.path.join(path_CTD, 'pfc_900.xlsx'))"
   ]
  },
  {
   "cell_type": "code",
   "execution_count": null,
   "metadata": {},
   "outputs": [],
   "source": []
  },
  {
   "cell_type": "code",
   "execution_count": null,
   "metadata": {},
   "outputs": [],
   "source": [
    "df_control_lip = df.loc[(df['TDconf']==0) & (df['brain_region']=='LIP') ]\n",
    "df_100_lip = df.loc[(df['TDconf']==1) & (df['brain_region']=='LIP') & (df['TDOA']==0) ]\n",
    "df_200_lip = df.loc[(df['TDconf']==1) & (df['brain_region']=='LIP') & (df['TDOA']==100) ]\n",
    "df_300_lip = df.loc[(df['TDconf']==1) & (df['brain_region']=='LIP') & (df['TDOA']==200)]\n",
    "df_900_lip = df.loc[(df['TDconf']==1) & (df['brain_region']=='LIP') & (df['TDOA']==800)]"
   ]
  },
  {
   "cell_type": "code",
   "execution_count": null,
   "metadata": {},
   "outputs": [],
   "source": [
    "lip_cont = reduce_df(df_control_lip)\n",
    "lip_100 = reduce_df(df_100_lip)\n",
    "lip_200 = reduce_df(df_200_lip)\n",
    "lip_300 = reduce_df(df_300_lip)\n",
    "lip_900 = reduce_df(df_900_lip)"
   ]
  },
  {
   "cell_type": "code",
   "execution_count": null,
   "metadata": {},
   "outputs": [],
   "source": [
    "lip_cont.to_excel( os.path.join(path_CTD, 'lip_cont.xlsx'))\n",
    "lip_100.to_excel( os.path.join(path_CTD, 'lip_100.xlsx'))\n",
    "lip_200.to_excel( os.path.join(path_CTD, 'lip_200.xlsx'))\n",
    "lip_300.to_excel( os.path.join(path_CTD, 'lip_300.xlsx'))\n",
    "lip_900.to_excel( os.path.join(path_CTD, 'lip_900.xlsx'))"
   ]
  },
  {
   "cell_type": "code",
   "execution_count": null,
   "metadata": {},
   "outputs": [],
   "source": []
  }
 ],
 "metadata": {
  "kernelspec": {
   "display_name": "Python 3",
   "language": "python",
   "name": "python3"
  },
  "language_info": {
   "codemirror_mode": {
    "name": "ipython",
    "version": 3
   },
   "file_extension": ".py",
   "mimetype": "text/x-python",
   "name": "python",
   "nbconvert_exporter": "python",
   "pygments_lexer": "ipython3",
   "version": "3.5.6"
  }
 },
 "nbformat": 4,
 "nbformat_minor": 2
}
