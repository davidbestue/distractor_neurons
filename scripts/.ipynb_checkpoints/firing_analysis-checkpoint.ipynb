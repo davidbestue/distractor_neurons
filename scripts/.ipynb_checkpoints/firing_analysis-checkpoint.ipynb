{
 "cells": [
  {
   "cell_type": "code",
   "execution_count": 1,
   "metadata": {},
   "outputs": [],
   "source": [
    "import os\n",
    "from linares_plot import *"
   ]
  },
  {
   "cell_type": "code",
   "execution_count": null,
   "metadata": {},
   "outputs": [],
   "source": [
    "### Aprox. 10.000.000 de rows \n",
    "### Takes about 40min to load\n",
    "path_ = 'C:\\\\Users\\\\David\\\\Desktop\\\\IDIBAPS\\\\Gottlib_data\\\\firing_rates'\n",
    "files = os.listdir(path_)\n",
    "frames=[]\n",
    "for f in files:\n",
    "    fx=pd.read_excel( os.path.join(path_,f))\n",
    "    print(f)\n",
    "    frames.append(fx)\n",
    "#\n",
    "df=pd.concat(frames)"
   ]
  },
  {
   "cell_type": "code",
   "execution_count": null,
   "metadata": {},
   "outputs": [],
   "source": [
    "df.head()"
   ]
  },
  {
   "cell_type": "code",
   "execution_count": null,
   "metadata": {},
   "outputs": [],
   "source": []
  },
  {
   "cell_type": "code",
   "execution_count": null,
   "metadata": {},
   "outputs": [],
   "source": []
  },
  {
   "cell_type": "code",
   "execution_count": null,
   "metadata": {},
   "outputs": [],
   "source": []
  },
  {
   "cell_type": "code",
   "execution_count": null,
   "metadata": {},
   "outputs": [],
   "source": [
    "df_control"
   ]
  },
  {
   "cell_type": "code",
   "execution_count": null,
   "metadata": {},
   "outputs": [],
   "source": [
    "sns.lineplot(x='time_centered', y='firing rate', \n",
    "             data=df.loc[(df['distLoc']==99) & (df['TDconf']==0) & (df['failed']==1) ], \n",
    "             color=colors[idx], markers=True, marker=\"o\", markersize=7, linewidth=2, label=labels[idx])"
   ]
  },
  {
   "cell_type": "code",
   "execution_count": null,
   "metadata": {},
   "outputs": [],
   "source": []
  },
  {
   "cell_type": "code",
   "execution_count": null,
   "metadata": {},
   "outputs": [],
   "source": [
    "labels=['control', 'TDOA:100', 'TDOA:200', 'TDOA:300', 'TDOA:900']\n",
    "colors=['darkblue', 'darkgreen', 'darkorange', 'darkgrey', 'darkred']\n",
    "\n",
    "for idx, df_ in enumerate([LIP_control, LIP_0, LIP_100, LIP_200, LIP_800]):\n",
    "    df_x = merge_one_col(df_)\n",
    "    sns.lineplot(x='times', y='firing rate', data=df_x, color=colors[idx], \n",
    "                 markers=True, marker=\"o\", markersize=7, linewidth=2, label=labels[idx])\n",
    "    \n",
    "plt.gca().spines['right'].set_visible(False)  # aesthetics                                                                              # remove right spines\n",
    "plt.gca().spines['top'].set_visible(False)                                                                                  # remove top spines\n",
    "plt.gca().get_xaxis().tick_bottom()                                                                                         \n",
    "plt.gca().get_yaxis().tick_left()\n",
    "plt.gca().tick_params(direction='in') #direction\n",
    "plt.gca().set_xticks([0,500,1000,1500,2000])\n",
    "#plt.gca().set_xticklabels([0,500,1000,1500,2000])\n",
    "plt.xlabel('time (ms)')\n",
    "plt.ylim(0,1)\n",
    "plt.title('LIP')\n",
    "\n",
    "l=plt.legend(loc=1, frameon=False, prop={'size': 15})\n",
    "hue_order=labels\n",
    "palette=colors\n",
    "for i_h, h_idx in enumerate(hue_order):\n",
    "    l.get_texts()[i_h].set_text(h_idx)\n",
    "    l.legendHandles[i_h].set_visible(False);\n",
    "    l.get_texts()[i_h].set_color(palette[i_h]);\n",
    "\n",
    "plt.show() "
   ]
  }
 ],
 "metadata": {
  "kernelspec": {
   "display_name": "Python 3",
   "language": "python",
   "name": "python3"
  },
  "language_info": {
   "codemirror_mode": {
    "name": "ipython",
    "version": 3
   },
   "file_extension": ".py",
   "mimetype": "text/x-python",
   "name": "python",
   "nbconvert_exporter": "python",
   "pygments_lexer": "ipython3",
   "version": "3.5.6"
  }
 },
 "nbformat": 4,
 "nbformat_minor": 2
}
