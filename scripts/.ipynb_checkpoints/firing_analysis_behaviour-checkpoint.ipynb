{
 "cells": [
  {
   "cell_type": "code",
   "execution_count": 1,
   "metadata": {},
   "outputs": [],
   "source": [
    "import os\n",
    "from linares_plot import *\n",
    "from statsmodels.stats.multicomp import pairwise_tukeyhsd"
   ]
  },
  {
   "cell_type": "code",
   "execution_count": null,
   "metadata": {},
   "outputs": [
    {
     "name": "stdout",
     "output_type": "stream",
     "text": [
      "1364705.xlsx\n",
      "1365201.xlsx\n",
      "1365301.xlsx\n"
     ]
    }
   ],
   "source": [
    "### Aprox. 10.000.000 de rows \n",
    "### Takes about 40min to load\n",
    "### path_ = 'C:\\\\Users\\\\David\\\\Desktop\\\\IDIBAPS\\\\Gottlib_data\\\\firing_rates_100' ##sliding window of 100\n",
    "### path_ = 'C:\\\\Users\\\\David\\\\Desktop\\\\IDIBAPS\\\\Gottlib_data\\\\firing_rates_10' ##sliding window of 10\n",
    "path_ = 'C:\\\\Users\\\\David\\\\Desktop\\\\IDIBAPS\\\\Gottlib_data\\\\firing_rates'  ##sliding window of 10\n",
    "files = os.listdir(path_)\n",
    "frames=[]\n",
    "for f in files:\n",
    "    fx=pd.read_excel( os.path.join(path_,f))\n",
    "    print(f)\n",
    "    frames.append(fx)\n",
    "#\n",
    "df=pd.concat(frames)"
   ]
  },
  {
   "cell_type": "code",
   "execution_count": null,
   "metadata": {},
   "outputs": [],
   "source": [
    "len(df)"
   ]
  },
  {
   "cell_type": "code",
   "execution_count": null,
   "metadata": {},
   "outputs": [],
   "source": [
    "fifty = [  1367701,   1370202,   1371202,   1372301, 189168701, 189169502,\n",
    "       189171003, 189171602, 189172801, 189173101, 189175201, 189175801,\n",
    "       189176501, 189176901, 189177402, 189177701,   1891783,   1891793,\n",
    "       189179702, 189180001, 189181001,   1891819, 189182202, 189182501,\n",
    "       189182901, 189183201, 189183402, 189184601,   1891857, 189189601,\n",
    "       189192001, 189192201, 189196301]\n",
    "\n",
    "forty = [  1370202,   1372301, 189168701, 189169502, 189171003, 189173101,\n",
    "       189175801, 189176501, 189177402,   1891783, 189179702, 189180001,\n",
    "       189181001,   1891819, 189182202, 189182901, 189192201]\n",
    "\n",
    "therty=[  1370202, 189173101, 189175801, 189176501,   1891783,   1891819,\n",
    "       189192201]"
   ]
  },
  {
   "cell_type": "code",
   "execution_count": null,
   "metadata": {},
   "outputs": [],
   "source": []
  },
  {
   "cell_type": "code",
   "execution_count": null,
   "metadata": {},
   "outputs": [],
   "source": [
    "pfc_=[]\n",
    "\n",
    "for TDOA in [0, 100, 200, 800]:\n",
    "    for neuron in fifty:\n",
    "        corr_= df.loc[(df['TDconf']==1) & (df['brain_region']=='DLPFC') & \n",
    "                 (df['performance']==1) & (df['TDOA']==TDOA) & \n",
    "                 (df['neuron']==neuron) & \n",
    "                 (df['time_centered']>TDOA) & (df['time_centered']<TDOA+100), 'norm_firing_gauss'].mean() \n",
    "        err_= df.loc[(df['TDconf']==1) & (df['brain_region']=='DLPFC') & \n",
    "                 (df['performance']==0) & (df['TDOA']==TDOA) & \n",
    "                 (df['neuron']==neuron) & \n",
    "                 (df['time_centered']>TDOA) & (df['time_centered']<TDOA+100), 'norm_firing_gauss'].mean() \n",
    "        pfc_.append([corr_, TDOA, 'corr', neuron, 'dlpfc'])\n",
    "        pfc_.append([err_, TDOA, 'err', neuron, 'dlpfc'])"
   ]
  },
  {
   "cell_type": "code",
   "execution_count": null,
   "metadata": {},
   "outputs": [],
   "source": [
    "df_pfc=pd.DataFrame(pfc_)\n",
    "#df_pfc.columns=['norm_firing_gauss', 'TDOA', 'performance', 'neuron', area']\n",
    "df_pfc.columns=['norm_firing_gauss', 'TDOA', 'performance', 'area']\n",
    "\n",
    "\n",
    "\n",
    "sns.lineplot(x=\"TDOA\", y=\"norm_firing_gauss\", hue='perfromance', ci=68, palette='tab10',\n",
    "             data=df_pfc, marker=\"o\")\n",
    "\n",
    "plt.gca().spines['right'].set_visible(False)  # aesthetics                                                                              # remove right spines\n",
    "plt.gca().spines['top'].set_visible(False)                                                                                  # remove top spines\n",
    "plt.gca().get_xaxis().tick_bottom()                                                                                         \n",
    "plt.gca().get_yaxis().tick_left()\n",
    "plt.gca().tick_params(direction='in') #direction\n",
    "plt.title('subset-population', fontsize=25)\n",
    "plt.ylabel('difference firing rate', fontsize=20)\n",
    "plt.xlabel('TDOA', fontsize=20)\n",
    "plt.xticks([0,100,200, 800])\n",
    "plt.xticks(fontsize=15)\n",
    "plt.yticks(fontsize=15)\n",
    "plt.ylim(-0.05, 0.3)"
   ]
  }
 ],
 "metadata": {
  "kernelspec": {
   "display_name": "Python 3",
   "language": "python",
   "name": "python3"
  },
  "language_info": {
   "codemirror_mode": {
    "name": "ipython",
    "version": 3
   },
   "file_extension": ".py",
   "mimetype": "text/x-python",
   "name": "python",
   "nbconvert_exporter": "python",
   "pygments_lexer": "ipython3",
   "version": "3.5.6"
  }
 },
 "nbformat": 4,
 "nbformat_minor": 2
}
