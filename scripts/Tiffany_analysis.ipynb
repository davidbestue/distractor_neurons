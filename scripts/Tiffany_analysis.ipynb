{
 "cells": [
  {
   "cell_type": "code",
   "execution_count": 1,
   "metadata": {},
   "outputs": [],
   "source": [
    "import os \n",
    "import numpy as np\n",
    "import pandas as pd\n",
    "import scipy.io\n",
    "import seaborn as sns\n",
    "import matplotlib.pyplot as plt"
   ]
  },
  {
   "cell_type": "code",
   "execution_count": 21,
   "metadata": {},
   "outputs": [
    {
     "name": "stderr",
     "output_type": "stream",
     "text": [
      "C:\\Users\\David\\Anaconda3\\envs\\python3\\lib\\site-packages\\h5py\\__init__.py:36: FutureWarning: Conversion of the second argument of issubdtype from `float` to `np.floating` is deprecated. In future, it will be treated as `np.float64 == np.dtype(float).type`.\n",
      "  from ._conv import register_converters as _register_converters\n"
     ]
    }
   ],
   "source": [
    "from neo.core import SpikeTrain\n",
    "from quantities import ms, s, Hz\n",
    "from elephant.statistics import mean_firing_rate\n",
    "from elephant.statistics import time_histogram, instantaneous_rate\n",
    "from elephant.kernels import GaussianKernel"
   ]
  },
  {
   "cell_type": "code",
   "execution_count": 3,
   "metadata": {},
   "outputs": [],
   "source": [
    "file_to_use = 'C:\\\\Users\\\\David\\\\Desktop\\\\IDIBAPS\\\\Tiffany\\\\data.csv'"
   ]
  },
  {
   "cell_type": "code",
   "execution_count": 4,
   "metadata": {},
   "outputs": [],
   "source": [
    "df = pd.read_csv(file_to_use, sep=',', index_col=0)"
   ]
  },
  {
   "cell_type": "code",
   "execution_count": 5,
   "metadata": {},
   "outputs": [
    {
     "data": {
      "text/html": [
       "<div>\n",
       "<style scoped>\n",
       "    .dataframe tbody tr th:only-of-type {\n",
       "        vertical-align: middle;\n",
       "    }\n",
       "\n",
       "    .dataframe tbody tr th {\n",
       "        vertical-align: top;\n",
       "    }\n",
       "\n",
       "    .dataframe thead th {\n",
       "        text-align: right;\n",
       "    }\n",
       "</style>\n",
       "<table border=\"1\" class=\"dataframe\">\n",
       "  <thead>\n",
       "    <tr style=\"text-align: right;\">\n",
       "      <th></th>\n",
       "      <th>cluster_id</th>\n",
       "      <th>fixed_times</th>\n",
       "      <th>trial</th>\n",
       "      <th>Delay_ON</th>\n",
       "      <th>Delay_OFF</th>\n",
       "      <th>Delay_length</th>\n",
       "      <th>Stimulus_ON</th>\n",
       "      <th>Response_ON</th>\n",
       "      <th>START</th>\n",
       "      <th>END</th>\n",
       "      <th>a_Stimulus_ON</th>\n",
       "      <th>a_Delay_ON</th>\n",
       "      <th>a_Delay_OFF</th>\n",
       "      <th>a_Response_ON</th>\n",
       "      <th>vector_answer</th>\n",
       "      <th>reward_side</th>\n",
       "      <th>hit</th>\n",
       "    </tr>\n",
       "  </thead>\n",
       "  <tbody>\n",
       "    <tr>\n",
       "      <th>0</th>\n",
       "      <td>1193</td>\n",
       "      <td>88.264567</td>\n",
       "      <td>1</td>\n",
       "      <td>89.061367</td>\n",
       "      <td>89.161400</td>\n",
       "      <td>0.100033</td>\n",
       "      <td>88.661367</td>\n",
       "      <td>89.361400</td>\n",
       "      <td>88.161367</td>\n",
       "      <td>95.522933</td>\n",
       "      <td>-0.396800</td>\n",
       "      <td>-0.796800</td>\n",
       "      <td>-0.896833</td>\n",
       "      <td>-1.096833</td>\n",
       "      <td>0</td>\n",
       "      <td>0.0</td>\n",
       "      <td>1.0</td>\n",
       "    </tr>\n",
       "    <tr>\n",
       "      <th>1</th>\n",
       "      <td>1193</td>\n",
       "      <td>88.419400</td>\n",
       "      <td>1</td>\n",
       "      <td>89.061367</td>\n",
       "      <td>89.161400</td>\n",
       "      <td>0.100033</td>\n",
       "      <td>88.661367</td>\n",
       "      <td>89.361400</td>\n",
       "      <td>88.161367</td>\n",
       "      <td>95.522933</td>\n",
       "      <td>-0.241967</td>\n",
       "      <td>-0.641967</td>\n",
       "      <td>-0.742000</td>\n",
       "      <td>-0.942000</td>\n",
       "      <td>0</td>\n",
       "      <td>0.0</td>\n",
       "      <td>1.0</td>\n",
       "    </tr>\n",
       "    <tr>\n",
       "      <th>2</th>\n",
       "      <td>1193</td>\n",
       "      <td>88.453467</td>\n",
       "      <td>1</td>\n",
       "      <td>89.061367</td>\n",
       "      <td>89.161400</td>\n",
       "      <td>0.100033</td>\n",
       "      <td>88.661367</td>\n",
       "      <td>89.361400</td>\n",
       "      <td>88.161367</td>\n",
       "      <td>95.522933</td>\n",
       "      <td>-0.207900</td>\n",
       "      <td>-0.607900</td>\n",
       "      <td>-0.707933</td>\n",
       "      <td>-0.907933</td>\n",
       "      <td>0</td>\n",
       "      <td>0.0</td>\n",
       "      <td>1.0</td>\n",
       "    </tr>\n",
       "    <tr>\n",
       "      <th>3</th>\n",
       "      <td>1193</td>\n",
       "      <td>88.669733</td>\n",
       "      <td>1</td>\n",
       "      <td>89.061367</td>\n",
       "      <td>89.161400</td>\n",
       "      <td>0.100033</td>\n",
       "      <td>88.661367</td>\n",
       "      <td>89.361400</td>\n",
       "      <td>88.161367</td>\n",
       "      <td>95.522933</td>\n",
       "      <td>0.008367</td>\n",
       "      <td>-0.391633</td>\n",
       "      <td>-0.491667</td>\n",
       "      <td>-0.691667</td>\n",
       "      <td>0</td>\n",
       "      <td>0.0</td>\n",
       "      <td>1.0</td>\n",
       "    </tr>\n",
       "    <tr>\n",
       "      <th>4</th>\n",
       "      <td>1193</td>\n",
       "      <td>88.820100</td>\n",
       "      <td>1</td>\n",
       "      <td>89.061367</td>\n",
       "      <td>89.161400</td>\n",
       "      <td>0.100033</td>\n",
       "      <td>88.661367</td>\n",
       "      <td>89.361400</td>\n",
       "      <td>88.161367</td>\n",
       "      <td>95.522933</td>\n",
       "      <td>0.158733</td>\n",
       "      <td>-0.241267</td>\n",
       "      <td>-0.341300</td>\n",
       "      <td>-0.541300</td>\n",
       "      <td>0</td>\n",
       "      <td>0.0</td>\n",
       "      <td>1.0</td>\n",
       "    </tr>\n",
       "    <tr>\n",
       "      <th>...</th>\n",
       "      <td>...</td>\n",
       "      <td>...</td>\n",
       "      <td>...</td>\n",
       "      <td>...</td>\n",
       "      <td>...</td>\n",
       "      <td>...</td>\n",
       "      <td>...</td>\n",
       "      <td>...</td>\n",
       "      <td>...</td>\n",
       "      <td>...</td>\n",
       "      <td>...</td>\n",
       "      <td>...</td>\n",
       "      <td>...</td>\n",
       "      <td>...</td>\n",
       "      <td>...</td>\n",
       "      <td>...</td>\n",
       "      <td>...</td>\n",
       "    </tr>\n",
       "    <tr>\n",
       "      <th>265735</th>\n",
       "      <td>943</td>\n",
       "      <td>2626.225300</td>\n",
       "      <td>222</td>\n",
       "      <td>2622.972567</td>\n",
       "      <td>2625.972633</td>\n",
       "      <td>3.000067</td>\n",
       "      <td>2622.572567</td>\n",
       "      <td>2626.172633</td>\n",
       "      <td>2622.072567</td>\n",
       "      <td>NaN</td>\n",
       "      <td>3.652733</td>\n",
       "      <td>3.252733</td>\n",
       "      <td>0.252667</td>\n",
       "      <td>0.052667</td>\n",
       "      <td>0</td>\n",
       "      <td>1.0</td>\n",
       "      <td>0.0</td>\n",
       "    </tr>\n",
       "    <tr>\n",
       "      <th>265736</th>\n",
       "      <td>943</td>\n",
       "      <td>2626.795500</td>\n",
       "      <td>222</td>\n",
       "      <td>2622.972567</td>\n",
       "      <td>2625.972633</td>\n",
       "      <td>3.000067</td>\n",
       "      <td>2622.572567</td>\n",
       "      <td>2626.172633</td>\n",
       "      <td>2622.072567</td>\n",
       "      <td>NaN</td>\n",
       "      <td>4.222933</td>\n",
       "      <td>3.822933</td>\n",
       "      <td>0.822867</td>\n",
       "      <td>0.622867</td>\n",
       "      <td>0</td>\n",
       "      <td>1.0</td>\n",
       "      <td>0.0</td>\n",
       "    </tr>\n",
       "    <tr>\n",
       "      <th>265737</th>\n",
       "      <td>943</td>\n",
       "      <td>2627.401300</td>\n",
       "      <td>222</td>\n",
       "      <td>2622.972567</td>\n",
       "      <td>2625.972633</td>\n",
       "      <td>3.000067</td>\n",
       "      <td>2622.572567</td>\n",
       "      <td>2626.172633</td>\n",
       "      <td>2622.072567</td>\n",
       "      <td>NaN</td>\n",
       "      <td>4.828733</td>\n",
       "      <td>4.428733</td>\n",
       "      <td>1.428667</td>\n",
       "      <td>1.228667</td>\n",
       "      <td>0</td>\n",
       "      <td>1.0</td>\n",
       "      <td>0.0</td>\n",
       "    </tr>\n",
       "    <tr>\n",
       "      <th>265738</th>\n",
       "      <td>943</td>\n",
       "      <td>2628.004167</td>\n",
       "      <td>222</td>\n",
       "      <td>2622.972567</td>\n",
       "      <td>2625.972633</td>\n",
       "      <td>3.000067</td>\n",
       "      <td>2622.572567</td>\n",
       "      <td>2626.172633</td>\n",
       "      <td>2622.072567</td>\n",
       "      <td>NaN</td>\n",
       "      <td>5.431600</td>\n",
       "      <td>5.031600</td>\n",
       "      <td>2.031533</td>\n",
       "      <td>1.831533</td>\n",
       "      <td>0</td>\n",
       "      <td>1.0</td>\n",
       "      <td>0.0</td>\n",
       "    </tr>\n",
       "    <tr>\n",
       "      <th>265739</th>\n",
       "      <td>943</td>\n",
       "      <td>2632.051300</td>\n",
       "      <td>222</td>\n",
       "      <td>2622.972567</td>\n",
       "      <td>2625.972633</td>\n",
       "      <td>3.000067</td>\n",
       "      <td>2622.572567</td>\n",
       "      <td>2626.172633</td>\n",
       "      <td>2622.072567</td>\n",
       "      <td>NaN</td>\n",
       "      <td>9.478733</td>\n",
       "      <td>9.078733</td>\n",
       "      <td>6.078667</td>\n",
       "      <td>5.878667</td>\n",
       "      <td>0</td>\n",
       "      <td>1.0</td>\n",
       "      <td>0.0</td>\n",
       "    </tr>\n",
       "  </tbody>\n",
       "</table>\n",
       "<p>265740 rows × 17 columns</p>\n",
       "</div>"
      ],
      "text/plain": [
       "        cluster_id  fixed_times  trial     Delay_ON    Delay_OFF  \\\n",
       "0             1193    88.264567      1    89.061367    89.161400   \n",
       "1             1193    88.419400      1    89.061367    89.161400   \n",
       "2             1193    88.453467      1    89.061367    89.161400   \n",
       "3             1193    88.669733      1    89.061367    89.161400   \n",
       "4             1193    88.820100      1    89.061367    89.161400   \n",
       "...            ...          ...    ...          ...          ...   \n",
       "265735         943  2626.225300    222  2622.972567  2625.972633   \n",
       "265736         943  2626.795500    222  2622.972567  2625.972633   \n",
       "265737         943  2627.401300    222  2622.972567  2625.972633   \n",
       "265738         943  2628.004167    222  2622.972567  2625.972633   \n",
       "265739         943  2632.051300    222  2622.972567  2625.972633   \n",
       "\n",
       "        Delay_length  Stimulus_ON  Response_ON        START        END  \\\n",
       "0           0.100033    88.661367    89.361400    88.161367  95.522933   \n",
       "1           0.100033    88.661367    89.361400    88.161367  95.522933   \n",
       "2           0.100033    88.661367    89.361400    88.161367  95.522933   \n",
       "3           0.100033    88.661367    89.361400    88.161367  95.522933   \n",
       "4           0.100033    88.661367    89.361400    88.161367  95.522933   \n",
       "...              ...          ...          ...          ...        ...   \n",
       "265735      3.000067  2622.572567  2626.172633  2622.072567        NaN   \n",
       "265736      3.000067  2622.572567  2626.172633  2622.072567        NaN   \n",
       "265737      3.000067  2622.572567  2626.172633  2622.072567        NaN   \n",
       "265738      3.000067  2622.572567  2626.172633  2622.072567        NaN   \n",
       "265739      3.000067  2622.572567  2626.172633  2622.072567        NaN   \n",
       "\n",
       "        a_Stimulus_ON  a_Delay_ON  a_Delay_OFF  a_Response_ON  vector_answer  \\\n",
       "0           -0.396800   -0.796800    -0.896833      -1.096833              0   \n",
       "1           -0.241967   -0.641967    -0.742000      -0.942000              0   \n",
       "2           -0.207900   -0.607900    -0.707933      -0.907933              0   \n",
       "3            0.008367   -0.391633    -0.491667      -0.691667              0   \n",
       "4            0.158733   -0.241267    -0.341300      -0.541300              0   \n",
       "...               ...         ...          ...            ...            ...   \n",
       "265735       3.652733    3.252733     0.252667       0.052667              0   \n",
       "265736       4.222933    3.822933     0.822867       0.622867              0   \n",
       "265737       4.828733    4.428733     1.428667       1.228667              0   \n",
       "265738       5.431600    5.031600     2.031533       1.831533              0   \n",
       "265739       9.478733    9.078733     6.078667       5.878667              0   \n",
       "\n",
       "        reward_side  hit  \n",
       "0               0.0  1.0  \n",
       "1               0.0  1.0  \n",
       "2               0.0  1.0  \n",
       "3               0.0  1.0  \n",
       "4               0.0  1.0  \n",
       "...             ...  ...  \n",
       "265735          1.0  0.0  \n",
       "265736          1.0  0.0  \n",
       "265737          1.0  0.0  \n",
       "265738          1.0  0.0  \n",
       "265739          1.0  0.0  \n",
       "\n",
       "[265740 rows x 17 columns]"
      ]
     },
     "execution_count": 5,
     "metadata": {},
     "output_type": "execute_result"
    }
   ],
   "source": [
    "df"
   ]
  },
  {
   "cell_type": "code",
   "execution_count": 6,
   "metadata": {},
   "outputs": [
    {
     "data": {
      "text/plain": [
       "array([1193, 1794, 1215,  301, 1402, 1621,  294, 1542, 1548, 1759, 1574,\n",
       "        474, 1708, 1713,  785, 1791, 1399, 1406, 1441, 1097, 1430, 1386,\n",
       "       1611, 1761, 1375, 1749, 1145, 1688, 1709, 1479, 1035, 1073, 1380,\n",
       "       1763, 1352, 1231, 1698, 1788, 1225,   21,  231, 1766,  578,  606,\n",
       "       1203,  943,  648,  895,  590,  520, 1426, 1540, 1774,  909],\n",
       "      dtype=int64)"
      ]
     },
     "execution_count": 6,
     "metadata": {},
     "output_type": "execute_result"
    }
   ],
   "source": [
    "df.cluster_id.unique()"
   ]
  },
  {
   "cell_type": "code",
   "execution_count": 52,
   "metadata": {},
   "outputs": [],
   "source": [
    "nx = df.loc[df['cluster_id']==1794]\n",
    "nxt = nx.loc[df['trial']==1]"
   ]
  },
  {
   "cell_type": "code",
   "execution_count": 53,
   "metadata": {},
   "outputs": [
    {
     "data": {
      "text/plain": [
       "88.16136666666668"
      ]
     },
     "execution_count": 53,
     "metadata": {},
     "output_type": "execute_result"
    }
   ],
   "source": [
    "nxt.START.unique()[0]"
   ]
  },
  {
   "cell_type": "code",
   "execution_count": 54,
   "metadata": {},
   "outputs": [],
   "source": [
    "times_spikes = nxt.fixed_times.values\n",
    "times_spikes = times_spikes*1000"
   ]
  },
  {
   "cell_type": "code",
   "execution_count": 55,
   "metadata": {},
   "outputs": [],
   "source": [
    "stop_time =  nxt.END.unique()[0]*1000*ms ##Needed to make the spiketrain\n",
    "start_time = nxt.START.unique()[0]*1000*ms #has de ponerlo si no se empieza a samplear alineado al mismo momento, default es 0"
   ]
  },
  {
   "cell_type": "code",
   "execution_count": 56,
   "metadata": {},
   "outputs": [
    {
     "data": {
      "text/plain": [
       "array(88161.36666667) * ms"
      ]
     },
     "execution_count": 56,
     "metadata": {},
     "output_type": "execute_result"
    }
   ],
   "source": [
    "start_time"
   ]
  },
  {
   "cell_type": "code",
   "execution_count": 66,
   "metadata": {},
   "outputs": [
    {
     "data": {
      "text/plain": [
       "7.142857142857143"
      ]
     },
     "execution_count": 66,
     "metadata": {},
     "output_type": "execute_result"
    }
   ],
   "source": [
    "len(times_spikes) / 7"
   ]
  },
  {
   "cell_type": "code",
   "execution_count": 65,
   "metadata": {},
   "outputs": [
    {
     "data": {
      "text/plain": [
       "array(7361.56666667) * ms"
      ]
     },
     "execution_count": 65,
     "metadata": {},
     "output_type": "execute_result"
    }
   ],
   "source": [
    "stop_time- start_time"
   ]
  },
  {
   "cell_type": "code",
   "execution_count": null,
   "metadata": {},
   "outputs": [],
   "source": []
  },
  {
   "cell_type": "code",
   "execution_count": 57,
   "metadata": {},
   "outputs": [],
   "source": [
    "spiketrain1 = SpikeTrain(times_spikes, units=ms, t_stop=stop_time, t_start=start_time) #spiketrain"
   ]
  },
  {
   "cell_type": "code",
   "execution_count": 58,
   "metadata": {},
   "outputs": [],
   "source": [
    "histogram_rate = time_histogram([spiketrain1], 2*ms, output='rate') ##sampling rate de 2ms (bining) for example, increase for less temporal resolution"
   ]
  },
  {
   "cell_type": "code",
   "execution_count": 94,
   "metadata": {},
   "outputs": [],
   "source": [
    "## get firing rate continuos\n",
    "inst_rate = instantaneous_rate(spiketrain1, sampling_period=25*ms)\n",
    "times_ = inst_rate.times.rescale(ms)\n",
    "firing= inst_rate.rescale(histogram_rate.dimensionality).magnitude.flatten()\n",
    "\n",
    "df_trial = pd.DataFrame({'times':times_, 'firing':firing}) #dataframe con times y firing"
   ]
  },
  {
   "cell_type": "code",
   "execution_count": 95,
   "metadata": {},
   "outputs": [
    {
     "data": {
      "text/html": [
       "<div>\n",
       "<style scoped>\n",
       "    .dataframe tbody tr th:only-of-type {\n",
       "        vertical-align: middle;\n",
       "    }\n",
       "\n",
       "    .dataframe tbody tr th {\n",
       "        vertical-align: top;\n",
       "    }\n",
       "\n",
       "    .dataframe thead th {\n",
       "        text-align: right;\n",
       "    }\n",
       "</style>\n",
       "<table border=\"1\" class=\"dataframe\">\n",
       "  <thead>\n",
       "    <tr style=\"text-align: right;\">\n",
       "      <th></th>\n",
       "      <th>firing</th>\n",
       "      <th>times</th>\n",
       "    </tr>\n",
       "  </thead>\n",
       "  <tbody>\n",
       "    <tr>\n",
       "      <th>0</th>\n",
       "      <td>5.789192e-07</td>\n",
       "      <td>88161.366667</td>\n",
       "    </tr>\n",
       "    <tr>\n",
       "      <th>1</th>\n",
       "      <td>1.066875e-06</td>\n",
       "      <td>88186.366667</td>\n",
       "    </tr>\n",
       "    <tr>\n",
       "      <th>2</th>\n",
       "      <td>1.920920e-06</td>\n",
       "      <td>88211.366667</td>\n",
       "    </tr>\n",
       "    <tr>\n",
       "      <th>3</th>\n",
       "      <td>3.379135e-06</td>\n",
       "      <td>88236.366667</td>\n",
       "    </tr>\n",
       "    <tr>\n",
       "      <th>4</th>\n",
       "      <td>5.807670e-06</td>\n",
       "      <td>88261.366667</td>\n",
       "    </tr>\n",
       "    <tr>\n",
       "      <th>...</th>\n",
       "      <td>...</td>\n",
       "      <td>...</td>\n",
       "    </tr>\n",
       "    <tr>\n",
       "      <th>289</th>\n",
       "      <td>3.637979e-18</td>\n",
       "      <td>95386.366667</td>\n",
       "    </tr>\n",
       "    <tr>\n",
       "      <th>290</th>\n",
       "      <td>0.000000e+00</td>\n",
       "      <td>95411.366667</td>\n",
       "    </tr>\n",
       "    <tr>\n",
       "      <th>291</th>\n",
       "      <td>-3.031649e-19</td>\n",
       "      <td>95436.366667</td>\n",
       "    </tr>\n",
       "    <tr>\n",
       "      <th>292</th>\n",
       "      <td>9.094947e-19</td>\n",
       "      <td>95461.366667</td>\n",
       "    </tr>\n",
       "    <tr>\n",
       "      <th>293</th>\n",
       "      <td>3.031649e-19</td>\n",
       "      <td>95486.366667</td>\n",
       "    </tr>\n",
       "  </tbody>\n",
       "</table>\n",
       "<p>294 rows × 2 columns</p>\n",
       "</div>"
      ],
      "text/plain": [
       "           firing         times\n",
       "0    5.789192e-07  88161.366667\n",
       "1    1.066875e-06  88186.366667\n",
       "2    1.920920e-06  88211.366667\n",
       "3    3.379135e-06  88236.366667\n",
       "4    5.807670e-06  88261.366667\n",
       "..            ...           ...\n",
       "289  3.637979e-18  95386.366667\n",
       "290  0.000000e+00  95411.366667\n",
       "291 -3.031649e-19  95436.366667\n",
       "292  9.094947e-19  95461.366667\n",
       "293  3.031649e-19  95486.366667\n",
       "\n",
       "[294 rows x 2 columns]"
      ]
     },
     "execution_count": 95,
     "metadata": {},
     "output_type": "execute_result"
    }
   ],
   "source": [
    "df_trial"
   ]
  },
  {
   "cell_type": "code",
   "execution_count": 96,
   "metadata": {},
   "outputs": [
    {
     "data": {
      "image/png": "[encoded data removed]",
      "text/plain": [
       "<Figure size 600x400 with 1 Axes>"
      ]
     },
     "metadata": {
      "needs_background": "light"
     },
     "output_type": "display_data"
    }
   ],
   "source": [
    "plt.figure(dpi=100) #dpi=150\n",
    "\n",
    "# plotting the original spiketrain\n",
    "plt.plot(spiketrain1, [0]*len(spiketrain1), 'r', marker=2, ms=40, markeredgewidth=2, lw=0, label='spike times')\n",
    "\n",
    "# mean firing rate\n",
    "plt.hlines(mean_firing_rate(spiketrain1), xmin=spiketrain1.t_start, xmax=spiketrain1.t_stop, linestyle='--', label='mean firing rate')\n",
    "\n",
    "# convoluted firing rate\n",
    "plt.plot(inst_rate.times.rescale(ms), inst_rate.rescale(histogram_rate.dimensionality).magnitude.flatten(), color='g', label='firing rate kernel')\n",
    "\n",
    "\n",
    "\n",
    "\n",
    "# axis labels and legend\n",
    "plt.xlabel('time [{}]'.format(spiketrain1.times.dimensionality.latex))\n",
    "plt.ylabel('firing rate [{}]'.format(histogram_rate.dimensionality.latex))\n",
    "plt.xlim(spiketrain1.t_start, spiketrain1.t_stop)\n",
    "plt.legend( frameon=False, bbox_to_anchor=(1.05, 1))\n",
    "plt.gca().spines['right'].set_visible(False)  # aesthetics                                                                              # remove right spines\n",
    "plt.gca().spines['top'].set_visible(False)                                                                                  # remove top spines\n",
    "plt.gca().get_xaxis().tick_bottom()                                                                                         \n",
    "plt.gca().get_yaxis().tick_left()\n",
    "plt.gca().tick_params(direction='in') #direction\n",
    "plt.show()"
   ]
  },
  {
   "cell_type": "code",
   "execution_count": null,
   "metadata": {},
   "outputs": [],
   "source": []
  }
 ],
 "metadata": {
  "kernelspec": {
   "display_name": "Python 3",
   "language": "python",
   "name": "python3"
  },
  "language_info": {
   "codemirror_mode": {
    "name": "ipython",
    "version": 3
   },
   "file_extension": ".py",
   "mimetype": "text/x-python",
   "name": "python",
   "nbconvert_exporter": "python",
   "pygments_lexer": "ipython3",
   "version": "3.5.6"
  }
 },
 "nbformat": 4,
 "nbformat_minor": 2
}
