{
 "cells": [
  {
   "cell_type": "code",
   "execution_count": 1,
   "metadata": {},
   "outputs": [],
   "source": [
    "import os\n",
    "from linares_plot import *\n",
    "from statsmodels.stats.multicomp import pairwise_tukeyhsd"
   ]
  },
  {
   "cell_type": "code",
   "execution_count": 2,
   "metadata": {},
   "outputs": [
    {
     "name": "stdout",
     "output_type": "stream",
     "text": [
      "1364705.xlsx\n",
      "1365201.xlsx\n",
      "1365301.xlsx\n",
      "1365501.xlsx\n",
      "1365701.xlsx\n",
      "1365802.xlsx\n",
      "1365902.xlsx\n",
      "1366002.xlsx\n",
      "1366101.xlsx\n",
      "1367701.xlsx\n",
      "1367802.xlsx\n",
      "1367903.xlsx\n",
      "1369702.xlsx\n",
      "1369901.xlsx\n",
      "1370002.xlsx\n",
      "1370202.xlsx\n",
      "1371202.xlsx\n",
      "1371901.xlsx\n",
      "1372003.xlsx\n",
      "1372301.xlsx\n",
      "1372402.xlsx\n",
      "189139306.xlsx\n",
      "1891406.xlsx\n",
      "1891407.xlsx\n",
      "189141804.xlsx\n",
      "1891421.xlsx\n",
      "1891436.xlsx\n",
      "189144701.xlsx\n",
      "189144904.xlsx\n",
      "189147105.xlsx\n",
      "189150602.xlsx\n",
      "189151102.xlsx\n",
      "189152601.xlsx\n",
      "189154404.xlsx\n",
      "189154602.xlsx\n",
      "189155501.xlsx\n",
      "189156205.xlsx\n",
      "189157901.xlsx\n",
      "189158601.xlsx\n",
      "1891598.xlsx\n",
      "189160302.xlsx\n",
      "189160702.xlsx\n",
      "189161604.xlsx\n",
      "1891626.xlsx\n",
      "189163101.xlsx\n",
      "189163701.xlsx\n",
      "189164103.xlsx\n",
      "189164404.xlsx\n",
      "189164801.xlsx\n",
      "189164803.xlsx\n",
      "189165003.xlsx\n",
      "1891653.xlsx\n",
      "189168701.xlsx\n",
      "189169502.xlsx\n",
      "189171003.xlsx\n",
      "189171602.xlsx\n",
      "189172801.xlsx\n",
      "189173101.xlsx\n",
      "189173801.xlsx\n",
      "189174201.xlsx\n",
      "189175201.xlsx\n",
      "189175801.xlsx\n",
      "189176101.xlsx\n",
      "189176501.xlsx\n",
      "189176901.xlsx\n",
      "189177402.xlsx\n",
      "189177701.xlsx\n",
      "1891783.xlsx\n",
      "189179001.xlsx\n",
      "189179002.xlsx\n",
      "1891793.xlsx\n",
      "189179702.xlsx\n",
      "189180001.xlsx\n",
      "189181001.xlsx\n",
      "189181502.xlsx\n",
      "1891819.xlsx\n",
      "189182202.xlsx\n",
      "189182501.xlsx\n",
      "189182901.xlsx\n",
      "189183201.xlsx\n",
      "189183402.xlsx\n",
      "1891841.xlsx\n",
      "189184601.xlsx\n",
      "1891857.xlsx\n",
      "189186201.xlsx\n",
      "189187301.xlsx\n",
      "189188901.xlsx\n",
      "189189601.xlsx\n",
      "189191601.xlsx\n",
      "189191602.xlsx\n",
      "1891918.xlsx\n",
      "189192001.xlsx\n",
      "189192201.xlsx\n",
      "189192401.xlsx\n",
      "1891935.xlsx\n",
      "189194301.xlsx\n",
      "189195301.xlsx\n",
      "189196301.xlsx\n",
      "189196401.xlsx\n",
      "1892063.xlsx\n",
      "189207101.xlsx\n",
      "189207501.xlsx\n",
      "189208001.xlsx\n",
      "189209101.xlsx\n",
      "189209503.xlsx\n",
      "189210001.xlsx\n",
      "189210901.xlsx\n"
     ]
    }
   ],
   "source": [
    "### Aprox. 10.000.000 de rows \n",
    "### Takes about 40min to load\n",
    "### path_ = 'C:\\\\Users\\\\David\\\\Desktop\\\\IDIBAPS\\\\Gottlib_data\\\\firing_rates_100' ##sliding window of 100\n",
    "### path_ = 'C:\\\\Users\\\\David\\\\Desktop\\\\IDIBAPS\\\\Gottlib_data\\\\firing_rates_10' ##sliding window of 10\n",
    "path_ = 'C:\\\\Users\\\\David\\\\Desktop\\\\IDIBAPS\\\\Gottlib_data\\\\firing_rates'  ##sliding window of 10\n",
    "files = os.listdir(path_)\n",
    "frames=[]\n",
    "for f in files:\n",
    "    fx=pd.read_excel( os.path.join(path_,f))\n",
    "    print(f)\n",
    "    frames.append(fx)\n",
    "#\n",
    "df=pd.concat(frames)"
   ]
  },
  {
   "cell_type": "code",
   "execution_count": 3,
   "metadata": {},
   "outputs": [
    {
     "data": {
      "text/plain": [
       "17518400"
      ]
     },
     "execution_count": 3,
     "metadata": {},
     "output_type": "execute_result"
    }
   ],
   "source": [
    "len(df)"
   ]
  },
  {
   "cell_type": "code",
   "execution_count": 4,
   "metadata": {},
   "outputs": [],
   "source": [
    "fifty = [  1367701,   1370202,   1371202,   1372301, 189168701, 189169502,\n",
    "       189171003, 189171602, 189172801, 189173101, 189175201, 189175801,\n",
    "       189176501, 189176901, 189177402, 189177701,   1891783,   1891793,\n",
    "       189179702, 189180001, 189181001,   1891819, 189182202, 189182501,\n",
    "       189182901, 189183201, 189183402, 189184601,   1891857, 189189601,\n",
    "       189192001, 189192201, 189196301]\n",
    "\n",
    "forty = [  1370202,   1372301, 189168701, 189169502, 189171003, 189173101,\n",
    "       189175801, 189176501, 189177402,   1891783, 189179702, 189180001,\n",
    "       189181001,   1891819, 189182202, 189182901, 189192201]\n",
    "\n",
    "therty=[  1370202, 189173101, 189175801, 189176501,   1891783,   1891819,\n",
    "       189192201]"
   ]
  },
  {
   "cell_type": "code",
   "execution_count": 23,
   "metadata": {},
   "outputs": [
    {
     "data": {
      "text/plain": [
       "30"
      ]
     },
     "execution_count": 23,
     "metadata": {},
     "output_type": "execute_result"
    }
   ],
   "source": [
    "other_ = df.loc[(df['brain_region']=='DLPFC')].neuron.unique() \n",
    "other_ = [ele for ele in other_ if ele not in fifty]\n",
    "len(other_)"
   ]
  },
  {
   "cell_type": "code",
   "execution_count": 5,
   "metadata": {},
   "outputs": [],
   "source": [
    "pfc_=[]\n",
    "\n",
    "for TDOA in [0, 100, 200, 800]:\n",
    "    for neuron in fifty:\n",
    "        corr_= df.loc[(df['TDconf']==1) & (df['brain_region']=='DLPFC') & \n",
    "                 (df['performance']==1) & (df['TDOA']==TDOA) & \n",
    "                 (df['neuron']==neuron) & \n",
    "                 (df['time_centered']>TDOA) & (df['time_centered']<TDOA+100), 'norm_firing_gauss'].mean() \n",
    "        err_= df.loc[(df['TDconf']==1) & (df['brain_region']=='DLPFC') & \n",
    "                 (df['performance']==0) & (df['TDOA']==TDOA) & \n",
    "                 (df['neuron']==neuron) & \n",
    "                 (df['time_centered']>TDOA) & (df['time_centered']<TDOA+100), 'norm_firing_gauss'].mean() \n",
    "        pfc_.append([corr_, TDOA, 'corr', neuron, 'dlpfc'])\n",
    "        pfc_.append([err_, TDOA, 'err', neuron, 'dlpfc'])\n",
    "#\n",
    "df_pfc=pd.DataFrame(pfc_)\n",
    "df_pfc.columns=['norm_firing_gauss', 'TDOA', 'performance', 'neuron', 'area']"
   ]
  },
  {
   "cell_type": "code",
   "execution_count": 12,
   "metadata": {},
   "outputs": [
    {
     "name": "stderr",
     "output_type": "stream",
     "text": [
      "C:\\Users\\David\\Anaconda3\\envs\\python3\\lib\\site-packages\\scipy\\stats\\stats.py:1713: FutureWarning: Using a non-tuple sequence for multidimensional indexing is deprecated; use `arr[tuple(seq)]` instead of `arr[seq]`. In the future this will be interpreted as an array index, `arr[np.array(seq)]`, which will result either in an error or a different result.\n",
      "  return np.add.reduce(sorted[indexer] * weights, axis=axis) / sumval\n"
     ]
    },
    {
     "data": {
      "text/plain": [
       "<matplotlib.legend.Legend at 0x1d200917048>"
      ]
     },
     "execution_count": 12,
     "metadata": {},
     "output_type": "execute_result"
    },
    {
     "data": {
      "image/png": "[encoded data removed]",
      "text/plain": [
       "<Figure size 432x288 with 1 Axes>"
      ]
     },
     "metadata": {
      "needs_background": "light"
     },
     "output_type": "display_data"
    }
   ],
   "source": [
    "\n",
    "\n",
    "\n",
    "\n",
    "\n",
    "sns.lineplot(x=\"TDOA\", y=\"norm_firing_gauss\", hue='performance', ci=68, palette='tab10',\n",
    "             data=df_pfc, marker=\"o\")\n",
    "\n",
    "plt.gca().spines['right'].set_visible(False)  # aesthetics                                                                              # remove right spines\n",
    "plt.gca().spines['top'].set_visible(False)                                                                                  # remove top spines\n",
    "plt.gca().get_xaxis().tick_bottom()                                                                                         \n",
    "plt.gca().get_yaxis().tick_left()\n",
    "plt.gca().tick_params(direction='in') #direction\n",
    "plt.title('subpopulation', fontsize=25)\n",
    "plt.ylabel('difference firing rate', fontsize=20)\n",
    "plt.xlabel('TDOA', fontsize=20)\n",
    "plt.xticks([0,100,200, 800])\n",
    "plt.xticks(fontsize=15)\n",
    "plt.yticks(fontsize=15)\n",
    "#plt.ylim(-0.05, 0.3)\n",
    "plt.legend(loc=1, frameon=False, prop={'size': 15})"
   ]
  },
  {
   "cell_type": "code",
   "execution_count": null,
   "metadata": {},
   "outputs": [],
   "source": []
  },
  {
   "cell_type": "code",
   "execution_count": null,
   "metadata": {},
   "outputs": [],
   "source": [
    "pfc_2=[]\n",
    "\n",
    "for TDOA in [0, 100, 200, 800]:\n",
    "    for neuron in other_:\n",
    "        corr_= df.loc[(df['TDconf']==1) & (df['brain_region']=='DLPFC') & \n",
    "                 (df['performance']==1) & (df['TDOA']==TDOA) & \n",
    "                 (df['neuron']==neuron) & \n",
    "                 (df['time_centered']>TDOA) & (df['time_centered']<TDOA+100), 'norm_firing_gauss'].mean() \n",
    "        err_= df.loc[(df['TDconf']==1) & (df['brain_region']=='DLPFC') & \n",
    "                 (df['performance']==0) & (df['TDOA']==TDOA) & \n",
    "                 (df['neuron']==neuron) & \n",
    "                 (df['time_centered']>TDOA) & (df['time_centered']<TDOA+100), 'norm_firing_gauss'].mean() \n",
    "        pfc_2.append([corr_, TDOA, 'corr', neuron, 'dlpfc'])\n",
    "        pfc_2.append([err_, TDOA, 'err', neuron, 'dlpfc'])\n",
    "#\n",
    "df_pfc2=pd.DataFrame(pfc_2)\n",
    "df_pfc2.columns=['norm_firing_gauss', 'TDOA', 'performance', 'neuron', 'area']"
   ]
  },
  {
   "cell_type": "code",
   "execution_count": null,
   "metadata": {},
   "outputs": [],
   "source": [
    "sns.lineplot(x=\"TDOA\", y=\"norm_firing_gauss\", hue='performance', ci=68, palette='tab10',\n",
    "             data=df_pfc2, marker=\"o\")\n",
    "\n",
    "plt.gca().spines['right'].set_visible(False)  # aesthetics                                                                              # remove right spines\n",
    "plt.gca().spines['top'].set_visible(False)                                                                                  # remove top spines\n",
    "plt.gca().get_xaxis().tick_bottom()                                                                                         \n",
    "plt.gca().get_yaxis().tick_left()\n",
    "plt.gca().tick_params(direction='in') #direction\n",
    "plt.title('others', fontsize=25)\n",
    "plt.ylabel('difference firing rate', fontsize=20)\n",
    "plt.xlabel('TDOA', fontsize=20)\n",
    "plt.xticks([0,100,200, 800])\n",
    "plt.xticks(fontsize=15)\n",
    "plt.yticks(fontsize=15)\n",
    "#plt.ylim(-0.05, 0.3)\n",
    "plt.legend(loc=1, frameon=False, prop={'size': 15})"
   ]
  },
  {
   "cell_type": "code",
   "execution_count": null,
   "metadata": {},
   "outputs": [],
   "source": []
  }
 ],
 "metadata": {
  "kernelspec": {
   "display_name": "Python 3",
   "language": "python",
   "name": "python3"
  },
  "language_info": {
   "codemirror_mode": {
    "name": "ipython",
    "version": 3
   },
   "file_extension": ".py",
   "mimetype": "text/x-python",
   "name": "python",
   "nbconvert_exporter": "python",
   "pygments_lexer": "ipython3",
   "version": "3.5.6"
  }
 },
 "nbformat": 4,
 "nbformat_minor": 2
}
